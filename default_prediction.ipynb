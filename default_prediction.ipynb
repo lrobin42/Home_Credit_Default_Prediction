{
  "cells": [
    {
      "cell_type": "markdown",
      "metadata": {
        "id": "4dN6adyMwl2S"
      },
      "source": [
        "## Imports\n"
      ]
    },
    {
      "cell_type": "code",
      "source": [
        "!pip install -r requirements.txt"
      ],
      "metadata": {
        "id": "vXXzOF7IpehP",
        "outputId": "622b5c73-c802-4e84-b6d1-9117d0b062d1",
        "colab": {
          "base_uri": "https://localhost:8080/"
        }
      },
      "execution_count": 1,
      "outputs": [
        {
          "output_type": "stream",
          "name": "stdout",
          "text": [
            "Collecting AutoFeatSelect==0.1.5 (from -r requirements.txt (line 44))\n",
            "  Downloading AutoFeatSelect-0.1.5-py3-none-any.whl.metadata (5.8 kB)\n",
            "Collecting Boruta==0.4.3 (from -r requirements.txt (line 45))\n",
            "  Downloading Boruta-0.4.3-py3-none-any.whl.metadata (8.8 kB)\n",
            "Collecting BorutaShap==1.0.17 (from -r requirements.txt (line 46))\n",
            "  Downloading BorutaShap-1.0.17-py3-none-any.whl.metadata (7.8 kB)\n",
            "Collecting category-encoders==2.6.4 (from -r requirements.txt (line 47))\n",
            "  Downloading category_encoders-2.6.4-py2.py3-none-any.whl.metadata (8.0 kB)\n",
            "Requirement already satisfied: Jinja2==3.1.4 in /usr/local/lib/python3.10/dist-packages (from -r requirements.txt (line 48)) (3.1.4)\n",
            "Requirement already satisfied: joblib==1.4.2 in /usr/local/lib/python3.10/dist-packages (from -r requirements.txt (line 49)) (1.4.2)\n",
            "Requirement already satisfied: lightgbm==4.5.0 in /usr/local/lib/python3.10/dist-packages (from -r requirements.txt (line 50)) (4.5.0)\n",
            "Collecting matplotlib==3.9.2 (from -r requirements.txt (line 51))\n",
            "  Downloading matplotlib-3.9.2-cp310-cp310-manylinux_2_17_x86_64.manylinux2014_x86_64.whl.metadata (11 kB)\n",
            "Requirement already satisfied: matplotlib-inline==0.1.7 in /usr/local/lib/python3.10/dist-packages (from -r requirements.txt (line 52)) (0.1.7)\n",
            "Requirement already satisfied: numpy==1.26.4 in /usr/local/lib/python3.10/dist-packages (from -r requirements.txt (line 53)) (1.26.4)\n",
            "Collecting optuna==4.0.0 (from -r requirements.txt (line 54))\n",
            "  Downloading optuna-4.0.0-py3-none-any.whl.metadata (16 kB)\n",
            "Collecting pandas==2.2.3 (from -r requirements.txt (line 55))\n",
            "  Downloading pandas-2.2.3-cp310-cp310-manylinux_2_17_x86_64.manylinux2014_x86_64.whl.metadata (89 kB)\n",
            "\u001b[2K     \u001b[90m━━━━━━━━━━━━━━━━━━━━━━━━━━━━━━━━━━━━━━━━\u001b[0m \u001b[32m89.9/89.9 kB\u001b[0m \u001b[31m3.7 MB/s\u001b[0m eta \u001b[36m0:00:00\u001b[0m\n",
            "\u001b[?25hCollecting pingouin==0.5.5 (from -r requirements.txt (line 56))\n",
            "  Downloading pingouin-0.5.5-py3-none-any.whl.metadata (19 kB)\n",
            "Requirement already satisfied: plotly==5.24.1 in /usr/local/lib/python3.10/dist-packages (from -r requirements.txt (line 57)) (5.24.1)\n",
            "Collecting polars==0.20.31 (from -r requirements.txt (line 58))\n",
            "  Downloading polars-0.20.31-cp38-abi3-manylinux_2_17_x86_64.manylinux2014_x86_64.whl.metadata (14 kB)\n",
            "Collecting scikit-learn==1.5.2 (from -r requirements.txt (line 59))\n",
            "  Downloading scikit_learn-1.5.2-cp310-cp310-manylinux_2_17_x86_64.manylinux2014_x86_64.whl.metadata (13 kB)\n",
            "Collecting scikit-optimize==0.10.2 (from -r requirements.txt (line 60))\n",
            "  Downloading scikit_optimize-0.10.2-py2.py3-none-any.whl.metadata (9.7 kB)\n",
            "Collecting scipy==1.11.4 (from -r requirements.txt (line 61))\n",
            "  Downloading scipy-1.11.4-cp310-cp310-manylinux_2_17_x86_64.manylinux2014_x86_64.whl.metadata (60 kB)\n",
            "\u001b[2K     \u001b[90m━━━━━━━━━━━━━━━━━━━━━━━━━━━━━━━━━━━━━━━━\u001b[0m \u001b[32m60.4/60.4 kB\u001b[0m \u001b[31m6.0 MB/s\u001b[0m eta \u001b[36m0:00:00\u001b[0m\n",
            "\u001b[?25hRequirement already satisfied: seaborn==0.13.2 in /usr/local/lib/python3.10/dist-packages (from -r requirements.txt (line 62)) (0.13.2)\n",
            "Requirement already satisfied: shap==0.46.0 in /usr/local/lib/python3.10/dist-packages (from -r requirements.txt (line 63)) (0.46.0)\n",
            "Collecting skimpy==0.0.15 (from -r requirements.txt (line 64))\n",
            "  Downloading skimpy-0.0.15-py3-none-any.whl.metadata (28 kB)\n",
            "Requirement already satisfied: statsmodels==0.14.4 in /usr/local/lib/python3.10/dist-packages (from -r requirements.txt (line 65)) (0.14.4)\n",
            "Collecting xgboost==2.1.2 (from -r requirements.txt (line 66))\n",
            "  Downloading xgboost-2.1.2-py3-none-manylinux_2_28_x86_64.whl.metadata (2.1 kB)\n",
            "Requirement already satisfied: tqdm in /usr/local/lib/python3.10/dist-packages (from BorutaShap==1.0.17->-r requirements.txt (line 46)) (4.67.1)\n",
            "Requirement already satisfied: patsy>=0.5.1 in /usr/local/lib/python3.10/dist-packages (from category-encoders==2.6.4->-r requirements.txt (line 47)) (1.0.1)\n",
            "Requirement already satisfied: MarkupSafe>=2.0 in /usr/local/lib/python3.10/dist-packages (from Jinja2==3.1.4->-r requirements.txt (line 48)) (3.0.2)\n",
            "Requirement already satisfied: contourpy>=1.0.1 in /usr/local/lib/python3.10/dist-packages (from matplotlib==3.9.2->-r requirements.txt (line 51)) (1.3.1)\n",
            "Requirement already satisfied: cycler>=0.10 in /usr/local/lib/python3.10/dist-packages (from matplotlib==3.9.2->-r requirements.txt (line 51)) (0.12.1)\n",
            "Requirement already satisfied: fonttools>=4.22.0 in /usr/local/lib/python3.10/dist-packages (from matplotlib==3.9.2->-r requirements.txt (line 51)) (4.55.3)\n",
            "Requirement already satisfied: kiwisolver>=1.3.1 in /usr/local/lib/python3.10/dist-packages (from matplotlib==3.9.2->-r requirements.txt (line 51)) (1.4.7)\n",
            "Requirement already satisfied: packaging>=20.0 in /usr/local/lib/python3.10/dist-packages (from matplotlib==3.9.2->-r requirements.txt (line 51)) (24.2)\n",
            "Requirement already satisfied: pillow>=8 in /usr/local/lib/python3.10/dist-packages (from matplotlib==3.9.2->-r requirements.txt (line 51)) (11.0.0)\n",
            "Requirement already satisfied: pyparsing>=2.3.1 in /usr/local/lib/python3.10/dist-packages (from matplotlib==3.9.2->-r requirements.txt (line 51)) (3.2.0)\n",
            "Requirement already satisfied: python-dateutil>=2.7 in /usr/local/lib/python3.10/dist-packages (from matplotlib==3.9.2->-r requirements.txt (line 51)) (2.8.2)\n",
            "Requirement already satisfied: traitlets in /usr/local/lib/python3.10/dist-packages (from matplotlib-inline==0.1.7->-r requirements.txt (line 52)) (5.7.1)\n",
            "Collecting alembic>=1.5.0 (from optuna==4.0.0->-r requirements.txt (line 54))\n",
            "  Downloading alembic-1.14.0-py3-none-any.whl.metadata (7.4 kB)\n",
            "Collecting colorlog (from optuna==4.0.0->-r requirements.txt (line 54))\n",
            "  Downloading colorlog-6.9.0-py3-none-any.whl.metadata (10 kB)\n",
            "Requirement already satisfied: sqlalchemy>=1.3.0 in /usr/local/lib/python3.10/dist-packages (from optuna==4.0.0->-r requirements.txt (line 54)) (2.0.36)\n",
            "Requirement already satisfied: PyYAML in /usr/local/lib/python3.10/dist-packages (from optuna==4.0.0->-r requirements.txt (line 54)) (6.0.2)\n",
            "Requirement already satisfied: pytz>=2020.1 in /usr/local/lib/python3.10/dist-packages (from pandas==2.2.3->-r requirements.txt (line 55)) (2024.2)\n",
            "Requirement already satisfied: tzdata>=2022.7 in /usr/local/lib/python3.10/dist-packages (from pandas==2.2.3->-r requirements.txt (line 55)) (2024.2)\n",
            "Collecting pandas-flavor (from pingouin==0.5.5->-r requirements.txt (line 56))\n",
            "  Downloading pandas_flavor-0.6.0-py3-none-any.whl.metadata (6.3 kB)\n",
            "Requirement already satisfied: tabulate in /usr/local/lib/python3.10/dist-packages (from pingouin==0.5.5->-r requirements.txt (line 56)) (0.9.0)\n",
            "Requirement already satisfied: tenacity>=6.2.0 in /usr/local/lib/python3.10/dist-packages (from plotly==5.24.1->-r requirements.txt (line 57)) (9.0.0)\n",
            "Requirement already satisfied: threadpoolctl>=3.1.0 in /usr/local/lib/python3.10/dist-packages (from scikit-learn==1.5.2->-r requirements.txt (line 59)) (3.5.0)\n",
            "Collecting pyaml>=16.9 (from scikit-optimize==0.10.2->-r requirements.txt (line 60))\n",
            "  Downloading pyaml-24.12.1-py3-none-any.whl.metadata (12 kB)\n",
            "Requirement already satisfied: slicer==0.0.8 in /usr/local/lib/python3.10/dist-packages (from shap==0.46.0->-r requirements.txt (line 63)) (0.0.8)\n",
            "Requirement already satisfied: numba in /usr/local/lib/python3.10/dist-packages (from shap==0.46.0->-r requirements.txt (line 63)) (0.60.0)\n",
            "Requirement already satisfied: cloudpickle in /usr/local/lib/python3.10/dist-packages (from shap==0.46.0->-r requirements.txt (line 63)) (3.1.0)\n",
            "Requirement already satisfied: Pygments<3.0.0,>=2.10.0 in /usr/local/lib/python3.10/dist-packages (from skimpy==0.0.15->-r requirements.txt (line 64)) (2.18.0)\n",
            "Requirement already satisfied: click<9.0.0,>=8.1.6 in /usr/local/lib/python3.10/dist-packages (from skimpy==0.0.15->-r requirements.txt (line 64)) (8.1.7)\n",
            "Collecting ipykernel<7.0.0,>=6.7.0 (from skimpy==0.0.15->-r requirements.txt (line 64))\n",
            "  Downloading ipykernel-6.29.5-py3-none-any.whl.metadata (6.3 kB)\n",
            "Collecting pyarrow<17,>=13 (from skimpy==0.0.15->-r requirements.txt (line 64))\n",
            "  Downloading pyarrow-16.1.0-cp310-cp310-manylinux_2_28_x86_64.whl.metadata (3.0 kB)\n",
            "Requirement already satisfied: rich<14.0,>=10.9 in /usr/local/lib/python3.10/dist-packages (from skimpy==0.0.15->-r requirements.txt (line 64)) (13.9.4)\n",
            "Collecting typeguard==4.2.1 (from skimpy==0.0.15->-r requirements.txt (line 64))\n",
            "  Downloading typeguard-4.2.1-py3-none-any.whl.metadata (3.7 kB)\n",
            "Requirement already satisfied: nvidia-nccl-cu12 in /usr/local/lib/python3.10/dist-packages (from xgboost==2.1.2->-r requirements.txt (line 66)) (2.23.4)\n",
            "Requirement already satisfied: typing-extensions>=4.10.0 in /usr/local/lib/python3.10/dist-packages (from typeguard==4.2.1->skimpy==0.0.15->-r requirements.txt (line 64)) (4.12.2)\n",
            "Collecting Mako (from alembic>=1.5.0->optuna==4.0.0->-r requirements.txt (line 54))\n",
            "  Downloading Mako-1.3.8-py3-none-any.whl.metadata (2.9 kB)\n",
            "Collecting comm>=0.1.1 (from ipykernel<7.0.0,>=6.7.0->skimpy==0.0.15->-r requirements.txt (line 64))\n",
            "  Downloading comm-0.2.2-py3-none-any.whl.metadata (3.7 kB)\n",
            "Requirement already satisfied: debugpy>=1.6.5 in /usr/local/lib/python3.10/dist-packages (from ipykernel<7.0.0,>=6.7.0->skimpy==0.0.15->-r requirements.txt (line 64)) (1.8.0)\n",
            "Requirement already satisfied: ipython>=7.23.1 in /usr/local/lib/python3.10/dist-packages (from ipykernel<7.0.0,>=6.7.0->skimpy==0.0.15->-r requirements.txt (line 64)) (7.34.0)\n",
            "Requirement already satisfied: jupyter-client>=6.1.12 in /usr/local/lib/python3.10/dist-packages (from ipykernel<7.0.0,>=6.7.0->skimpy==0.0.15->-r requirements.txt (line 64)) (6.1.12)\n",
            "Requirement already satisfied: jupyter-core!=5.0.*,>=4.12 in /usr/local/lib/python3.10/dist-packages (from ipykernel<7.0.0,>=6.7.0->skimpy==0.0.15->-r requirements.txt (line 64)) (5.7.2)\n",
            "Requirement already satisfied: nest-asyncio in /usr/local/lib/python3.10/dist-packages (from ipykernel<7.0.0,>=6.7.0->skimpy==0.0.15->-r requirements.txt (line 64)) (1.6.0)\n",
            "Requirement already satisfied: psutil in /usr/local/lib/python3.10/dist-packages (from ipykernel<7.0.0,>=6.7.0->skimpy==0.0.15->-r requirements.txt (line 64)) (5.9.5)\n",
            "Requirement already satisfied: pyzmq>=24 in /usr/local/lib/python3.10/dist-packages (from ipykernel<7.0.0,>=6.7.0->skimpy==0.0.15->-r requirements.txt (line 64)) (24.0.1)\n",
            "Requirement already satisfied: tornado>=6.1 in /usr/local/lib/python3.10/dist-packages (from ipykernel<7.0.0,>=6.7.0->skimpy==0.0.15->-r requirements.txt (line 64)) (6.3.3)\n",
            "Requirement already satisfied: six>=1.5 in /usr/local/lib/python3.10/dist-packages (from python-dateutil>=2.7->matplotlib==3.9.2->-r requirements.txt (line 51)) (1.17.0)\n",
            "Requirement already satisfied: markdown-it-py>=2.2.0 in /usr/local/lib/python3.10/dist-packages (from rich<14.0,>=10.9->skimpy==0.0.15->-r requirements.txt (line 64)) (3.0.0)\n",
            "Requirement already satisfied: greenlet!=0.4.17 in /usr/local/lib/python3.10/dist-packages (from sqlalchemy>=1.3.0->optuna==4.0.0->-r requirements.txt (line 54)) (3.1.1)\n",
            "Requirement already satisfied: llvmlite<0.44,>=0.43.0dev0 in /usr/local/lib/python3.10/dist-packages (from numba->shap==0.46.0->-r requirements.txt (line 63)) (0.43.0)\n",
            "Requirement already satisfied: xarray in /usr/local/lib/python3.10/dist-packages (from pandas-flavor->pingouin==0.5.5->-r requirements.txt (line 56)) (2024.11.0)\n",
            "Requirement already satisfied: setuptools>=18.5 in /usr/local/lib/python3.10/dist-packages (from ipython>=7.23.1->ipykernel<7.0.0,>=6.7.0->skimpy==0.0.15->-r requirements.txt (line 64)) (75.1.0)\n",
            "Collecting jedi>=0.16 (from ipython>=7.23.1->ipykernel<7.0.0,>=6.7.0->skimpy==0.0.15->-r requirements.txt (line 64))\n",
            "  Downloading jedi-0.19.2-py2.py3-none-any.whl.metadata (22 kB)\n",
            "Requirement already satisfied: decorator in /usr/local/lib/python3.10/dist-packages (from ipython>=7.23.1->ipykernel<7.0.0,>=6.7.0->skimpy==0.0.15->-r requirements.txt (line 64)) (4.4.2)\n",
            "Requirement already satisfied: pickleshare in /usr/local/lib/python3.10/dist-packages (from ipython>=7.23.1->ipykernel<7.0.0,>=6.7.0->skimpy==0.0.15->-r requirements.txt (line 64)) (0.7.5)\n",
            "Requirement already satisfied: prompt-toolkit!=3.0.0,!=3.0.1,<3.1.0,>=2.0.0 in /usr/local/lib/python3.10/dist-packages (from ipython>=7.23.1->ipykernel<7.0.0,>=6.7.0->skimpy==0.0.15->-r requirements.txt (line 64)) (3.0.48)\n",
            "Requirement already satisfied: backcall in /usr/local/lib/python3.10/dist-packages (from ipython>=7.23.1->ipykernel<7.0.0,>=6.7.0->skimpy==0.0.15->-r requirements.txt (line 64)) (0.2.0)\n",
            "Requirement already satisfied: pexpect>4.3 in /usr/local/lib/python3.10/dist-packages (from ipython>=7.23.1->ipykernel<7.0.0,>=6.7.0->skimpy==0.0.15->-r requirements.txt (line 64)) (4.9.0)\n",
            "Requirement already satisfied: platformdirs>=2.5 in /usr/local/lib/python3.10/dist-packages (from jupyter-core!=5.0.*,>=4.12->ipykernel<7.0.0,>=6.7.0->skimpy==0.0.15->-r requirements.txt (line 64)) (4.3.6)\n",
            "Requirement already satisfied: mdurl~=0.1 in /usr/local/lib/python3.10/dist-packages (from markdown-it-py>=2.2.0->rich<14.0,>=10.9->skimpy==0.0.15->-r requirements.txt (line 64)) (0.1.2)\n",
            "Requirement already satisfied: parso<0.9.0,>=0.8.4 in /usr/local/lib/python3.10/dist-packages (from jedi>=0.16->ipython>=7.23.1->ipykernel<7.0.0,>=6.7.0->skimpy==0.0.15->-r requirements.txt (line 64)) (0.8.4)\n",
            "Requirement already satisfied: ptyprocess>=0.5 in /usr/local/lib/python3.10/dist-packages (from pexpect>4.3->ipython>=7.23.1->ipykernel<7.0.0,>=6.7.0->skimpy==0.0.15->-r requirements.txt (line 64)) (0.7.0)\n",
            "Requirement already satisfied: wcwidth in /usr/local/lib/python3.10/dist-packages (from prompt-toolkit!=3.0.0,!=3.0.1,<3.1.0,>=2.0.0->ipython>=7.23.1->ipykernel<7.0.0,>=6.7.0->skimpy==0.0.15->-r requirements.txt (line 64)) (0.2.13)\n",
            "Downloading AutoFeatSelect-0.1.5-py3-none-any.whl (12 kB)\n",
            "Downloading Boruta-0.4.3-py3-none-any.whl (57 kB)\n",
            "\u001b[2K   \u001b[90m━━━━━━━━━━━━━━━━━━━━━━━━━━━━━━━━━━━━━━━━\u001b[0m \u001b[32m57.9/57.9 kB\u001b[0m \u001b[31m5.6 MB/s\u001b[0m eta \u001b[36m0:00:00\u001b[0m\n",
            "\u001b[?25hDownloading BorutaShap-1.0.17-py3-none-any.whl (14 kB)\n",
            "Downloading category_encoders-2.6.4-py2.py3-none-any.whl (82 kB)\n",
            "\u001b[2K   \u001b[90m━━━━━━━━━━━━━━━━━━━━━━━━━━━━━━━━━━━━━━━━\u001b[0m \u001b[32m82.0/82.0 kB\u001b[0m \u001b[31m8.1 MB/s\u001b[0m eta \u001b[36m0:00:00\u001b[0m\n",
            "\u001b[?25hDownloading matplotlib-3.9.2-cp310-cp310-manylinux_2_17_x86_64.manylinux2014_x86_64.whl (8.3 MB)\n",
            "\u001b[2K   \u001b[90m━━━━━━━━━━━━━━━━━━━━━━━━━━━━━━━━━━━━━━━━\u001b[0m \u001b[32m8.3/8.3 MB\u001b[0m \u001b[31m86.5 MB/s\u001b[0m eta \u001b[36m0:00:00\u001b[0m\n",
            "\u001b[?25hDownloading optuna-4.0.0-py3-none-any.whl (362 kB)\n",
            "\u001b[2K   \u001b[90m━━━━━━━━━━━━━━━━━━━━━━━━━━━━━━━━━━━━━━━━\u001b[0m \u001b[32m362.8/362.8 kB\u001b[0m \u001b[31m29.9 MB/s\u001b[0m eta \u001b[36m0:00:00\u001b[0m\n",
            "\u001b[?25hDownloading pandas-2.2.3-cp310-cp310-manylinux_2_17_x86_64.manylinux2014_x86_64.whl (13.1 MB)\n",
            "\u001b[2K   \u001b[90m━━━━━━━━━━━━━━━━━━━━━━━━━━━━━━━━━━━━━━━━\u001b[0m \u001b[32m13.1/13.1 MB\u001b[0m \u001b[31m114.6 MB/s\u001b[0m eta \u001b[36m0:00:00\u001b[0m\n",
            "\u001b[?25hDownloading pingouin-0.5.5-py3-none-any.whl (204 kB)\n",
            "\u001b[2K   \u001b[90m━━━━━━━━━━━━━━━━━━━━━━━━━━━━━━━━━━━━━━━━\u001b[0m \u001b[32m204.4/204.4 kB\u001b[0m \u001b[31m18.7 MB/s\u001b[0m eta \u001b[36m0:00:00\u001b[0m\n",
            "\u001b[?25hDownloading polars-0.20.31-cp38-abi3-manylinux_2_17_x86_64.manylinux2014_x86_64.whl (28.8 MB)\n",
            "\u001b[2K   \u001b[90m━━━━━━━━━━━━━━━━━━━━━━━━━━━━━━━━━━━━━━━━\u001b[0m \u001b[32m28.8/28.8 MB\u001b[0m \u001b[31m73.8 MB/s\u001b[0m eta \u001b[36m0:00:00\u001b[0m\n",
            "\u001b[?25hDownloading scikit_learn-1.5.2-cp310-cp310-manylinux_2_17_x86_64.manylinux2014_x86_64.whl (13.3 MB)\n",
            "\u001b[2K   \u001b[90m━━━━━━━━━━━━━━━━━━━━━━━━━━━━━━━━━━━━━━━━\u001b[0m \u001b[32m13.3/13.3 MB\u001b[0m \u001b[31m107.8 MB/s\u001b[0m eta \u001b[36m0:00:00\u001b[0m\n",
            "\u001b[?25hDownloading scikit_optimize-0.10.2-py2.py3-none-any.whl (107 kB)\n",
            "\u001b[2K   \u001b[90m━━━━━━━━━━━━━━━━━━━━━━━━━━━━━━━━━━━━━━━━\u001b[0m \u001b[32m107.8/107.8 kB\u001b[0m \u001b[31m11.3 MB/s\u001b[0m eta \u001b[36m0:00:00\u001b[0m\n",
            "\u001b[?25hDownloading scipy-1.11.4-cp310-cp310-manylinux_2_17_x86_64.manylinux2014_x86_64.whl (36.4 MB)\n",
            "\u001b[2K   \u001b[90m━━━━━━━━━━━━━━━━━━━━━━━━━━━━━━━━━━━━━━━━\u001b[0m \u001b[32m36.4/36.4 MB\u001b[0m \u001b[31m55.8 MB/s\u001b[0m eta \u001b[36m0:00:00\u001b[0m\n",
            "\u001b[?25hDownloading skimpy-0.0.15-py3-none-any.whl (16 kB)\n",
            "Downloading xgboost-2.1.2-py3-none-manylinux_2_28_x86_64.whl (153.9 MB)\n",
            "\u001b[2K   \u001b[90m━━━━━━━━━━━━━━━━━━━━━━━━━━━━━━━━━━━━━━━━\u001b[0m \u001b[32m153.9/153.9 MB\u001b[0m \u001b[31m11.7 MB/s\u001b[0m eta \u001b[36m0:00:00\u001b[0m\n",
            "\u001b[?25hDownloading typeguard-4.2.1-py3-none-any.whl (34 kB)\n",
            "Downloading alembic-1.14.0-py3-none-any.whl (233 kB)\n",
            "\u001b[2K   \u001b[90m━━━━━━━━━━━━━━━━━━━━━━━━━━━━━━━━━━━━━━━━\u001b[0m \u001b[32m233.5/233.5 kB\u001b[0m \u001b[31m21.8 MB/s\u001b[0m eta \u001b[36m0:00:00\u001b[0m\n",
            "\u001b[?25hDownloading ipykernel-6.29.5-py3-none-any.whl (117 kB)\n",
            "\u001b[2K   \u001b[90m━━━━━━━━━━━━━━━━━━━━━━━━━━━━━━━━━━━━━━━━\u001b[0m \u001b[32m117.2/117.2 kB\u001b[0m \u001b[31m12.8 MB/s\u001b[0m eta \u001b[36m0:00:00\u001b[0m\n",
            "\u001b[?25hDownloading pyaml-24.12.1-py3-none-any.whl (25 kB)\n",
            "Downloading pyarrow-16.1.0-cp310-cp310-manylinux_2_28_x86_64.whl (40.8 MB)\n",
            "\u001b[2K   \u001b[90m━━━━━━━━━━━━━━━━━━━━━━━━━━━━━━━━━━━━━━━━\u001b[0m \u001b[32m40.8/40.8 MB\u001b[0m \u001b[31m49.6 MB/s\u001b[0m eta \u001b[36m0:00:00\u001b[0m\n",
            "\u001b[?25hDownloading colorlog-6.9.0-py3-none-any.whl (11 kB)\n",
            "Downloading pandas_flavor-0.6.0-py3-none-any.whl (7.2 kB)\n",
            "Downloading comm-0.2.2-py3-none-any.whl (7.2 kB)\n",
            "Downloading Mako-1.3.8-py3-none-any.whl (78 kB)\n",
            "\u001b[2K   \u001b[90m━━━━━━━━━━━━━━━━━━━━━━━━━━━━━━━━━━━━━━━━\u001b[0m \u001b[32m78.6/78.6 kB\u001b[0m \u001b[31m7.1 MB/s\u001b[0m eta \u001b[36m0:00:00\u001b[0m\n",
            "\u001b[?25hDownloading jedi-0.19.2-py2.py3-none-any.whl (1.6 MB)\n",
            "\u001b[2K   \u001b[90m━━━━━━━━━━━━━━━━━━━━━━━━━━━━━━━━━━━━━━━━\u001b[0m \u001b[32m1.6/1.6 MB\u001b[0m \u001b[31m67.5 MB/s\u001b[0m eta \u001b[36m0:00:00\u001b[0m\n",
            "\u001b[?25hInstalling collected packages: typeguard, scipy, pyarrow, pyaml, polars, Mako, jedi, comm, colorlog, xgboost, scikit-learn, pandas, matplotlib, alembic, scikit-optimize, optuna, ipykernel, Boruta, skimpy, pandas-flavor, category-encoders, BorutaShap, pingouin, AutoFeatSelect\n",
            "  Attempting uninstall: typeguard\n",
            "    Found existing installation: typeguard 4.4.1\n",
            "    Uninstalling typeguard-4.4.1:\n",
            "      Successfully uninstalled typeguard-4.4.1\n",
            "  Attempting uninstall: scipy\n",
            "    Found existing installation: scipy 1.13.1\n",
            "    Uninstalling scipy-1.13.1:\n",
            "      Successfully uninstalled scipy-1.13.1\n",
            "  Attempting uninstall: pyarrow\n",
            "    Found existing installation: pyarrow 17.0.0\n",
            "    Uninstalling pyarrow-17.0.0:\n",
            "      Successfully uninstalled pyarrow-17.0.0\n",
            "  Attempting uninstall: polars\n",
            "    Found existing installation: polars 1.9.0\n",
            "    Uninstalling polars-1.9.0:\n",
            "      Successfully uninstalled polars-1.9.0\n",
            "  Attempting uninstall: xgboost\n",
            "    Found existing installation: xgboost 2.1.3\n",
            "    Uninstalling xgboost-2.1.3:\n",
            "      Successfully uninstalled xgboost-2.1.3\n",
            "  Attempting uninstall: scikit-learn\n",
            "    Found existing installation: scikit-learn 1.6.0\n",
            "    Uninstalling scikit-learn-1.6.0:\n",
            "      Successfully uninstalled scikit-learn-1.6.0\n",
            "  Attempting uninstall: pandas\n",
            "    Found existing installation: pandas 2.2.2\n",
            "    Uninstalling pandas-2.2.2:\n",
            "      Successfully uninstalled pandas-2.2.2\n",
            "  Attempting uninstall: matplotlib\n",
            "    Found existing installation: matplotlib 3.8.0\n",
            "    Uninstalling matplotlib-3.8.0:\n",
            "      Successfully uninstalled matplotlib-3.8.0\n",
            "  Attempting uninstall: ipykernel\n",
            "    Found existing installation: ipykernel 5.5.6\n",
            "    Uninstalling ipykernel-5.5.6:\n",
            "      Successfully uninstalled ipykernel-5.5.6\n",
            "\u001b[31mERROR: pip's dependency resolver does not currently take into account all the packages that are installed. This behaviour is the source of the following dependency conflicts.\n",
            "cudf-cu12 24.10.1 requires pandas<2.2.3dev0,>=2.0, but you have pandas 2.2.3 which is incompatible.\n",
            "google-colab 1.0.0 requires ipykernel==5.5.6, but you have ipykernel 6.29.5 which is incompatible.\n",
            "google-colab 1.0.0 requires pandas==2.2.2, but you have pandas 2.2.3 which is incompatible.\u001b[0m\u001b[31m\n",
            "\u001b[0mSuccessfully installed AutoFeatSelect-0.1.5 Boruta-0.4.3 BorutaShap-1.0.17 Mako-1.3.8 alembic-1.14.0 category-encoders-2.6.4 colorlog-6.9.0 comm-0.2.2 ipykernel-6.29.5 jedi-0.19.2 matplotlib-3.9.2 optuna-4.0.0 pandas-2.2.3 pandas-flavor-0.6.0 pingouin-0.5.5 polars-0.20.31 pyaml-24.12.1 pyarrow-16.1.0 scikit-learn-1.5.2 scikit-optimize-0.10.2 scipy-1.11.4 skimpy-0.0.15 typeguard-4.2.1 xgboost-2.1.2\n"
          ]
        }
      ]
    },
    {
      "cell_type": "code",
      "execution_count": 2,
      "metadata": {
        "colab": {
          "base_uri": "https://localhost:8080/"
        },
        "id": "EtyTRglturFs",
        "outputId": "2cf99459-1b40-475b-9bc3-36371ce15994"
      },
      "outputs": [
        {
          "output_type": "stream",
          "name": "stderr",
          "text": [
            "/usr/local/lib/python3.10/dist-packages/dask/dataframe/__init__.py:42: FutureWarning: \n",
            "Dask dataframe query planning is disabled because dask-expr is not installed.\n",
            "\n",
            "You can install it with `pip install dask[dataframe]` or `conda install dask`.\n",
            "This will raise in a future version.\n",
            "\n",
            "  warnings.warn(msg, FutureWarning)\n"
          ]
        }
      ],
      "source": [
        "#!pip install skimpy polars plotly pingouin xgboost lightgbm scikit-optimize optuna category_encoders sklego\n",
        "import warnings\n",
        "from typing import Optional\n",
        "\n",
        "import numpy as np\n",
        "import pandas as pd\n",
        "import pingouin as pg\n",
        "import plotly.express as px\n",
        "import plotly.graph_objects as go\n",
        "import plotly.io as pio\n",
        "import polars as pl\n",
        "import polars.selectors as cs\n",
        "from category_encoders import WOEEncoder\n",
        "from imblearn.over_sampling import SMOTE\n",
        "from imblearn.pipeline import Pipeline as ImbPipeline\n",
        "from imblearn.under_sampling import RandomUnderSampler\n",
        "from lightgbm import LGBMClassifier\n",
        "from optuna import Study, Trial, create_study\n",
        "from optuna.pruners import SuccessiveHalvingPruner\n",
        "from optuna.samplers import RandomSampler\n",
        "from optuna.trial._frozen import FrozenTrial\n",
        "from pandas import DataFrame, Series\n",
        "from plotly.subplots import make_subplots\n",
        "from polars import DataFrame\n",
        "from skimpy import skim\n",
        "from sklearn.compose import ColumnTransformer\n",
        "from sklearn.decomposition import PCA\n",
        "from sklearn.ensemble import ExtraTreesClassifier, RandomForestClassifier\n",
        "from sklearn.ensemble._forest import ExtraTreesClassifier\n",
        "from sklearn.impute import SimpleImputer\n",
        "from sklearn.linear_model import LogisticRegression, SGDClassifier\n",
        "from sklearn.linear_model._logistic import LogisticRegression\n",
        "from sklearn.metrics import (\n",
        "    balanced_accuracy_score,\n",
        "    confusion_matrix,\n",
        "    fbeta_score,\n",
        "    make_scorer,\n",
        "    matthews_corrcoef,\n",
        "    precision_score,\n",
        "    recall_score,\n",
        "    roc_auc_score,\n",
        ")\n",
        "from sklearn.model_selection import (\n",
        "    GridSearchCV,\n",
        "    KFold,\n",
        "    RepeatedStratifiedKFold,\n",
        "    cross_val_score,\n",
        "    train_test_split,\n",
        ")\n",
        "from sklearn.pipeline import Pipeline\n",
        "from sklearn.preprocessing import RobustScaler, StandardScaler\n",
        "from skopt import BayesSearchCV\n",
        "from xgboost import XGBClassifier\n",
        "from polars.series.series import Series\n",
        "import scipy.stats as stats\n",
        "from numpy.typing import NDArray\n",
        "\n",
        "\n",
        "warnings.filterwarnings(\"ignore\")\n",
        "pio.templates.default = \"plotly_dark\"\n",
        "\n",
        "#set trials globally to optimize run time\n",
        "num_trials = 5"
      ]
    },
    {
      "cell_type": "markdown",
      "metadata": {
        "id": "pU23ehm6onK1"
      },
      "source": [
        "### Loan_functions.py"
      ]
    },
    {
      "cell_type": "code",
      "execution_count": 4,
      "metadata": {
        "id": "HDD8WUY6urFs"
      },
      "outputs": [],
      "source": [
        "from loan_functions import (\n",
        "    calculate_value_counts,\n",
        "    clear,\n",
        "    column_comparison,\n",
        "    column_description,\n",
        "    create_formatted_df,\n",
        "    int_range,\n",
        "    lower_column_names,\n",
        "    lower_column_values,\n",
        "    make_subplot,\n",
        "    plot_histogram,\n",
        "    null_count_comparison,\n",
        "    objective_1,calculate_model_statistics, instantiate_model,\n",
        "    create_encoder_mapping,\n",
        "    encode_feature\n",
        ")"
      ]
    },
    {
      "cell_type": "markdown",
      "metadata": {
        "id": "MCapjrYUurFs"
      },
      "source": [
        "We'll read in the csv datasets one by one to save on memory, clearing them each time. Let's start with the training set, followed by our other datasets."
      ]
    },
    {
      "cell_type": "markdown",
      "metadata": {
        "id": "PYyLvkVnonK2"
      },
      "source": [
        "### Data Exploration\n"
      ]
    },
    {
      "cell_type": "markdown",
      "metadata": {
        "id": "KI01-XOPonK2"
      },
      "source": [
        "Let's start by reading in the training set and looking at balance. I'll keep the EDA of this notebook focused on the training set to have a more focused analysis and discussion of modeling and model performance, but a more detailed exploration of the supporting datasets can be found in the [notebook] found in this repository."
      ]
    },
    {
      "cell_type": "code",
      "execution_count": 5,
      "metadata": {
        "id": "l5VI7rnfonK2",
        "outputId": "6db4da32-6b3e-4fcd-b7ba-3537d6822fc5",
        "colab": {
          "base_uri": "https://localhost:8080/",
          "height": 362
        }
      },
      "outputs": [
        {
          "output_type": "stream",
          "name": "stdout",
          "text": [
            "Training set has 38848 rows and 122 columns.\n"
          ]
        },
        {
          "output_type": "execute_result",
          "data": {
            "text/plain": [
              "shape: (5, 122)\n",
              "┌────────────┬────────┬────────────┬───────────┬───┬───────────┬───────────┬───────────┬───────────┐\n",
              "│ sk_id_curr ┆ target ┆ name_contr ┆ code_gend ┆ … ┆ amt_req_c ┆ amt_req_c ┆ amt_req_c ┆ amt_req_c │\n",
              "│ ---        ┆ ---    ┆ act_type   ┆ er        ┆   ┆ redit_bur ┆ redit_bur ┆ redit_bur ┆ redit_bur │\n",
              "│ i64        ┆ i64    ┆ ---        ┆ ---       ┆   ┆ eau_week  ┆ eau_mon   ┆ eau_qrt   ┆ eau_year  │\n",
              "│            ┆        ┆ str        ┆ str       ┆   ┆ ---       ┆ ---       ┆ ---       ┆ ---       │\n",
              "│            ┆        ┆            ┆           ┆   ┆ f64       ┆ f64       ┆ f64       ┆ f64       │\n",
              "╞════════════╪════════╪════════════╪═══════════╪═══╪═══════════╪═══════════╪═══════════╪═══════════╡\n",
              "│ 109659     ┆ 0      ┆ cash loans ┆ f         ┆ … ┆ null      ┆ null      ┆ null      ┆ null      │\n",
              "│ 117488     ┆ 0      ┆ cash loans ┆ f         ┆ … ┆ 0.0       ┆ 0.0       ┆ 0.0       ┆ 0.0       │\n",
              "│ 125971     ┆ 0      ┆ cash loans ┆ m         ┆ … ┆ 0.0       ┆ 0.0       ┆ 0.0       ┆ 2.0       │\n",
              "│ 106196     ┆ 0      ┆ cash loans ┆ m         ┆ … ┆ 0.0       ┆ 0.0       ┆ 0.0       ┆ 3.0       │\n",
              "│ 125602     ┆ 1      ┆ cash loans ┆ m         ┆ … ┆ 0.0       ┆ 0.0       ┆ 2.0       ┆ 2.0       │\n",
              "└────────────┴────────┴────────────┴───────────┴───┴───────────┴───────────┴───────────┴───────────┘"
            ],
            "text/html": [
              "<div><style>\n",
              ".dataframe > thead > tr,\n",
              ".dataframe > tbody > tr {\n",
              "  text-align: right;\n",
              "  white-space: pre-wrap;\n",
              "}\n",
              "</style>\n",
              "<small>shape: (5, 122)</small><table border=\"1\" class=\"dataframe\"><thead><tr><th>sk_id_curr</th><th>target</th><th>name_contract_type</th><th>code_gender</th><th>flag_own_car</th><th>flag_own_realty</th><th>cnt_children</th><th>amt_income_total</th><th>amt_credit</th><th>amt_annuity</th><th>amt_goods_price</th><th>name_type_suite</th><th>name_income_type</th><th>name_education_type</th><th>name_family_status</th><th>name_housing_type</th><th>region_population_relative</th><th>days_birth</th><th>days_employed</th><th>days_registration</th><th>days_id_publish</th><th>own_car_age</th><th>flag_mobil</th><th>flag_emp_phone</th><th>flag_work_phone</th><th>flag_cont_mobile</th><th>flag_phone</th><th>flag_email</th><th>occupation_type</th><th>cnt_fam_members</th><th>region_rating_client</th><th>region_rating_client_w_city</th><th>weekday_appr_process_start</th><th>hour_appr_process_start</th><th>reg_region_not_live_region</th><th>reg_region_not_work_region</th><th>live_region_not_work_region</th><th>&hellip;</th><th>nonlivingarea_medi</th><th>fondkapremont_mode</th><th>housetype_mode</th><th>totalarea_mode</th><th>wallsmaterial_mode</th><th>emergencystate_mode</th><th>obs_30_cnt_social_circle</th><th>def_30_cnt_social_circle</th><th>obs_60_cnt_social_circle</th><th>def_60_cnt_social_circle</th><th>days_last_phone_change</th><th>flag_document_2</th><th>flag_document_3</th><th>flag_document_4</th><th>flag_document_5</th><th>flag_document_6</th><th>flag_document_7</th><th>flag_document_8</th><th>flag_document_9</th><th>flag_document_10</th><th>flag_document_11</th><th>flag_document_12</th><th>flag_document_13</th><th>flag_document_14</th><th>flag_document_15</th><th>flag_document_16</th><th>flag_document_17</th><th>flag_document_18</th><th>flag_document_19</th><th>flag_document_20</th><th>flag_document_21</th><th>amt_req_credit_bureau_hour</th><th>amt_req_credit_bureau_day</th><th>amt_req_credit_bureau_week</th><th>amt_req_credit_bureau_mon</th><th>amt_req_credit_bureau_qrt</th><th>amt_req_credit_bureau_year</th></tr><tr><td>i64</td><td>i64</td><td>str</td><td>str</td><td>str</td><td>str</td><td>i64</td><td>f64</td><td>f64</td><td>f64</td><td>f64</td><td>str</td><td>str</td><td>str</td><td>str</td><td>str</td><td>f64</td><td>i64</td><td>i64</td><td>f64</td><td>i64</td><td>f64</td><td>i64</td><td>i64</td><td>i64</td><td>i64</td><td>i64</td><td>i64</td><td>str</td><td>f64</td><td>i64</td><td>i64</td><td>str</td><td>i64</td><td>i64</td><td>i64</td><td>i64</td><td>&hellip;</td><td>f64</td><td>str</td><td>str</td><td>f64</td><td>str</td><td>str</td><td>f64</td><td>f64</td><td>f64</td><td>f64</td><td>f64</td><td>i64</td><td>i64</td><td>i64</td><td>i64</td><td>i64</td><td>i64</td><td>i64</td><td>i64</td><td>i64</td><td>i64</td><td>i64</td><td>i64</td><td>i64</td><td>i64</td><td>i64</td><td>i64</td><td>i64</td><td>i64</td><td>i64</td><td>i64</td><td>f64</td><td>f64</td><td>f64</td><td>f64</td><td>f64</td><td>f64</td></tr></thead><tbody><tr><td>109659</td><td>0</td><td>&quot;cash loans&quot;</td><td>&quot;f&quot;</td><td>&quot;n&quot;</td><td>&quot;y&quot;</td><td>0</td><td>202500.0</td><td>657702.0</td><td>19359.0</td><td>549000.0</td><td>&quot;unaccompanied&quot;</td><td>&quot;pensioner&quot;</td><td>&quot;secondary / secondary special&quot;</td><td>&quot;single / not married&quot;</td><td>&quot;house / apartment&quot;</td><td>0.005144</td><td>-21228</td><td>365243</td><td>-7447.0</td><td>-3449</td><td>null</td><td>1</td><td>0</td><td>0</td><td>1</td><td>0</td><td>0</td><td>null</td><td>1.0</td><td>2</td><td>2</td><td>&quot;monday&quot;</td><td>13</td><td>0</td><td>0</td><td>0</td><td>&hellip;</td><td>null</td><td>null</td><td>null</td><td>null</td><td>null</td><td>null</td><td>0.0</td><td>0.0</td><td>0.0</td><td>0.0</td><td>-776.0</td><td>0</td><td>0</td><td>0</td><td>0</td><td>1</td><td>0</td><td>0</td><td>0</td><td>0</td><td>0</td><td>0</td><td>0</td><td>0</td><td>0</td><td>0</td><td>0</td><td>0</td><td>0</td><td>0</td><td>0</td><td>null</td><td>null</td><td>null</td><td>null</td><td>null</td><td>null</td></tr><tr><td>117488</td><td>0</td><td>&quot;cash loans&quot;</td><td>&quot;f&quot;</td><td>&quot;n&quot;</td><td>&quot;n&quot;</td><td>0</td><td>112500.0</td><td>536917.5</td><td>28737.0</td><td>463500.0</td><td>&quot;unaccompanied&quot;</td><td>&quot;working&quot;</td><td>&quot;higher education&quot;</td><td>&quot;separated&quot;</td><td>&quot;house / apartment&quot;</td><td>0.035792</td><td>-18210</td><td>-123</td><td>-2957.0</td><td>-1751</td><td>null</td><td>1</td><td>1</td><td>0</td><td>1</td><td>1</td><td>0</td><td>null</td><td>1.0</td><td>2</td><td>2</td><td>&quot;saturday&quot;</td><td>13</td><td>0</td><td>0</td><td>0</td><td>&hellip;</td><td>0.0</td><td>&quot;reg oper account&quot;</td><td>&quot;block of flats&quot;</td><td>0.0675</td><td>&quot;panel&quot;</td><td>&quot;no&quot;</td><td>3.0</td><td>1.0</td><td>3.0</td><td>1.0</td><td>-2437.0</td><td>0</td><td>1</td><td>0</td><td>0</td><td>0</td><td>0</td><td>0</td><td>0</td><td>0</td><td>0</td><td>0</td><td>0</td><td>0</td><td>0</td><td>0</td><td>0</td><td>0</td><td>0</td><td>0</td><td>0</td><td>0.0</td><td>0.0</td><td>0.0</td><td>0.0</td><td>0.0</td><td>0.0</td></tr><tr><td>125971</td><td>0</td><td>&quot;cash loans&quot;</td><td>&quot;m&quot;</td><td>&quot;n&quot;</td><td>&quot;y&quot;</td><td>1</td><td>180000.0</td><td>573408.0</td><td>33048.0</td><td>495000.0</td><td>&quot;unaccompanied&quot;</td><td>&quot;commercial associate&quot;</td><td>&quot;secondary / secondary special&quot;</td><td>&quot;separated&quot;</td><td>&quot;house / apartment&quot;</td><td>0.018029</td><td>-13346</td><td>-669</td><td>-7177.0</td><td>-5049</td><td>null</td><td>1</td><td>1</td><td>0</td><td>1</td><td>0</td><td>0</td><td>&quot;laborers&quot;</td><td>2.0</td><td>3</td><td>3</td><td>&quot;sunday&quot;</td><td>6</td><td>0</td><td>0</td><td>0</td><td>&hellip;</td><td>null</td><td>null</td><td>&quot;block of flats&quot;</td><td>0.0697</td><td>&quot;panel&quot;</td><td>&quot;no&quot;</td><td>3.0</td><td>0.0</td><td>3.0</td><td>0.0</td><td>-1604.0</td><td>0</td><td>1</td><td>0</td><td>0</td><td>0</td><td>0</td><td>0</td><td>0</td><td>0</td><td>0</td><td>0</td><td>0</td><td>0</td><td>0</td><td>0</td><td>0</td><td>0</td><td>0</td><td>0</td><td>0</td><td>0.0</td><td>0.0</td><td>0.0</td><td>0.0</td><td>0.0</td><td>2.0</td></tr><tr><td>106196</td><td>0</td><td>&quot;cash loans&quot;</td><td>&quot;m&quot;</td><td>&quot;y&quot;</td><td>&quot;y&quot;</td><td>1</td><td>157500.0</td><td>814041.0</td><td>23931.0</td><td>679500.0</td><td>&quot;spouse, partner&quot;</td><td>&quot;working&quot;</td><td>&quot;secondary / secondary special&quot;</td><td>&quot;married&quot;</td><td>&quot;house / apartment&quot;</td><td>0.020246</td><td>-11837</td><td>-4175</td><td>-62.0</td><td>-22</td><td>12.0</td><td>1</td><td>1</td><td>0</td><td>1</td><td>0</td><td>0</td><td>&quot;laborers&quot;</td><td>3.0</td><td>3</td><td>3</td><td>&quot;wednesday&quot;</td><td>14</td><td>0</td><td>0</td><td>0</td><td>&hellip;</td><td>0.0455</td><td>&quot;reg oper account&quot;</td><td>&quot;block of flats&quot;</td><td>0.0505</td><td>&quot;stone, brick&quot;</td><td>&quot;no&quot;</td><td>0.0</td><td>0.0</td><td>0.0</td><td>0.0</td><td>0.0</td><td>0</td><td>1</td><td>0</td><td>0</td><td>0</td><td>0</td><td>0</td><td>0</td><td>0</td><td>0</td><td>0</td><td>0</td><td>0</td><td>0</td><td>0</td><td>0</td><td>0</td><td>0</td><td>0</td><td>0</td><td>0.0</td><td>0.0</td><td>0.0</td><td>0.0</td><td>0.0</td><td>3.0</td></tr><tr><td>125602</td><td>1</td><td>&quot;cash loans&quot;</td><td>&quot;m&quot;</td><td>&quot;n&quot;</td><td>&quot;y&quot;</td><td>0</td><td>135000.0</td><td>238896.0</td><td>11749.5</td><td>189000.0</td><td>&quot;unaccompanied&quot;</td><td>&quot;working&quot;</td><td>&quot;secondary / secondary special&quot;</td><td>&quot;single / not married&quot;</td><td>&quot;with parents&quot;</td><td>0.035792</td><td>-8491</td><td>-452</td><td>-4073.0</td><td>-1096</td><td>null</td><td>1</td><td>1</td><td>0</td><td>1</td><td>0</td><td>0</td><td>null</td><td>1.0</td><td>2</td><td>2</td><td>&quot;monday&quot;</td><td>12</td><td>0</td><td>0</td><td>0</td><td>&hellip;</td><td>null</td><td>null</td><td>null</td><td>null</td><td>null</td><td>null</td><td>1.0</td><td>0.0</td><td>1.0</td><td>0.0</td><td>-157.0</td><td>0</td><td>1</td><td>0</td><td>0</td><td>0</td><td>0</td><td>0</td><td>0</td><td>0</td><td>0</td><td>0</td><td>0</td><td>0</td><td>0</td><td>0</td><td>0</td><td>0</td><td>0</td><td>0</td><td>0</td><td>0.0</td><td>0.0</td><td>0.0</td><td>0.0</td><td>2.0</td><td>2.0</td></tr></tbody></table></div>"
            ]
          },
          "metadata": {},
          "execution_count": 5
        }
      ],
      "source": [
        "application_train = create_formatted_df(\"application_train.csv\")\n",
        "\n",
        "print(\n",
        "    f\"Training set has {application_train.shape[0]} rows and {application_train.shape[1]} columns.\"\n",
        ")\n",
        "\n",
        "application_train.sample(5)"
      ]
    },
    {
      "cell_type": "markdown",
      "metadata": {
        "id": "QXSJOYINonK2"
      },
      "source": [
        "Let's now take a look at balance of the target variable since that is our modeling variable of interest."
      ]
    },
    {
      "cell_type": "code",
      "execution_count": 6,
      "metadata": {
        "id": "atQ7q9K5onK2",
        "outputId": "60513bd8-cc96-4256-f4b3-498d2fa56ae5",
        "colab": {
          "base_uri": "https://localhost:8080/",
          "height": 542
        }
      },
      "outputs": [
        {
          "output_type": "display_data",
          "data": {
            "text/html": [
              "<html>\n",
              "<head><meta charset=\"utf-8\" /></head>\n",
              "<body>\n",
              "    <div>            <script src=\"https://cdnjs.cloudflare.com/ajax/libs/mathjax/2.7.5/MathJax.js?config=TeX-AMS-MML_SVG\"></script><script type=\"text/javascript\">if (window.MathJax && window.MathJax.Hub && window.MathJax.Hub.Config) {window.MathJax.Hub.Config({SVG: {font: \"STIX-Web\"}});}</script>                <script type=\"text/javascript\">window.PlotlyConfig = {MathJaxConfig: 'local'};</script>\n",
              "        <script charset=\"utf-8\" src=\"https://cdn.plot.ly/plotly-2.35.2.min.js\"></script>                <div id=\"b0a63826-9944-4fb9-9628-73cc25154db8\" class=\"plotly-graph-div\" style=\"height:525px; width:100%;\"></div>            <script type=\"text/javascript\">                                    window.PLOTLYENV=window.PLOTLYENV || {};                                    if (document.getElementById(\"b0a63826-9944-4fb9-9628-73cc25154db8\")) {                    Plotly.newPlot(                        \"b0a63826-9944-4fb9-9628-73cc25154db8\",                        [{\"alignmentgroup\":\"True\",\"customdata\":[[\"91.9%\"],[\"8.1%\"]],\"hovertemplate\":\"target=%{marker.color}\\u003cbr\\u003ecount=%{y}\\u003cbr\\u003epercentages=%{customdata[0]}\\u003cextra\\u003e\\u003c\\u002fextra\\u003e\",\"legendgroup\":\"\",\"marker\":{\"color\":[0,1],\"coloraxis\":\"coloraxis\",\"pattern\":{\"shape\":\"\"}},\"name\":\"\",\"offsetgroup\":\"\",\"orientation\":\"v\",\"showlegend\":false,\"text\":[\"91.9%\",\"8.1%\"],\"textposition\":\"auto\",\"x\":[0,1],\"xaxis\":\"x\",\"y\":[35719,3129],\"yaxis\":\"y\",\"type\":\"bar\"}],                        {\"template\":{\"data\":{\"histogram2dcontour\":[{\"type\":\"histogram2dcontour\",\"colorbar\":{\"outlinewidth\":0,\"ticks\":\"\"},\"colorscale\":[[0.0,\"#0d0887\"],[0.1111111111111111,\"#46039f\"],[0.2222222222222222,\"#7201a8\"],[0.3333333333333333,\"#9c179e\"],[0.4444444444444444,\"#bd3786\"],[0.5555555555555556,\"#d8576b\"],[0.6666666666666666,\"#ed7953\"],[0.7777777777777778,\"#fb9f3a\"],[0.8888888888888888,\"#fdca26\"],[1.0,\"#f0f921\"]]}],\"choropleth\":[{\"type\":\"choropleth\",\"colorbar\":{\"outlinewidth\":0,\"ticks\":\"\"}}],\"histogram2d\":[{\"type\":\"histogram2d\",\"colorbar\":{\"outlinewidth\":0,\"ticks\":\"\"},\"colorscale\":[[0.0,\"#0d0887\"],[0.1111111111111111,\"#46039f\"],[0.2222222222222222,\"#7201a8\"],[0.3333333333333333,\"#9c179e\"],[0.4444444444444444,\"#bd3786\"],[0.5555555555555556,\"#d8576b\"],[0.6666666666666666,\"#ed7953\"],[0.7777777777777778,\"#fb9f3a\"],[0.8888888888888888,\"#fdca26\"],[1.0,\"#f0f921\"]]}],\"heatmap\":[{\"type\":\"heatmap\",\"colorbar\":{\"outlinewidth\":0,\"ticks\":\"\"},\"colorscale\":[[0.0,\"#0d0887\"],[0.1111111111111111,\"#46039f\"],[0.2222222222222222,\"#7201a8\"],[0.3333333333333333,\"#9c179e\"],[0.4444444444444444,\"#bd3786\"],[0.5555555555555556,\"#d8576b\"],[0.6666666666666666,\"#ed7953\"],[0.7777777777777778,\"#fb9f3a\"],[0.8888888888888888,\"#fdca26\"],[1.0,\"#f0f921\"]]}],\"heatmapgl\":[{\"type\":\"heatmapgl\",\"colorbar\":{\"outlinewidth\":0,\"ticks\":\"\"},\"colorscale\":[[0.0,\"#0d0887\"],[0.1111111111111111,\"#46039f\"],[0.2222222222222222,\"#7201a8\"],[0.3333333333333333,\"#9c179e\"],[0.4444444444444444,\"#bd3786\"],[0.5555555555555556,\"#d8576b\"],[0.6666666666666666,\"#ed7953\"],[0.7777777777777778,\"#fb9f3a\"],[0.8888888888888888,\"#fdca26\"],[1.0,\"#f0f921\"]]}],\"contourcarpet\":[{\"type\":\"contourcarpet\",\"colorbar\":{\"outlinewidth\":0,\"ticks\":\"\"}}],\"contour\":[{\"type\":\"contour\",\"colorbar\":{\"outlinewidth\":0,\"ticks\":\"\"},\"colorscale\":[[0.0,\"#0d0887\"],[0.1111111111111111,\"#46039f\"],[0.2222222222222222,\"#7201a8\"],[0.3333333333333333,\"#9c179e\"],[0.4444444444444444,\"#bd3786\"],[0.5555555555555556,\"#d8576b\"],[0.6666666666666666,\"#ed7953\"],[0.7777777777777778,\"#fb9f3a\"],[0.8888888888888888,\"#fdca26\"],[1.0,\"#f0f921\"]]}],\"surface\":[{\"type\":\"surface\",\"colorbar\":{\"outlinewidth\":0,\"ticks\":\"\"},\"colorscale\":[[0.0,\"#0d0887\"],[0.1111111111111111,\"#46039f\"],[0.2222222222222222,\"#7201a8\"],[0.3333333333333333,\"#9c179e\"],[0.4444444444444444,\"#bd3786\"],[0.5555555555555556,\"#d8576b\"],[0.6666666666666666,\"#ed7953\"],[0.7777777777777778,\"#fb9f3a\"],[0.8888888888888888,\"#fdca26\"],[1.0,\"#f0f921\"]]}],\"mesh3d\":[{\"type\":\"mesh3d\",\"colorbar\":{\"outlinewidth\":0,\"ticks\":\"\"}}],\"scatter\":[{\"marker\":{\"line\":{\"color\":\"#283442\"}},\"type\":\"scatter\"}],\"parcoords\":[{\"type\":\"parcoords\",\"line\":{\"colorbar\":{\"outlinewidth\":0,\"ticks\":\"\"}}}],\"scatterpolargl\":[{\"type\":\"scatterpolargl\",\"marker\":{\"colorbar\":{\"outlinewidth\":0,\"ticks\":\"\"}}}],\"bar\":[{\"error_x\":{\"color\":\"#f2f5fa\"},\"error_y\":{\"color\":\"#f2f5fa\"},\"marker\":{\"line\":{\"color\":\"rgb(17,17,17)\",\"width\":0.5},\"pattern\":{\"fillmode\":\"overlay\",\"size\":10,\"solidity\":0.2}},\"type\":\"bar\"}],\"scattergeo\":[{\"type\":\"scattergeo\",\"marker\":{\"colorbar\":{\"outlinewidth\":0,\"ticks\":\"\"}}}],\"scatterpolar\":[{\"type\":\"scatterpolar\",\"marker\":{\"colorbar\":{\"outlinewidth\":0,\"ticks\":\"\"}}}],\"histogram\":[{\"marker\":{\"pattern\":{\"fillmode\":\"overlay\",\"size\":10,\"solidity\":0.2}},\"type\":\"histogram\"}],\"scattergl\":[{\"marker\":{\"line\":{\"color\":\"#283442\"}},\"type\":\"scattergl\"}],\"scatter3d\":[{\"type\":\"scatter3d\",\"line\":{\"colorbar\":{\"outlinewidth\":0,\"ticks\":\"\"}},\"marker\":{\"colorbar\":{\"outlinewidth\":0,\"ticks\":\"\"}}}],\"scattermapbox\":[{\"type\":\"scattermapbox\",\"marker\":{\"colorbar\":{\"outlinewidth\":0,\"ticks\":\"\"}}}],\"scatterternary\":[{\"type\":\"scatterternary\",\"marker\":{\"colorbar\":{\"outlinewidth\":0,\"ticks\":\"\"}}}],\"scattercarpet\":[{\"type\":\"scattercarpet\",\"marker\":{\"colorbar\":{\"outlinewidth\":0,\"ticks\":\"\"}}}],\"carpet\":[{\"aaxis\":{\"endlinecolor\":\"#A2B1C6\",\"gridcolor\":\"#506784\",\"linecolor\":\"#506784\",\"minorgridcolor\":\"#506784\",\"startlinecolor\":\"#A2B1C6\"},\"baxis\":{\"endlinecolor\":\"#A2B1C6\",\"gridcolor\":\"#506784\",\"linecolor\":\"#506784\",\"minorgridcolor\":\"#506784\",\"startlinecolor\":\"#A2B1C6\"},\"type\":\"carpet\"}],\"table\":[{\"cells\":{\"fill\":{\"color\":\"#506784\"},\"line\":{\"color\":\"rgb(17,17,17)\"}},\"header\":{\"fill\":{\"color\":\"#2a3f5f\"},\"line\":{\"color\":\"rgb(17,17,17)\"}},\"type\":\"table\"}],\"barpolar\":[{\"marker\":{\"line\":{\"color\":\"rgb(17,17,17)\",\"width\":0.5},\"pattern\":{\"fillmode\":\"overlay\",\"size\":10,\"solidity\":0.2}},\"type\":\"barpolar\"}],\"pie\":[{\"automargin\":true,\"type\":\"pie\"}]},\"layout\":{\"autotypenumbers\":\"strict\",\"colorway\":[\"#636efa\",\"#EF553B\",\"#00cc96\",\"#ab63fa\",\"#FFA15A\",\"#19d3f3\",\"#FF6692\",\"#B6E880\",\"#FF97FF\",\"#FECB52\"],\"font\":{\"color\":\"#f2f5fa\"},\"hovermode\":\"closest\",\"hoverlabel\":{\"align\":\"left\"},\"paper_bgcolor\":\"rgb(17,17,17)\",\"plot_bgcolor\":\"rgb(17,17,17)\",\"polar\":{\"bgcolor\":\"rgb(17,17,17)\",\"angularaxis\":{\"gridcolor\":\"#506784\",\"linecolor\":\"#506784\",\"ticks\":\"\"},\"radialaxis\":{\"gridcolor\":\"#506784\",\"linecolor\":\"#506784\",\"ticks\":\"\"}},\"ternary\":{\"bgcolor\":\"rgb(17,17,17)\",\"aaxis\":{\"gridcolor\":\"#506784\",\"linecolor\":\"#506784\",\"ticks\":\"\"},\"baxis\":{\"gridcolor\":\"#506784\",\"linecolor\":\"#506784\",\"ticks\":\"\"},\"caxis\":{\"gridcolor\":\"#506784\",\"linecolor\":\"#506784\",\"ticks\":\"\"}},\"coloraxis\":{\"colorbar\":{\"outlinewidth\":0,\"ticks\":\"\"}},\"colorscale\":{\"sequential\":[[0.0,\"#0d0887\"],[0.1111111111111111,\"#46039f\"],[0.2222222222222222,\"#7201a8\"],[0.3333333333333333,\"#9c179e\"],[0.4444444444444444,\"#bd3786\"],[0.5555555555555556,\"#d8576b\"],[0.6666666666666666,\"#ed7953\"],[0.7777777777777778,\"#fb9f3a\"],[0.8888888888888888,\"#fdca26\"],[1.0,\"#f0f921\"]],\"sequentialminus\":[[0.0,\"#0d0887\"],[0.1111111111111111,\"#46039f\"],[0.2222222222222222,\"#7201a8\"],[0.3333333333333333,\"#9c179e\"],[0.4444444444444444,\"#bd3786\"],[0.5555555555555556,\"#d8576b\"],[0.6666666666666666,\"#ed7953\"],[0.7777777777777778,\"#fb9f3a\"],[0.8888888888888888,\"#fdca26\"],[1.0,\"#f0f921\"]],\"diverging\":[[0,\"#8e0152\"],[0.1,\"#c51b7d\"],[0.2,\"#de77ae\"],[0.3,\"#f1b6da\"],[0.4,\"#fde0ef\"],[0.5,\"#f7f7f7\"],[0.6,\"#e6f5d0\"],[0.7,\"#b8e186\"],[0.8,\"#7fbc41\"],[0.9,\"#4d9221\"],[1,\"#276419\"]]},\"xaxis\":{\"gridcolor\":\"#283442\",\"linecolor\":\"#506784\",\"ticks\":\"\",\"title\":{\"standoff\":15},\"zerolinecolor\":\"#283442\",\"automargin\":true,\"zerolinewidth\":2},\"yaxis\":{\"gridcolor\":\"#283442\",\"linecolor\":\"#506784\",\"ticks\":\"\",\"title\":{\"standoff\":15},\"zerolinecolor\":\"#283442\",\"automargin\":true,\"zerolinewidth\":2},\"scene\":{\"xaxis\":{\"backgroundcolor\":\"rgb(17,17,17)\",\"gridcolor\":\"#506784\",\"linecolor\":\"#506784\",\"showbackground\":true,\"ticks\":\"\",\"zerolinecolor\":\"#C8D4E3\",\"gridwidth\":2},\"yaxis\":{\"backgroundcolor\":\"rgb(17,17,17)\",\"gridcolor\":\"#506784\",\"linecolor\":\"#506784\",\"showbackground\":true,\"ticks\":\"\",\"zerolinecolor\":\"#C8D4E3\",\"gridwidth\":2},\"zaxis\":{\"backgroundcolor\":\"rgb(17,17,17)\",\"gridcolor\":\"#506784\",\"linecolor\":\"#506784\",\"showbackground\":true,\"ticks\":\"\",\"zerolinecolor\":\"#C8D4E3\",\"gridwidth\":2}},\"shapedefaults\":{\"line\":{\"color\":\"#f2f5fa\"}},\"annotationdefaults\":{\"arrowcolor\":\"#f2f5fa\",\"arrowhead\":0,\"arrowwidth\":1},\"geo\":{\"bgcolor\":\"rgb(17,17,17)\",\"landcolor\":\"rgb(17,17,17)\",\"subunitcolor\":\"#506784\",\"showland\":true,\"showlakes\":true,\"lakecolor\":\"rgb(17,17,17)\"},\"title\":{\"x\":0.05},\"updatemenudefaults\":{\"bgcolor\":\"#506784\",\"borderwidth\":0},\"sliderdefaults\":{\"bgcolor\":\"#C8D4E3\",\"borderwidth\":1,\"bordercolor\":\"rgb(17,17,17)\",\"tickwidth\":0},\"mapbox\":{\"style\":\"dark\"}}},\"xaxis\":{\"anchor\":\"y\",\"domain\":[0.0,1.0],\"title\":{\"text\":\"target\"}},\"yaxis\":{\"anchor\":\"x\",\"domain\":[0.0,1.0],\"title\":{\"text\":\"count\"}},\"coloraxis\":{\"colorbar\":{\"title\":{\"text\":\"target\"}},\"colorscale\":[[0.0,\"rgb(210, 251, 212)\"],[0.16666666666666666,\"rgb(165, 219, 194)\"],[0.3333333333333333,\"rgb(123, 188, 176)\"],[0.5,\"rgb(85, 156, 158)\"],[0.6666666666666666,\"rgb(58, 124, 137)\"],[0.8333333333333334,\"rgb(35, 93, 114)\"],[1.0,\"rgb(18, 63, 90)\"]]},\"legend\":{\"tracegroupgap\":0},\"margin\":{\"t\":60},\"barmode\":\"relative\",\"bargap\":0.2,\"title\":{\"text\":\"Target Variable Distribution\"}},                        {\"responsive\": true}                    ).then(function(){\n",
              "                            \n",
              "var gd = document.getElementById('b0a63826-9944-4fb9-9628-73cc25154db8');\n",
              "var x = new MutationObserver(function (mutations, observer) {{\n",
              "        var display = window.getComputedStyle(gd).display;\n",
              "        if (!display || display === 'none') {{\n",
              "            console.log([gd, 'removed!']);\n",
              "            Plotly.purge(gd);\n",
              "            observer.disconnect();\n",
              "        }}\n",
              "}});\n",
              "\n",
              "// Listen for the removal of the full notebook cells\n",
              "var notebookContainer = gd.closest('#notebook-container');\n",
              "if (notebookContainer) {{\n",
              "    x.observe(notebookContainer, {childList: true});\n",
              "}}\n",
              "\n",
              "// Listen for the clearing of the current output cell\n",
              "var outputEl = gd.closest('.output');\n",
              "if (outputEl) {{\n",
              "    x.observe(outputEl, {childList: true});\n",
              "}}\n",
              "\n",
              "                        })                };                            </script>        </div>\n",
              "</body>\n",
              "</html>"
            ]
          },
          "metadata": {}
        }
      ],
      "source": [
        "plot_histogram(application_train, \"target\", title=\"Target Variable Distribution\")"
      ]
    },
    {
      "cell_type": "code",
      "execution_count": 7,
      "metadata": {
        "id": "DI8A_Lg2onK2",
        "outputId": "04fe13be-38ce-4e16-eaa8-cc2ec0ec5f47",
        "colab": {
          "base_uri": "https://localhost:8080/",
          "height": 192
        }
      },
      "outputs": [
        {
          "output_type": "execute_result",
          "data": {
            "text/plain": [
              "shape: (3, 3)\n",
              "┌──────────────────────────────┬─────────────┬────────────┐\n",
              "│ table                        ┆ feature     ┆ null_count │\n",
              "│ ---                          ┆ ---         ┆ ---        │\n",
              "│ str                          ┆ str         ┆ i64        │\n",
              "╞══════════════════════════════╪═════════════╪════════════╡\n",
              "│ application_{train|test}.csv ┆ amt_annuity ┆ 0          │\n",
              "│ bureau.csv                   ┆ amt_annuity ┆ 0          │\n",
              "│ previous_application.csv     ┆ amt_annuity ┆ 0          │\n",
              "└──────────────────────────────┴─────────────┴────────────┘"
            ],
            "text/html": [
              "<div><style>\n",
              ".dataframe > thead > tr,\n",
              ".dataframe > tbody > tr {\n",
              "  text-align: right;\n",
              "  white-space: pre-wrap;\n",
              "}\n",
              "</style>\n",
              "<small>shape: (3, 3)</small><table border=\"1\" class=\"dataframe\"><thead><tr><th>table</th><th>feature</th><th>null_count</th></tr><tr><td>str</td><td>str</td><td>i64</td></tr></thead><tbody><tr><td>&quot;application_{train|test}.csv&quot;</td><td>&quot;amt_annuity&quot;</td><td>0</td></tr><tr><td>&quot;bureau.csv&quot;</td><td>&quot;amt_annuity&quot;</td><td>0</td></tr><tr><td>&quot;previous_application.csv&quot;</td><td>&quot;amt_annuity&quot;</td><td>0</td></tr></tbody></table></div>"
            ]
          },
          "metadata": {},
          "execution_count": 7
        }
      ],
      "source": [
        "description = pl.read_csv(\"HomeCredit_columns_description.csv\", encoding=\"latin1\")\n",
        "description = lower_column_names(description)\n",
        "description = lower_column_values(description)\n",
        "\n",
        "# Delete training spaces for some entries in the row column\n",
        "description = description.with_columns(\n",
        "    pl.col(\"row\").map_elements(lambda x: x.split(\" \")[0], return_dtype=pl.String)\n",
        ")\n",
        "\n",
        "null_df = null_count_comparison(application_train, description, \"amt_annuity\")\n",
        "null_df"
      ]
    },
    {
      "cell_type": "markdown",
      "metadata": {
        "id": "YRANzyGYonK2"
      },
      "source": [
        "### Null values"
      ]
    },
    {
      "cell_type": "code",
      "execution_count": 8,
      "metadata": {
        "id": "4J2md5muonK3",
        "outputId": "3187c35f-8d2d-4825-ae33-fa080b4ebc3c",
        "colab": {
          "base_uri": "https://localhost:8080/",
          "height": 542
        }
      },
      "outputs": [
        {
          "output_type": "display_data",
          "data": {
            "text/html": [
              "<html>\n",
              "<head><meta charset=\"utf-8\" /></head>\n",
              "<body>\n",
              "    <div>            <script src=\"https://cdnjs.cloudflare.com/ajax/libs/mathjax/2.7.5/MathJax.js?config=TeX-AMS-MML_SVG\"></script><script type=\"text/javascript\">if (window.MathJax && window.MathJax.Hub && window.MathJax.Hub.Config) {window.MathJax.Hub.Config({SVG: {font: \"STIX-Web\"}});}</script>                <script type=\"text/javascript\">window.PlotlyConfig = {MathJaxConfig: 'local'};</script>\n",
              "        <script charset=\"utf-8\" src=\"https://cdn.plot.ly/plotly-2.35.2.min.js\"></script>                <div id=\"7492d257-b781-4096-a314-28b48b2c8590\" class=\"plotly-graph-div\" style=\"height:525px; width:100%;\"></div>            <script type=\"text/javascript\">                                    window.PLOTLYENV=window.PLOTLYENV || {};                                    if (document.getElementById(\"7492d257-b781-4096-a314-28b48b2c8590\")) {                    Plotly.newPlot(                        \"7492d257-b781-4096-a314-28b48b2c8590\",                        [{\"alignmentgroup\":\"True\",\"bingroup\":\"x\",\"hovertemplate\":\"percentage=%{x}\\u003cbr\\u003ecount=%{y}\\u003cextra\\u003e\\u003c\\u002fextra\\u003e\",\"legendgroup\":\"\",\"marker\":{\"color\":\"#636efa\",\"pattern\":{\"shape\":\"\"}},\"name\":\"\",\"offsetgroup\":\"\",\"orientation\":\"v\",\"showlegend\":false,\"texttemplate\":\"%{value}\",\"x\":[0.70129734,0.70129734,0.70129734,0.6954798,0.6954798,0.6954798,0.6858783,0.6858783,0.6858783,0.68549216,0.6793915,0.6793915,0.6793915,0.6665208,0.6665208,0.6665208,0.65939045,0.5956291,0.5956291,0.5956291,0.58481777,0.58481777,0.58481777,0.56445634,0.5516372,0.5516372,0.5516372,0.5333865,0.5333865,0.5333865,0.5099104,0.5079283,0.5079283,0.5079283,0.5042473,0.5042473,0.5042473,0.50393844,0.50393844,0.50393844,0.5022138,0.49778625,0.49778625,0.49778625,0.48877677,0.48877677,0.48877677,0.48352554,0.4744903,0.31458506,0.1978995,0.13460152,0.13460152,0.13460152,0.13460152,0.13460152,0.13460152,0.0039384267,0.0033463757,0.0033463757,0.0033463757,0.0033463757,0.0024711697,0.00074649916,0.0000514827,0.00002574135,0.00002574135,0.00002574135,0.00002574135,0.00002574135,0.00002574135,0.00002574135,0.00002574135,0.00002574135,0.00002574135,0.00002574135,0.00002574135,0.00002574135,0.00002574135,0.00002574135,0.00002574135,0.00002574135,0.00002574135,0.00002574135,0.00002574135,0.00002574135,0.00002574135,0.00002574135,0.00002574135,0.00002574135,0.00002574135,0.00002574135,0.00002574135,0.00002574135,0.00002574135,0.00002574135,0.00002574135,0.00002574135,0.00002574135,0.00002574135,0.00002574135,0.00002574135,0.0,0.0,0.0,0.0,0.0,0.0,0.0,0.0,0.0,0.0,0.0,0.0,0.0,0.0,0.0,0.0,0.0,0.0,0.0,0.0],\"xaxis\":\"x\",\"yaxis\":\"y\",\"type\":\"histogram\"}],                        {\"template\":{\"data\":{\"histogram2dcontour\":[{\"type\":\"histogram2dcontour\",\"colorbar\":{\"outlinewidth\":0,\"ticks\":\"\"},\"colorscale\":[[0.0,\"#0d0887\"],[0.1111111111111111,\"#46039f\"],[0.2222222222222222,\"#7201a8\"],[0.3333333333333333,\"#9c179e\"],[0.4444444444444444,\"#bd3786\"],[0.5555555555555556,\"#d8576b\"],[0.6666666666666666,\"#ed7953\"],[0.7777777777777778,\"#fb9f3a\"],[0.8888888888888888,\"#fdca26\"],[1.0,\"#f0f921\"]]}],\"choropleth\":[{\"type\":\"choropleth\",\"colorbar\":{\"outlinewidth\":0,\"ticks\":\"\"}}],\"histogram2d\":[{\"type\":\"histogram2d\",\"colorbar\":{\"outlinewidth\":0,\"ticks\":\"\"},\"colorscale\":[[0.0,\"#0d0887\"],[0.1111111111111111,\"#46039f\"],[0.2222222222222222,\"#7201a8\"],[0.3333333333333333,\"#9c179e\"],[0.4444444444444444,\"#bd3786\"],[0.5555555555555556,\"#d8576b\"],[0.6666666666666666,\"#ed7953\"],[0.7777777777777778,\"#fb9f3a\"],[0.8888888888888888,\"#fdca26\"],[1.0,\"#f0f921\"]]}],\"heatmap\":[{\"type\":\"heatmap\",\"colorbar\":{\"outlinewidth\":0,\"ticks\":\"\"},\"colorscale\":[[0.0,\"#0d0887\"],[0.1111111111111111,\"#46039f\"],[0.2222222222222222,\"#7201a8\"],[0.3333333333333333,\"#9c179e\"],[0.4444444444444444,\"#bd3786\"],[0.5555555555555556,\"#d8576b\"],[0.6666666666666666,\"#ed7953\"],[0.7777777777777778,\"#fb9f3a\"],[0.8888888888888888,\"#fdca26\"],[1.0,\"#f0f921\"]]}],\"heatmapgl\":[{\"type\":\"heatmapgl\",\"colorbar\":{\"outlinewidth\":0,\"ticks\":\"\"},\"colorscale\":[[0.0,\"#0d0887\"],[0.1111111111111111,\"#46039f\"],[0.2222222222222222,\"#7201a8\"],[0.3333333333333333,\"#9c179e\"],[0.4444444444444444,\"#bd3786\"],[0.5555555555555556,\"#d8576b\"],[0.6666666666666666,\"#ed7953\"],[0.7777777777777778,\"#fb9f3a\"],[0.8888888888888888,\"#fdca26\"],[1.0,\"#f0f921\"]]}],\"contourcarpet\":[{\"type\":\"contourcarpet\",\"colorbar\":{\"outlinewidth\":0,\"ticks\":\"\"}}],\"contour\":[{\"type\":\"contour\",\"colorbar\":{\"outlinewidth\":0,\"ticks\":\"\"},\"colorscale\":[[0.0,\"#0d0887\"],[0.1111111111111111,\"#46039f\"],[0.2222222222222222,\"#7201a8\"],[0.3333333333333333,\"#9c179e\"],[0.4444444444444444,\"#bd3786\"],[0.5555555555555556,\"#d8576b\"],[0.6666666666666666,\"#ed7953\"],[0.7777777777777778,\"#fb9f3a\"],[0.8888888888888888,\"#fdca26\"],[1.0,\"#f0f921\"]]}],\"surface\":[{\"type\":\"surface\",\"colorbar\":{\"outlinewidth\":0,\"ticks\":\"\"},\"colorscale\":[[0.0,\"#0d0887\"],[0.1111111111111111,\"#46039f\"],[0.2222222222222222,\"#7201a8\"],[0.3333333333333333,\"#9c179e\"],[0.4444444444444444,\"#bd3786\"],[0.5555555555555556,\"#d8576b\"],[0.6666666666666666,\"#ed7953\"],[0.7777777777777778,\"#fb9f3a\"],[0.8888888888888888,\"#fdca26\"],[1.0,\"#f0f921\"]]}],\"mesh3d\":[{\"type\":\"mesh3d\",\"colorbar\":{\"outlinewidth\":0,\"ticks\":\"\"}}],\"scatter\":[{\"marker\":{\"line\":{\"color\":\"#283442\"}},\"type\":\"scatter\"}],\"parcoords\":[{\"type\":\"parcoords\",\"line\":{\"colorbar\":{\"outlinewidth\":0,\"ticks\":\"\"}}}],\"scatterpolargl\":[{\"type\":\"scatterpolargl\",\"marker\":{\"colorbar\":{\"outlinewidth\":0,\"ticks\":\"\"}}}],\"bar\":[{\"error_x\":{\"color\":\"#f2f5fa\"},\"error_y\":{\"color\":\"#f2f5fa\"},\"marker\":{\"line\":{\"color\":\"rgb(17,17,17)\",\"width\":0.5},\"pattern\":{\"fillmode\":\"overlay\",\"size\":10,\"solidity\":0.2}},\"type\":\"bar\"}],\"scattergeo\":[{\"type\":\"scattergeo\",\"marker\":{\"colorbar\":{\"outlinewidth\":0,\"ticks\":\"\"}}}],\"scatterpolar\":[{\"type\":\"scatterpolar\",\"marker\":{\"colorbar\":{\"outlinewidth\":0,\"ticks\":\"\"}}}],\"histogram\":[{\"marker\":{\"pattern\":{\"fillmode\":\"overlay\",\"size\":10,\"solidity\":0.2}},\"type\":\"histogram\"}],\"scattergl\":[{\"marker\":{\"line\":{\"color\":\"#283442\"}},\"type\":\"scattergl\"}],\"scatter3d\":[{\"type\":\"scatter3d\",\"line\":{\"colorbar\":{\"outlinewidth\":0,\"ticks\":\"\"}},\"marker\":{\"colorbar\":{\"outlinewidth\":0,\"ticks\":\"\"}}}],\"scattermapbox\":[{\"type\":\"scattermapbox\",\"marker\":{\"colorbar\":{\"outlinewidth\":0,\"ticks\":\"\"}}}],\"scatterternary\":[{\"type\":\"scatterternary\",\"marker\":{\"colorbar\":{\"outlinewidth\":0,\"ticks\":\"\"}}}],\"scattercarpet\":[{\"type\":\"scattercarpet\",\"marker\":{\"colorbar\":{\"outlinewidth\":0,\"ticks\":\"\"}}}],\"carpet\":[{\"aaxis\":{\"endlinecolor\":\"#A2B1C6\",\"gridcolor\":\"#506784\",\"linecolor\":\"#506784\",\"minorgridcolor\":\"#506784\",\"startlinecolor\":\"#A2B1C6\"},\"baxis\":{\"endlinecolor\":\"#A2B1C6\",\"gridcolor\":\"#506784\",\"linecolor\":\"#506784\",\"minorgridcolor\":\"#506784\",\"startlinecolor\":\"#A2B1C6\"},\"type\":\"carpet\"}],\"table\":[{\"cells\":{\"fill\":{\"color\":\"#506784\"},\"line\":{\"color\":\"rgb(17,17,17)\"}},\"header\":{\"fill\":{\"color\":\"#2a3f5f\"},\"line\":{\"color\":\"rgb(17,17,17)\"}},\"type\":\"table\"}],\"barpolar\":[{\"marker\":{\"line\":{\"color\":\"rgb(17,17,17)\",\"width\":0.5},\"pattern\":{\"fillmode\":\"overlay\",\"size\":10,\"solidity\":0.2}},\"type\":\"barpolar\"}],\"pie\":[{\"automargin\":true,\"type\":\"pie\"}]},\"layout\":{\"autotypenumbers\":\"strict\",\"colorway\":[\"#636efa\",\"#EF553B\",\"#00cc96\",\"#ab63fa\",\"#FFA15A\",\"#19d3f3\",\"#FF6692\",\"#B6E880\",\"#FF97FF\",\"#FECB52\"],\"font\":{\"color\":\"#f2f5fa\"},\"hovermode\":\"closest\",\"hoverlabel\":{\"align\":\"left\"},\"paper_bgcolor\":\"rgb(17,17,17)\",\"plot_bgcolor\":\"rgb(17,17,17)\",\"polar\":{\"bgcolor\":\"rgb(17,17,17)\",\"angularaxis\":{\"gridcolor\":\"#506784\",\"linecolor\":\"#506784\",\"ticks\":\"\"},\"radialaxis\":{\"gridcolor\":\"#506784\",\"linecolor\":\"#506784\",\"ticks\":\"\"}},\"ternary\":{\"bgcolor\":\"rgb(17,17,17)\",\"aaxis\":{\"gridcolor\":\"#506784\",\"linecolor\":\"#506784\",\"ticks\":\"\"},\"baxis\":{\"gridcolor\":\"#506784\",\"linecolor\":\"#506784\",\"ticks\":\"\"},\"caxis\":{\"gridcolor\":\"#506784\",\"linecolor\":\"#506784\",\"ticks\":\"\"}},\"coloraxis\":{\"colorbar\":{\"outlinewidth\":0,\"ticks\":\"\"}},\"colorscale\":{\"sequential\":[[0.0,\"#0d0887\"],[0.1111111111111111,\"#46039f\"],[0.2222222222222222,\"#7201a8\"],[0.3333333333333333,\"#9c179e\"],[0.4444444444444444,\"#bd3786\"],[0.5555555555555556,\"#d8576b\"],[0.6666666666666666,\"#ed7953\"],[0.7777777777777778,\"#fb9f3a\"],[0.8888888888888888,\"#fdca26\"],[1.0,\"#f0f921\"]],\"sequentialminus\":[[0.0,\"#0d0887\"],[0.1111111111111111,\"#46039f\"],[0.2222222222222222,\"#7201a8\"],[0.3333333333333333,\"#9c179e\"],[0.4444444444444444,\"#bd3786\"],[0.5555555555555556,\"#d8576b\"],[0.6666666666666666,\"#ed7953\"],[0.7777777777777778,\"#fb9f3a\"],[0.8888888888888888,\"#fdca26\"],[1.0,\"#f0f921\"]],\"diverging\":[[0,\"#8e0152\"],[0.1,\"#c51b7d\"],[0.2,\"#de77ae\"],[0.3,\"#f1b6da\"],[0.4,\"#fde0ef\"],[0.5,\"#f7f7f7\"],[0.6,\"#e6f5d0\"],[0.7,\"#b8e186\"],[0.8,\"#7fbc41\"],[0.9,\"#4d9221\"],[1,\"#276419\"]]},\"xaxis\":{\"gridcolor\":\"#283442\",\"linecolor\":\"#506784\",\"ticks\":\"\",\"title\":{\"standoff\":15},\"zerolinecolor\":\"#283442\",\"automargin\":true,\"zerolinewidth\":2},\"yaxis\":{\"gridcolor\":\"#283442\",\"linecolor\":\"#506784\",\"ticks\":\"\",\"title\":{\"standoff\":15},\"zerolinecolor\":\"#283442\",\"automargin\":true,\"zerolinewidth\":2},\"scene\":{\"xaxis\":{\"backgroundcolor\":\"rgb(17,17,17)\",\"gridcolor\":\"#506784\",\"linecolor\":\"#506784\",\"showbackground\":true,\"ticks\":\"\",\"zerolinecolor\":\"#C8D4E3\",\"gridwidth\":2},\"yaxis\":{\"backgroundcolor\":\"rgb(17,17,17)\",\"gridcolor\":\"#506784\",\"linecolor\":\"#506784\",\"showbackground\":true,\"ticks\":\"\",\"zerolinecolor\":\"#C8D4E3\",\"gridwidth\":2},\"zaxis\":{\"backgroundcolor\":\"rgb(17,17,17)\",\"gridcolor\":\"#506784\",\"linecolor\":\"#506784\",\"showbackground\":true,\"ticks\":\"\",\"zerolinecolor\":\"#C8D4E3\",\"gridwidth\":2}},\"shapedefaults\":{\"line\":{\"color\":\"#f2f5fa\"}},\"annotationdefaults\":{\"arrowcolor\":\"#f2f5fa\",\"arrowhead\":0,\"arrowwidth\":1},\"geo\":{\"bgcolor\":\"rgb(17,17,17)\",\"landcolor\":\"rgb(17,17,17)\",\"subunitcolor\":\"#506784\",\"showland\":true,\"showlakes\":true,\"lakecolor\":\"rgb(17,17,17)\"},\"title\":{\"x\":0.05},\"updatemenudefaults\":{\"bgcolor\":\"#506784\",\"borderwidth\":0},\"sliderdefaults\":{\"bgcolor\":\"#C8D4E3\",\"borderwidth\":1,\"bordercolor\":\"rgb(17,17,17)\",\"tickwidth\":0},\"mapbox\":{\"style\":\"dark\"}}},\"xaxis\":{\"anchor\":\"y\",\"domain\":[0.0,1.0],\"title\":{\"text\":\"percentage\"}},\"yaxis\":{\"anchor\":\"x\",\"domain\":[0.0,1.0],\"title\":{\"text\":\"count\"}},\"legend\":{\"tracegroupgap\":0},\"title\":{\"text\":\"Null value percentages across dataset\"},\"barmode\":\"relative\",\"bargap\":0.2},                        {\"responsive\": true}                    ).then(function(){\n",
              "                            \n",
              "var gd = document.getElementById('7492d257-b781-4096-a314-28b48b2c8590');\n",
              "var x = new MutationObserver(function (mutations, observer) {{\n",
              "        var display = window.getComputedStyle(gd).display;\n",
              "        if (!display || display === 'none') {{\n",
              "            console.log([gd, 'removed!']);\n",
              "            Plotly.purge(gd);\n",
              "            observer.disconnect();\n",
              "        }}\n",
              "}});\n",
              "\n",
              "// Listen for the removal of the full notebook cells\n",
              "var notebookContainer = gd.closest('#notebook-container');\n",
              "if (notebookContainer) {{\n",
              "    x.observe(notebookContainer, {childList: true});\n",
              "}}\n",
              "\n",
              "// Listen for the clearing of the current output cell\n",
              "var outputEl = gd.closest('.output');\n",
              "if (outputEl) {{\n",
              "    x.observe(outputEl, {childList: true});\n",
              "}}\n",
              "\n",
              "                        })                };                            </script>        </div>\n",
              "</body>\n",
              "</html>"
            ]
          },
          "metadata": {}
        }
      ],
      "source": [
        "null_df = (\n",
        "    application_train.null_count()\n",
        "    .transpose(include_header=True)\n",
        "    .rename(mapping={\"column\": \"feature\", \"column_0\": \"null_count\"})\n",
        "    .sort(by=\"null_count\", descending=True)\n",
        "    .with_columns(\n",
        "        pl.col(\"null_count\")\n",
        "        .map_elements(lambda x: x / len(application_train), return_dtype=pl.Float32)\n",
        "        .alias(\"percentage\")\n",
        "    )\n",
        ")\n",
        "\n",
        "px.histogram(\n",
        "    null_df,\n",
        "    x=\"percentage\",\n",
        "    text_auto=True,\n",
        "    title=\"Null value percentages across dataset\",\n",
        ").update_layout(bargap=0.2)"
      ]
    },
    {
      "cell_type": "markdown",
      "metadata": {
        "id": "CmwiBeLRonK3"
      },
      "source": [
        "The graph above shows that we have a pretty wide spread of null value prevalence within this dataset. Thankfully none of these null values are in the target variable, but we will have to make a choice in our analysis of how to treat null values within this dataset since some classifiers are more tolerant of null values than others. LightGBM and XGBoost can handle null values when fitting, but commonly used sklearn classifiers do not."
      ]
    },
    {
      "cell_type": "markdown",
      "metadata": {
        "id": "CGb7wgsponK3"
      },
      "source": [
        "#### Look for categorical anomalies"
      ]
    },
    {
      "cell_type": "markdown",
      "metadata": {
        "id": "CCiQhrTsonK3"
      },
      "source": [
        "## Correlations\n"
      ]
    },
    {
      "cell_type": "code",
      "execution_count": 9,
      "metadata": {
        "id": "crlHdR3ronK3",
        "outputId": "da6a297c-a863-4431-b648-4ef6b0af0200",
        "colab": {
          "base_uri": "https://localhost:8080/",
          "height": 542
        }
      },
      "outputs": [
        {
          "output_type": "display_data",
          "data": {
            "text/html": [
              "<html>\n",
              "<head><meta charset=\"utf-8\" /></head>\n",
              "<body>\n",
              "    <div>            <script src=\"https://cdnjs.cloudflare.com/ajax/libs/mathjax/2.7.5/MathJax.js?config=TeX-AMS-MML_SVG\"></script><script type=\"text/javascript\">if (window.MathJax && window.MathJax.Hub && window.MathJax.Hub.Config) {window.MathJax.Hub.Config({SVG: {font: \"STIX-Web\"}});}</script>                <script type=\"text/javascript\">window.PlotlyConfig = {MathJaxConfig: 'local'};</script>\n",
              "        <script charset=\"utf-8\" src=\"https://cdn.plot.ly/plotly-2.35.2.min.js\"></script>                <div id=\"35d473d8-14f7-420d-ba4b-5eab3ac82840\" class=\"plotly-graph-div\" style=\"height:525px; width:100%;\"></div>            <script type=\"text/javascript\">                                    window.PLOTLYENV=window.PLOTLYENV || {};                                    if (document.getElementById(\"35d473d8-14f7-420d-ba4b-5eab3ac82840\")) {                    Plotly.newPlot(                        \"35d473d8-14f7-420d-ba4b-5eab3ac82840\",                        [{\"alignmentgroup\":\"True\",\"bingroup\":\"x\",\"hovertemplate\":\"target=%{x}\\u003cbr\\u003ecount=%{y}\\u003cextra\\u003e\\u003c\\u002fextra\\u003e\",\"legendgroup\":\"\",\"marker\":{\"color\":\"#636efa\",\"pattern\":{\"shape\":\"\"}},\"name\":\"\",\"offsetgroup\":\"\",\"orientation\":\"v\",\"showlegend\":false,\"x\":[0.006453676848183077,1.0,0.02723537516164366,0.01316998152036656,-0.030560943232075987,-0.008403885067586223,-0.03907011037412975,-0.03803086114923223,0.07567183962750372,-0.0377412658868748,0.044501519500343686,0.04349287884128513,0.03453459266472711,0.0015016696137141136,0.03887919099283607,0.020829578914710278,0.007308268136142176,-0.03346497172635392,0.0009782630610508498,0.011965380380363442,0.06609823928397077,0.06653383228630258,-0.029763775618381158,0.012428811918839388,0.002235735974889479,-0.004264816494440145,0.034034971157982374,0.04232817760757497,0.028538186600516352,-0.15572564301404365,-0.15625835793471043,-0.18363390392414938,-0.01772657200787141,-0.01118294886133017,0.005407471302799924,-0.009023084518402643,-0.004400524587651916,-0.029552447915917764,-0.006489729779621287,-0.03620483804587339,-0.033005951726028694,0.0031750102107076365,-0.005280448304551413,-0.0218456621839816,0.013383826332290313,-0.004196882403470639,-0.01605129019447683,-0.00967033646492755,0.0026826132532928567,-0.009378158919127605,-0.0016726224048870266,-0.027630568674570463,-0.0050438770703617975,-0.034569467122198064,-0.03219863814078646,0.0002387749479208367,-0.0022529601630222273,-0.01881981058914052,0.016167226555360115,-0.0034152128264258253,-0.019213779854561804,-0.010709072801910545,0.0029210866191216986,-0.008981276258659292,-0.0050249309941445604,-0.029130080534301946,-0.00639058261970862,-0.03547374562470393,-0.03254857970930634,0.0008161563412230782,-0.004998934423551672,-0.021727527077336963,0.013802425508820982,-0.003847175540235218,-0.02455607258124924,0.011535508928957466,0.039296904601489144,0.011263335291513193,0.04190712673633642,0.05647554467394197,0.011059668901652183,0.049027572554057014,-0.003973457978682707,-0.0012470453905417344,-0.025453166006389034,-0.003973457978682747,-0.00771139260553785,-0.004375951316244302,-0.0015017099634006491,-0.009997024717841778,null,-0.014031517555395239,-0.011089144109413425,-0.008630222334341384,-0.006301066468563435,0.0006408371427219007,-0.006562971676089864,-0.000344599548600355,-0.0030695698903002557,-0.005817146015892063,0.0010672630325480883,0.013743038989087344,0.009973131145773851,-0.012612475716391316,-0.0006481753476768274,0.02156387784928006],\"xaxis\":\"x\",\"yaxis\":\"y\",\"type\":\"histogram\"}],                        {\"template\":{\"data\":{\"histogram2dcontour\":[{\"type\":\"histogram2dcontour\",\"colorbar\":{\"outlinewidth\":0,\"ticks\":\"\"},\"colorscale\":[[0.0,\"#0d0887\"],[0.1111111111111111,\"#46039f\"],[0.2222222222222222,\"#7201a8\"],[0.3333333333333333,\"#9c179e\"],[0.4444444444444444,\"#bd3786\"],[0.5555555555555556,\"#d8576b\"],[0.6666666666666666,\"#ed7953\"],[0.7777777777777778,\"#fb9f3a\"],[0.8888888888888888,\"#fdca26\"],[1.0,\"#f0f921\"]]}],\"choropleth\":[{\"type\":\"choropleth\",\"colorbar\":{\"outlinewidth\":0,\"ticks\":\"\"}}],\"histogram2d\":[{\"type\":\"histogram2d\",\"colorbar\":{\"outlinewidth\":0,\"ticks\":\"\"},\"colorscale\":[[0.0,\"#0d0887\"],[0.1111111111111111,\"#46039f\"],[0.2222222222222222,\"#7201a8\"],[0.3333333333333333,\"#9c179e\"],[0.4444444444444444,\"#bd3786\"],[0.5555555555555556,\"#d8576b\"],[0.6666666666666666,\"#ed7953\"],[0.7777777777777778,\"#fb9f3a\"],[0.8888888888888888,\"#fdca26\"],[1.0,\"#f0f921\"]]}],\"heatmap\":[{\"type\":\"heatmap\",\"colorbar\":{\"outlinewidth\":0,\"ticks\":\"\"},\"colorscale\":[[0.0,\"#0d0887\"],[0.1111111111111111,\"#46039f\"],[0.2222222222222222,\"#7201a8\"],[0.3333333333333333,\"#9c179e\"],[0.4444444444444444,\"#bd3786\"],[0.5555555555555556,\"#d8576b\"],[0.6666666666666666,\"#ed7953\"],[0.7777777777777778,\"#fb9f3a\"],[0.8888888888888888,\"#fdca26\"],[1.0,\"#f0f921\"]]}],\"heatmapgl\":[{\"type\":\"heatmapgl\",\"colorbar\":{\"outlinewidth\":0,\"ticks\":\"\"},\"colorscale\":[[0.0,\"#0d0887\"],[0.1111111111111111,\"#46039f\"],[0.2222222222222222,\"#7201a8\"],[0.3333333333333333,\"#9c179e\"],[0.4444444444444444,\"#bd3786\"],[0.5555555555555556,\"#d8576b\"],[0.6666666666666666,\"#ed7953\"],[0.7777777777777778,\"#fb9f3a\"],[0.8888888888888888,\"#fdca26\"],[1.0,\"#f0f921\"]]}],\"contourcarpet\":[{\"type\":\"contourcarpet\",\"colorbar\":{\"outlinewidth\":0,\"ticks\":\"\"}}],\"contour\":[{\"type\":\"contour\",\"colorbar\":{\"outlinewidth\":0,\"ticks\":\"\"},\"colorscale\":[[0.0,\"#0d0887\"],[0.1111111111111111,\"#46039f\"],[0.2222222222222222,\"#7201a8\"],[0.3333333333333333,\"#9c179e\"],[0.4444444444444444,\"#bd3786\"],[0.5555555555555556,\"#d8576b\"],[0.6666666666666666,\"#ed7953\"],[0.7777777777777778,\"#fb9f3a\"],[0.8888888888888888,\"#fdca26\"],[1.0,\"#f0f921\"]]}],\"surface\":[{\"type\":\"surface\",\"colorbar\":{\"outlinewidth\":0,\"ticks\":\"\"},\"colorscale\":[[0.0,\"#0d0887\"],[0.1111111111111111,\"#46039f\"],[0.2222222222222222,\"#7201a8\"],[0.3333333333333333,\"#9c179e\"],[0.4444444444444444,\"#bd3786\"],[0.5555555555555556,\"#d8576b\"],[0.6666666666666666,\"#ed7953\"],[0.7777777777777778,\"#fb9f3a\"],[0.8888888888888888,\"#fdca26\"],[1.0,\"#f0f921\"]]}],\"mesh3d\":[{\"type\":\"mesh3d\",\"colorbar\":{\"outlinewidth\":0,\"ticks\":\"\"}}],\"scatter\":[{\"marker\":{\"line\":{\"color\":\"#283442\"}},\"type\":\"scatter\"}],\"parcoords\":[{\"type\":\"parcoords\",\"line\":{\"colorbar\":{\"outlinewidth\":0,\"ticks\":\"\"}}}],\"scatterpolargl\":[{\"type\":\"scatterpolargl\",\"marker\":{\"colorbar\":{\"outlinewidth\":0,\"ticks\":\"\"}}}],\"bar\":[{\"error_x\":{\"color\":\"#f2f5fa\"},\"error_y\":{\"color\":\"#f2f5fa\"},\"marker\":{\"line\":{\"color\":\"rgb(17,17,17)\",\"width\":0.5},\"pattern\":{\"fillmode\":\"overlay\",\"size\":10,\"solidity\":0.2}},\"type\":\"bar\"}],\"scattergeo\":[{\"type\":\"scattergeo\",\"marker\":{\"colorbar\":{\"outlinewidth\":0,\"ticks\":\"\"}}}],\"scatterpolar\":[{\"type\":\"scatterpolar\",\"marker\":{\"colorbar\":{\"outlinewidth\":0,\"ticks\":\"\"}}}],\"histogram\":[{\"marker\":{\"pattern\":{\"fillmode\":\"overlay\",\"size\":10,\"solidity\":0.2}},\"type\":\"histogram\"}],\"scattergl\":[{\"marker\":{\"line\":{\"color\":\"#283442\"}},\"type\":\"scattergl\"}],\"scatter3d\":[{\"type\":\"scatter3d\",\"line\":{\"colorbar\":{\"outlinewidth\":0,\"ticks\":\"\"}},\"marker\":{\"colorbar\":{\"outlinewidth\":0,\"ticks\":\"\"}}}],\"scattermapbox\":[{\"type\":\"scattermapbox\",\"marker\":{\"colorbar\":{\"outlinewidth\":0,\"ticks\":\"\"}}}],\"scatterternary\":[{\"type\":\"scatterternary\",\"marker\":{\"colorbar\":{\"outlinewidth\":0,\"ticks\":\"\"}}}],\"scattercarpet\":[{\"type\":\"scattercarpet\",\"marker\":{\"colorbar\":{\"outlinewidth\":0,\"ticks\":\"\"}}}],\"carpet\":[{\"aaxis\":{\"endlinecolor\":\"#A2B1C6\",\"gridcolor\":\"#506784\",\"linecolor\":\"#506784\",\"minorgridcolor\":\"#506784\",\"startlinecolor\":\"#A2B1C6\"},\"baxis\":{\"endlinecolor\":\"#A2B1C6\",\"gridcolor\":\"#506784\",\"linecolor\":\"#506784\",\"minorgridcolor\":\"#506784\",\"startlinecolor\":\"#A2B1C6\"},\"type\":\"carpet\"}],\"table\":[{\"cells\":{\"fill\":{\"color\":\"#506784\"},\"line\":{\"color\":\"rgb(17,17,17)\"}},\"header\":{\"fill\":{\"color\":\"#2a3f5f\"},\"line\":{\"color\":\"rgb(17,17,17)\"}},\"type\":\"table\"}],\"barpolar\":[{\"marker\":{\"line\":{\"color\":\"rgb(17,17,17)\",\"width\":0.5},\"pattern\":{\"fillmode\":\"overlay\",\"size\":10,\"solidity\":0.2}},\"type\":\"barpolar\"}],\"pie\":[{\"automargin\":true,\"type\":\"pie\"}]},\"layout\":{\"autotypenumbers\":\"strict\",\"colorway\":[\"#636efa\",\"#EF553B\",\"#00cc96\",\"#ab63fa\",\"#FFA15A\",\"#19d3f3\",\"#FF6692\",\"#B6E880\",\"#FF97FF\",\"#FECB52\"],\"font\":{\"color\":\"#f2f5fa\"},\"hovermode\":\"closest\",\"hoverlabel\":{\"align\":\"left\"},\"paper_bgcolor\":\"rgb(17,17,17)\",\"plot_bgcolor\":\"rgb(17,17,17)\",\"polar\":{\"bgcolor\":\"rgb(17,17,17)\",\"angularaxis\":{\"gridcolor\":\"#506784\",\"linecolor\":\"#506784\",\"ticks\":\"\"},\"radialaxis\":{\"gridcolor\":\"#506784\",\"linecolor\":\"#506784\",\"ticks\":\"\"}},\"ternary\":{\"bgcolor\":\"rgb(17,17,17)\",\"aaxis\":{\"gridcolor\":\"#506784\",\"linecolor\":\"#506784\",\"ticks\":\"\"},\"baxis\":{\"gridcolor\":\"#506784\",\"linecolor\":\"#506784\",\"ticks\":\"\"},\"caxis\":{\"gridcolor\":\"#506784\",\"linecolor\":\"#506784\",\"ticks\":\"\"}},\"coloraxis\":{\"colorbar\":{\"outlinewidth\":0,\"ticks\":\"\"}},\"colorscale\":{\"sequential\":[[0.0,\"#0d0887\"],[0.1111111111111111,\"#46039f\"],[0.2222222222222222,\"#7201a8\"],[0.3333333333333333,\"#9c179e\"],[0.4444444444444444,\"#bd3786\"],[0.5555555555555556,\"#d8576b\"],[0.6666666666666666,\"#ed7953\"],[0.7777777777777778,\"#fb9f3a\"],[0.8888888888888888,\"#fdca26\"],[1.0,\"#f0f921\"]],\"sequentialminus\":[[0.0,\"#0d0887\"],[0.1111111111111111,\"#46039f\"],[0.2222222222222222,\"#7201a8\"],[0.3333333333333333,\"#9c179e\"],[0.4444444444444444,\"#bd3786\"],[0.5555555555555556,\"#d8576b\"],[0.6666666666666666,\"#ed7953\"],[0.7777777777777778,\"#fb9f3a\"],[0.8888888888888888,\"#fdca26\"],[1.0,\"#f0f921\"]],\"diverging\":[[0,\"#8e0152\"],[0.1,\"#c51b7d\"],[0.2,\"#de77ae\"],[0.3,\"#f1b6da\"],[0.4,\"#fde0ef\"],[0.5,\"#f7f7f7\"],[0.6,\"#e6f5d0\"],[0.7,\"#b8e186\"],[0.8,\"#7fbc41\"],[0.9,\"#4d9221\"],[1,\"#276419\"]]},\"xaxis\":{\"gridcolor\":\"#283442\",\"linecolor\":\"#506784\",\"ticks\":\"\",\"title\":{\"standoff\":15},\"zerolinecolor\":\"#283442\",\"automargin\":true,\"zerolinewidth\":2},\"yaxis\":{\"gridcolor\":\"#283442\",\"linecolor\":\"#506784\",\"ticks\":\"\",\"title\":{\"standoff\":15},\"zerolinecolor\":\"#283442\",\"automargin\":true,\"zerolinewidth\":2},\"scene\":{\"xaxis\":{\"backgroundcolor\":\"rgb(17,17,17)\",\"gridcolor\":\"#506784\",\"linecolor\":\"#506784\",\"showbackground\":true,\"ticks\":\"\",\"zerolinecolor\":\"#C8D4E3\",\"gridwidth\":2},\"yaxis\":{\"backgroundcolor\":\"rgb(17,17,17)\",\"gridcolor\":\"#506784\",\"linecolor\":\"#506784\",\"showbackground\":true,\"ticks\":\"\",\"zerolinecolor\":\"#C8D4E3\",\"gridwidth\":2},\"zaxis\":{\"backgroundcolor\":\"rgb(17,17,17)\",\"gridcolor\":\"#506784\",\"linecolor\":\"#506784\",\"showbackground\":true,\"ticks\":\"\",\"zerolinecolor\":\"#C8D4E3\",\"gridwidth\":2}},\"shapedefaults\":{\"line\":{\"color\":\"#f2f5fa\"}},\"annotationdefaults\":{\"arrowcolor\":\"#f2f5fa\",\"arrowhead\":0,\"arrowwidth\":1},\"geo\":{\"bgcolor\":\"rgb(17,17,17)\",\"landcolor\":\"rgb(17,17,17)\",\"subunitcolor\":\"#506784\",\"showland\":true,\"showlakes\":true,\"lakecolor\":\"rgb(17,17,17)\"},\"title\":{\"x\":0.05},\"updatemenudefaults\":{\"bgcolor\":\"#506784\",\"borderwidth\":0},\"sliderdefaults\":{\"bgcolor\":\"#C8D4E3\",\"borderwidth\":1,\"bordercolor\":\"rgb(17,17,17)\",\"tickwidth\":0},\"mapbox\":{\"style\":\"dark\"}}},\"xaxis\":{\"anchor\":\"y\",\"domain\":[0.0,1.0],\"title\":{\"text\":\"target\"}},\"yaxis\":{\"anchor\":\"x\",\"domain\":[0.0,1.0],\"title\":{\"text\":\"count\"}},\"legend\":{\"tracegroupgap\":0},\"title\":{\"text\":\"Correlations with Target Variable\"},\"barmode\":\"relative\",\"bargap\":0.2},                        {\"responsive\": true}                    ).then(function(){\n",
              "                            \n",
              "var gd = document.getElementById('35d473d8-14f7-420d-ba4b-5eab3ac82840');\n",
              "var x = new MutationObserver(function (mutations, observer) {{\n",
              "        var display = window.getComputedStyle(gd).display;\n",
              "        if (!display || display === 'none') {{\n",
              "            console.log([gd, 'removed!']);\n",
              "            Plotly.purge(gd);\n",
              "            observer.disconnect();\n",
              "        }}\n",
              "}});\n",
              "\n",
              "// Listen for the removal of the full notebook cells\n",
              "var notebookContainer = gd.closest('#notebook-container');\n",
              "if (notebookContainer) {{\n",
              "    x.observe(notebookContainer, {childList: true});\n",
              "}}\n",
              "\n",
              "// Listen for the clearing of the current output cell\n",
              "var outputEl = gd.closest('.output');\n",
              "if (outputEl) {{\n",
              "    x.observe(outputEl, {childList: true});\n",
              "}}\n",
              "\n",
              "                        })                };                            </script>        </div>\n",
              "</body>\n",
              "</html>"
            ]
          },
          "metadata": {}
        }
      ],
      "source": [
        "corr: DataFrame = (\n",
        "    application_train.select(cs.by_dtype(pl.NUMERIC_DTYPES)).to_pandas().corr()\n",
        ")\n",
        "corr = pd.DataFrame(corr[\"target\"])\n",
        "\n",
        "px.histogram(\n",
        "    corr, \"target\", title=\"Correlations with Target Variable\"\n",
        ").update_layout(bargap=0.2)"
      ]
    },
    {
      "cell_type": "markdown",
      "metadata": {
        "id": "tdK73ZTnonK3"
      },
      "source": [
        "The graph above shows the distribution of correlations as a graphical distribution rather than in tabular form because we have so many variables that we're working with. None of our variables are correlated with target, save for target itself."
      ]
    },
    {
      "cell_type": "markdown",
      "metadata": {
        "id": "l3J1KBQqonK3"
      },
      "source": [
        "## Hypothesis testing"
      ]
    },
    {
      "cell_type": "markdown",
      "metadata": {
        "id": "TnH3XVwxonK3"
      },
      "source": [
        "### Is there difference in proportions of clients that default when broken down by their region of residence?\n",
        "$H_0$: $p_1$ = $p_2$ = $p_3$<br>\n",
        "$H_1$: $p_1$ $\\neq$ $p_2$ $\\neq$ $p_3$\n"
      ]
    },
    {
      "cell_type": "code",
      "execution_count": 10,
      "metadata": {
        "id": "qjBHYXHoonK3",
        "outputId": "0a2aefd4-6c57-4778-cdc9-359eec735a06",
        "colab": {
          "base_uri": "https://localhost:8080/"
        }
      },
      "outputs": [
        {
          "output_type": "stream",
          "name": "stdout",
          "text": [
            "z = -31.020. Reject null hypothesis. The proportion of credit defaults across values of region_rating_client is not equal.\n"
          ]
        }
      ],
      "source": [
        "region_default: DataFrame = pd.crosstab(\n",
        "    application_train[\"region_rating_client\"].to_pandas(),\n",
        "    application_train[\"target\"].to_pandas(),\n",
        "    rownames=[\"region_rating_client\"],\n",
        "    colnames=[\"target\"],\n",
        ")\n",
        "region_default[\"default_proportion\"] = region_default.iloc[:, 1] / region_default.sum(\n",
        "    axis=1\n",
        ")\n",
        "region_default[\"total\"] = region_default.iloc[:, :-1].sum(axis=1)\n",
        "\n",
        "# pooled sample proportion\n",
        "p1_default_prop:float = region_default.default_proportion.iloc[0]\n",
        "p2_default_prop:float = region_default.default_proportion.iloc[1]\n",
        "p3_default_prop:float = region_default.default_proportion.iloc[2]\n",
        "\n",
        "p1_population:float = region_default.total.iloc[0]\n",
        "p2_population:float = region_default.total.iloc[1]\n",
        "p3_population:float = region_default.total.iloc[2]\n",
        "\n",
        "p:float = (\n",
        "    p1_default_prop * p1_population\n",
        "    + p2_default_prop * p2_population\n",
        "    + p3_default_prop * p3_population\n",
        ") / (p1_population + p2_population + p3_population)\n",
        "\n",
        "# standard error\n",
        "se:float = np.sqrt(\n",
        "    (p * (1 - p)) * ((1 / p1_population) + (1 / p2_population) + (1 / p2_population))\n",
        ")\n",
        "\n",
        "# test statistic\n",
        "z:float = (p1_default_prop - p2_default_prop - p3_default_prop) / se\n",
        "\n",
        "if np.abs(z) < 1.64485:\n",
        "    print(\n",
        "        f\"Fail to reject the null hypothesis. We can assume the default percentage to be the same across {'region_rating_client'}.\"\n",
        "    )\n",
        "else:\n",
        "    print(\n",
        "        f\"z = {z:.3f}. Reject null hypothesis. The proportion of credit defaults across values of {'region_rating_client'} is not equal.\"\n",
        "    )"
      ]
    },
    {
      "cell_type": "markdown",
      "metadata": {
        "id": "QrhT_VBxonK3"
      },
      "source": [
        "Because both gender and region are not equal across their values when compared to our target variable, we they are more likely to have a significant relationship with default risk. We should include these variables in our predictor pool. This raises the question of what variables we should use to predict our models, given that we feasibly cannot include all of them. Let's move on to feature selection so we can restrict our feature set to one that is both significant and predictive of the target variable without being so onerous to run calculations on.\n"
      ]
    },
    {
      "cell_type": "markdown",
      "metadata": {
        "id": "o9Aqv9C6onK3"
      },
      "source": [
        "### Are younger homeowners are more likely to default on credit payments?"
      ]
    },
    {
      "cell_type": "markdown",
      "metadata": {
        "id": "-Bg1JjUuonK3"
      },
      "source": [
        "$H_0$: $\\mu_d$ =  $\\mu_n$<br>\n",
        "$H_1$:  $\\mu_d$ $\\neq$ $\\mu_n$\n",
        "\n",
        "s.t. <br>\n",
        "$\\mu_d$: the average age of clients who default<br>\n",
        "$\\mu_n$: the average age of clients who do not default"
      ]
    },
    {
      "cell_type": "code",
      "execution_count": 11,
      "metadata": {
        "id": "gMzJvZN7onK3",
        "outputId": "ab78906d-1290-40e2-833f-59cc2a54e525",
        "colab": {
          "base_uri": "https://localhost:8080/"
        }
      },
      "outputs": [
        {
          "output_type": "stream",
          "name": "stdout",
          "text": [
            "Two-sample t-test results:\n",
            "\n",
            "t-statistic: 14.964\n",
            "p-value: 0.000\n",
            "\n",
            "Reject the null hypothesis: There is a significant difference in the average ages \n",
            "of clients who default vs. those who don't.\n",
            "\n"
          ]
        }
      ],
      "source": [
        "age_df: DataFrame = application_train[[\"target\", \"days_birth\"]]\n",
        "age_df = age_df.with_columns((pl.col(\"days_birth\") // -365)).rename(\n",
        "    {\"days_birth\": \"age\"}\n",
        ")\n",
        "\n",
        "age_default: Series = age_df.filter(pl.col(\"target\") == 1)[\"age\"]\n",
        "age_no_default: Series = age_df.filter(pl.col(\"target\") == 0)[\"age\"]\n",
        "\n",
        "t_stat, p_value = stats.ttest_ind(age_no_default, age_default)\n",
        "\n",
        "print(\"Two-sample t-test results:\\n\")\n",
        "print(f\"t-statistic: {t_stat:.3f}\")\n",
        "print(f\"p-value: {p_value:.3f}\\n\")\n",
        "\n",
        "if p_value < 0.05:\n",
        "    print(\n",
        "        \"Reject the null hypothesis: There is a significant difference in the average ages \\nof clients who default vs. those who don't.\\n\"\n",
        "    )\n",
        "else:\n",
        "    print(\n",
        "        \"Fail to reject the null hypothesis: There is no significant difference in the average ages of clients who \\ndefault vs. those who don't.\\n\"\n",
        "    )"
      ]
    },
    {
      "cell_type": "markdown",
      "metadata": {
        "id": "VnQ64YS7onK4"
      },
      "source": [
        "## Preparing data for modeling\n"
      ]
    },
    {
      "cell_type": "markdown",
      "metadata": {
        "id": "3Tm6fLzQonK4"
      },
      "source": [
        "Before we start creating models, it's important to lay out what our north star assessment criteria are for model assessment, and secondarily how we will choose what a high-performing model is.\n",
        "\n",
        "Given that our business problem is designing predictive classifiers of credit clients that are likely to default on payments, and that our training data is highly imbalanced such that our positive class is the minority class at a ratio of 10:1, we will need to be very precise in our metric selection.\n",
        "\n",
        "Therefore each model that we create will be judged on its ROC-AUC score, F1 score, Matthews Correlation Coefficient, Balanced Accuracy, Precision, and Recall. This sounds like a long list of metrics, so our primary determinants will be the ROC-AUC and MCC since ROC-AUC can be less powerful for highly imbalanced datasets, and MCC gives a pretty comprehensive view of a model's performance across all 4 quadrants of the confusion matrix."
      ]
    },
    {
      "cell_type": "markdown",
      "metadata": {
        "id": "Svdmqv55uwMC"
      },
      "source": [
        "## Modeling"
      ]
    },
    {
      "cell_type": "markdown",
      "metadata": {
        "id": "v-gaBAgoonK4"
      },
      "source": [
        "Now that we've defined our metrics set and evaluation method, our workflow for the next section is as follows:\n",
        "1. Create pipelines to impute missing values, scale data, and fit to our classifier of choice\n",
        "2. Calculate model statistics for each classifier\n",
        "\n"
      ]
    },
    {
      "cell_type": "code",
      "execution_count": 12,
      "metadata": {
        "id": "JVmkKlDzonK4"
      },
      "outputs": [],
      "source": [
        "application_train: DataFrame = create_formatted_df(\"application_train.csv\")\n",
        "\n",
        "x: DataFrame = application_train.drop([\"sk_id_curr\", \"target\"]).to_pandas()\n",
        "y: DataFrame = pl.DataFrame(application_train[\"target\"]).to_pandas()\n",
        "\n",
        "\n",
        "x_train, x_test, y_train, y_test = train_test_split(\n",
        "    x, y, test_size=0.3, random_state=0, stratify=y\n",
        ")\n",
        "y_train: NDArray = np.array(y_train).ravel()\n",
        "\n",
        "numerical_columns: list[str] = [*x.select_dtypes(exclude=[\"object\", \"category\"]).columns]\n",
        "\n",
        "categorical_columns: list[str] = [*x.select_dtypes(include=[\"object\", \"category\"]).columns]"
      ]
    },
    {
      "cell_type": "code",
      "execution_count": 13,
      "metadata": {
        "id": "ojKtSwOuuwMF",
        "outputId": "632cb8aa-555c-47a3-8f34-3735f04d8a4a",
        "colab": {
          "base_uri": "https://localhost:8080/"
        }
      },
      "outputs": [
        {
          "output_type": "stream",
          "name": "stderr",
          "text": [
            "[I 2024-12-25 16:39:29,521] A new study created in memory with name: no-name-4c78548e-00f0-4e37-ae94-bc51ed63af37\n",
            "[I 2024-12-25 16:39:40,020] Trial 0 finished with value: 0.544495800377309 and parameters: {'numerical_strategy': 'median', 'with_centering': True, 'with_scaling': False, 'categorical_strategy': 'constant', 'sigma': 0.10390188698471643, 'regularization': 4.8495492608099715, 'randomized': True, 'solver': 'sag', 'penalty': None, 'C': 1.3949386065204183}. Best is trial 0 with value: 0.544495800377309.\n",
            "[I 2024-12-25 16:39:45,308] A new study created in memory with name: no-name-825bb9a8-1ed0-446e-88e9-b71cc7defc36\n",
            "[I 2024-12-25 16:39:49,401] Trial 0 finished with value: 0.5 and parameters: {'numerical_strategy': 'median', 'with_centering': True, 'with_scaling': False, 'categorical_strategy': 'constant', 'sigma': 0.10390188698471643, 'regularization': 4.8495492608099715, 'randomized': True, 'n_estimators': 222, 'max_depth': 4, 'max_features': 0.3042422429595377, 'bootstrap': True}. Best is trial 0 with value: 0.5.\n",
            "[I 2024-12-25 16:39:51,140] A new study created in memory with name: no-name-e9f07afc-46bd-4258-88e3-20bfd1fe8a3e\n",
            "[I 2024-12-25 16:42:38,452] Trial 0 finished with value: 0.5929202979556714 and parameters: {'numerical_strategy': 'median', 'with_centering': True, 'with_scaling': False, 'categorical_strategy': 'constant', 'sigma': 0.10390188698471643, 'regularization': 4.8495492608099715, 'randomized': True, 'criterion': 'log_loss', 'min_samples_split': 35, 'max_depth': 29, 'n_estimators': 68, 'min_samples_leaf': 13, 'class_weight': 'balanced_subsample', 'max_features': None}. Best is trial 0 with value: 0.5929202979556714.\n"
          ]
        }
      ],
      "source": [
        "classifiers: list[str] = [\"logistic_regression\", \"extra_trees\", \"random_forest\"]\n",
        "\n",
        "model_performance = pd.DataFrame()\n",
        "model_specifications = dict()\n",
        "\n",
        "for classifier in classifiers:\n",
        "    study = create_study(\n",
        "        direction=\"maximize\",\n",
        "        pruner=SuccessiveHalvingPruner(reduction_factor=2),\n",
        "        sampler=RandomSampler(seed=42),\n",
        "    )\n",
        "    study.optimize(\n",
        "        lambda trial: objective_1(\n",
        "            classifier, trial, x_train, np.array(y_train).ravel()\n",
        "        ),\n",
        "        n_trials=num_trials,\n",
        "    )\n",
        "\n",
        "    model_specifications[classifier] = study.best_params\n",
        "\n",
        "    best_trial: FrozenTrial = study.best_trial\n",
        "    model: Pipeline = instantiate_model(\n",
        "        classifier,\n",
        "        trial=best_trial,\n",
        "        numerical_columns=numerical_columns,\n",
        "        categorical_columns=categorical_columns,\n",
        "    )\n",
        "    model.fit(x_train, y_train)\n",
        "    predictions: NDArray = model.predict(x_test)\n",
        "    model_performance[classifier] = calculate_model_statistics(y_test, predictions)\n",
        "    model_performance"
      ]
    },
    {
      "cell_type": "markdown",
      "metadata": {
        "id": "b9Ki-PXUG6yL"
      },
      "source": [
        "These models are performing really poorly so far, with both the Matthews Correlation Coefficient and ROC-AUC pointing to the modeling being no better than random guessing then it comes to predicting on defaults. Let's see how well the lightgbm and xgboost classifiers perform."
      ]
    },
    {
      "cell_type": "code",
      "execution_count": null,
      "metadata": {
        "id": "c2OwUuZ1onK4",
        "outputId": "dd7ff922-50ac-4d1b-cf8d-8158be7cc3f4",
        "colab": {
          "base_uri": "https://localhost:8080/"
        }
      },
      "outputs": [
        {
          "output_type": "stream",
          "name": "stderr",
          "text": [
            "[I 2024-12-25 16:44:07,909] A new study created in memory with name: no-name-d8eaf3b2-2190-4d0b-9e31-d11a67f7ab8f\n",
            "[I 2024-12-25 16:44:11,141] Trial 0 finished with value: 0.6715558587612668 and parameters: {'numerical_strategy': 'median', 'with_centering': True, 'with_scaling': False, 'categorical_strategy': 'constant', 'sigma': 0.10390188698471643, 'regularization': 4.8495492608099715, 'randomized': True, 'boosting_type': 'dart', 'num_leaves': 21, 'max_depth': 10, 'n_estimators': 85}. Best is trial 0 with value: 0.6715558587612668.\n",
            "[I 2024-12-25 16:44:12,591] A new study created in memory with name: no-name-c2c15744-307b-4f06-aa2b-ab3b159ad489\n",
            "[I 2024-12-25 16:45:08,916] Trial 0 finished with value: 0.5 and parameters: {'numerical_strategy': 'median', 'with_centering': True, 'with_scaling': False, 'categorical_strategy': 'constant', 'sigma': 0.10390188698471643, 'regularization': 4.8495492608099715, 'randomized': True, 'objective': 'binary:logistic', 'booster': 'dart', 'max_leaves': 1, 'max_depth': 7, 'grow_policy': 'depthwise', 'n_estimators': 81, 'learning_rate': 0.14809892204552141}. Best is trial 0 with value: 0.5.\n"
          ]
        }
      ],
      "source": [
        "classifiers: list[str] = [\"lightgbm\",\n",
        "                          \"xgboost\"]\n",
        "\n",
        "for classifier in classifiers:\n",
        "    #study = create_study(study_name=\"optimization\", direction=\"maximize\")\n",
        "\n",
        "    study = create_study(\n",
        "        direction=\"maximize\",\n",
        "        pruner=SuccessiveHalvingPruner(reduction_factor=2),\n",
        "        sampler=RandomSampler(seed=42),\n",
        ")\n",
        "\n",
        "\n",
        "\n",
        "    study.optimize(\n",
        "        lambda trial: objective_1(classifier, trial, x_train, np.array(y_train).ravel()),\n",
        "        n_trials=num_trials#4,\n",
        "    )  # n_trials=100 is the original value\n",
        "\n",
        "    model_specifications[classifier]= study.best_params\n",
        "\n",
        "\n",
        "    best_trial: FrozenTrial = study.best_trial\n",
        "    model: Pipeline = instantiate_model(\n",
        "        classifier,\n",
        "        trial=best_trial,\n",
        "        numerical_columns=numerical_columns,\n",
        "        categorical_columns=categorical_columns,\n",
        "    )\n",
        "    model.fit(x_train, y_train)\n",
        "    predictions: NDArray = model.predict(x_test)\n",
        "    model_performance[classifier] = calculate_model_statistics(y_test, predictions)\n",
        "  model_performance"
      ]
    },
    {
      "cell_type": "code",
      "execution_count": null,
      "metadata": {
        "id": "J9M4m70sonK4"
      },
      "outputs": [],
      "source": [
        "model_performance"
      ]
    },
    {
      "cell_type": "markdown",
      "metadata": {
        "id": "gT5I1qFmonK5"
      },
      "source": [
        "## SMOTE Oversampling\n",
        "One way to strengthen our model performance could be to oversample/undersample on our dataset to rebalance the proportion of positive and negative target classes, and then train our classifier on that. We'll use the method put forth in the original SMOTE paper and then retrain on the models shown above."
      ]
    },
    {
      "cell_type": "code",
      "execution_count": null,
      "metadata": {
        "id": "xRPLnX-donK5"
      },
      "outputs": [],
      "source": [
        "# encode the features to start\n",
        "numerical_train = application_train.clone()\n",
        "\n",
        "\n",
        "encoder_mapping_key = dict()\n",
        "for col in numerical_train.columns:\n",
        "    try:\n",
        "        key: dict[str, int] = create_encoder_mapping(numerical_train, col)\n",
        "        numerical_train = encode_feature(numerical_train, col, key)\n",
        "        encoder_mapping_key[col] = key\n",
        "    except:\n",
        "        pass\n",
        "\n",
        "x = numerical_train.drop(\"target\").to_pandas()\n",
        "y = numerical_train[\"target\"].to_pandas()"
      ]
    },
    {
      "cell_type": "code",
      "execution_count": null,
      "metadata": {
        "id": "ZT1tO70donK5"
      },
      "outputs": [],
      "source": [
        "oversampling = SMOTE(sampling_strategy=0.1)\n",
        "undersampling = RandomUnderSampler(sampling_strategy=0.5)\n",
        "\n",
        "steps = [(\"oversample\", oversampling), (\"undersample\", undersampling)]\n",
        "pipeline = ImbPipeline(steps=steps)\n",
        "smote_x, smote_y = pipeline.fit_resample(x, y)\n",
        "\n",
        "pca = PCA(n_components=smote_x.shape[1])\n",
        "smote_x = pca.fit_transform(smote_x)\n",
        "\n",
        "x_train, x_test, y_train, y_test = train_test_split(\n",
        "    smote_x, smote_y, stratify=smote_y, random_state=15\n",
        ")"
      ]
    },
    {
      "cell_type": "markdown",
      "metadata": {
        "id": "xgAmS8J-onK5"
      },
      "source": [
        "Now that we've created our smote dataset, we can fit the models. However our previous model specifications aren't as helpful since the dataset is new, and models may perform better on different hyperparameters. Let's create another study and run it again!"
      ]
    },
    {
      "cell_type": "code",
      "execution_count": null,
      "metadata": {
        "id": "NrDvLxz7onK5"
      },
      "outputs": [],
      "source": [
        "study = create_study(\n",
        "    direction=\"maximize\",\n",
        "    pruner=SuccessiveHalvingPruner(reduction_factor=2),\n",
        "    sampler=RandomSampler(seed=42),\n",
        ")\n",
        "study.optimize(lambda trial: objective_1(\"lightgbm\", trial, x, y), n_trials=num_trials)\n",
        "\n",
        "\n",
        "model_specifications[\"SMOTE_lgbm\"] = study.best_params\n",
        "\n",
        "smote_lgbm = LGBMClassifier(**study.best_params)\n",
        "smote_lgbm.fit(x_train, y_train)\n",
        "predictions: NDArray = smote_lgbm.predict(x_test)\n",
        "model_performance[\"SMOTE_lgbm\"] = calculate_model_statistics(y_test, predictions)\n",
        "model_performance"
      ]
    },
    {
      "cell_type": "code",
      "execution_count": null,
      "metadata": {
        "id": "Fe6P6kRBonK5"
      },
      "outputs": [],
      "source": [
        "study = create_study(\n",
        "    direction=\"maximize\",\n",
        "    pruner=SuccessiveHalvingPruner(reduction_factor=2),\n",
        "    sampler=RandomSampler(seed=42),\n",
        ")\n",
        "study.optimize(lambda trial: objective_1(\"xgboost\", trial, x, y), n_trials=num_trials)\n",
        "\n",
        "smote_xgb: XGBClassifier = XGBClassifier(**study.best_params)\n",
        "smote_xgb.fit(x_train, y_train)\n",
        "predictions = smote_xgb.predict(x_test)\n",
        "model_performance[\"SMOTE_xgb\"] = calculate_model_statistics(y_test, predictions)\n",
        "model_performance"
      ]
    }
  ],
  "metadata": {
    "accelerator": "GPU",
    "colab": {
      "gpuType": "A100",
      "provenance": []
    },
    "kernelspec": {
      "display_name": "Python 3",
      "name": "python3"
    },
    "language_info": {
      "codemirror_mode": {
        "name": "ipython",
        "version": 3
      },
      "file_extension": ".py",
      "mimetype": "text/x-python",
      "name": "python",
      "nbconvert_exporter": "python",
      "pygments_lexer": "ipython3",
      "version": "3.11.0rc1"
    }
  },
  "nbformat": 4,
  "nbformat_minor": 0
}