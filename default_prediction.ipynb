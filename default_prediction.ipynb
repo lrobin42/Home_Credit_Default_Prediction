{
 "cells": [
  {
   "cell_type": "markdown",
   "metadata": {
    "id": "4dN6adyMwl2S"
   },
   "source": [
    "## Imports\n"
   ]
  },
  {
   "cell_type": "code",
   "execution_count": 1,
   "metadata": {
    "colab": {
     "base_uri": "https://localhost:8080/"
    },
    "id": "EtyTRglturFs",
    "outputId": "9157fd9e-e2e2-4da2-c402-15e8b11de480"
   },
   "outputs": [],
   "source": [
    "import warnings\n",
    "from typing import Optional\n",
    "\n",
    "import numpy as np\n",
    "import pandas as pd\n",
    "import pingouin as pg\n",
    "import plotly.express as px\n",
    "import plotly.graph_objects as go\n",
    "import plotly.io as pio\n",
    "import polars as pl\n",
    "import polars.selectors as cs\n",
    "from category_encoders import WOEEncoder\n",
    "from imblearn.over_sampling import SMOTE\n",
    "from imblearn.pipeline import Pipeline as ImbPipeline\n",
    "from imblearn.under_sampling import RandomUnderSampler\n",
    "from lightgbm import LGBMClassifier\n",
    "from optuna import Study, Trial, create_study\n",
    "from optuna.pruners import SuccessiveHalvingPruner\n",
    "from optuna.samplers import RandomSampler\n",
    "from optuna.trial._frozen import FrozenTrial\n",
    "from pandas import DataFrame, Series\n",
    "from plotly.subplots import make_subplots\n",
    "from polars import DataFrame\n",
    "from skimpy import skim\n",
    "from sklearn.compose import ColumnTransformer\n",
    "from sklearn.decomposition import PCA\n",
    "#from sklearn.ensemble import ExtraTreesClassifier, RandomForestClassifier\n",
    "#from cuml import RandomForestClassifier\n",
    "from sklearn.impute import SimpleImputer\n",
    "\n",
    "#from cuml.linear_model.logistic_regression import LogisticRegression\n",
    "#from sklearn.linear_model import LogisticRegression\n",
    "#from sklearn.linear_model._logistic import LogisticRegression\n",
    "from sklearn.metrics import (\n",
    "    balanced_accuracy_score,\n",
    "    confusion_matrix,\n",
    "    fbeta_score,\n",
    "    make_scorer,\n",
    "    matthews_corrcoef,\n",
    "    precision_score,\n",
    "    recall_score,\n",
    "    roc_auc_score,\n",
    ")\n",
    "from sklearn.model_selection import (\n",
    "    GridSearchCV,\n",
    "    KFold,\n",
    "    RepeatedStratifiedKFold,\n",
    "    cross_val_score,\n",
    "    train_test_split,\n",
    ")\n",
    "from polars.dataframe.frame import DataFrame\n",
    "from sklearn.pipeline import Pipeline\n",
    "from sklearn.preprocessing import RobustScaler, StandardScaler\n",
    "from skopt import BayesSearchCV\n",
    "from xgboost import XGBClassifier\n",
    "from polars.series.series import Series\n",
    "import scipy.stats as stats\n",
    "from numpy.typing import NDArray\n",
    "from optuna.study.study import Study\n",
    "\n",
    "\n",
    "warnings.filterwarnings(\"ignore\")\n",
    "pio.templates.default = \"plotly_dark\"\n",
    "\n",
    "#set trials globally to optimize run time\n",
    "num_trials = 30"
   ]
  },
  {
   "cell_type": "markdown",
   "metadata": {},
   "source": [
    "### Loan_functions.py"
   ]
  },
  {
   "cell_type": "code",
   "execution_count": 2,
   "metadata": {
    "id": "HDD8WUY6urFs"
   },
   "outputs": [],
   "source": [
    "from loan_functions import (\n",
    "    calculate_value_counts,\n",
    "    clear,\n",
    "    column_comparison,\n",
    "    column_description,\n",
    "    create_formatted_df,\n",
    "    int_range,\n",
    "    lower_column_names,\n",
    "    lower_column_values,\n",
    "    make_subplot,\n",
    "    plot_histogram,\n",
    "    null_count_comparison,\n",
    "    objective,calculate_model_statistics, instantiate_model, \n",
    "    create_encoder_mapping, \n",
    "    encode_feature,\n",
    ")"
   ]
  },
  {
   "cell_type": "markdown",
   "metadata": {
    "id": "MCapjrYUurFs"
   },
   "source": [
    "Let's begin by exploring the the training set. "
   ]
  },
  {
   "cell_type": "markdown",
   "metadata": {},
   "source": [
    "### Data Exploration\n"
   ]
  },
  {
   "cell_type": "markdown",
   "metadata": {},
   "source": [
    "Let's start by reading in the training set and looking at balance. I'll keep the EDA of this notebook focused on the training set to have a more focused analysis and discussion of modeling and model performance, but a more detailed exploration of the supporting datasets can be found in the [notebook] found in this repository."
   ]
  },
  {
   "cell_type": "code",
   "execution_count": 3,
   "metadata": {},
   "outputs": [
    {
     "name": "stdout",
     "output_type": "stream",
     "text": [
      "Training set has 307511 rows and 122 columns.\n"
     ]
    },
    {
     "data": {
      "text/html": [
       "<div><style>\n",
       ".dataframe > thead > tr,\n",
       ".dataframe > tbody > tr {\n",
       "  text-align: right;\n",
       "  white-space: pre-wrap;\n",
       "}\n",
       "</style>\n",
       "<small>shape: (5, 122)</small><table border=\"1\" class=\"dataframe\"><thead><tr><th>sk_id_curr</th><th>target</th><th>name_contract_type</th><th>code_gender</th><th>flag_own_car</th><th>flag_own_realty</th><th>cnt_children</th><th>amt_income_total</th><th>amt_credit</th><th>amt_annuity</th><th>amt_goods_price</th><th>name_type_suite</th><th>name_income_type</th><th>name_education_type</th><th>name_family_status</th><th>name_housing_type</th><th>region_population_relative</th><th>days_birth</th><th>days_employed</th><th>days_registration</th><th>days_id_publish</th><th>own_car_age</th><th>flag_mobil</th><th>flag_emp_phone</th><th>flag_work_phone</th><th>flag_cont_mobile</th><th>flag_phone</th><th>flag_email</th><th>occupation_type</th><th>cnt_fam_members</th><th>region_rating_client</th><th>region_rating_client_w_city</th><th>weekday_appr_process_start</th><th>hour_appr_process_start</th><th>reg_region_not_live_region</th><th>reg_region_not_work_region</th><th>live_region_not_work_region</th><th>&hellip;</th><th>nonlivingarea_medi</th><th>fondkapremont_mode</th><th>housetype_mode</th><th>totalarea_mode</th><th>wallsmaterial_mode</th><th>emergencystate_mode</th><th>obs_30_cnt_social_circle</th><th>def_30_cnt_social_circle</th><th>obs_60_cnt_social_circle</th><th>def_60_cnt_social_circle</th><th>days_last_phone_change</th><th>flag_document_2</th><th>flag_document_3</th><th>flag_document_4</th><th>flag_document_5</th><th>flag_document_6</th><th>flag_document_7</th><th>flag_document_8</th><th>flag_document_9</th><th>flag_document_10</th><th>flag_document_11</th><th>flag_document_12</th><th>flag_document_13</th><th>flag_document_14</th><th>flag_document_15</th><th>flag_document_16</th><th>flag_document_17</th><th>flag_document_18</th><th>flag_document_19</th><th>flag_document_20</th><th>flag_document_21</th><th>amt_req_credit_bureau_hour</th><th>amt_req_credit_bureau_day</th><th>amt_req_credit_bureau_week</th><th>amt_req_credit_bureau_mon</th><th>amt_req_credit_bureau_qrt</th><th>amt_req_credit_bureau_year</th></tr><tr><td>i64</td><td>i64</td><td>str</td><td>str</td><td>str</td><td>str</td><td>i64</td><td>f64</td><td>f64</td><td>f64</td><td>f64</td><td>str</td><td>str</td><td>str</td><td>str</td><td>str</td><td>f64</td><td>i64</td><td>i64</td><td>f64</td><td>i64</td><td>f64</td><td>i64</td><td>i64</td><td>i64</td><td>i64</td><td>i64</td><td>i64</td><td>str</td><td>f64</td><td>i64</td><td>i64</td><td>str</td><td>i64</td><td>i64</td><td>i64</td><td>i64</td><td>&hellip;</td><td>f64</td><td>str</td><td>str</td><td>f64</td><td>str</td><td>str</td><td>f64</td><td>f64</td><td>f64</td><td>f64</td><td>f64</td><td>i64</td><td>i64</td><td>i64</td><td>i64</td><td>i64</td><td>i64</td><td>i64</td><td>i64</td><td>i64</td><td>i64</td><td>i64</td><td>i64</td><td>i64</td><td>i64</td><td>i64</td><td>i64</td><td>i64</td><td>i64</td><td>i64</td><td>i64</td><td>f64</td><td>f64</td><td>f64</td><td>f64</td><td>f64</td><td>f64</td></tr></thead><tbody><tr><td>436881</td><td>0</td><td>&quot;cash&nbsp;loans&quot;</td><td>&quot;m&quot;</td><td>&quot;y&quot;</td><td>&quot;y&quot;</td><td>2</td><td>121500.0</td><td>180000.0</td><td>19516.5</td><td>180000.0</td><td>&quot;unaccompanied&quot;</td><td>&quot;working&quot;</td><td>&quot;secondary&nbsp;/&nbsp;secondary&nbsp;special&quot;</td><td>&quot;married&quot;</td><td>&quot;house&nbsp;/&nbsp;apartment&quot;</td><td>0.028663</td><td>-10607</td><td>-2787</td><td>-1912.0</td><td>-3290</td><td>21.0</td><td>1</td><td>1</td><td>0</td><td>1</td><td>0</td><td>0</td><td>null</td><td>4.0</td><td>2</td><td>2</td><td>&quot;wednesday&quot;</td><td>13</td><td>0</td><td>0</td><td>0</td><td>&hellip;</td><td>null</td><td>null</td><td>null</td><td>null</td><td>null</td><td>null</td><td>2.0</td><td>1.0</td><td>2.0</td><td>1.0</td><td>0.0</td><td>0</td><td>1</td><td>0</td><td>0</td><td>0</td><td>0</td><td>0</td><td>0</td><td>0</td><td>0</td><td>0</td><td>0</td><td>0</td><td>0</td><td>0</td><td>0</td><td>0</td><td>0</td><td>0</td><td>0</td><td>null</td><td>null</td><td>null</td><td>null</td><td>null</td><td>null</td></tr><tr><td>333510</td><td>0</td><td>&quot;cash&nbsp;loans&quot;</td><td>&quot;f&quot;</td><td>&quot;y&quot;</td><td>&quot;y&quot;</td><td>1</td><td>202500.0</td><td>454500.0</td><td>14661.0</td><td>454500.0</td><td>&quot;unaccompanied&quot;</td><td>&quot;working&quot;</td><td>&quot;higher&nbsp;education&quot;</td><td>&quot;separated&quot;</td><td>&quot;house&nbsp;/&nbsp;apartment&quot;</td><td>0.035792</td><td>-16749</td><td>-5303</td><td>-6173.0</td><td>-308</td><td>7.0</td><td>1</td><td>1</td><td>0</td><td>1</td><td>0</td><td>0</td><td>null</td><td>2.0</td><td>2</td><td>2</td><td>&quot;monday&quot;</td><td>16</td><td>0</td><td>0</td><td>0</td><td>&hellip;</td><td>null</td><td>null</td><td>null</td><td>null</td><td>null</td><td>null</td><td>0.0</td><td>0.0</td><td>0.0</td><td>0.0</td><td>-1805.0</td><td>0</td><td>1</td><td>0</td><td>0</td><td>0</td><td>0</td><td>0</td><td>0</td><td>0</td><td>0</td><td>0</td><td>0</td><td>0</td><td>0</td><td>0</td><td>0</td><td>0</td><td>0</td><td>0</td><td>0</td><td>0.0</td><td>0.0</td><td>0.0</td><td>0.0</td><td>0.0</td><td>2.0</td></tr><tr><td>122944</td><td>0</td><td>&quot;cash&nbsp;loans&quot;</td><td>&quot;f&quot;</td><td>&quot;n&quot;</td><td>&quot;y&quot;</td><td>0</td><td>157500.0</td><td>755190.0</td><td>36459.0</td><td>675000.0</td><td>&quot;unaccompanied&quot;</td><td>&quot;commercial&nbsp;associate&quot;</td><td>&quot;secondary&nbsp;/&nbsp;secondary&nbsp;special&quot;</td><td>&quot;civil&nbsp;marriage&quot;</td><td>&quot;house&nbsp;/&nbsp;apartment&quot;</td><td>0.019689</td><td>-18783</td><td>-3336</td><td>-6915.0</td><td>-2303</td><td>null</td><td>1</td><td>1</td><td>0</td><td>1</td><td>0</td><td>0</td><td>&quot;laborers&quot;</td><td>2.0</td><td>2</td><td>2</td><td>&quot;monday&quot;</td><td>14</td><td>0</td><td>0</td><td>0</td><td>&hellip;</td><td>null</td><td>null</td><td>null</td><td>null</td><td>null</td><td>null</td><td>0.0</td><td>0.0</td><td>0.0</td><td>0.0</td><td>0.0</td><td>0</td><td>1</td><td>0</td><td>0</td><td>0</td><td>0</td><td>0</td><td>0</td><td>0</td><td>0</td><td>0</td><td>0</td><td>0</td><td>0</td><td>0</td><td>0</td><td>0</td><td>0</td><td>0</td><td>0</td><td>0.0</td><td>0.0</td><td>0.0</td><td>0.0</td><td>0.0</td><td>0.0</td></tr><tr><td>419870</td><td>0</td><td>&quot;cash&nbsp;loans&quot;</td><td>&quot;f&quot;</td><td>&quot;n&quot;</td><td>&quot;n&quot;</td><td>1</td><td>135000.0</td><td>1.0782e6</td><td>31522.5</td><td>900000.0</td><td>&quot;unaccompanied&quot;</td><td>&quot;working&quot;</td><td>&quot;higher&nbsp;education&quot;</td><td>&quot;married&quot;</td><td>&quot;house&nbsp;/&nbsp;apartment&quot;</td><td>0.022625</td><td>-16240</td><td>-3033</td><td>-2168.0</td><td>-4723</td><td>null</td><td>1</td><td>1</td><td>1</td><td>1</td><td>1</td><td>0</td><td>&quot;high&nbsp;skill&nbsp;tech&nbsp;staff&quot;</td><td>3.0</td><td>2</td><td>2</td><td>&quot;wednesday&quot;</td><td>10</td><td>0</td><td>0</td><td>0</td><td>&hellip;</td><td>0.0</td><td>&quot;reg&nbsp;oper&nbsp;account&quot;</td><td>&quot;block&nbsp;of&nbsp;flats&quot;</td><td>0.079</td><td>&quot;stone,&nbsp;brick&quot;</td><td>&quot;no&quot;</td><td>0.0</td><td>0.0</td><td>0.0</td><td>0.0</td><td>-638.0</td><td>0</td><td>1</td><td>0</td><td>0</td><td>0</td><td>0</td><td>0</td><td>0</td><td>0</td><td>0</td><td>0</td><td>0</td><td>0</td><td>0</td><td>0</td><td>0</td><td>0</td><td>0</td><td>0</td><td>0</td><td>0.0</td><td>0.0</td><td>0.0</td><td>0.0</td><td>0.0</td><td>0.0</td></tr><tr><td>392146</td><td>0</td><td>&quot;cash&nbsp;loans&quot;</td><td>&quot;f&quot;</td><td>&quot;n&quot;</td><td>&quot;n&quot;</td><td>0</td><td>202500.0</td><td>656725.5</td><td>36801.0</td><td>594000.0</td><td>&quot;unaccompanied&quot;</td><td>&quot;working&quot;</td><td>&quot;secondary&nbsp;/&nbsp;secondary&nbsp;special&quot;</td><td>&quot;married&quot;</td><td>&quot;house&nbsp;/&nbsp;apartment&quot;</td><td>0.008474</td><td>-19119</td><td>-7657</td><td>-11083.0</td><td>-2453</td><td>null</td><td>1</td><td>1</td><td>0</td><td>1</td><td>0</td><td>0</td><td>&quot;high&nbsp;skill&nbsp;tech&nbsp;staff&quot;</td><td>2.0</td><td>2</td><td>2</td><td>&quot;thursday&quot;</td><td>16</td><td>0</td><td>0</td><td>0</td><td>&hellip;</td><td>null</td><td>null</td><td>null</td><td>null</td><td>null</td><td>null</td><td>0.0</td><td>0.0</td><td>0.0</td><td>0.0</td><td>-2323.0</td><td>0</td><td>1</td><td>0</td><td>0</td><td>0</td><td>0</td><td>0</td><td>0</td><td>0</td><td>0</td><td>0</td><td>0</td><td>0</td><td>0</td><td>0</td><td>0</td><td>0</td><td>0</td><td>0</td><td>0</td><td>0.0</td><td>0.0</td><td>1.0</td><td>1.0</td><td>0.0</td><td>2.0</td></tr></tbody></table></div>"
      ],
      "text/plain": [
       "shape: (5, 122)\n",
       "┌────────────┬────────┬────────────┬───────────┬───┬───────────┬───────────┬───────────┬───────────┐\n",
       "│ sk_id_curr ┆ target ┆ name_contr ┆ code_gend ┆ … ┆ amt_req_c ┆ amt_req_c ┆ amt_req_c ┆ amt_req_c │\n",
       "│ ---        ┆ ---    ┆ act_type   ┆ er        ┆   ┆ redit_bur ┆ redit_bur ┆ redit_bur ┆ redit_bur │\n",
       "│ i64        ┆ i64    ┆ ---        ┆ ---       ┆   ┆ eau_week  ┆ eau_mon   ┆ eau_qrt   ┆ eau_year  │\n",
       "│            ┆        ┆ str        ┆ str       ┆   ┆ ---       ┆ ---       ┆ ---       ┆ ---       │\n",
       "│            ┆        ┆            ┆           ┆   ┆ f64       ┆ f64       ┆ f64       ┆ f64       │\n",
       "╞════════════╪════════╪════════════╪═══════════╪═══╪═══════════╪═══════════╪═══════════╪═══════════╡\n",
       "│ 436881     ┆ 0      ┆ cash loans ┆ m         ┆ … ┆ null      ┆ null      ┆ null      ┆ null      │\n",
       "│ 333510     ┆ 0      ┆ cash loans ┆ f         ┆ … ┆ 0.0       ┆ 0.0       ┆ 0.0       ┆ 2.0       │\n",
       "│ 122944     ┆ 0      ┆ cash loans ┆ f         ┆ … ┆ 0.0       ┆ 0.0       ┆ 0.0       ┆ 0.0       │\n",
       "│ 419870     ┆ 0      ┆ cash loans ┆ f         ┆ … ┆ 0.0       ┆ 0.0       ┆ 0.0       ┆ 0.0       │\n",
       "│ 392146     ┆ 0      ┆ cash loans ┆ f         ┆ … ┆ 1.0       ┆ 1.0       ┆ 0.0       ┆ 2.0       │\n",
       "└────────────┴────────┴────────────┴───────────┴───┴───────────┴───────────┴───────────┴───────────┘"
      ]
     },
     "execution_count": 3,
     "metadata": {},
     "output_type": "execute_result"
    }
   ],
   "source": [
    "application_train = create_formatted_df(\"application_train.csv\")\n",
    "\n",
    "print(\n",
    "    f\"Training set has {application_train.shape[0]} rows and {application_train.shape[1]} columns.\"\n",
    ")\n",
    "\n",
    "application_train.sample(5)"
   ]
  },
  {
   "cell_type": "markdown",
   "metadata": {},
   "source": [
    "Let's now take a look at balance of the target variable since that is our modeling variable of interest. "
   ]
  },
  {
   "cell_type": "code",
   "execution_count": 4,
   "metadata": {},
   "outputs": [
    {
     "data": {
      "application/vnd.plotly.v1+json": {
       "config": {
        "plotlyServerURL": "https://plot.ly"
       },
       "data": [
        {
         "alignmentgroup": "True",
         "customdata": [
          [
           "91.9%"
          ],
          [
           "8.1%"
          ]
         ],
         "hovertemplate": "target=%{marker.color}<br>count=%{y}<br>percentages=%{customdata[0]}<extra></extra>",
         "legendgroup": "",
         "marker": {
          "color": [
           0,
           1
          ],
          "coloraxis": "coloraxis",
          "pattern": {
           "shape": ""
          }
         },
         "name": "",
         "offsetgroup": "",
         "orientation": "v",
         "showlegend": false,
         "text": [
          "91.9%",
          "8.1%"
         ],
         "textposition": "auto",
         "type": "bar",
         "x": [
          0,
          1
         ],
         "xaxis": "x",
         "y": [
          282686,
          24825
         ],
         "yaxis": "y"
        }
       ],
       "layout": {
        "bargap": 0.2,
        "barmode": "relative",
        "coloraxis": {
         "colorbar": {
          "title": {
           "text": "target"
          }
         },
         "colorscale": [
          [
           0,
           "rgb(210, 251, 212)"
          ],
          [
           0.16666666666666666,
           "rgb(165, 219, 194)"
          ],
          [
           0.3333333333333333,
           "rgb(123, 188, 176)"
          ],
          [
           0.5,
           "rgb(85, 156, 158)"
          ],
          [
           0.6666666666666666,
           "rgb(58, 124, 137)"
          ],
          [
           0.8333333333333334,
           "rgb(35, 93, 114)"
          ],
          [
           1,
           "rgb(18, 63, 90)"
          ]
         ]
        },
        "legend": {
         "tracegroupgap": 0
        },
        "margin": {
         "t": 60
        },
        "template": {
         "data": {
          "bar": [
           {
            "error_x": {
             "color": "#f2f5fa"
            },
            "error_y": {
             "color": "#f2f5fa"
            },
            "marker": {
             "line": {
              "color": "rgb(17,17,17)",
              "width": 0.5
             },
             "pattern": {
              "fillmode": "overlay",
              "size": 10,
              "solidity": 0.2
             }
            },
            "type": "bar"
           }
          ],
          "barpolar": [
           {
            "marker": {
             "line": {
              "color": "rgb(17,17,17)",
              "width": 0.5
             },
             "pattern": {
              "fillmode": "overlay",
              "size": 10,
              "solidity": 0.2
             }
            },
            "type": "barpolar"
           }
          ],
          "carpet": [
           {
            "aaxis": {
             "endlinecolor": "#A2B1C6",
             "gridcolor": "#506784",
             "linecolor": "#506784",
             "minorgridcolor": "#506784",
             "startlinecolor": "#A2B1C6"
            },
            "baxis": {
             "endlinecolor": "#A2B1C6",
             "gridcolor": "#506784",
             "linecolor": "#506784",
             "minorgridcolor": "#506784",
             "startlinecolor": "#A2B1C6"
            },
            "type": "carpet"
           }
          ],
          "choropleth": [
           {
            "colorbar": {
             "outlinewidth": 0,
             "ticks": ""
            },
            "type": "choropleth"
           }
          ],
          "contour": [
           {
            "colorbar": {
             "outlinewidth": 0,
             "ticks": ""
            },
            "colorscale": [
             [
              0,
              "#0d0887"
             ],
             [
              0.1111111111111111,
              "#46039f"
             ],
             [
              0.2222222222222222,
              "#7201a8"
             ],
             [
              0.3333333333333333,
              "#9c179e"
             ],
             [
              0.4444444444444444,
              "#bd3786"
             ],
             [
              0.5555555555555556,
              "#d8576b"
             ],
             [
              0.6666666666666666,
              "#ed7953"
             ],
             [
              0.7777777777777778,
              "#fb9f3a"
             ],
             [
              0.8888888888888888,
              "#fdca26"
             ],
             [
              1,
              "#f0f921"
             ]
            ],
            "type": "contour"
           }
          ],
          "contourcarpet": [
           {
            "colorbar": {
             "outlinewidth": 0,
             "ticks": ""
            },
            "type": "contourcarpet"
           }
          ],
          "heatmap": [
           {
            "colorbar": {
             "outlinewidth": 0,
             "ticks": ""
            },
            "colorscale": [
             [
              0,
              "#0d0887"
             ],
             [
              0.1111111111111111,
              "#46039f"
             ],
             [
              0.2222222222222222,
              "#7201a8"
             ],
             [
              0.3333333333333333,
              "#9c179e"
             ],
             [
              0.4444444444444444,
              "#bd3786"
             ],
             [
              0.5555555555555556,
              "#d8576b"
             ],
             [
              0.6666666666666666,
              "#ed7953"
             ],
             [
              0.7777777777777778,
              "#fb9f3a"
             ],
             [
              0.8888888888888888,
              "#fdca26"
             ],
             [
              1,
              "#f0f921"
             ]
            ],
            "type": "heatmap"
           }
          ],
          "heatmapgl": [
           {
            "colorbar": {
             "outlinewidth": 0,
             "ticks": ""
            },
            "colorscale": [
             [
              0,
              "#0d0887"
             ],
             [
              0.1111111111111111,
              "#46039f"
             ],
             [
              0.2222222222222222,
              "#7201a8"
             ],
             [
              0.3333333333333333,
              "#9c179e"
             ],
             [
              0.4444444444444444,
              "#bd3786"
             ],
             [
              0.5555555555555556,
              "#d8576b"
             ],
             [
              0.6666666666666666,
              "#ed7953"
             ],
             [
              0.7777777777777778,
              "#fb9f3a"
             ],
             [
              0.8888888888888888,
              "#fdca26"
             ],
             [
              1,
              "#f0f921"
             ]
            ],
            "type": "heatmapgl"
           }
          ],
          "histogram": [
           {
            "marker": {
             "pattern": {
              "fillmode": "overlay",
              "size": 10,
              "solidity": 0.2
             }
            },
            "type": "histogram"
           }
          ],
          "histogram2d": [
           {
            "colorbar": {
             "outlinewidth": 0,
             "ticks": ""
            },
            "colorscale": [
             [
              0,
              "#0d0887"
             ],
             [
              0.1111111111111111,
              "#46039f"
             ],
             [
              0.2222222222222222,
              "#7201a8"
             ],
             [
              0.3333333333333333,
              "#9c179e"
             ],
             [
              0.4444444444444444,
              "#bd3786"
             ],
             [
              0.5555555555555556,
              "#d8576b"
             ],
             [
              0.6666666666666666,
              "#ed7953"
             ],
             [
              0.7777777777777778,
              "#fb9f3a"
             ],
             [
              0.8888888888888888,
              "#fdca26"
             ],
             [
              1,
              "#f0f921"
             ]
            ],
            "type": "histogram2d"
           }
          ],
          "histogram2dcontour": [
           {
            "colorbar": {
             "outlinewidth": 0,
             "ticks": ""
            },
            "colorscale": [
             [
              0,
              "#0d0887"
             ],
             [
              0.1111111111111111,
              "#46039f"
             ],
             [
              0.2222222222222222,
              "#7201a8"
             ],
             [
              0.3333333333333333,
              "#9c179e"
             ],
             [
              0.4444444444444444,
              "#bd3786"
             ],
             [
              0.5555555555555556,
              "#d8576b"
             ],
             [
              0.6666666666666666,
              "#ed7953"
             ],
             [
              0.7777777777777778,
              "#fb9f3a"
             ],
             [
              0.8888888888888888,
              "#fdca26"
             ],
             [
              1,
              "#f0f921"
             ]
            ],
            "type": "histogram2dcontour"
           }
          ],
          "mesh3d": [
           {
            "colorbar": {
             "outlinewidth": 0,
             "ticks": ""
            },
            "type": "mesh3d"
           }
          ],
          "parcoords": [
           {
            "line": {
             "colorbar": {
              "outlinewidth": 0,
              "ticks": ""
             }
            },
            "type": "parcoords"
           }
          ],
          "pie": [
           {
            "automargin": true,
            "type": "pie"
           }
          ],
          "scatter": [
           {
            "marker": {
             "line": {
              "color": "#283442"
             }
            },
            "type": "scatter"
           }
          ],
          "scatter3d": [
           {
            "line": {
             "colorbar": {
              "outlinewidth": 0,
              "ticks": ""
             }
            },
            "marker": {
             "colorbar": {
              "outlinewidth": 0,
              "ticks": ""
             }
            },
            "type": "scatter3d"
           }
          ],
          "scattercarpet": [
           {
            "marker": {
             "colorbar": {
              "outlinewidth": 0,
              "ticks": ""
             }
            },
            "type": "scattercarpet"
           }
          ],
          "scattergeo": [
           {
            "marker": {
             "colorbar": {
              "outlinewidth": 0,
              "ticks": ""
             }
            },
            "type": "scattergeo"
           }
          ],
          "scattergl": [
           {
            "marker": {
             "line": {
              "color": "#283442"
             }
            },
            "type": "scattergl"
           }
          ],
          "scattermapbox": [
           {
            "marker": {
             "colorbar": {
              "outlinewidth": 0,
              "ticks": ""
             }
            },
            "type": "scattermapbox"
           }
          ],
          "scatterpolar": [
           {
            "marker": {
             "colorbar": {
              "outlinewidth": 0,
              "ticks": ""
             }
            },
            "type": "scatterpolar"
           }
          ],
          "scatterpolargl": [
           {
            "marker": {
             "colorbar": {
              "outlinewidth": 0,
              "ticks": ""
             }
            },
            "type": "scatterpolargl"
           }
          ],
          "scatterternary": [
           {
            "marker": {
             "colorbar": {
              "outlinewidth": 0,
              "ticks": ""
             }
            },
            "type": "scatterternary"
           }
          ],
          "surface": [
           {
            "colorbar": {
             "outlinewidth": 0,
             "ticks": ""
            },
            "colorscale": [
             [
              0,
              "#0d0887"
             ],
             [
              0.1111111111111111,
              "#46039f"
             ],
             [
              0.2222222222222222,
              "#7201a8"
             ],
             [
              0.3333333333333333,
              "#9c179e"
             ],
             [
              0.4444444444444444,
              "#bd3786"
             ],
             [
              0.5555555555555556,
              "#d8576b"
             ],
             [
              0.6666666666666666,
              "#ed7953"
             ],
             [
              0.7777777777777778,
              "#fb9f3a"
             ],
             [
              0.8888888888888888,
              "#fdca26"
             ],
             [
              1,
              "#f0f921"
             ]
            ],
            "type": "surface"
           }
          ],
          "table": [
           {
            "cells": {
             "fill": {
              "color": "#506784"
             },
             "line": {
              "color": "rgb(17,17,17)"
             }
            },
            "header": {
             "fill": {
              "color": "#2a3f5f"
             },
             "line": {
              "color": "rgb(17,17,17)"
             }
            },
            "type": "table"
           }
          ]
         },
         "layout": {
          "annotationdefaults": {
           "arrowcolor": "#f2f5fa",
           "arrowhead": 0,
           "arrowwidth": 1
          },
          "autotypenumbers": "strict",
          "coloraxis": {
           "colorbar": {
            "outlinewidth": 0,
            "ticks": ""
           }
          },
          "colorscale": {
           "diverging": [
            [
             0,
             "#8e0152"
            ],
            [
             0.1,
             "#c51b7d"
            ],
            [
             0.2,
             "#de77ae"
            ],
            [
             0.3,
             "#f1b6da"
            ],
            [
             0.4,
             "#fde0ef"
            ],
            [
             0.5,
             "#f7f7f7"
            ],
            [
             0.6,
             "#e6f5d0"
            ],
            [
             0.7,
             "#b8e186"
            ],
            [
             0.8,
             "#7fbc41"
            ],
            [
             0.9,
             "#4d9221"
            ],
            [
             1,
             "#276419"
            ]
           ],
           "sequential": [
            [
             0,
             "#0d0887"
            ],
            [
             0.1111111111111111,
             "#46039f"
            ],
            [
             0.2222222222222222,
             "#7201a8"
            ],
            [
             0.3333333333333333,
             "#9c179e"
            ],
            [
             0.4444444444444444,
             "#bd3786"
            ],
            [
             0.5555555555555556,
             "#d8576b"
            ],
            [
             0.6666666666666666,
             "#ed7953"
            ],
            [
             0.7777777777777778,
             "#fb9f3a"
            ],
            [
             0.8888888888888888,
             "#fdca26"
            ],
            [
             1,
             "#f0f921"
            ]
           ],
           "sequentialminus": [
            [
             0,
             "#0d0887"
            ],
            [
             0.1111111111111111,
             "#46039f"
            ],
            [
             0.2222222222222222,
             "#7201a8"
            ],
            [
             0.3333333333333333,
             "#9c179e"
            ],
            [
             0.4444444444444444,
             "#bd3786"
            ],
            [
             0.5555555555555556,
             "#d8576b"
            ],
            [
             0.6666666666666666,
             "#ed7953"
            ],
            [
             0.7777777777777778,
             "#fb9f3a"
            ],
            [
             0.8888888888888888,
             "#fdca26"
            ],
            [
             1,
             "#f0f921"
            ]
           ]
          },
          "colorway": [
           "#636efa",
           "#EF553B",
           "#00cc96",
           "#ab63fa",
           "#FFA15A",
           "#19d3f3",
           "#FF6692",
           "#B6E880",
           "#FF97FF",
           "#FECB52"
          ],
          "font": {
           "color": "#f2f5fa"
          },
          "geo": {
           "bgcolor": "rgb(17,17,17)",
           "lakecolor": "rgb(17,17,17)",
           "landcolor": "rgb(17,17,17)",
           "showlakes": true,
           "showland": true,
           "subunitcolor": "#506784"
          },
          "hoverlabel": {
           "align": "left"
          },
          "hovermode": "closest",
          "mapbox": {
           "style": "dark"
          },
          "paper_bgcolor": "rgb(17,17,17)",
          "plot_bgcolor": "rgb(17,17,17)",
          "polar": {
           "angularaxis": {
            "gridcolor": "#506784",
            "linecolor": "#506784",
            "ticks": ""
           },
           "bgcolor": "rgb(17,17,17)",
           "radialaxis": {
            "gridcolor": "#506784",
            "linecolor": "#506784",
            "ticks": ""
           }
          },
          "scene": {
           "xaxis": {
            "backgroundcolor": "rgb(17,17,17)",
            "gridcolor": "#506784",
            "gridwidth": 2,
            "linecolor": "#506784",
            "showbackground": true,
            "ticks": "",
            "zerolinecolor": "#C8D4E3"
           },
           "yaxis": {
            "backgroundcolor": "rgb(17,17,17)",
            "gridcolor": "#506784",
            "gridwidth": 2,
            "linecolor": "#506784",
            "showbackground": true,
            "ticks": "",
            "zerolinecolor": "#C8D4E3"
           },
           "zaxis": {
            "backgroundcolor": "rgb(17,17,17)",
            "gridcolor": "#506784",
            "gridwidth": 2,
            "linecolor": "#506784",
            "showbackground": true,
            "ticks": "",
            "zerolinecolor": "#C8D4E3"
           }
          },
          "shapedefaults": {
           "line": {
            "color": "#f2f5fa"
           }
          },
          "sliderdefaults": {
           "bgcolor": "#C8D4E3",
           "bordercolor": "rgb(17,17,17)",
           "borderwidth": 1,
           "tickwidth": 0
          },
          "ternary": {
           "aaxis": {
            "gridcolor": "#506784",
            "linecolor": "#506784",
            "ticks": ""
           },
           "baxis": {
            "gridcolor": "#506784",
            "linecolor": "#506784",
            "ticks": ""
           },
           "bgcolor": "rgb(17,17,17)",
           "caxis": {
            "gridcolor": "#506784",
            "linecolor": "#506784",
            "ticks": ""
           }
          },
          "title": {
           "x": 0.05
          },
          "updatemenudefaults": {
           "bgcolor": "#506784",
           "borderwidth": 0
          },
          "xaxis": {
           "automargin": true,
           "gridcolor": "#283442",
           "linecolor": "#506784",
           "ticks": "",
           "title": {
            "standoff": 15
           },
           "zerolinecolor": "#283442",
           "zerolinewidth": 2
          },
          "yaxis": {
           "automargin": true,
           "gridcolor": "#283442",
           "linecolor": "#506784",
           "ticks": "",
           "title": {
            "standoff": 15
           },
           "zerolinecolor": "#283442",
           "zerolinewidth": 2
          }
         }
        },
        "title": {
         "text": "Target Variable Distribution"
        },
        "xaxis": {
         "anchor": "y",
         "domain": [
          0,
          1
         ],
         "title": {
          "text": "target"
         }
        },
        "yaxis": {
         "anchor": "x",
         "domain": [
          0,
          1
         ],
         "title": {
          "text": "count"
         }
        }
       }
      }
     },
     "metadata": {},
     "output_type": "display_data"
    }
   ],
   "source": [
    "plot_histogram(application_train, \"target\", title=\"Target Variable Distribution\")"
   ]
  },
  {
   "cell_type": "code",
   "execution_count": 5,
   "metadata": {},
   "outputs": [
    {
     "data": {
      "text/html": [
       "<div><style>\n",
       ".dataframe > thead > tr,\n",
       ".dataframe > tbody > tr {\n",
       "  text-align: right;\n",
       "  white-space: pre-wrap;\n",
       "}\n",
       "</style>\n",
       "<small>shape: (3, 3)</small><table border=\"1\" class=\"dataframe\"><thead><tr><th>table</th><th>feature</th><th>null_count</th></tr><tr><td>str</td><td>str</td><td>i64</td></tr></thead><tbody><tr><td>&quot;application_{train|test}.csv&quot;</td><td>&quot;amt_annuity&quot;</td><td>12</td></tr><tr><td>&quot;bureau.csv&quot;</td><td>&quot;amt_annuity&quot;</td><td>42</td></tr><tr><td>&quot;previous_application.csv&quot;</td><td>&quot;amt_annuity&quot;</td><td>93</td></tr></tbody></table></div>"
      ],
      "text/plain": [
       "shape: (3, 3)\n",
       "┌──────────────────────────────┬─────────────┬────────────┐\n",
       "│ table                        ┆ feature     ┆ null_count │\n",
       "│ ---                          ┆ ---         ┆ ---        │\n",
       "│ str                          ┆ str         ┆ i64        │\n",
       "╞══════════════════════════════╪═════════════╪════════════╡\n",
       "│ application_{train|test}.csv ┆ amt_annuity ┆ 12         │\n",
       "│ bureau.csv                   ┆ amt_annuity ┆ 42         │\n",
       "│ previous_application.csv     ┆ amt_annuity ┆ 93         │\n",
       "└──────────────────────────────┴─────────────┴────────────┘"
      ]
     },
     "execution_count": 5,
     "metadata": {},
     "output_type": "execute_result"
    }
   ],
   "source": [
    "description: DataFrame = pl.read_csv(\"HomeCredit_columns_description.csv\", encoding=\"latin1\")\n",
    "description = lower_column_names(description)\n",
    "description = lower_column_values(description)\n",
    "\n",
    "# Delete training spaces for some entries in the row column\n",
    "description = description.with_columns(\n",
    "    pl.col(\"row\").map_elements(lambda x: x.split(\" \")[0], return_dtype=pl.String)\n",
    ")\n",
    "\n",
    "null_df = null_count_comparison(application_train, description, \"amt_annuity\")\n",
    "null_df"
   ]
  },
  {
   "cell_type": "markdown",
   "metadata": {},
   "source": [
    "### Null values "
   ]
  },
  {
   "cell_type": "code",
   "execution_count": 34,
   "metadata": {},
   "outputs": [
    {
     "data": {
      "application/vnd.plotly.v1+json": {
       "config": {
        "plotlyServerURL": "https://plot.ly"
       },
       "data": [
        {
         "alignmentgroup": "True",
         "bingroup": "x",
         "hovertemplate": "percentage=%{x}<br>count=%{y}<extra></extra>",
         "legendgroup": "",
         "marker": {
          "color": "#636efa",
          "pattern": {
           "shape": ""
          }
         },
         "name": "",
         "offsetgroup": "",
         "orientation": "v",
         "showlegend": false,
         "texttemplate": "%{value}",
         "type": "histogram",
         "x": [
          0.6987229585647583,
          0.6987229585647583,
          0.6987229585647583,
          0.6943296194076538,
          0.6943296194076538,
          0.6943296194076538,
          0.6838617324829102,
          0.6835495233535767,
          0.6835495233535767,
          0.6835495233535767,
          0.6784862875938416,
          0.6784862875938416,
          0.6784862875938416,
          0.6649778485298157,
          0.6649778485298157,
          0.6649778485298157,
          0.6599081158638,
          0.5937674045562744,
          0.5937674045562744,
          0.5937674045562744,
          0.5851595401763916,
          0.5851595401763916,
          0.5851595401763916,
          0.5638107061386108,
          0.5517916679382324,
          0.5517916679382324,
          0.5517916679382324,
          0.5329598188400269,
          0.5329598188400269,
          0.5329598188400269,
          0.5084078311920166,
          0.5074973106384277,
          0.5074973106384277,
          0.5074973106384277,
          0.5034877061843872,
          0.5034877061843872,
          0.5034877061843872,
          0.5019332766532898,
          0.5019332766532898,
          0.5019332766532898,
          0.5017609000205994,
          0.4976082146167755,
          0.4976082146167755,
          0.4976082146167755,
          0.4878101944923401,
          0.4878101944923401,
          0.4878101944923401,
          0.4826851785182953,
          0.4739830493927002,
          0.3134554624557495,
          0.1982530653476715,
          0.1350163072347641,
          0.1350163072347641,
          0.1350163072347641,
          0.1350163072347641,
          0.1350163072347641,
          0.1350163072347641,
          0.004201475530862808,
          0.0033202064223587513,
          0.0033202064223587513,
          0.0033202064223587513,
          0.0033202064223587513,
          0.002146264770999551,
          0.0009040327277034521,
          0.00003902299431501888,
          0.00000650383253741893,
          0.000003251916268709465,
          0,
          0,
          0,
          0,
          0,
          0,
          0,
          0,
          0,
          0,
          0,
          0,
          0,
          0,
          0,
          0,
          0,
          0,
          0,
          0,
          0,
          0,
          0,
          0,
          0,
          0,
          0,
          0,
          0,
          0,
          0,
          0,
          0,
          0,
          0,
          0,
          0,
          0,
          0,
          0,
          0,
          0,
          0,
          0,
          0,
          0,
          0,
          0,
          0,
          0,
          0,
          0,
          0,
          0,
          0
         ],
         "xaxis": "x",
         "yaxis": "y"
        }
       ],
       "layout": {
        "bargap": 0.2,
        "barmode": "relative",
        "legend": {
         "tracegroupgap": 0
        },
        "template": {
         "data": {
          "bar": [
           {
            "error_x": {
             "color": "#f2f5fa"
            },
            "error_y": {
             "color": "#f2f5fa"
            },
            "marker": {
             "line": {
              "color": "rgb(17,17,17)",
              "width": 0.5
             },
             "pattern": {
              "fillmode": "overlay",
              "size": 10,
              "solidity": 0.2
             }
            },
            "type": "bar"
           }
          ],
          "barpolar": [
           {
            "marker": {
             "line": {
              "color": "rgb(17,17,17)",
              "width": 0.5
             },
             "pattern": {
              "fillmode": "overlay",
              "size": 10,
              "solidity": 0.2
             }
            },
            "type": "barpolar"
           }
          ],
          "carpet": [
           {
            "aaxis": {
             "endlinecolor": "#A2B1C6",
             "gridcolor": "#506784",
             "linecolor": "#506784",
             "minorgridcolor": "#506784",
             "startlinecolor": "#A2B1C6"
            },
            "baxis": {
             "endlinecolor": "#A2B1C6",
             "gridcolor": "#506784",
             "linecolor": "#506784",
             "minorgridcolor": "#506784",
             "startlinecolor": "#A2B1C6"
            },
            "type": "carpet"
           }
          ],
          "choropleth": [
           {
            "colorbar": {
             "outlinewidth": 0,
             "ticks": ""
            },
            "type": "choropleth"
           }
          ],
          "contour": [
           {
            "colorbar": {
             "outlinewidth": 0,
             "ticks": ""
            },
            "colorscale": [
             [
              0,
              "#0d0887"
             ],
             [
              0.1111111111111111,
              "#46039f"
             ],
             [
              0.2222222222222222,
              "#7201a8"
             ],
             [
              0.3333333333333333,
              "#9c179e"
             ],
             [
              0.4444444444444444,
              "#bd3786"
             ],
             [
              0.5555555555555556,
              "#d8576b"
             ],
             [
              0.6666666666666666,
              "#ed7953"
             ],
             [
              0.7777777777777778,
              "#fb9f3a"
             ],
             [
              0.8888888888888888,
              "#fdca26"
             ],
             [
              1,
              "#f0f921"
             ]
            ],
            "type": "contour"
           }
          ],
          "contourcarpet": [
           {
            "colorbar": {
             "outlinewidth": 0,
             "ticks": ""
            },
            "type": "contourcarpet"
           }
          ],
          "heatmap": [
           {
            "colorbar": {
             "outlinewidth": 0,
             "ticks": ""
            },
            "colorscale": [
             [
              0,
              "#0d0887"
             ],
             [
              0.1111111111111111,
              "#46039f"
             ],
             [
              0.2222222222222222,
              "#7201a8"
             ],
             [
              0.3333333333333333,
              "#9c179e"
             ],
             [
              0.4444444444444444,
              "#bd3786"
             ],
             [
              0.5555555555555556,
              "#d8576b"
             ],
             [
              0.6666666666666666,
              "#ed7953"
             ],
             [
              0.7777777777777778,
              "#fb9f3a"
             ],
             [
              0.8888888888888888,
              "#fdca26"
             ],
             [
              1,
              "#f0f921"
             ]
            ],
            "type": "heatmap"
           }
          ],
          "heatmapgl": [
           {
            "colorbar": {
             "outlinewidth": 0,
             "ticks": ""
            },
            "colorscale": [
             [
              0,
              "#0d0887"
             ],
             [
              0.1111111111111111,
              "#46039f"
             ],
             [
              0.2222222222222222,
              "#7201a8"
             ],
             [
              0.3333333333333333,
              "#9c179e"
             ],
             [
              0.4444444444444444,
              "#bd3786"
             ],
             [
              0.5555555555555556,
              "#d8576b"
             ],
             [
              0.6666666666666666,
              "#ed7953"
             ],
             [
              0.7777777777777778,
              "#fb9f3a"
             ],
             [
              0.8888888888888888,
              "#fdca26"
             ],
             [
              1,
              "#f0f921"
             ]
            ],
            "type": "heatmapgl"
           }
          ],
          "histogram": [
           {
            "marker": {
             "pattern": {
              "fillmode": "overlay",
              "size": 10,
              "solidity": 0.2
             }
            },
            "type": "histogram"
           }
          ],
          "histogram2d": [
           {
            "colorbar": {
             "outlinewidth": 0,
             "ticks": ""
            },
            "colorscale": [
             [
              0,
              "#0d0887"
             ],
             [
              0.1111111111111111,
              "#46039f"
             ],
             [
              0.2222222222222222,
              "#7201a8"
             ],
             [
              0.3333333333333333,
              "#9c179e"
             ],
             [
              0.4444444444444444,
              "#bd3786"
             ],
             [
              0.5555555555555556,
              "#d8576b"
             ],
             [
              0.6666666666666666,
              "#ed7953"
             ],
             [
              0.7777777777777778,
              "#fb9f3a"
             ],
             [
              0.8888888888888888,
              "#fdca26"
             ],
             [
              1,
              "#f0f921"
             ]
            ],
            "type": "histogram2d"
           }
          ],
          "histogram2dcontour": [
           {
            "colorbar": {
             "outlinewidth": 0,
             "ticks": ""
            },
            "colorscale": [
             [
              0,
              "#0d0887"
             ],
             [
              0.1111111111111111,
              "#46039f"
             ],
             [
              0.2222222222222222,
              "#7201a8"
             ],
             [
              0.3333333333333333,
              "#9c179e"
             ],
             [
              0.4444444444444444,
              "#bd3786"
             ],
             [
              0.5555555555555556,
              "#d8576b"
             ],
             [
              0.6666666666666666,
              "#ed7953"
             ],
             [
              0.7777777777777778,
              "#fb9f3a"
             ],
             [
              0.8888888888888888,
              "#fdca26"
             ],
             [
              1,
              "#f0f921"
             ]
            ],
            "type": "histogram2dcontour"
           }
          ],
          "mesh3d": [
           {
            "colorbar": {
             "outlinewidth": 0,
             "ticks": ""
            },
            "type": "mesh3d"
           }
          ],
          "parcoords": [
           {
            "line": {
             "colorbar": {
              "outlinewidth": 0,
              "ticks": ""
             }
            },
            "type": "parcoords"
           }
          ],
          "pie": [
           {
            "automargin": true,
            "type": "pie"
           }
          ],
          "scatter": [
           {
            "marker": {
             "line": {
              "color": "#283442"
             }
            },
            "type": "scatter"
           }
          ],
          "scatter3d": [
           {
            "line": {
             "colorbar": {
              "outlinewidth": 0,
              "ticks": ""
             }
            },
            "marker": {
             "colorbar": {
              "outlinewidth": 0,
              "ticks": ""
             }
            },
            "type": "scatter3d"
           }
          ],
          "scattercarpet": [
           {
            "marker": {
             "colorbar": {
              "outlinewidth": 0,
              "ticks": ""
             }
            },
            "type": "scattercarpet"
           }
          ],
          "scattergeo": [
           {
            "marker": {
             "colorbar": {
              "outlinewidth": 0,
              "ticks": ""
             }
            },
            "type": "scattergeo"
           }
          ],
          "scattergl": [
           {
            "marker": {
             "line": {
              "color": "#283442"
             }
            },
            "type": "scattergl"
           }
          ],
          "scattermapbox": [
           {
            "marker": {
             "colorbar": {
              "outlinewidth": 0,
              "ticks": ""
             }
            },
            "type": "scattermapbox"
           }
          ],
          "scatterpolar": [
           {
            "marker": {
             "colorbar": {
              "outlinewidth": 0,
              "ticks": ""
             }
            },
            "type": "scatterpolar"
           }
          ],
          "scatterpolargl": [
           {
            "marker": {
             "colorbar": {
              "outlinewidth": 0,
              "ticks": ""
             }
            },
            "type": "scatterpolargl"
           }
          ],
          "scatterternary": [
           {
            "marker": {
             "colorbar": {
              "outlinewidth": 0,
              "ticks": ""
             }
            },
            "type": "scatterternary"
           }
          ],
          "surface": [
           {
            "colorbar": {
             "outlinewidth": 0,
             "ticks": ""
            },
            "colorscale": [
             [
              0,
              "#0d0887"
             ],
             [
              0.1111111111111111,
              "#46039f"
             ],
             [
              0.2222222222222222,
              "#7201a8"
             ],
             [
              0.3333333333333333,
              "#9c179e"
             ],
             [
              0.4444444444444444,
              "#bd3786"
             ],
             [
              0.5555555555555556,
              "#d8576b"
             ],
             [
              0.6666666666666666,
              "#ed7953"
             ],
             [
              0.7777777777777778,
              "#fb9f3a"
             ],
             [
              0.8888888888888888,
              "#fdca26"
             ],
             [
              1,
              "#f0f921"
             ]
            ],
            "type": "surface"
           }
          ],
          "table": [
           {
            "cells": {
             "fill": {
              "color": "#506784"
             },
             "line": {
              "color": "rgb(17,17,17)"
             }
            },
            "header": {
             "fill": {
              "color": "#2a3f5f"
             },
             "line": {
              "color": "rgb(17,17,17)"
             }
            },
            "type": "table"
           }
          ]
         },
         "layout": {
          "annotationdefaults": {
           "arrowcolor": "#f2f5fa",
           "arrowhead": 0,
           "arrowwidth": 1
          },
          "autotypenumbers": "strict",
          "coloraxis": {
           "colorbar": {
            "outlinewidth": 0,
            "ticks": ""
           }
          },
          "colorscale": {
           "diverging": [
            [
             0,
             "#8e0152"
            ],
            [
             0.1,
             "#c51b7d"
            ],
            [
             0.2,
             "#de77ae"
            ],
            [
             0.3,
             "#f1b6da"
            ],
            [
             0.4,
             "#fde0ef"
            ],
            [
             0.5,
             "#f7f7f7"
            ],
            [
             0.6,
             "#e6f5d0"
            ],
            [
             0.7,
             "#b8e186"
            ],
            [
             0.8,
             "#7fbc41"
            ],
            [
             0.9,
             "#4d9221"
            ],
            [
             1,
             "#276419"
            ]
           ],
           "sequential": [
            [
             0,
             "#0d0887"
            ],
            [
             0.1111111111111111,
             "#46039f"
            ],
            [
             0.2222222222222222,
             "#7201a8"
            ],
            [
             0.3333333333333333,
             "#9c179e"
            ],
            [
             0.4444444444444444,
             "#bd3786"
            ],
            [
             0.5555555555555556,
             "#d8576b"
            ],
            [
             0.6666666666666666,
             "#ed7953"
            ],
            [
             0.7777777777777778,
             "#fb9f3a"
            ],
            [
             0.8888888888888888,
             "#fdca26"
            ],
            [
             1,
             "#f0f921"
            ]
           ],
           "sequentialminus": [
            [
             0,
             "#0d0887"
            ],
            [
             0.1111111111111111,
             "#46039f"
            ],
            [
             0.2222222222222222,
             "#7201a8"
            ],
            [
             0.3333333333333333,
             "#9c179e"
            ],
            [
             0.4444444444444444,
             "#bd3786"
            ],
            [
             0.5555555555555556,
             "#d8576b"
            ],
            [
             0.6666666666666666,
             "#ed7953"
            ],
            [
             0.7777777777777778,
             "#fb9f3a"
            ],
            [
             0.8888888888888888,
             "#fdca26"
            ],
            [
             1,
             "#f0f921"
            ]
           ]
          },
          "colorway": [
           "#636efa",
           "#EF553B",
           "#00cc96",
           "#ab63fa",
           "#FFA15A",
           "#19d3f3",
           "#FF6692",
           "#B6E880",
           "#FF97FF",
           "#FECB52"
          ],
          "font": {
           "color": "#f2f5fa"
          },
          "geo": {
           "bgcolor": "rgb(17,17,17)",
           "lakecolor": "rgb(17,17,17)",
           "landcolor": "rgb(17,17,17)",
           "showlakes": true,
           "showland": true,
           "subunitcolor": "#506784"
          },
          "hoverlabel": {
           "align": "left"
          },
          "hovermode": "closest",
          "mapbox": {
           "style": "dark"
          },
          "paper_bgcolor": "rgb(17,17,17)",
          "plot_bgcolor": "rgb(17,17,17)",
          "polar": {
           "angularaxis": {
            "gridcolor": "#506784",
            "linecolor": "#506784",
            "ticks": ""
           },
           "bgcolor": "rgb(17,17,17)",
           "radialaxis": {
            "gridcolor": "#506784",
            "linecolor": "#506784",
            "ticks": ""
           }
          },
          "scene": {
           "xaxis": {
            "backgroundcolor": "rgb(17,17,17)",
            "gridcolor": "#506784",
            "gridwidth": 2,
            "linecolor": "#506784",
            "showbackground": true,
            "ticks": "",
            "zerolinecolor": "#C8D4E3"
           },
           "yaxis": {
            "backgroundcolor": "rgb(17,17,17)",
            "gridcolor": "#506784",
            "gridwidth": 2,
            "linecolor": "#506784",
            "showbackground": true,
            "ticks": "",
            "zerolinecolor": "#C8D4E3"
           },
           "zaxis": {
            "backgroundcolor": "rgb(17,17,17)",
            "gridcolor": "#506784",
            "gridwidth": 2,
            "linecolor": "#506784",
            "showbackground": true,
            "ticks": "",
            "zerolinecolor": "#C8D4E3"
           }
          },
          "shapedefaults": {
           "line": {
            "color": "#f2f5fa"
           }
          },
          "sliderdefaults": {
           "bgcolor": "#C8D4E3",
           "bordercolor": "rgb(17,17,17)",
           "borderwidth": 1,
           "tickwidth": 0
          },
          "ternary": {
           "aaxis": {
            "gridcolor": "#506784",
            "linecolor": "#506784",
            "ticks": ""
           },
           "baxis": {
            "gridcolor": "#506784",
            "linecolor": "#506784",
            "ticks": ""
           },
           "bgcolor": "rgb(17,17,17)",
           "caxis": {
            "gridcolor": "#506784",
            "linecolor": "#506784",
            "ticks": ""
           }
          },
          "title": {
           "x": 0.05
          },
          "updatemenudefaults": {
           "bgcolor": "#506784",
           "borderwidth": 0
          },
          "xaxis": {
           "automargin": true,
           "gridcolor": "#283442",
           "linecolor": "#506784",
           "ticks": "",
           "title": {
            "standoff": 15
           },
           "zerolinecolor": "#283442",
           "zerolinewidth": 2
          },
          "yaxis": {
           "automargin": true,
           "gridcolor": "#283442",
           "linecolor": "#506784",
           "ticks": "",
           "title": {
            "standoff": 15
           },
           "zerolinecolor": "#283442",
           "zerolinewidth": 2
          }
         }
        },
        "title": {
         "text": "Null value percentages across dataset"
        },
        "xaxis": {
         "anchor": "y",
         "domain": [
          0,
          1
         ],
         "title": {
          "text": "percentage"
         }
        },
        "yaxis": {
         "anchor": "x",
         "domain": [
          0,
          1
         ],
         "title": {
          "text": "count"
         }
        }
       }
      }
     },
     "metadata": {},
     "output_type": "display_data"
    }
   ],
   "source": [
    "null_df = (\n",
    "    application_train.null_count()\n",
    "    .transpose(include_header=True)\n",
    "    .rename(mapping={\"column\": \"feature\", \"column_0\": \"null_count\"})\n",
    "    .sort(by=\"null_count\", descending=True)\n",
    "    .with_columns(\n",
    "        pl.col(\"null_count\")\n",
    "        .map_elements(lambda x: x / len(application_train), return_dtype=pl.Float32)\n",
    "        .alias(\"percentage\")\n",
    "    )\n",
    ")\n",
    "\n",
    "px.histogram(\n",
    "    null_df,\n",
    "    x=\"percentage\",\n",
    "    text_auto=True,\n",
    "    title=\"Null value percentages across dataset\",\n",
    ").update_layout(bargap=0.2).show()"
   ]
  },
  {
   "cell_type": "markdown",
   "metadata": {},
   "source": [
    "The graph above shows that we have a pretty wide spread of null value prevalence within this dataset. Thankfully none of these null values are in the target variable, but we will have to make a choice in our analysis of how to treat null values within this dataset since some classifiers are more tolerant of null values than others. LightGBM and XGBoost can handle null values when fitting, but commonly used sklearn classifiers do not."
   ]
  },
  {
   "cell_type": "markdown",
   "metadata": {},
   "source": [
    "#### Look for categorical anomalies "
   ]
  },
  {
   "cell_type": "markdown",
   "metadata": {},
   "source": [
    "## Correlations \n"
   ]
  },
  {
   "cell_type": "code",
   "execution_count": 7,
   "metadata": {},
   "outputs": [
    {
     "data": {
      "application/vnd.plotly.v1+json": {
       "config": {
        "plotlyServerURL": "https://plot.ly"
       },
       "data": [
        {
         "alignmentgroup": "True",
         "bingroup": "x",
         "hovertemplate": "target=%{x}<br>count=%{y}<extra></extra>",
         "legendgroup": "",
         "marker": {
          "color": "#636efa",
          "pattern": {
           "shape": ""
          }
         },
         "name": "",
         "offsetgroup": "",
         "orientation": "v",
         "showlegend": false,
         "type": "histogram",
         "x": [
          -0.0021084690181960766,
          1,
          0.01918713359627062,
          -0.003981865601205793,
          -0.03036928646142988,
          -0.012816561515413605,
          -0.039645281169544896,
          -0.037227148542444764,
          0.07823930830982459,
          -0.04493166265773831,
          0.04197486283141728,
          0.05145717260705659,
          0.0376115642751661,
          0.0005343955790422479,
          0.04598221971659226,
          0.028524322363216906,
          0.00037012680234920295,
          -0.023806272330357217,
          -0.0017583834312544816,
          0.009307784396531512,
          0.058899014945713445,
          0.06089266756482329,
          -0.02416583143009371,
          0.005575944520908343,
          0.006941907545371869,
          0.002819479184159081,
          0.044395374805700945,
          0.05099446436812648,
          0.03251834110149831,
          -0.1553171260639496,
          -0.16047167160520875,
          -0.17891869762837048,
          -0.0294975646334316,
          -0.022745743190148507,
          -0.009727673268680202,
          -0.022149284063388727,
          -0.018549661629760343,
          -0.03419879367526856,
          -0.019172182012738025,
          -0.044003370532402865,
          -0.033613503251899074,
          -0.010884822678806584,
          -0.025030533291064243,
          -0.03299711746761117,
          -0.0031761075207260804,
          -0.013578069781984715,
          -0.02728387066775288,
          -0.01995228392431536,
          -0.009036447354301175,
          -0.02206820383485666,
          -0.016340337311304406,
          -0.03213117100499533,
          -0.017387422304882893,
          -0.04322626321381947,
          -0.03269782531047472,
          -0.010174103567660405,
          -0.023393245570197525,
          -0.030684615765641635,
          -0.001556560845903716,
          -0.01271054374887829,
          -0.029183758876693472,
          -0.022081261373189838,
          -0.009993096559696444,
          -0.022325926477474216,
          -0.018572868907710774,
          -0.033862876768446605,
          -0.019024756327399944,
          -0.04376792104770143,
          -0.033394287191135595,
          -0.011255826639923302,
          -0.02462066360650495,
          -0.03273928440781497,
          -0.0027571486021083394,
          -0.013336719980273935,
          -0.032595546758941996,
          0.0091306657027761,
          0.03224757925304534,
          0.009022143630215059,
          0.031276472126435764,
          0.055218483513459246,
          0.005417144279619328,
          0.044346346851144976,
          -0.0026720821701620937,
          -0.00031577741664638075,
          -0.02860189397306156,
          -0.0015195031600879073,
          -0.00804038446605664,
          -0.004352408580842042,
          -0.0014138915975241474,
          -0.004229349652160023,
          -0.0007557507043578883,
          -0.01158322234141947,
          -0.009463821935576941,
          -0.006535657584094894,
          -0.011614671588293178,
          -0.0033775691474138337,
          -0.007952385099462259,
          -0.001357518324300817,
          0.00021539355797734155,
          0.003708625029306583,
          0.0009304246096946755,
          0.0027044013780418243,
          0.000787711748903683,
          -0.012462419228138606,
          -0.0020219274353457245,
          0.019929858569467208
         ],
         "xaxis": "x",
         "yaxis": "y"
        }
       ],
       "layout": {
        "bargap": 0.2,
        "barmode": "relative",
        "legend": {
         "tracegroupgap": 0
        },
        "template": {
         "data": {
          "bar": [
           {
            "error_x": {
             "color": "#f2f5fa"
            },
            "error_y": {
             "color": "#f2f5fa"
            },
            "marker": {
             "line": {
              "color": "rgb(17,17,17)",
              "width": 0.5
             },
             "pattern": {
              "fillmode": "overlay",
              "size": 10,
              "solidity": 0.2
             }
            },
            "type": "bar"
           }
          ],
          "barpolar": [
           {
            "marker": {
             "line": {
              "color": "rgb(17,17,17)",
              "width": 0.5
             },
             "pattern": {
              "fillmode": "overlay",
              "size": 10,
              "solidity": 0.2
             }
            },
            "type": "barpolar"
           }
          ],
          "carpet": [
           {
            "aaxis": {
             "endlinecolor": "#A2B1C6",
             "gridcolor": "#506784",
             "linecolor": "#506784",
             "minorgridcolor": "#506784",
             "startlinecolor": "#A2B1C6"
            },
            "baxis": {
             "endlinecolor": "#A2B1C6",
             "gridcolor": "#506784",
             "linecolor": "#506784",
             "minorgridcolor": "#506784",
             "startlinecolor": "#A2B1C6"
            },
            "type": "carpet"
           }
          ],
          "choropleth": [
           {
            "colorbar": {
             "outlinewidth": 0,
             "ticks": ""
            },
            "type": "choropleth"
           }
          ],
          "contour": [
           {
            "colorbar": {
             "outlinewidth": 0,
             "ticks": ""
            },
            "colorscale": [
             [
              0,
              "#0d0887"
             ],
             [
              0.1111111111111111,
              "#46039f"
             ],
             [
              0.2222222222222222,
              "#7201a8"
             ],
             [
              0.3333333333333333,
              "#9c179e"
             ],
             [
              0.4444444444444444,
              "#bd3786"
             ],
             [
              0.5555555555555556,
              "#d8576b"
             ],
             [
              0.6666666666666666,
              "#ed7953"
             ],
             [
              0.7777777777777778,
              "#fb9f3a"
             ],
             [
              0.8888888888888888,
              "#fdca26"
             ],
             [
              1,
              "#f0f921"
             ]
            ],
            "type": "contour"
           }
          ],
          "contourcarpet": [
           {
            "colorbar": {
             "outlinewidth": 0,
             "ticks": ""
            },
            "type": "contourcarpet"
           }
          ],
          "heatmap": [
           {
            "colorbar": {
             "outlinewidth": 0,
             "ticks": ""
            },
            "colorscale": [
             [
              0,
              "#0d0887"
             ],
             [
              0.1111111111111111,
              "#46039f"
             ],
             [
              0.2222222222222222,
              "#7201a8"
             ],
             [
              0.3333333333333333,
              "#9c179e"
             ],
             [
              0.4444444444444444,
              "#bd3786"
             ],
             [
              0.5555555555555556,
              "#d8576b"
             ],
             [
              0.6666666666666666,
              "#ed7953"
             ],
             [
              0.7777777777777778,
              "#fb9f3a"
             ],
             [
              0.8888888888888888,
              "#fdca26"
             ],
             [
              1,
              "#f0f921"
             ]
            ],
            "type": "heatmap"
           }
          ],
          "heatmapgl": [
           {
            "colorbar": {
             "outlinewidth": 0,
             "ticks": ""
            },
            "colorscale": [
             [
              0,
              "#0d0887"
             ],
             [
              0.1111111111111111,
              "#46039f"
             ],
             [
              0.2222222222222222,
              "#7201a8"
             ],
             [
              0.3333333333333333,
              "#9c179e"
             ],
             [
              0.4444444444444444,
              "#bd3786"
             ],
             [
              0.5555555555555556,
              "#d8576b"
             ],
             [
              0.6666666666666666,
              "#ed7953"
             ],
             [
              0.7777777777777778,
              "#fb9f3a"
             ],
             [
              0.8888888888888888,
              "#fdca26"
             ],
             [
              1,
              "#f0f921"
             ]
            ],
            "type": "heatmapgl"
           }
          ],
          "histogram": [
           {
            "marker": {
             "pattern": {
              "fillmode": "overlay",
              "size": 10,
              "solidity": 0.2
             }
            },
            "type": "histogram"
           }
          ],
          "histogram2d": [
           {
            "colorbar": {
             "outlinewidth": 0,
             "ticks": ""
            },
            "colorscale": [
             [
              0,
              "#0d0887"
             ],
             [
              0.1111111111111111,
              "#46039f"
             ],
             [
              0.2222222222222222,
              "#7201a8"
             ],
             [
              0.3333333333333333,
              "#9c179e"
             ],
             [
              0.4444444444444444,
              "#bd3786"
             ],
             [
              0.5555555555555556,
              "#d8576b"
             ],
             [
              0.6666666666666666,
              "#ed7953"
             ],
             [
              0.7777777777777778,
              "#fb9f3a"
             ],
             [
              0.8888888888888888,
              "#fdca26"
             ],
             [
              1,
              "#f0f921"
             ]
            ],
            "type": "histogram2d"
           }
          ],
          "histogram2dcontour": [
           {
            "colorbar": {
             "outlinewidth": 0,
             "ticks": ""
            },
            "colorscale": [
             [
              0,
              "#0d0887"
             ],
             [
              0.1111111111111111,
              "#46039f"
             ],
             [
              0.2222222222222222,
              "#7201a8"
             ],
             [
              0.3333333333333333,
              "#9c179e"
             ],
             [
              0.4444444444444444,
              "#bd3786"
             ],
             [
              0.5555555555555556,
              "#d8576b"
             ],
             [
              0.6666666666666666,
              "#ed7953"
             ],
             [
              0.7777777777777778,
              "#fb9f3a"
             ],
             [
              0.8888888888888888,
              "#fdca26"
             ],
             [
              1,
              "#f0f921"
             ]
            ],
            "type": "histogram2dcontour"
           }
          ],
          "mesh3d": [
           {
            "colorbar": {
             "outlinewidth": 0,
             "ticks": ""
            },
            "type": "mesh3d"
           }
          ],
          "parcoords": [
           {
            "line": {
             "colorbar": {
              "outlinewidth": 0,
              "ticks": ""
             }
            },
            "type": "parcoords"
           }
          ],
          "pie": [
           {
            "automargin": true,
            "type": "pie"
           }
          ],
          "scatter": [
           {
            "marker": {
             "line": {
              "color": "#283442"
             }
            },
            "type": "scatter"
           }
          ],
          "scatter3d": [
           {
            "line": {
             "colorbar": {
              "outlinewidth": 0,
              "ticks": ""
             }
            },
            "marker": {
             "colorbar": {
              "outlinewidth": 0,
              "ticks": ""
             }
            },
            "type": "scatter3d"
           }
          ],
          "scattercarpet": [
           {
            "marker": {
             "colorbar": {
              "outlinewidth": 0,
              "ticks": ""
             }
            },
            "type": "scattercarpet"
           }
          ],
          "scattergeo": [
           {
            "marker": {
             "colorbar": {
              "outlinewidth": 0,
              "ticks": ""
             }
            },
            "type": "scattergeo"
           }
          ],
          "scattergl": [
           {
            "marker": {
             "line": {
              "color": "#283442"
             }
            },
            "type": "scattergl"
           }
          ],
          "scattermapbox": [
           {
            "marker": {
             "colorbar": {
              "outlinewidth": 0,
              "ticks": ""
             }
            },
            "type": "scattermapbox"
           }
          ],
          "scatterpolar": [
           {
            "marker": {
             "colorbar": {
              "outlinewidth": 0,
              "ticks": ""
             }
            },
            "type": "scatterpolar"
           }
          ],
          "scatterpolargl": [
           {
            "marker": {
             "colorbar": {
              "outlinewidth": 0,
              "ticks": ""
             }
            },
            "type": "scatterpolargl"
           }
          ],
          "scatterternary": [
           {
            "marker": {
             "colorbar": {
              "outlinewidth": 0,
              "ticks": ""
             }
            },
            "type": "scatterternary"
           }
          ],
          "surface": [
           {
            "colorbar": {
             "outlinewidth": 0,
             "ticks": ""
            },
            "colorscale": [
             [
              0,
              "#0d0887"
             ],
             [
              0.1111111111111111,
              "#46039f"
             ],
             [
              0.2222222222222222,
              "#7201a8"
             ],
             [
              0.3333333333333333,
              "#9c179e"
             ],
             [
              0.4444444444444444,
              "#bd3786"
             ],
             [
              0.5555555555555556,
              "#d8576b"
             ],
             [
              0.6666666666666666,
              "#ed7953"
             ],
             [
              0.7777777777777778,
              "#fb9f3a"
             ],
             [
              0.8888888888888888,
              "#fdca26"
             ],
             [
              1,
              "#f0f921"
             ]
            ],
            "type": "surface"
           }
          ],
          "table": [
           {
            "cells": {
             "fill": {
              "color": "#506784"
             },
             "line": {
              "color": "rgb(17,17,17)"
             }
            },
            "header": {
             "fill": {
              "color": "#2a3f5f"
             },
             "line": {
              "color": "rgb(17,17,17)"
             }
            },
            "type": "table"
           }
          ]
         },
         "layout": {
          "annotationdefaults": {
           "arrowcolor": "#f2f5fa",
           "arrowhead": 0,
           "arrowwidth": 1
          },
          "autotypenumbers": "strict",
          "coloraxis": {
           "colorbar": {
            "outlinewidth": 0,
            "ticks": ""
           }
          },
          "colorscale": {
           "diverging": [
            [
             0,
             "#8e0152"
            ],
            [
             0.1,
             "#c51b7d"
            ],
            [
             0.2,
             "#de77ae"
            ],
            [
             0.3,
             "#f1b6da"
            ],
            [
             0.4,
             "#fde0ef"
            ],
            [
             0.5,
             "#f7f7f7"
            ],
            [
             0.6,
             "#e6f5d0"
            ],
            [
             0.7,
             "#b8e186"
            ],
            [
             0.8,
             "#7fbc41"
            ],
            [
             0.9,
             "#4d9221"
            ],
            [
             1,
             "#276419"
            ]
           ],
           "sequential": [
            [
             0,
             "#0d0887"
            ],
            [
             0.1111111111111111,
             "#46039f"
            ],
            [
             0.2222222222222222,
             "#7201a8"
            ],
            [
             0.3333333333333333,
             "#9c179e"
            ],
            [
             0.4444444444444444,
             "#bd3786"
            ],
            [
             0.5555555555555556,
             "#d8576b"
            ],
            [
             0.6666666666666666,
             "#ed7953"
            ],
            [
             0.7777777777777778,
             "#fb9f3a"
            ],
            [
             0.8888888888888888,
             "#fdca26"
            ],
            [
             1,
             "#f0f921"
            ]
           ],
           "sequentialminus": [
            [
             0,
             "#0d0887"
            ],
            [
             0.1111111111111111,
             "#46039f"
            ],
            [
             0.2222222222222222,
             "#7201a8"
            ],
            [
             0.3333333333333333,
             "#9c179e"
            ],
            [
             0.4444444444444444,
             "#bd3786"
            ],
            [
             0.5555555555555556,
             "#d8576b"
            ],
            [
             0.6666666666666666,
             "#ed7953"
            ],
            [
             0.7777777777777778,
             "#fb9f3a"
            ],
            [
             0.8888888888888888,
             "#fdca26"
            ],
            [
             1,
             "#f0f921"
            ]
           ]
          },
          "colorway": [
           "#636efa",
           "#EF553B",
           "#00cc96",
           "#ab63fa",
           "#FFA15A",
           "#19d3f3",
           "#FF6692",
           "#B6E880",
           "#FF97FF",
           "#FECB52"
          ],
          "font": {
           "color": "#f2f5fa"
          },
          "geo": {
           "bgcolor": "rgb(17,17,17)",
           "lakecolor": "rgb(17,17,17)",
           "landcolor": "rgb(17,17,17)",
           "showlakes": true,
           "showland": true,
           "subunitcolor": "#506784"
          },
          "hoverlabel": {
           "align": "left"
          },
          "hovermode": "closest",
          "mapbox": {
           "style": "dark"
          },
          "paper_bgcolor": "rgb(17,17,17)",
          "plot_bgcolor": "rgb(17,17,17)",
          "polar": {
           "angularaxis": {
            "gridcolor": "#506784",
            "linecolor": "#506784",
            "ticks": ""
           },
           "bgcolor": "rgb(17,17,17)",
           "radialaxis": {
            "gridcolor": "#506784",
            "linecolor": "#506784",
            "ticks": ""
           }
          },
          "scene": {
           "xaxis": {
            "backgroundcolor": "rgb(17,17,17)",
            "gridcolor": "#506784",
            "gridwidth": 2,
            "linecolor": "#506784",
            "showbackground": true,
            "ticks": "",
            "zerolinecolor": "#C8D4E3"
           },
           "yaxis": {
            "backgroundcolor": "rgb(17,17,17)",
            "gridcolor": "#506784",
            "gridwidth": 2,
            "linecolor": "#506784",
            "showbackground": true,
            "ticks": "",
            "zerolinecolor": "#C8D4E3"
           },
           "zaxis": {
            "backgroundcolor": "rgb(17,17,17)",
            "gridcolor": "#506784",
            "gridwidth": 2,
            "linecolor": "#506784",
            "showbackground": true,
            "ticks": "",
            "zerolinecolor": "#C8D4E3"
           }
          },
          "shapedefaults": {
           "line": {
            "color": "#f2f5fa"
           }
          },
          "sliderdefaults": {
           "bgcolor": "#C8D4E3",
           "bordercolor": "rgb(17,17,17)",
           "borderwidth": 1,
           "tickwidth": 0
          },
          "ternary": {
           "aaxis": {
            "gridcolor": "#506784",
            "linecolor": "#506784",
            "ticks": ""
           },
           "baxis": {
            "gridcolor": "#506784",
            "linecolor": "#506784",
            "ticks": ""
           },
           "bgcolor": "rgb(17,17,17)",
           "caxis": {
            "gridcolor": "#506784",
            "linecolor": "#506784",
            "ticks": ""
           }
          },
          "title": {
           "x": 0.05
          },
          "updatemenudefaults": {
           "bgcolor": "#506784",
           "borderwidth": 0
          },
          "xaxis": {
           "automargin": true,
           "gridcolor": "#283442",
           "linecolor": "#506784",
           "ticks": "",
           "title": {
            "standoff": 15
           },
           "zerolinecolor": "#283442",
           "zerolinewidth": 2
          },
          "yaxis": {
           "automargin": true,
           "gridcolor": "#283442",
           "linecolor": "#506784",
           "ticks": "",
           "title": {
            "standoff": 15
           },
           "zerolinecolor": "#283442",
           "zerolinewidth": 2
          }
         }
        },
        "title": {
         "text": "Correlations with Target Variable"
        },
        "xaxis": {
         "anchor": "y",
         "domain": [
          0,
          1
         ],
         "title": {
          "text": "target"
         }
        },
        "yaxis": {
         "anchor": "x",
         "domain": [
          0,
          1
         ],
         "title": {
          "text": "count"
         }
        }
       }
      }
     },
     "metadata": {},
     "output_type": "display_data"
    }
   ],
   "source": [
    "corr: DataFrame = (\n",
    "    application_train.select(cs.by_dtype(pl.NUMERIC_DTYPES)).to_pandas().corr()\n",
    ")\n",
    "corr = pd.DataFrame(corr[\"target\"])\n",
    "\n",
    "px.histogram(\n",
    "    corr, \"target\", title=\"Correlations with Target Variable\"\n",
    ").update_layout(bargap=0.2)"
   ]
  },
  {
   "cell_type": "markdown",
   "metadata": {},
   "source": [
    "The graph above shows the distribution of correlations as a graphical distribution rather than in tabular form because we have so many variables that we're working with. None of our variables are correlated with target, save for target itself."
   ]
  },
  {
   "cell_type": "markdown",
   "metadata": {},
   "source": [
    "## Hypothesis testing"
   ]
  },
  {
   "cell_type": "markdown",
   "metadata": {},
   "source": [
    "### Is there difference in proportions of clients that default when broken down by their region of residence? \n",
    "$H_0$: $p_1$ = $p_2$ = $p_3$<br>\n",
    "$H_1$: $p_1$ $\\neq$ $p_2$ $\\neq$ $p_3$\n"
   ]
  },
  {
   "cell_type": "code",
   "execution_count": 8,
   "metadata": {},
   "outputs": [
    {
     "name": "stdout",
     "output_type": "stream",
     "text": [
      "z = -82.387. Reject null hypothesis. The proportion of credit defaults across values of region_rating_client is not equal.\n"
     ]
    }
   ],
   "source": [
    "region_default: DataFrame = pd.crosstab(\n",
    "    application_train[\"region_rating_client\"].to_pandas(),\n",
    "    application_train[\"target\"].to_pandas(),\n",
    "    rownames=[\"region_rating_client\"],\n",
    "    colnames=[\"target\"],\n",
    ")\n",
    "region_default[\"default_proportion\"] = region_default.iloc[:, 1] / region_default.sum(\n",
    "    axis=1\n",
    ")\n",
    "region_default[\"total\"] = region_default.iloc[:, :-1].sum(axis=1)\n",
    "\n",
    "# pooled sample proportion\n",
    "p1_default_prop:float = region_default.default_proportion.iloc[0]\n",
    "p2_default_prop:float = region_default.default_proportion.iloc[1]\n",
    "p3_default_prop:float = region_default.default_proportion.iloc[2]\n",
    "\n",
    "p1_population:float = region_default.total.iloc[0]\n",
    "p2_population:float = region_default.total.iloc[1]\n",
    "p3_population:float = region_default.total.iloc[2]\n",
    "\n",
    "p:float = (\n",
    "    p1_default_prop * p1_population\n",
    "    + p2_default_prop * p2_population\n",
    "    + p3_default_prop * p3_population\n",
    ") / (p1_population + p2_population + p3_population)\n",
    "\n",
    "# standard error\n",
    "se:float = np.sqrt(\n",
    "    (p * (1 - p)) * ((1 / p1_population) + (1 / p2_population) + (1 / p2_population))\n",
    ")\n",
    "\n",
    "# test statistic\n",
    "z:float = (p1_default_prop - p2_default_prop - p3_default_prop) / se\n",
    "\n",
    "if np.abs(z) < 1.64485:\n",
    "    print(\n",
    "        f\"Fail to reject the null hypothesis. We can assume the default percentage to be the same across {'region_rating_client'}.\"\n",
    "    )\n",
    "else:\n",
    "    print(\n",
    "        f\"z = {z:.3f}. Reject null hypothesis. The proportion of credit defaults across values of {'region_rating_client'} is not equal.\"\n",
    "    )"
   ]
  },
  {
   "cell_type": "markdown",
   "metadata": {},
   "source": [
    "Because both gender and region are not equal across their values when compared to our target variable, we they are more likely to have a significant relationship with default risk. We should include these variables in our predictor pool. This raises the question of what variables we should use to predict our models, given that we feasibly cannot include all of them. Let's move on to feature selection so we can restrict our feature set to one that is both significant and predictive of the target variable without being so onerous to run calculations on. \n"
   ]
  },
  {
   "cell_type": "markdown",
   "metadata": {},
   "source": [
    "### Are younger homeowners are more likely to default on credit payments? "
   ]
  },
  {
   "cell_type": "markdown",
   "metadata": {},
   "source": [
    "$H_0$: $\\mu_d$ =  $\\mu_n$<br>\n",
    "$H_1$:  $\\mu_d$ $\\neq$ $\\mu_n$\n",
    "\n",
    "s.t. <br>\n",
    "$\\mu_d$: the average age of clients who default<br>\n",
    "$\\mu_n$: the average age of clients who do not default"
   ]
  },
  {
   "cell_type": "code",
   "execution_count": 9,
   "metadata": {},
   "outputs": [
    {
     "name": "stdout",
     "output_type": "stream",
     "text": [
      "Two-sample t-test results:\n",
      "\n",
      "t-statistic: 43.517\n",
      "p-value: 0.000\n",
      "\n",
      "Reject the null hypothesis: there is a significant difference in the average ages \n",
      "of clients who default vs. those who don't.\n",
      "\n"
     ]
    }
   ],
   "source": [
    "age_df: DataFrame = application_train[[\"target\", \"days_birth\"]]\n",
    "age_df = age_df.with_columns((pl.col(\"days_birth\") // -365)).rename(\n",
    "    {\"days_birth\": \"age\"}\n",
    ")\n",
    "\n",
    "age_default: Series = age_df.filter(pl.col(\"target\") == 1)[\"age\"]\n",
    "age_no_default: Series = age_df.filter(pl.col(\"target\") == 0)[\"age\"]\n",
    "\n",
    "t_stat, p_value = stats.ttest_ind(age_no_default, age_default)\n",
    "\n",
    "print(\"Two-sample t-test results:\\n\")\n",
    "print(f\"t-statistic: {t_stat:.3f}\")\n",
    "print(f\"p-value: {p_value:.3f}\\n\")\n",
    "\n",
    "if p_value < 0.05:\n",
    "    print(\n",
    "        \"Reject the null hypothesis: there is a significant difference in the average ages \\nof clients who default vs. those who don't.\\n\"\n",
    "    )\n",
    "else:\n",
    "    print(\n",
    "        \"Fail to reject the null hypothesis: there is no significant difference in the average ages of clients who \\ndefault vs. those who don't.\\n\"\n",
    "    )"
   ]
  },
  {
   "cell_type": "markdown",
   "metadata": {},
   "source": [
    "## Preparing data for modeling\n"
   ]
  },
  {
   "cell_type": "markdown",
   "metadata": {},
   "source": [
    "Before we start creating models, it's important to lay out what our north star assessment criteria are for model assessment, and secondarily how we will choose what a high-performing model is. \n",
    "\n",
    "Given that our business problem is designing predictive classifiers of credit clients that are likely to default on payments, and that our training data is highly imbalanced such that our positive class is the minority class at a ratio of 10:1, we will need to be very precise in our metric selection. \n",
    "\n",
    "Therefore each model that we create will be judged on its ROC-AUC score, F1 score, Matthews Correlation Coefficient, Balanced Accuracy, Precision, and Recall. This sounds like a long list of metrics, so our primary determinants will be the ROC-AUC and MCC since ROC-AUC can be less powerful for highly imbalanced datasets, and MCC gives a pretty comprehensive view of a model's performance across all 4 quadrants of the confusion matrix."
   ]
  },
  {
   "cell_type": "markdown",
   "metadata": {
    "id": "Svdmqv55uwMC"
   },
   "source": [
    "## Modeling"
   ]
  },
  {
   "cell_type": "markdown",
   "metadata": {},
   "source": [
    "Now that we've defined our metrics set and evaluation method, our workflow for the next section is as follows: \n",
    "1. Create pipelines to impute missing values, scale data, and fit to our classifier of choice\n",
    "2. Calculate model statistics for each classifier\n",
    "\n"
   ]
  },
  {
   "cell_type": "code",
   "execution_count": 10,
   "metadata": {},
   "outputs": [],
   "source": [
    "application_train: DataFrame = create_formatted_df(\"application_train.csv\")\n",
    "\n",
    "x: DataFrame = application_train.drop([\"sk_id_curr\", \"target\"]).to_pandas()\n",
    "y: DataFrame = pl.DataFrame(application_train[\"target\"]).to_pandas()\n",
    "\n",
    "\n",
    "x_train, x_test, y_train, y_test = train_test_split(\n",
    "    x, y, test_size=0.3, random_state=0, stratify=y\n",
    ")\n",
    "\n",
    "y_train: NDArray = np.array(y_train).ravel()\n",
    "\n",
    "numerical_columns: list[str] = [\n",
    "    *x.select_dtypes(exclude=[\"object\", \"category\"]).columns\n",
    "]\n",
    "\n",
    "categorical_columns: list[str] = [\n",
    "    *x.select_dtypes(include=[\"object\", \"category\"]).columns\n",
    "]"
   ]
  },
  {
   "cell_type": "markdown",
   "metadata": {},
   "source": [
    "Now that we've defined the data that we'll be using for our modeling, we'll begin by taking a look at logistic regression."
   ]
  },
  {
   "cell_type": "code",
   "execution_count": 11,
   "metadata": {},
   "outputs": [
    {
     "name": "stderr",
     "output_type": "stream",
     "text": [
      "[I 2024-12-31 13:05:14,492] A new study created in memory with name: lgbm\n",
      "\n",
      "[I 2024-12-31 13:05:22,027] Trial 0 finished with value: 0.5015996625656801 and parameters: {'numerical_strategy': 'median', 'with_centering': True, 'with_scaling': False, 'categorical_strategy': 'constant', 'sigma': 0.10390188698471643, 'regularization': 4.8495492608099715, 'randomized': True, 'boosting_type': 'dart', 'num_leaves': 21, 'max_depth': 10, 'n_estimators': 85, 'class_weight': None, 'learning_rate': 0.13949386065204183}. Best is trial 0 with value: 0.5015996625656801.\n",
      "[I 2024-12-31 13:05:27,500] Trial 1 finished with value: 0.6527110627714303 and parameters: {'numerical_strategy': 'constant', 'with_centering': False, 'with_scaling': True, 'categorical_strategy': 'most_frequent', 'sigma': 0.32619291333341227, 'regularization': 4.7444276862666666, 'randomized': True, 'boosting_type': 'gbdt', 'num_leaves': 45, 'max_depth': 8, 'n_estimators': 49, 'class_weight': 'balanced', 'learning_rate': 0.9093204020787821}. Best is trial 1 with value: 0.6527110627714303.\n",
      "[I 2024-12-31 13:05:35,418] Trial 2 finished with value: 0.683255283656031 and parameters: {'numerical_strategy': 'median', 'with_centering': True, 'with_scaling': True, 'categorical_strategy': 'most_frequent', 'sigma': 2.9899019940766145, 'regularization': 4.609371175115584, 'randomized': False, 'boosting_type': 'dart', 'num_leaves': 26, 'max_depth': 4, 'n_estimators': 131, 'class_weight': 'balanced', 'learning_rate': 0.5426960831582485}. Best is trial 2 with value: 0.683255283656031.\n",
      "[I 2024-12-31 13:05:40,399] Trial 3 finished with value: 0.5182726908650436 and parameters: {'numerical_strategy': 'constant', 'with_centering': True, 'with_scaling': False, 'categorical_strategy': 'constant', 'sigma': 3.8565804630830423, 'regularization': 0.3702232586704518, 'randomized': True, 'boosting_type': 'gbdt', 'num_leaves': 22, 'max_depth': 0, 'n_estimators': 71, 'class_weight': None, 'learning_rate': 0.6375574713552131}. Best is trial 2 with value: 0.683255283656031.\n",
      "[I 2024-12-31 13:05:46,101] Trial 4 finished with value: 0.6778295617335779 and parameters: {'numerical_strategy': 'mean', 'with_centering': True, 'with_scaling': True, 'categorical_strategy': 'most_frequent', 'sigma': 0.12807021459373183, 'regularization': 0.5394571349665223, 'randomized': False, 'boosting_type': 'dart', 'num_leaves': 59, 'max_depth': 4, 'n_estimators': 82, 'class_weight': 'balanced', 'learning_rate': 0.07697990982879299}. Best is trial 2 with value: 0.683255283656031.\n",
      "[I 2024-12-31 13:05:52,287] Trial 5 finished with value: 0.6805310620365239 and parameters: {'numerical_strategy': 'most_frequent', 'with_centering': False, 'with_scaling': True, 'categorical_strategy': 'most_frequent', 'sigma': 4.037393335665149, 'regularization': 4.480456499617466, 'randomized': True, 'boosting_type': 'dart', 'num_leaves': 53, 'max_depth': 17, 'n_estimators': 35, 'class_weight': 'balanced', 'learning_rate': 0.22210781047073025}. Best is trial 2 with value: 0.683255283656031.\n",
      "[I 2024-12-31 13:05:57,930] Trial 6 finished with value: 0.6816400249039853 and parameters: {'numerical_strategy': 'most_frequent', 'with_centering': False, 'with_scaling': False, 'categorical_strategy': 'most_frequent', 'sigma': 2.4867452809560344, 'regularization': 1.5043915490838482, 'randomized': True, 'boosting_type': 'gbdt', 'num_leaves': 5, 'max_depth': 5, 'n_estimators': 140, 'class_weight': 'balanced', 'learning_rate': 0.489452760277563}. Best is trial 2 with value: 0.683255283656031.\n",
      "[I 2024-12-31 13:06:04,415] Trial 7 finished with value: 0.5062192830641045 and parameters: {'numerical_strategy': 'mean', 'with_centering': False, 'with_scaling': False, 'categorical_strategy': 'most_frequent', 'sigma': 0.4523585605019871, 'regularization': 4.17651247794619, 'randomized': True, 'boosting_type': 'dart', 'num_leaves': 44, 'max_depth': -1, 'n_estimators': 94, 'class_weight': None, 'learning_rate': 0.17436642900499144}. Best is trial 2 with value: 0.683255283656031.\n",
      "[I 2024-12-31 13:06:11,434] Trial 8 finished with value: 0.5158552215448368 and parameters: {'numerical_strategy': 'most_frequent', 'with_centering': True, 'with_scaling': True, 'categorical_strategy': 'constant', 'sigma': 4.086293778805878, 'regularization': 2.7760040579973118, 'randomized': True, 'boosting_type': 'dart', 'num_leaves': 58, 'max_depth': 12, 'n_estimators': 74, 'class_weight': None, 'learning_rate': 0.8971102599525771}. Best is trial 2 with value: 0.683255283656031.\n",
      "[I 2024-12-31 13:06:16,651] Trial 9 finished with value: 0.6653488593322192 and parameters: {'numerical_strategy': 'mean', 'with_centering': False, 'with_scaling': True, 'categorical_strategy': 'constant', 'sigma': 0.026302857647247213, 'regularization': 0.8040402570874933, 'randomized': False, 'boosting_type': 'gbdt', 'num_leaves': 46, 'max_depth': 4, 'n_estimators': 72, 'class_weight': 'balanced', 'learning_rate': 0.8492234104941779}. Best is trial 2 with value: 0.683255283656031.\n",
      "[I 2024-12-31 13:06:23,034] Trial 10 finished with value: 0.5095326868626521 and parameters: {'numerical_strategy': 'mean', 'with_centering': True, 'with_scaling': True, 'categorical_strategy': 'most_frequent', 'sigma': 3.9742617064047, 'regularization': 2.5131854655259604, 'randomized': True, 'boosting_type': 'dart', 'num_leaves': 19, 'max_depth': -1, 'n_estimators': 109, 'class_weight': None, 'learning_rate': 0.9539285770025874}. Best is trial 2 with value: 0.683255283656031.\n",
      "[I 2024-12-31 13:06:27,848] Trial 11 finished with value: 0.682814510287394 and parameters: {'numerical_strategy': 'constant', 'with_centering': False, 'with_scaling': True, 'categorical_strategy': 'constant', 'sigma': 4.255832220912768, 'regularization': 1.5846100257813882, 'randomized': False, 'boosting_type': 'gbdt', 'num_leaves': 37, 'max_depth': 1, 'n_estimators': 106, 'class_weight': 'balanced', 'learning_rate': 0.5183296523637367}. Best is trial 2 with value: 0.683255283656031.\n",
      "[I 2024-12-31 13:06:34,208] Trial 12 finished with value: 0.5001572812121897 and parameters: {'numerical_strategy': 'mean', 'with_centering': True, 'with_scaling': False, 'categorical_strategy': 'constant', 'sigma': 2.557200651905828, 'regularization': 2.507581473435998, 'randomized': True, 'boosting_type': 'dart', 'num_leaves': 58, 'max_depth': 6, 'n_estimators': 78, 'class_weight': None, 'learning_rate': 0.035942273796742086}. Best is trial 2 with value: 0.683255283656031.\n",
      "[I 2024-12-31 13:06:41,673] Trial 13 finished with value: 0.6806116744137034 and parameters: {'numerical_strategy': 'constant', 'with_centering': False, 'with_scaling': True, 'categorical_strategy': 'constant', 'sigma': 3.850197771939955, 'regularization': 1.0791051374842158, 'randomized': True, 'boosting_type': 'dart', 'num_leaves': 36, 'max_depth': 13, 'n_estimators': 119, 'class_weight': 'balanced', 'learning_rate': 0.32295647294124596}. Best is trial 2 with value: 0.683255283656031.\n",
      "[I 2024-12-31 13:06:48,893] Trial 14 finished with value: 0.6631133338902719 and parameters: {'numerical_strategy': 'mean', 'with_centering': False, 'with_scaling': True, 'categorical_strategy': 'most_frequent', 'sigma': 0.7830287763127591, 'regularization': 1.2512144908229765, 'randomized': False, 'boosting_type': 'gbdt', 'num_leaves': 62, 'max_depth': 15, 'n_estimators': 99, 'class_weight': 'balanced', 'learning_rate': 0.24773098950115746}. Best is trial 2 with value: 0.683255283656031.\n",
      "[I 2024-12-31 13:06:57,148] Trial 15 finished with value: 0.6494514524884839 and parameters: {'numerical_strategy': 'median', 'with_centering': True, 'with_scaling': True, 'categorical_strategy': 'most_frequent', 'sigma': 2.4585877597090446, 'regularization': 2.3673588539028283, 'randomized': False, 'boosting_type': 'dart', 'num_leaves': 42, 'max_depth': -1, 'n_estimators': 78, 'class_weight': 'balanced', 'learning_rate': 0.8564898411883223}. Best is trial 2 with value: 0.683255283656031.\n",
      "[I 2024-12-31 13:07:02,282] Trial 16 finished with value: 0.5140888545049142 and parameters: {'numerical_strategy': 'mean', 'with_centering': False, 'with_scaling': True, 'categorical_strategy': 'constant', 'sigma': 2.2918061995670915, 'regularization': 2.728083946579675, 'randomized': True, 'boosting_type': 'gbdt', 'num_leaves': 14, 'max_depth': 0, 'n_estimators': 46, 'class_weight': None, 'learning_rate': 0.6830067734163568}. Best is trial 2 with value: 0.683255283656031.\n",
      "[I 2024-12-31 13:07:09,402] Trial 17 finished with value: 0.6519377089006307 and parameters: {'numerical_strategy': 'most_frequent', 'with_centering': True, 'with_scaling': False, 'categorical_strategy': 'constant', 'sigma': 3.6756201479756245, 'regularization': 4.017404651924243, 'randomized': True, 'boosting_type': 'dart', 'num_leaves': 64, 'max_depth': 8, 'n_estimators': 78, 'class_weight': 'balanced', 'learning_rate': 0.9307573256035647}. Best is trial 2 with value: 0.683255283656031.\n",
      "[I 2024-12-31 13:07:17,332] Trial 18 finished with value: 0.6765912356128276 and parameters: {'numerical_strategy': 'mean', 'with_centering': False, 'with_scaling': False, 'categorical_strategy': 'constant', 'sigma': 1.9466191919920812, 'regularization': 0.0541882574014918, 'randomized': True, 'boosting_type': 'dart', 'num_leaves': 61, 'max_depth': 11, 'n_estimators': 108, 'class_weight': 'balanced', 'learning_rate': 0.32866454536991596}. Best is trial 2 with value: 0.683255283656031.\n",
      "[I 2024-12-31 13:07:22,583] Trial 19 finished with value: 0.6791145588637884 and parameters: {'numerical_strategy': 'most_frequent', 'with_centering': False, 'with_scaling': False, 'categorical_strategy': 'constant', 'sigma': 1.7552241477478412, 'regularization': 0.5853350821380293, 'randomized': False, 'boosting_type': 'gbdt', 'num_leaves': 7, 'max_depth': 14, 'n_estimators': 43, 'class_weight': 'balanced', 'learning_rate': 0.08134878064189976}. Best is trial 2 with value: 0.683255283656031.\n",
      "[I 2024-12-31 13:07:29,205] Trial 20 finished with value: 0.6767808063185844 and parameters: {'numerical_strategy': 'median', 'with_centering': False, 'with_scaling': True, 'categorical_strategy': 'most_frequent', 'sigma': 3.885957432721256, 'regularization': 2.792021248679025, 'randomized': False, 'boosting_type': 'dart', 'num_leaves': 2, 'max_depth': 9, 'n_estimators': 41, 'class_weight': 'balanced', 'learning_rate': 0.6492103021160636}. Best is trial 2 with value: 0.683255283656031.\n",
      "[I 2024-12-31 13:07:37,519] Trial 21 finished with value: 0.651254892365661 and parameters: {'numerical_strategy': 'most_frequent', 'with_centering': False, 'with_scaling': False, 'categorical_strategy': 'constant', 'sigma': 0.21675639984092998, 'regularization': 4.455715568490356, 'randomized': False, 'boosting_type': 'dart', 'num_leaves': 63, 'max_depth': 10, 'n_estimators': 108, 'class_weight': 'balanced', 'learning_rate': 0.6275580800840634}. Best is trial 2 with value: 0.683255283656031.\n",
      "[I 2024-12-31 13:07:45,585] Trial 22 finished with value: 0.6825060069387857 and parameters: {'numerical_strategy': 'median', 'with_centering': True, 'with_scaling': False, 'categorical_strategy': 'most_frequent', 'sigma': 2.3190283262949705, 'regularization': 1.766761140130264, 'randomized': True, 'boosting_type': 'dart', 'num_leaves': 45, 'max_depth': 10, 'n_estimators': 70, 'class_weight': 'balanced', 'learning_rate': 0.1626169393448913}. Best is trial 2 with value: 0.683255283656031.\n",
      "[I 2024-12-31 13:07:54,273] Trial 23 finished with value: 0.6557226952422975 and parameters: {'numerical_strategy': 'most_frequent', 'with_centering': True, 'with_scaling': True, 'categorical_strategy': 'most_frequent', 'sigma': 1.8829403710233696, 'regularization': 4.052766653909164, 'randomized': True, 'boosting_type': 'gbdt', 'num_leaves': 63, 'max_depth': 17, 'n_estimators': 132, 'class_weight': 'balanced', 'learning_rate': 0.27340707193070624}. Best is trial 2 with value: 0.683255283656031.\n",
      "[I 2024-12-31 13:07:59,475] Trial 24 finished with value: 0.6650075124818151 and parameters: {'numerical_strategy': 'constant', 'with_centering': True, 'with_scaling': False, 'categorical_strategy': 'most_frequent', 'sigma': 2.253270132415157, 'regularization': 0.6457970757574749, 'randomized': True, 'boosting_type': 'dart', 'num_leaves': 40, 'max_depth': 6, 'n_estimators': 48, 'class_weight': 'balanced', 'learning_rate': 0.7723183917356393}. Best is trial 2 with value: 0.683255283656031.\n",
      "[I 2024-12-31 13:08:08,367] Trial 25 finished with value: 0.5112043930866375 and parameters: {'numerical_strategy': 'median', 'with_centering': True, 'with_scaling': True, 'categorical_strategy': 'most_frequent', 'sigma': 3.520694760728018, 'regularization': 1.0648208075445535, 'randomized': True, 'boosting_type': 'dart', 'num_leaves': 26, 'max_depth': 8, 'n_estimators': 139, 'class_weight': None, 'learning_rate': 0.7836530127411431}. Best is trial 2 with value: 0.683255283656031.\n",
      "[I 2024-12-31 13:08:13,362] Trial 26 finished with value: 0.6771932342244676 and parameters: {'numerical_strategy': 'constant', 'with_centering': False, 'with_scaling': True, 'categorical_strategy': 'constant', 'sigma': 2.4635978518703547, 'regularization': 1.643758051437541, 'randomized': True, 'boosting_type': 'dart', 'num_leaves': 10, 'max_depth': 2, 'n_estimators': 51, 'class_weight': 'balanced', 'learning_rate': 0.3456672833238632}. Best is trial 2 with value: 0.683255283656031.\n",
      "[I 2024-12-31 13:08:18,559] Trial 27 finished with value: 0.5074181001012658 and parameters: {'numerical_strategy': 'mean', 'with_centering': True, 'with_scaling': False, 'categorical_strategy': 'most_frequent', 'sigma': 0.6040587196319034, 'regularization': 2.303893840163629, 'randomized': False, 'boosting_type': 'dart', 'num_leaves': 4, 'max_depth': 16, 'n_estimators': 107, 'class_weight': None, 'learning_rate': 0.9208724005318132}. Best is trial 2 with value: 0.683255283656031.\n",
      "[I 2024-12-31 13:08:24,397] Trial 28 finished with value: 0.5112634648812213 and parameters: {'numerical_strategy': 'most_frequent', 'with_centering': False, 'with_scaling': False, 'categorical_strategy': 'most_frequent', 'sigma': 2.3132110459496062, 'regularization': 3.7373546906687825, 'randomized': False, 'boosting_type': 'dart', 'num_leaves': 34, 'max_depth': 10, 'n_estimators': 47, 'class_weight': None, 'learning_rate': 0.24247050363472966}. Best is trial 2 with value: 0.683255283656031.\n",
      "[I 2024-12-31 13:08:30,695] Trial 29 finished with value: 0.5026664285114425 and parameters: {'numerical_strategy': 'median', 'with_centering': False, 'with_scaling': False, 'categorical_strategy': 'constant', 'sigma': 3.9460670217980836, 'regularization': 2.492210994645286, 'randomized': False, 'boosting_type': 'dart', 'num_leaves': 29, 'max_depth': 1, 'n_estimators': 67, 'class_weight': None, 'learning_rate': 0.5707783046689119}. Best is trial 2 with value: 0.683255283656031.\n",
      "[I 2024-12-31 13:08:34,439] A new study created in memory with name: lgbm_rf\n",
      "\n",
      "[I 2024-12-31 13:08:41,039] Trial 0 finished with value: 0.6540690797929496 and parameters: {'numerical_strategy': 'median', 'with_centering': True, 'with_scaling': False, 'categorical_strategy': 'constant', 'sigma': 0.10390188698471643, 'regularization': 4.8495492608099715, 'randomized': True, 'num_leaves': 13, 'max_depth': 3, 'n_estimators': 70, 'class_weight': 'balanced', 'bagging_freq': 30, 'feature_fraction_bynode': 0.6118528947223795, 'extra_trees': False, 'min_data_in_leaf': 37, 'bagging_fraction': 0.46485598737362877}. Best is trial 0 with value: 0.6540690797929496.\n",
      "[I 2024-12-31 13:08:45,877] Trial 1 finished with value: 0.5 and parameters: {'numerical_strategy': 'mean', 'with_centering': False, 'with_scaling': True, 'categorical_strategy': 'constant', 'sigma': 4.042178343234189, 'regularization': 1.5230688458668533, 'randomized': False, 'num_leaves': 29, 'max_depth': 1, 'n_estimators': 92, 'class_weight': None, 'bagging_freq': 26, 'feature_fraction_bynode': 0.662522284353982, 'extra_trees': False, 'min_data_in_leaf': 55, 'bagging_fraction': 0.24788356442042164}. Best is trial 0 with value: 0.6540690797929496.\n",
      "[I 2024-12-31 13:08:50,908] Trial 2 finished with value: 0.6684382099302154 and parameters: {'numerical_strategy': 'mean', 'with_centering': False, 'with_scaling': False, 'categorical_strategy': 'constant', 'sigma': 1.9439977711577203, 'regularization': 1.3567451588694794, 'randomized': True, 'num_leaves': 19, 'max_depth': 10, 'n_estimators': 51, 'class_weight': 'balanced', 'bagging_freq': 99, 'feature_fraction_bynode': 0.7722447692966574, 'extra_trees': True, 'min_data_in_leaf': 82, 'bagging_fraction': 0.6654858750780936}. Best is trial 2 with value: 0.6684382099302154.\n",
      "[I 2024-12-31 13:08:57,540] Trial 3 finished with value: 0.6536008947847188 and parameters: {'numerical_strategy': 'median', 'with_centering': False, 'with_scaling': True, 'categorical_strategy': 'constant', 'sigma': 1.6265914268117083, 'regularization': 3.64803089169032, 'randomized': False, 'num_leaves': 31, 'max_depth': 1, 'n_estimators': 117, 'class_weight': 'balanced', 'bagging_freq': 78, 'feature_fraction_bynode': 0.49379559636439074, 'extra_trees': True, 'min_data_in_leaf': 3, 'bagging_fraction': 0.18631314159464357}. Best is trial 2 with value: 0.6684382099302154.\n",
      "[I 2024-12-31 13:09:05,823] Trial 4 finished with value: 0.5071790386234668 and parameters: {'numerical_strategy': 'median', 'with_centering': True, 'with_scaling': False, 'categorical_strategy': 'most_frequent', 'sigma': 1.4494675131159263, 'regularization': 0.8061064362700221, 'randomized': True, 'num_leaves': 41, 'max_depth': 18, 'n_estimators': 128, 'class_weight': None, 'bagging_freq': 54, 'feature_fraction_bynode': 0.8074401551640625, 'extra_trees': True, 'min_data_in_leaf': 12, 'bagging_fraction': 0.28234813003355336}. Best is trial 2 with value: 0.6684382099302154.\n",
      "[I 2024-12-31 13:09:12,793] Trial 5 finished with value: 0.6219405501549526 and parameters: {'numerical_strategy': 'most_frequent', 'with_centering': True, 'with_scaling': True, 'categorical_strategy': 'constant', 'sigma': 1.6166914571717552, 'regularization': 2.5939531087168306, 'randomized': True, 'num_leaves': 63, 'max_depth': 20, 'n_estimators': 64, 'class_weight': 'balanced', 'bagging_freq': 29, 'feature_fraction_bynode': 0.036886947354532795, 'extra_trees': True, 'min_data_in_leaf': 6, 'bagging_fraction': 0.32291717138928916}. Best is trial 2 with value: 0.6684382099302154.\n",
      "[I 2024-12-31 13:09:17,726] Trial 6 finished with value: 0.6524320429446061 and parameters: {'numerical_strategy': 'mean', 'with_centering': True, 'with_scaling': False, 'categorical_strategy': 'constant', 'sigma': 1.8395478804635466, 'regularization': 3.1615291529678973, 'randomized': True, 'num_leaves': 7, 'max_depth': 17, 'n_estimators': 72, 'class_weight': 'balanced', 'bagging_freq': 60, 'feature_fraction_bynode': 0.6775643618422824, 'extra_trees': False, 'min_data_in_leaf': 23, 'bagging_fraction': 0.6161382323275599}. Best is trial 2 with value: 0.6684382099302154.\n",
      "[I 2024-12-31 13:09:23,136] Trial 7 finished with value: 0.6295159445133282 and parameters: {'numerical_strategy': 'constant', 'with_centering': False, 'with_scaling': False, 'categorical_strategy': 'most_frequent', 'sigma': 3.3002602461248607, 'regularization': 4.0861110010060795, 'randomized': True, 'num_leaves': 17, 'max_depth': 1, 'n_estimators': 139, 'class_weight': 'balanced', 'bagging_freq': 34, 'feature_fraction_bynode': 0.3492095746126609, 'extra_trees': False, 'min_data_in_leaf': 89, 'bagging_fraction': 0.7239004366860992}. Best is trial 2 with value: 0.6684382099302154.\n",
      "[I 2024-12-31 13:09:27,999] Trial 8 finished with value: 0.6570969871435043 and parameters: {'numerical_strategy': 'constant', 'with_centering': True, 'with_scaling': False, 'categorical_strategy': 'constant', 'sigma': 2.744120213043564, 'regularization': 3.459475988463466, 'randomized': True, 'num_leaves': 46, 'max_depth': 4, 'n_estimators': 72, 'class_weight': 'balanced', 'bagging_freq': 85, 'feature_fraction_bynode': 0.6576128923003434, 'extra_trees': True, 'min_data_in_leaf': 37, 'bagging_fraction': 0.31216189414538037}. Best is trial 2 with value: 0.6684382099302154.\n",
      "[I 2024-12-31 13:09:37,535] Trial 9 finished with value: 0.6534825922021141 and parameters: {'numerical_strategy': 'median', 'with_centering': False, 'with_scaling': False, 'categorical_strategy': 'most_frequent', 'sigma': 3.6125381241922647, 'regularization': 1.403861812204279, 'randomized': False, 'num_leaves': 13, 'max_depth': 19, 'n_estimators': 145, 'class_weight': 'balanced', 'bagging_freq': 2, 'feature_fraction_bynode': 0.9283185625877254, 'extra_trees': False, 'min_data_in_leaf': 97, 'bagging_fraction': 0.782407564373888}. Best is trial 2 with value: 0.6684382099302154.\n",
      "[I 2024-12-31 13:09:45,775] Trial 10 finished with value: 0.6689939104883666 and parameters: {'numerical_strategy': 'most_frequent', 'with_centering': False, 'with_scaling': True, 'categorical_strategy': 'most_frequent', 'sigma': 3.0754211262691493, 'regularization': 4.950269250521316, 'randomized': False, 'num_leaves': 57, 'max_depth': 15, 'n_estimators': 115, 'class_weight': 'balanced', 'bagging_freq': 30, 'feature_fraction_bynode': 0.8093611554785136, 'extra_trees': False, 'min_data_in_leaf': 92, 'bagging_fraction': 0.5090739190887502}. Best is trial 10 with value: 0.6689939104883666.\n",
      "[I 2024-12-31 13:09:52,612] Trial 11 finished with value: 0.6701349510801835 and parameters: {'numerical_strategy': 'median', 'with_centering': False, 'with_scaling': False, 'categorical_strategy': 'constant', 'sigma': 0.18067542670991368, 'regularization': 2.3279900906623006, 'randomized': True, 'num_leaves': 39, 'max_depth': -1, 'n_estimators': 39, 'class_weight': 'balanced', 'bagging_freq': 13, 'feature_fraction_bynode': 0.5222432600548044, 'extra_trees': True, 'min_data_in_leaf': 63, 'bagging_fraction': 0.1682779719950144}. Best is trial 11 with value: 0.6701349510801835.\n",
      "[I 2024-12-31 13:09:59,684] Trial 12 finished with value: 0.6664515208538918 and parameters: {'numerical_strategy': 'constant', 'with_centering': False, 'with_scaling': True, 'categorical_strategy': 'most_frequent', 'sigma': 2.195418132107475, 'regularization': 0.3922819067113298, 'randomized': False, 'num_leaves': 54, 'max_depth': 14, 'n_estimators': 82, 'class_weight': 'balanced', 'bagging_freq': 26, 'feature_fraction_bynode': 0.5492266647061205, 'extra_trees': True, 'min_data_in_leaf': 28, 'bagging_fraction': 0.8638922245305553}. Best is trial 11 with value: 0.6701349510801835.\n",
      "[I 2024-12-31 13:10:05,639] Trial 13 finished with value: 0.5 and parameters: {'numerical_strategy': 'mean', 'with_centering': False, 'with_scaling': True, 'categorical_strategy': 'most_frequent', 'sigma': 0.2046032827925317, 'regularization': 4.277302920055036, 'randomized': True, 'num_leaves': 8, 'max_depth': 9, 'n_estimators': 89, 'class_weight': None, 'bagging_freq': 40, 'feature_fraction_bynode': 0.6158500980522165, 'extra_trees': True, 'min_data_in_leaf': 38, 'bagging_fraction': 0.6006879325713891}. Best is trial 11 with value: 0.6701349510801835.\n",
      "[I 2024-12-31 13:10:15,128] Trial 14 finished with value: 0.668557842212298 and parameters: {'numerical_strategy': 'median', 'with_centering': False, 'with_scaling': False, 'categorical_strategy': 'most_frequent', 'sigma': 1.9414614611064027, 'regularization': 3.216441092211766, 'randomized': False, 'num_leaves': 61, 'max_depth': 7, 'n_estimators': 146, 'class_weight': 'balanced', 'bagging_freq': 7, 'feature_fraction_bynode': 0.10077800137742665, 'extra_trees': False, 'min_data_in_leaf': 69, 'bagging_fraction': 0.1569509187681832}. Best is trial 11 with value: 0.6701349510801835.\n",
      "[I 2024-12-31 13:10:23,776] Trial 15 finished with value: 0.5116463431952419 and parameters: {'numerical_strategy': 'median', 'with_centering': True, 'with_scaling': True, 'categorical_strategy': 'most_frequent', 'sigma': 4.017601170993858, 'regularization': 1.4101728628565324, 'randomized': False, 'num_leaves': 52, 'max_depth': 20, 'n_estimators': 82, 'class_weight': None, 'bagging_freq': 35, 'feature_fraction_bynode': 0.9307573256035647, 'extra_trees': True, 'min_data_in_leaf': 76, 'bagging_fraction': 0.7036342992677459}. Best is trial 11 with value: 0.6701349510801835.\n",
      "[I 2024-12-31 13:10:31,397] Trial 16 finished with value: 0.5018275193375299 and parameters: {'numerical_strategy': 'median', 'with_centering': False, 'with_scaling': True, 'categorical_strategy': 'most_frequent', 'sigma': 1.5972488743144837, 'regularization': 4.750309835254025, 'randomized': True, 'num_leaves': 41, 'max_depth': 8, 'n_estimators': 69, 'class_weight': None, 'bagging_freq': 76, 'feature_fraction_bynode': 0.7915790437258485, 'extra_trees': True, 'min_data_in_leaf': 50, 'bagging_fraction': 0.14604700801331544}. Best is trial 11 with value: 0.6701349510801835.\n",
      "[I 2024-12-31 13:10:37,574] Trial 17 finished with value: 0.6556289657703673 and parameters: {'numerical_strategy': 'most_frequent', 'with_centering': False, 'with_scaling': True, 'categorical_strategy': 'most_frequent', 'sigma': 3.5051446881641404, 'regularization': 0.36381503182096764, 'randomized': True, 'num_leaves': 7, 'max_depth': 0, 'n_estimators': 149, 'class_weight': 'balanced', 'bagging_freq': 82, 'feature_fraction_bynode': 0.9472485773838587, 'extra_trees': True, 'min_data_in_leaf': 38, 'bagging_fraction': 0.166800573358935}. Best is trial 11 with value: 0.6701349510801835.\n",
      "[I 2024-12-31 13:10:42,394] Trial 18 finished with value: 0.5780421005495716 and parameters: {'numerical_strategy': 'constant', 'with_centering': False, 'with_scaling': False, 'categorical_strategy': 'constant', 'sigma': 0.5885137076387472, 'regularization': 3.246051510580318, 'randomized': True, 'num_leaves': 62, 'max_depth': 7, 'n_estimators': 68, 'class_weight': 'balanced', 'bagging_freq': 97, 'feature_fraction_bynode': 0.012154474689816341, 'extra_trees': True, 'min_data_in_leaf': 90, 'bagging_fraction': 0.5221608872690399}. Best is trial 11 with value: 0.6701349510801835.\n",
      "[I 2024-12-31 13:10:50,048] Trial 19 finished with value: 0.6733206878043392 and parameters: {'numerical_strategy': 'mean', 'with_centering': False, 'with_scaling': True, 'categorical_strategy': 'most_frequent', 'sigma': 4.505888894444454, 'regularization': 0.22723190170728935, 'randomized': False, 'num_leaves': 58, 'max_depth': 9, 'n_estimators': 106, 'class_weight': 'balanced', 'bagging_freq': 47, 'feature_fraction_bynode': 0.3533522280260528, 'extra_trees': True, 'min_data_in_leaf': 98, 'bagging_fraction': 0.8889685955836824}. Best is trial 19 with value: 0.6733206878043392.\n",
      "[I 2024-12-31 13:10:55,298] Trial 20 finished with value: 0.5 and parameters: {'numerical_strategy': 'constant', 'with_centering': True, 'with_scaling': True, 'categorical_strategy': 'most_frequent', 'sigma': 3.067462564483013, 'regularization': 2.0912151814530944, 'randomized': True, 'num_leaves': 4, 'max_depth': -1, 'n_estimators': 78, 'class_weight': None, 'bagging_freq': 16, 'feature_fraction_bynode': 0.5941307153521351, 'extra_trees': False, 'min_data_in_leaf': 85, 'bagging_fraction': 0.7706629637689103}. Best is trial 19 with value: 0.6733206878043392.\n",
      "[I 2024-12-31 13:11:00,755] Trial 21 finished with value: 0.510418224289165 and parameters: {'numerical_strategy': 'mean', 'with_centering': True, 'with_scaling': True, 'categorical_strategy': 'constant', 'sigma': 4.723883883682258, 'regularization': 4.248236953387058, 'randomized': False, 'num_leaves': 10, 'max_depth': 19, 'n_estimators': 105, 'class_weight': None, 'bagging_freq': 62, 'feature_fraction_bynode': 0.3581627180328405, 'extra_trees': False, 'min_data_in_leaf': 53, 'bagging_fraction': 0.7178547133885115}. Best is trial 19 with value: 0.6733206878043392.\n",
      "[I 2024-12-31 13:11:08,510] Trial 22 finished with value: 0.5003329791288321 and parameters: {'numerical_strategy': 'median', 'with_centering': True, 'with_scaling': True, 'categorical_strategy': 'most_frequent', 'sigma': 3.520694760728018, 'regularization': 1.0648208075445535, 'randomized': True, 'num_leaves': 24, 'max_depth': 11, 'n_estimators': 80, 'class_weight': None, 'bagging_freq': 35, 'feature_fraction_bynode': 0.5139894891598108, 'extra_trees': True, 'min_data_in_leaf': 63, 'bagging_fraction': 0.7898909669973961}. Best is trial 19 with value: 0.6733206878043392.\n",
      "[I 2024-12-31 13:11:13,603] Trial 23 finished with value: 0.5 and parameters: {'numerical_strategy': 'mean', 'with_centering': False, 'with_scaling': True, 'categorical_strategy': 'constant', 'sigma': 1.201487948272187, 'regularization': 0.3793166405433196, 'randomized': True, 'num_leaves': 11, 'max_depth': 2, 'n_estimators': 109, 'class_weight': None, 'bagging_freq': 90, 'feature_fraction_bynode': 0.47396164026287235, 'extra_trees': True, 'min_data_in_leaf': 20, 'bagging_fraction': 0.1326948930131831}. Best is trial 19 with value: 0.6733206878043392.\n",
      "[I 2024-12-31 13:11:20,612] Trial 24 finished with value: 0.5206191665484174 and parameters: {'numerical_strategy': 'median', 'with_centering': False, 'with_scaling': False, 'categorical_strategy': 'constant', 'sigma': 0.19752138706565356, 'regularization': 3.997051994545213, 'randomized': True, 'num_leaves': 57, 'max_depth': 19, 'n_estimators': 42, 'class_weight': None, 'bagging_freq': 75, 'feature_fraction_bynode': 0.18452101935637732, 'extra_trees': False, 'min_data_in_leaf': 49, 'bagging_fraction': 0.5946038172242368}. Best is trial 19 with value: 0.6733206878043392.\n",
      "[I 2024-12-31 13:11:26,840] Trial 25 finished with value: 0.5360617310667696 and parameters: {'numerical_strategy': 'most_frequent', 'with_centering': False, 'with_scaling': True, 'categorical_strategy': 'most_frequent', 'sigma': 2.2376144217504494, 'regularization': 2.6630863322751157, 'randomized': False, 'num_leaves': 25, 'max_depth': -1, 'n_estimators': 72, 'class_weight': None, 'bagging_freq': 12, 'feature_fraction_bynode': 0.890527280739895, 'extra_trees': False, 'min_data_in_leaf': 79, 'bagging_fraction': 0.4987537591432458}. Best is trial 19 with value: 0.6733206878043392.\n",
      "[I 2024-12-31 13:11:31,689] Trial 26 finished with value: 0.5 and parameters: {'numerical_strategy': 'constant', 'with_centering': True, 'with_scaling': False, 'categorical_strategy': 'most_frequent', 'sigma': 1.7811275327633331, 'regularization': 4.932576243964898, 'randomized': True, 'num_leaves': 8, 'max_depth': 2, 'n_estimators': 63, 'class_weight': None, 'bagging_freq': 29, 'feature_fraction_bynode': 0.17337359529475482, 'extra_trees': True, 'min_data_in_leaf': 53, 'bagging_fraction': 0.42831746159172923}. Best is trial 19 with value: 0.6733206878043392.\n",
      "[I 2024-12-31 13:11:37,314] Trial 27 finished with value: 0.6593301413263303 and parameters: {'numerical_strategy': 'mean', 'with_centering': True, 'with_scaling': True, 'categorical_strategy': 'constant', 'sigma': 2.784257702176635, 'regularization': 2.8580634473494992, 'randomized': False, 'num_leaves': 13, 'max_depth': 6, 'n_estimators': 84, 'class_weight': 'balanced', 'bagging_freq': 12, 'feature_fraction_bynode': 0.6106200424416326, 'extra_trees': False, 'min_data_in_leaf': 16, 'bagging_fraction': 0.484912081483854}. Best is trial 19 with value: 0.6733206878043392.\n",
      "[I 2024-12-31 13:11:43,347] Trial 28 finished with value: 0.6685003693329622 and parameters: {'numerical_strategy': 'mean', 'with_centering': False, 'with_scaling': False, 'categorical_strategy': 'constant', 'sigma': 3.8013790715885425, 'regularization': 2.9781937030392216, 'randomized': True, 'num_leaves': 23, 'max_depth': 19, 'n_estimators': 131, 'class_weight': 'balanced', 'bagging_freq': 74, 'feature_fraction_bynode': 0.9383404568210378, 'extra_trees': True, 'min_data_in_leaf': 75, 'bagging_fraction': 0.5595784905439295}. Best is trial 19 with value: 0.6733206878043392.\n",
      "[I 2024-12-31 13:11:49,280] Trial 29 finished with value: 0.6609440015905544 and parameters: {'numerical_strategy': 'mean', 'with_centering': False, 'with_scaling': True, 'categorical_strategy': 'most_frequent', 'sigma': 4.386125503524728, 'regularization': 1.962225537113177, 'randomized': True, 'num_leaves': 25, 'max_depth': 9, 'n_estimators': 69, 'class_weight': 'balanced', 'bagging_freq': 24, 'feature_fraction_bynode': 0.8995745732745685, 'extra_trees': False, 'min_data_in_leaf': 91, 'bagging_fraction': 0.5993903967311937}. Best is trial 19 with value: 0.6733206878043392.\n",
      "[I 2024-12-31 13:11:52,658] A new study created in memory with name: xgboost\n",
      "\n",
      "[I 2024-12-31 13:11:59,922] Trial 0 finished with value: 0.5 and parameters: {'numerical_strategy': 'median', 'with_centering': True, 'with_scaling': False, 'categorical_strategy': 'constant', 'sigma': 0.10390188698471643, 'regularization': 4.8495492608099715, 'randomized': True, 'objective': 'binary:logistic', 'booster': 'dart', 'max_leaves': 1, 'max_depth': 7, 'grow_policy': 'depthwise', 'n_estimators': 81, 'learning_rate': 0.14809892204552141}. Best is trial 0 with value: 0.5.\n",
      "[I 2024-12-31 13:12:04,193] Trial 1 finished with value: 0.5 and parameters: {'numerical_strategy': 'constant', 'with_centering': False, 'with_scaling': True, 'categorical_strategy': 'most_frequent', 'sigma': 0.32619291333341227, 'regularization': 4.7444276862666666, 'randomized': True, 'objective': 'binary:hinge', 'booster': 'gbtree', 'max_leaves': 1, 'max_depth': 7, 'grow_policy': 'depthwise', 'n_estimators': 51, 'learning_rate': 0.9102271980579942}. Best is trial 0 with value: 0.5.\n",
      "[I 2024-12-31 13:12:12,388] Trial 2 finished with value: 0.5045838986223362 and parameters: {'numerical_strategy': 'median', 'with_centering': True, 'with_scaling': True, 'categorical_strategy': 'most_frequent', 'sigma': 2.9899019940766145, 'regularization': 4.609371175115584, 'randomized': False, 'objective': 'binary:logistic', 'booster': 'gblinear', 'max_leaves': 1, 'max_depth': 7, 'grow_policy': 'depthwise', 'n_estimators': 64, 'learning_rate': 0.547269122326666}. Best is trial 2 with value: 0.5045838986223362.\n",
      "[I 2024-12-31 13:12:16,625] Trial 3 finished with value: 0.5 and parameters: {'numerical_strategy': 'constant', 'with_centering': True, 'with_scaling': False, 'categorical_strategy': 'constant', 'sigma': 3.8565804630830423, 'regularization': 0.3702232586704518, 'randomized': True, 'objective': 'binary:hinge', 'booster': 'gbtree', 'max_leaves': 1, 'max_depth': 7, 'grow_policy': 'depthwise', 'n_estimators': 87, 'learning_rate': 0.641181896641661}. Best is trial 2 with value: 0.5045838986223362.\n",
      "[I 2024-12-31 13:12:21,174] Trial 4 finished with value: 0.5 and parameters: {'numerical_strategy': 'mean', 'with_centering': True, 'with_scaling': True, 'categorical_strategy': 'most_frequent', 'sigma': 0.12807021459373183, 'regularization': 0.5394571349665223, 'randomized': False, 'objective': 'binary:logistic', 'booster': 'gbtree', 'max_leaves': 1, 'max_depth': 15, 'grow_policy': 'depthwise', 'n_estimators': 61, 'learning_rate': 0.08621011073050505}. Best is trial 2 with value: 0.5045838986223362.\n",
      "[I 2024-12-31 13:12:27,212] Trial 5 finished with value: 0.5 and parameters: {'numerical_strategy': 'most_frequent', 'with_centering': False, 'with_scaling': True, 'categorical_strategy': 'most_frequent', 'sigma': 4.037393335665149, 'regularization': 4.480456499617466, 'randomized': True, 'objective': 'binary:logistic', 'booster': 'dart', 'max_leaves': 1, 'max_depth': 11, 'grow_policy': 'depthwise', 'n_estimators': 71, 'learning_rate': 0.22988673236602294}. Best is trial 2 with value: 0.5045838986223362.\n",
      "[I 2024-12-31 13:12:59,236] Trial 6 finished with value: 0.5132300145274511 and parameters: {'numerical_strategy': 'most_frequent', 'with_centering': False, 'with_scaling': False, 'categorical_strategy': 'most_frequent', 'sigma': 2.4867452809560344, 'regularization': 1.5043915490838482, 'randomized': True, 'objective': 'binary:hinge', 'booster': 'gblinear', 'max_leaves': 1, 'max_depth': 3, 'grow_policy': 'depthwise', 'n_estimators': 57, 'learning_rate': 0.4945582326747874}. Best is trial 6 with value: 0.5132300145274511.\n",
      "[I 2024-12-31 13:13:03,527] Trial 7 finished with value: 0.5 and parameters: {'numerical_strategy': 'mean', 'with_centering': False, 'with_scaling': False, 'categorical_strategy': 'most_frequent', 'sigma': 0.4523585605019871, 'regularization': 4.17651247794619, 'randomized': True, 'objective': 'binary:logistic', 'booster': 'gbtree', 'max_leaves': 1, 'max_depth': 3, 'grow_policy': 'depthwise', 'n_estimators': 82, 'learning_rate': 0.18262276471494154}. Best is trial 6 with value: 0.5132300145274511.\n",
      "[I 2024-12-31 13:13:08,856] Trial 8 finished with value: 0.5 and parameters: {'numerical_strategy': 'most_frequent', 'with_centering': True, 'with_scaling': True, 'categorical_strategy': 'constant', 'sigma': 4.086293778805878, 'regularization': 2.7760040579973118, 'randomized': True, 'objective': 'binary:logistic', 'booster': 'gbtree', 'max_leaves': 1, 'max_depth': 7, 'grow_policy': 'depthwise', 'n_estimators': 87, 'learning_rate': 0.8981391573530513}. Best is trial 6 with value: 0.5132300145274511.\n",
      "[I 2024-12-31 13:13:13,357] Trial 9 finished with value: 0.5 and parameters: {'numerical_strategy': 'mean', 'with_centering': False, 'with_scaling': True, 'categorical_strategy': 'constant', 'sigma': 0.026302857647247213, 'regularization': 0.8040402570874933, 'randomized': False, 'objective': 'binary:hinge', 'booster': 'gbtree', 'max_leaves': 1, 'max_depth': 11, 'grow_policy': 'depthwise', 'n_estimators': 83, 'learning_rate': 0.8507311763892361}. Best is trial 6 with value: 0.5132300145274511.\n",
      "[I 2024-12-31 13:13:24,180] Trial 10 finished with value: 0.5 and parameters: {'numerical_strategy': 'mean', 'with_centering': True, 'with_scaling': True, 'categorical_strategy': 'most_frequent', 'sigma': 3.9742617064047, 'regularization': 2.5131854655259604, 'randomized': True, 'objective': 'binary:logistic', 'booster': 'gblinear', 'max_leaves': 1, 'max_depth': 3, 'grow_policy': 'depthwise', 'n_estimators': 97, 'learning_rate': 0.9543892912325616}. Best is trial 6 with value: 0.5132300145274511.\n",
      "[I 2024-12-31 13:14:00,470] Trial 11 finished with value: 0.503047055297989 and parameters: {'numerical_strategy': 'constant', 'with_centering': False, 'with_scaling': True, 'categorical_strategy': 'constant', 'sigma': 4.255832220912768, 'regularization': 1.5846100257813882, 'randomized': False, 'objective': 'binary:hinge', 'booster': 'gblinear', 'max_leaves': 1, 'max_depth': 15, 'grow_policy': 'depthwise', 'n_estimators': 57, 'learning_rate': 0.5231463558400994}. Best is trial 6 with value: 0.5132300145274511.\n",
      "[I 2024-12-31 13:14:04,913] Trial 12 finished with value: 0.5 and parameters: {'numerical_strategy': 'mean', 'with_centering': True, 'with_scaling': False, 'categorical_strategy': 'constant', 'sigma': 2.557200651905828, 'regularization': 2.507581473435998, 'randomized': True, 'objective': 'binary:logistic', 'booster': 'gbtree', 'max_leaves': 1, 'max_depth': 3, 'grow_policy': 'depthwise', 'n_estimators': 79, 'learning_rate': 0.045582851058774666}. Best is trial 6 with value: 0.5132300145274511.\n",
      "[I 2024-12-31 13:14:10,524] Trial 13 finished with value: 0.5 and parameters: {'numerical_strategy': 'constant', 'with_centering': False, 'with_scaling': True, 'categorical_strategy': 'constant', 'sigma': 3.850197771939955, 'regularization': 1.0791051374842158, 'randomized': True, 'objective': 'binary:logistic', 'booster': 'gblinear', 'max_leaves': 1, 'max_depth': 15, 'grow_policy': 'depthwise', 'n_estimators': 76, 'learning_rate': 0.32972690821183354}. Best is trial 6 with value: 0.5132300145274511.\n",
      "[I 2024-12-31 13:14:15,160] Trial 14 finished with value: 0.5 and parameters: {'numerical_strategy': 'mean', 'with_centering': False, 'with_scaling': True, 'categorical_strategy': 'most_frequent', 'sigma': 0.7830287763127591, 'regularization': 1.2512144908229765, 'randomized': False, 'objective': 'binary:hinge', 'booster': 'gbtree', 'max_leaves': 1, 'max_depth': 11, 'grow_policy': 'depthwise', 'n_estimators': 71, 'learning_rate': 0.25525367960614587}. Best is trial 6 with value: 0.5132300145274511.\n",
      "[I 2024-12-31 13:14:21,534] Trial 15 finished with value: 0.5 and parameters: {'numerical_strategy': 'median', 'with_centering': True, 'with_scaling': True, 'categorical_strategy': 'most_frequent', 'sigma': 2.4585877597090446, 'regularization': 2.3673588539028283, 'randomized': False, 'objective': 'binary:logistic', 'booster': 'gbtree', 'max_leaves': 1, 'max_depth': 11, 'grow_policy': 'depthwise', 'n_estimators': 75, 'learning_rate': 0.857924942776439}. Best is trial 6 with value: 0.5132300145274511.\n",
      "[I 2024-12-31 13:14:25,957] Trial 16 finished with value: 0.5 and parameters: {'numerical_strategy': 'mean', 'with_centering': False, 'with_scaling': True, 'categorical_strategy': 'constant', 'sigma': 2.2918061995670915, 'regularization': 2.728083946579675, 'randomized': True, 'objective': 'binary:hinge', 'booster': 'gbtree', 'max_leaves': 1, 'max_depth': 3, 'grow_policy': 'depthwise', 'n_estimators': 54, 'learning_rate': 0.6861767056821932}. Best is trial 6 with value: 0.5132300145274511.\n",
      "[I 2024-12-31 13:14:30,979] Trial 17 finished with value: 0.5 and parameters: {'numerical_strategy': 'most_frequent', 'with_centering': True, 'with_scaling': False, 'categorical_strategy': 'constant', 'sigma': 3.6756201479756245, 'regularization': 4.017404651924243, 'randomized': True, 'objective': 'binary:logistic', 'booster': 'gbtree', 'max_leaves': 1, 'max_depth': 15, 'grow_policy': 'depthwise', 'n_estimators': 67, 'learning_rate': 0.931449752347529}. Best is trial 6 with value: 0.5132300145274511.\n",
      "[I 2024-12-31 13:14:35,155] Trial 18 finished with value: 0.5 and parameters: {'numerical_strategy': 'mean', 'with_centering': False, 'with_scaling': False, 'categorical_strategy': 'constant', 'sigma': 1.9466191919920812, 'regularization': 0.0541882574014918, 'randomized': True, 'objective': 'binary:logistic', 'booster': 'gbtree', 'max_leaves': 1, 'max_depth': 7, 'grow_policy': 'depthwise', 'n_estimators': 64, 'learning_rate': 0.3353778999162168}. Best is trial 6 with value: 0.5132300145274511.\n",
      "[I 2024-12-31 13:14:41,146] Trial 19 finished with value: 0.5 and parameters: {'numerical_strategy': 'most_frequent', 'with_centering': False, 'with_scaling': False, 'categorical_strategy': 'constant', 'sigma': 1.7552241477478412, 'regularization': 0.5853350821380293, 'randomized': False, 'objective': 'binary:hinge', 'booster': 'dart', 'max_leaves': 1, 'max_depth': 15, 'grow_policy': 'depthwise', 'n_estimators': 86, 'learning_rate': 0.09053529283548076}. Best is trial 6 with value: 0.5132300145274511.\n",
      "[I 2024-12-31 13:14:47,809] Trial 20 finished with value: 0.5 and parameters: {'numerical_strategy': 'median', 'with_centering': False, 'with_scaling': True, 'categorical_strategy': 'most_frequent', 'sigma': 3.885957432721256, 'regularization': 2.792021248679025, 'randomized': False, 'objective': 'binary:logistic', 'booster': 'dart', 'max_leaves': 1, 'max_depth': 3, 'grow_policy': 'depthwise', 'n_estimators': 55, 'learning_rate': 0.6527181990949029}. Best is trial 6 with value: 0.5132300145274511.\n",
      "[I 2024-12-31 13:14:52,443] Trial 21 finished with value: 0.5 and parameters: {'numerical_strategy': 'most_frequent', 'with_centering': False, 'with_scaling': False, 'categorical_strategy': 'constant', 'sigma': 0.21675639984092998, 'regularization': 4.455715568490356, 'randomized': False, 'objective': 'binary:logistic', 'booster': 'gbtree', 'max_leaves': 1, 'max_depth': 11, 'grow_policy': 'depthwise', 'n_estimators': 73, 'learning_rate': 0.6312824992832228}. Best is trial 6 with value: 0.5132300145274511.\n",
      "[I 2024-12-31 13:14:58,707] Trial 22 finished with value: 0.5 and parameters: {'numerical_strategy': 'median', 'with_centering': True, 'with_scaling': False, 'categorical_strategy': 'most_frequent', 'sigma': 2.3190283262949705, 'regularization': 1.766761140130264, 'randomized': True, 'objective': 'binary:logistic', 'booster': 'gbtree', 'max_leaves': 1, 'max_depth': 15, 'grow_policy': 'depthwise', 'n_estimators': 84, 'learning_rate': 0.17099076995144238}. Best is trial 6 with value: 0.5132300145274511.\n",
      "[I 2024-12-31 13:15:04,005] Trial 23 finished with value: 0.5 and parameters: {'numerical_strategy': 'most_frequent', 'with_centering': True, 'with_scaling': True, 'categorical_strategy': 'most_frequent', 'sigma': 1.8829403710233696, 'regularization': 4.052766653909164, 'randomized': True, 'objective': 'binary:hinge', 'booster': 'gbtree', 'max_leaves': 1, 'max_depth': 7, 'grow_policy': 'depthwise', 'n_estimators': 71, 'learning_rate': 0.28067300121139915}. Best is trial 6 with value: 0.5132300145274511.\n",
      "[I 2024-12-31 13:15:08,399] Trial 24 finished with value: 0.5 and parameters: {'numerical_strategy': 'constant', 'with_centering': True, 'with_scaling': False, 'categorical_strategy': 'most_frequent', 'sigma': 2.253270132415157, 'regularization': 0.6457970757574749, 'randomized': True, 'objective': 'binary:logistic', 'booster': 'gbtree', 'max_leaves': 1, 'max_depth': 11, 'grow_policy': 'depthwise', 'n_estimators': 76, 'learning_rate': 0.774595207818283}. Best is trial 6 with value: 0.5132300145274511.\n",
      "[I 2024-12-31 13:15:19,146] Trial 25 finished with value: 0.5 and parameters: {'numerical_strategy': 'median', 'with_centering': True, 'with_scaling': True, 'categorical_strategy': 'most_frequent', 'sigma': 3.520694760728018, 'regularization': 1.0648208075445535, 'randomized': True, 'objective': 'binary:logistic', 'booster': 'gblinear', 'max_leaves': 1, 'max_depth': 7, 'grow_policy': 'depthwise', 'n_estimators': 76, 'learning_rate': 0.7858164826137316}. Best is trial 6 with value: 0.5132300145274511.\n",
      "[I 2024-12-31 13:15:24,082] Trial 26 finished with value: 0.5 and parameters: {'numerical_strategy': 'constant', 'with_centering': False, 'with_scaling': True, 'categorical_strategy': 'constant', 'sigma': 2.4635978518703547, 'regularization': 1.643758051437541, 'randomized': True, 'objective': 'binary:logistic', 'booster': 'dart', 'max_leaves': 1, 'max_depth': 11, 'grow_policy': 'depthwise', 'n_estimators': 59, 'learning_rate': 0.3522106104906246}. Best is trial 6 with value: 0.5132300145274511.\n",
      "[I 2024-12-31 13:15:30,012] Trial 27 finished with value: 0.5 and parameters: {'numerical_strategy': 'mean', 'with_centering': True, 'with_scaling': False, 'categorical_strategy': 'most_frequent', 'sigma': 0.6040587196319034, 'regularization': 2.303893840163629, 'randomized': False, 'objective': 'binary:logistic', 'booster': 'dart', 'max_leaves': 1, 'max_depth': 3, 'grow_policy': 'depthwise', 'n_estimators': 94, 'learning_rate': 0.9216636765264951}. Best is trial 6 with value: 0.5132300145274511.\n",
      "[I 2024-12-31 13:15:35,728] Trial 28 finished with value: 0.5 and parameters: {'numerical_strategy': 'most_frequent', 'with_centering': False, 'with_scaling': False, 'categorical_strategy': 'most_frequent', 'sigma': 2.3132110459496062, 'regularization': 3.7373546906687825, 'randomized': False, 'objective': 'binary:logistic', 'booster': 'dart', 'max_leaves': 1, 'max_depth': 7, 'grow_policy': 'depthwise', 'n_estimators': 77, 'learning_rate': 0.2500457985983824}. Best is trial 6 with value: 0.5132300145274511.\n",
      "[I 2024-12-31 13:15:41,473] Trial 29 finished with value: 0.5 and parameters: {'numerical_strategy': 'median', 'with_centering': False, 'with_scaling': False, 'categorical_strategy': 'constant', 'sigma': 3.9460670217980836, 'regularization': 2.492210994645286, 'randomized': False, 'objective': 'binary:logistic', 'booster': 'gbtree', 'max_leaves': 1, 'max_depth': 7, 'grow_policy': 'depthwise', 'n_estimators': 82, 'learning_rate': 0.5750705216222227}. Best is trial 6 with value: 0.5132300145274511.\n"
     ]
    },
    {
     "data": {
      "text/html": [
       "<div>\n",
       "<style scoped>\n",
       "    .dataframe tbody tr th:only-of-type {\n",
       "        vertical-align: middle;\n",
       "    }\n",
       "\n",
       "    .dataframe tbody tr th {\n",
       "        vertical-align: top;\n",
       "    }\n",
       "\n",
       "    .dataframe thead th {\n",
       "        text-align: right;\n",
       "    }\n",
       "</style>\n",
       "<table border=\"1\" class=\"dataframe\">\n",
       "  <thead>\n",
       "    <tr style=\"text-align: right;\">\n",
       "      <th></th>\n",
       "      <th>lgbm</th>\n",
       "      <th>lgbm_rf</th>\n",
       "      <th>xgboost</th>\n",
       "    </tr>\n",
       "  </thead>\n",
       "  <tbody>\n",
       "    <tr>\n",
       "      <th>roc_auc</th>\n",
       "      <td>0.692193</td>\n",
       "      <td>0.676650</td>\n",
       "      <td>0.517876</td>\n",
       "    </tr>\n",
       "    <tr>\n",
       "      <th>matthews_correlation</th>\n",
       "      <td>0.225119</td>\n",
       "      <td>0.200341</td>\n",
       "      <td>0.044757</td>\n",
       "    </tr>\n",
       "    <tr>\n",
       "      <th>f_beta</th>\n",
       "      <td>0.518485</td>\n",
       "      <td>0.509180</td>\n",
       "      <td>0.085997</td>\n",
       "    </tr>\n",
       "    <tr>\n",
       "      <th>precision</th>\n",
       "      <td>0.170832</td>\n",
       "      <td>0.153276</td>\n",
       "      <td>0.133971</td>\n",
       "    </tr>\n",
       "    <tr>\n",
       "      <th>recall</th>\n",
       "      <td>0.669979</td>\n",
       "      <td>0.686224</td>\n",
       "      <td>0.082707</td>\n",
       "    </tr>\n",
       "    <tr>\n",
       "      <th>balanced_accuracy</th>\n",
       "      <td>0.692193</td>\n",
       "      <td>0.676650</td>\n",
       "      <td>0.517876</td>\n",
       "    </tr>\n",
       "  </tbody>\n",
       "</table>\n",
       "</div>"
      ],
      "text/plain": [
       "                          lgbm   lgbm_rf   xgboost\n",
       "roc_auc               0.692193  0.676650  0.517876\n",
       "matthews_correlation  0.225119  0.200341  0.044757\n",
       "f_beta                0.518485  0.509180  0.085997\n",
       "precision             0.170832  0.153276  0.133971\n",
       "recall                0.669979  0.686224  0.082707\n",
       "balanced_accuracy     0.692193  0.676650  0.517876"
      ]
     },
     "execution_count": 11,
     "metadata": {},
     "output_type": "execute_result"
    }
   ],
   "source": [
    "model_performance = pd.DataFrame()\n",
    "model_specifications = dict()\n",
    "\n",
    "\n",
    "classifiers: list[str] = [\"lgbm\", \"lgbm_rf\", \"xgboost\"]\n",
    "\n",
    "for classifier in classifiers:\n",
    "\n",
    "    study = create_study(\n",
    "        direction=\"maximize\",\n",
    "        study_name=(classifier + \"\\n\"),\n",
    "        pruner=SuccessiveHalvingPruner(reduction_factor=2),\n",
    "        sampler=RandomSampler(seed=42),\n",
    "    )\n",
    "\n",
    "    study.optimize(\n",
    "        lambda trial: objective(classifier, trial, x_train, np.array(y_train).ravel()),\n",
    "        n_trials=num_trials,  # 4,\n",
    "    )  # n_trials=100 is the original value\n",
    "\n",
    "    model_specifications[classifier] = study.best_params\n",
    "\n",
    "    best_trial: FrozenTrial = study.best_trial\n",
    "    model: Pipeline = instantiate_model(\n",
    "        classifier,\n",
    "        trial=best_trial,\n",
    "        numerical_columns=numerical_columns,\n",
    "        categorical_columns=categorical_columns,\n",
    "    )\n",
    "    model.fit(x_train, y_train)\n",
    "    predictions: NDArray = model.predict(x_test)\n",
    "    model_performance[classifier] = calculate_model_statistics(y_test, predictions)\n",
    "model_performance"
   ]
  },
  {
   "cell_type": "markdown",
   "metadata": {},
   "source": [
    "We're still not getting anywhere with these either, which means that our data could use a little more polishing before we feed them to models. One way to strengthen the models is with SMOTE oversampling, so we'll start there. "
   ]
  },
  {
   "cell_type": "markdown",
   "metadata": {},
   "source": [
    "## SMOTE Oversampling \n",
    "We'll use the combination of undersampling and oversampling originally put forth in the SMOTE paper to see how much that improves our model performance. We'll start by numerically encoding the categorical variables across application train before applying PCA and the conducting our under- and oversampling. "
   ]
  },
  {
   "cell_type": "code",
   "execution_count": 12,
   "metadata": {},
   "outputs": [],
   "source": [
    "numerical_train: DataFrame = application_train.clone()\n",
    "\n",
    "# numerically encode features\n",
    "encoder_mapping_key = dict()\n",
    "for col in numerical_train.columns:\n",
    "    try:\n",
    "        key: dict[str, int] = create_encoder_mapping(numerical_train, col)\n",
    "        numerical_train = encode_feature(numerical_train, col, key)\n",
    "        encoder_mapping_key[col] = key\n",
    "    except:\n",
    "        pass\n",
    "\n",
    "\n",
    "# fill missing values\n",
    "for col in numerical_train.columns:\n",
    "    median: float = numerical_train[col].median()\n",
    "    numerical_train = numerical_train.with_columns(pl.col(col).fill_null(value=median))\n",
    "\n",
    "\n",
    "x: DataFrame = numerical_train.drop(\"target\").to_pandas()\n",
    "y: Series = numerical_train[\"target\"].to_pandas()"
   ]
  },
  {
   "cell_type": "code",
   "execution_count": 13,
   "metadata": {},
   "outputs": [],
   "source": [
    "oversampling = SMOTE(sampling_strategy=0.1)\n",
    "undersampling = RandomUnderSampler(sampling_strategy=0.5)\n",
    "\n",
    "steps: list = [(\"oversample\", oversampling), (\"undersample\", undersampling)]\n",
    "pipeline = ImbPipeline(steps=steps)\n",
    "smote_x, smote_y = pipeline.fit_resample(x, y)\n",
    "\n",
    "pca = PCA(n_components=smote_x.shape[1])\n",
    "smote_x: NDArray = pca.fit_transform(smote_x)\n",
    "\n",
    "x_train, x_test, y_train, y_test = train_test_split(\n",
    "    smote_x, smote_y, stratify=smote_y, random_state=15\n",
    ")"
   ]
  },
  {
   "cell_type": "markdown",
   "metadata": {},
   "source": [
    "Now that we've created our smote dataset, we can fit the models. However our previous model specifications aren't as helpful since the dataset is new, and models may perform better on different hyperparameters. Let's create another study and run it again! "
   ]
  },
  {
   "cell_type": "code",
   "execution_count": 14,
   "metadata": {},
   "outputs": [
    {
     "name": "stderr",
     "output_type": "stream",
     "text": [
      "[I 2024-12-31 13:16:01,024] A new study created in memory with name: lgbm\n",
      "\n",
      "[I 2024-12-31 13:16:08,675] Trial 0 finished with value: 0.5013967508317562 and parameters: {'numerical_strategy': 'median', 'with_centering': True, 'with_scaling': False, 'categorical_strategy': 'constant', 'sigma': 0.10390188698471643, 'regularization': 4.8495492608099715, 'randomized': True, 'boosting_type': 'dart', 'num_leaves': 21, 'max_depth': 10, 'n_estimators': 85, 'class_weight': None, 'learning_rate': 0.13949386065204183}. Best is trial 0 with value: 0.5013967508317562.\n",
      "[I 2024-12-31 13:16:12,512] Trial 1 finished with value: 0.648381577180205 and parameters: {'numerical_strategy': 'constant', 'with_centering': False, 'with_scaling': True, 'categorical_strategy': 'most_frequent', 'sigma': 0.32619291333341227, 'regularization': 4.7444276862666666, 'randomized': True, 'boosting_type': 'gbdt', 'num_leaves': 45, 'max_depth': 8, 'n_estimators': 49, 'class_weight': 'balanced', 'learning_rate': 0.9093204020787821}. Best is trial 1 with value: 0.648381577180205.\n",
      "[I 2024-12-31 13:16:21,113] Trial 2 finished with value: 0.6868749792367987 and parameters: {'numerical_strategy': 'median', 'with_centering': True, 'with_scaling': True, 'categorical_strategy': 'most_frequent', 'sigma': 2.9899019940766145, 'regularization': 4.609371175115584, 'randomized': False, 'boosting_type': 'dart', 'num_leaves': 26, 'max_depth': 4, 'n_estimators': 131, 'class_weight': 'balanced', 'learning_rate': 0.5426960831582485}. Best is trial 2 with value: 0.6868749792367987.\n",
      "[I 2024-12-31 13:16:24,593] Trial 3 finished with value: 0.517478704311586 and parameters: {'numerical_strategy': 'constant', 'with_centering': True, 'with_scaling': False, 'categorical_strategy': 'constant', 'sigma': 3.8565804630830423, 'regularization': 0.3702232586704518, 'randomized': True, 'boosting_type': 'gbdt', 'num_leaves': 22, 'max_depth': 0, 'n_estimators': 71, 'class_weight': None, 'learning_rate': 0.6375574713552131}. Best is trial 2 with value: 0.6868749792367987.\n",
      "[I 2024-12-31 13:16:29,116] Trial 4 finished with value: 0.67706118573507 and parameters: {'numerical_strategy': 'mean', 'with_centering': True, 'with_scaling': True, 'categorical_strategy': 'most_frequent', 'sigma': 0.12807021459373183, 'regularization': 0.5394571349665223, 'randomized': False, 'boosting_type': 'dart', 'num_leaves': 59, 'max_depth': 4, 'n_estimators': 82, 'class_weight': 'balanced', 'learning_rate': 0.07697990982879299}. Best is trial 2 with value: 0.6868749792367987.\n",
      "[I 2024-12-31 13:16:34,413] Trial 5 finished with value: 0.6853067216836742 and parameters: {'numerical_strategy': 'most_frequent', 'with_centering': False, 'with_scaling': True, 'categorical_strategy': 'most_frequent', 'sigma': 4.037393335665149, 'regularization': 4.480456499617466, 'randomized': True, 'boosting_type': 'dart', 'num_leaves': 53, 'max_depth': 17, 'n_estimators': 35, 'class_weight': 'balanced', 'learning_rate': 0.22210781047073025}. Best is trial 2 with value: 0.6868749792367987.\n",
      "[I 2024-12-31 13:16:39,198] Trial 6 finished with value: 0.6849246342483913 and parameters: {'numerical_strategy': 'most_frequent', 'with_centering': False, 'with_scaling': False, 'categorical_strategy': 'most_frequent', 'sigma': 2.4867452809560344, 'regularization': 1.5043915490838482, 'randomized': True, 'boosting_type': 'gbdt', 'num_leaves': 5, 'max_depth': 5, 'n_estimators': 140, 'class_weight': 'balanced', 'learning_rate': 0.489452760277563}. Best is trial 2 with value: 0.6868749792367987.\n",
      "[I 2024-12-31 13:16:44,805] Trial 7 finished with value: 0.5045944805109367 and parameters: {'numerical_strategy': 'mean', 'with_centering': False, 'with_scaling': False, 'categorical_strategy': 'most_frequent', 'sigma': 0.4523585605019871, 'regularization': 4.17651247794619, 'randomized': True, 'boosting_type': 'dart', 'num_leaves': 44, 'max_depth': -1, 'n_estimators': 94, 'class_weight': None, 'learning_rate': 0.17436642900499144}. Best is trial 2 with value: 0.6868749792367987.\n",
      "[I 2024-12-31 13:16:51,580] Trial 8 finished with value: 0.5157374725155571 and parameters: {'numerical_strategy': 'most_frequent', 'with_centering': True, 'with_scaling': True, 'categorical_strategy': 'constant', 'sigma': 4.086293778805878, 'regularization': 2.7760040579973118, 'randomized': True, 'boosting_type': 'dart', 'num_leaves': 58, 'max_depth': 12, 'n_estimators': 74, 'class_weight': None, 'learning_rate': 0.8971102599525771}. Best is trial 2 with value: 0.6868749792367987.\n",
      "[I 2024-12-31 13:16:55,433] Trial 9 finished with value: 0.6731191686130743 and parameters: {'numerical_strategy': 'mean', 'with_centering': False, 'with_scaling': True, 'categorical_strategy': 'constant', 'sigma': 0.026302857647247213, 'regularization': 0.8040402570874933, 'randomized': False, 'boosting_type': 'gbdt', 'num_leaves': 46, 'max_depth': 4, 'n_estimators': 72, 'class_weight': 'balanced', 'learning_rate': 0.8492234104941779}. Best is trial 2 with value: 0.6868749792367987.\n",
      "[I 2024-12-31 13:17:00,600] Trial 10 finished with value: 0.5102423549333691 and parameters: {'numerical_strategy': 'mean', 'with_centering': True, 'with_scaling': True, 'categorical_strategy': 'most_frequent', 'sigma': 3.9742617064047, 'regularization': 2.5131854655259604, 'randomized': True, 'boosting_type': 'dart', 'num_leaves': 19, 'max_depth': -1, 'n_estimators': 109, 'class_weight': None, 'learning_rate': 0.9539285770025874}. Best is trial 2 with value: 0.6868749792367987.\n",
      "[I 2024-12-31 13:17:04,145] Trial 11 finished with value: 0.683563504171317 and parameters: {'numerical_strategy': 'constant', 'with_centering': False, 'with_scaling': True, 'categorical_strategy': 'constant', 'sigma': 4.255832220912768, 'regularization': 1.5846100257813882, 'randomized': False, 'boosting_type': 'gbdt', 'num_leaves': 37, 'max_depth': 1, 'n_estimators': 106, 'class_weight': 'balanced', 'learning_rate': 0.5183296523637367}. Best is trial 2 with value: 0.6868749792367987.\n",
      "[I 2024-12-31 13:17:09,302] Trial 12 finished with value: 0.5001728965334837 and parameters: {'numerical_strategy': 'mean', 'with_centering': True, 'with_scaling': False, 'categorical_strategy': 'constant', 'sigma': 2.557200651905828, 'regularization': 2.507581473435998, 'randomized': True, 'boosting_type': 'dart', 'num_leaves': 58, 'max_depth': 6, 'n_estimators': 78, 'class_weight': None, 'learning_rate': 0.035942273796742086}. Best is trial 2 with value: 0.6868749792367987.\n",
      "[I 2024-12-31 13:17:15,802] Trial 13 finished with value: 0.6846784595541396 and parameters: {'numerical_strategy': 'constant', 'with_centering': False, 'with_scaling': True, 'categorical_strategy': 'constant', 'sigma': 3.850197771939955, 'regularization': 1.0791051374842158, 'randomized': True, 'boosting_type': 'dart', 'num_leaves': 36, 'max_depth': 13, 'n_estimators': 119, 'class_weight': 'balanced', 'learning_rate': 0.32295647294124596}. Best is trial 2 with value: 0.6868749792367987.\n",
      "[I 2024-12-31 13:17:21,255] Trial 14 finished with value: 0.6719865270214771 and parameters: {'numerical_strategy': 'mean', 'with_centering': False, 'with_scaling': True, 'categorical_strategy': 'most_frequent', 'sigma': 0.7830287763127591, 'regularization': 1.2512144908229765, 'randomized': False, 'boosting_type': 'gbdt', 'num_leaves': 62, 'max_depth': 15, 'n_estimators': 99, 'class_weight': 'balanced', 'learning_rate': 0.24773098950115746}. Best is trial 2 with value: 0.6868749792367987.\n",
      "[I 2024-12-31 13:17:29,441] Trial 15 finished with value: 0.6596328323567978 and parameters: {'numerical_strategy': 'median', 'with_centering': True, 'with_scaling': True, 'categorical_strategy': 'most_frequent', 'sigma': 2.4585877597090446, 'regularization': 2.3673588539028283, 'randomized': False, 'boosting_type': 'dart', 'num_leaves': 42, 'max_depth': -1, 'n_estimators': 78, 'class_weight': 'balanced', 'learning_rate': 0.8564898411883223}. Best is trial 2 with value: 0.6868749792367987.\n",
      "[I 2024-12-31 13:17:32,992] Trial 16 finished with value: 0.515371040545588 and parameters: {'numerical_strategy': 'mean', 'with_centering': False, 'with_scaling': True, 'categorical_strategy': 'constant', 'sigma': 2.2918061995670915, 'regularization': 2.728083946579675, 'randomized': True, 'boosting_type': 'gbdt', 'num_leaves': 14, 'max_depth': 0, 'n_estimators': 46, 'class_weight': None, 'learning_rate': 0.6830067734163568}. Best is trial 2 with value: 0.6868749792367987.\n",
      "[I 2024-12-31 13:17:39,606] Trial 17 finished with value: 0.6491307035385728 and parameters: {'numerical_strategy': 'most_frequent', 'with_centering': True, 'with_scaling': False, 'categorical_strategy': 'constant', 'sigma': 3.6756201479756245, 'regularization': 4.017404651924243, 'randomized': True, 'boosting_type': 'dart', 'num_leaves': 64, 'max_depth': 8, 'n_estimators': 78, 'class_weight': 'balanced', 'learning_rate': 0.9307573256035647}. Best is trial 2 with value: 0.6868749792367987.\n",
      "[I 2024-12-31 13:17:46,564] Trial 18 finished with value: 0.6802522103816808 and parameters: {'numerical_strategy': 'mean', 'with_centering': False, 'with_scaling': False, 'categorical_strategy': 'constant', 'sigma': 1.9466191919920812, 'regularization': 0.0541882574014918, 'randomized': True, 'boosting_type': 'dart', 'num_leaves': 61, 'max_depth': 11, 'n_estimators': 108, 'class_weight': 'balanced', 'learning_rate': 0.32866454536991596}. Best is trial 2 with value: 0.6868749792367987.\n",
      "[I 2024-12-31 13:17:50,881] Trial 19 finished with value: 0.6786427099186348 and parameters: {'numerical_strategy': 'most_frequent', 'with_centering': False, 'with_scaling': False, 'categorical_strategy': 'constant', 'sigma': 1.7552241477478412, 'regularization': 0.5853350821380293, 'randomized': False, 'boosting_type': 'gbdt', 'num_leaves': 7, 'max_depth': 14, 'n_estimators': 43, 'class_weight': 'balanced', 'learning_rate': 0.08134878064189976}. Best is trial 2 with value: 0.6868749792367987.\n",
      "[I 2024-12-31 13:17:56,979] Trial 20 finished with value: 0.6761831757200065 and parameters: {'numerical_strategy': 'median', 'with_centering': False, 'with_scaling': True, 'categorical_strategy': 'most_frequent', 'sigma': 3.885957432721256, 'regularization': 2.792021248679025, 'randomized': False, 'boosting_type': 'dart', 'num_leaves': 2, 'max_depth': 9, 'n_estimators': 41, 'class_weight': 'balanced', 'learning_rate': 0.6492103021160636}. Best is trial 2 with value: 0.6868749792367987.\n",
      "[I 2024-12-31 13:18:04,619] Trial 21 finished with value: 0.6621374225074018 and parameters: {'numerical_strategy': 'most_frequent', 'with_centering': False, 'with_scaling': False, 'categorical_strategy': 'constant', 'sigma': 0.21675639984092998, 'regularization': 4.455715568490356, 'randomized': False, 'boosting_type': 'dart', 'num_leaves': 63, 'max_depth': 10, 'n_estimators': 108, 'class_weight': 'balanced', 'learning_rate': 0.6275580800840634}. Best is trial 2 with value: 0.6868749792367987.\n",
      "[I 2024-12-31 13:18:12,335] Trial 22 finished with value: 0.6862925745920238 and parameters: {'numerical_strategy': 'median', 'with_centering': True, 'with_scaling': False, 'categorical_strategy': 'most_frequent', 'sigma': 2.3190283262949705, 'regularization': 1.766761140130264, 'randomized': True, 'boosting_type': 'dart', 'num_leaves': 45, 'max_depth': 10, 'n_estimators': 70, 'class_weight': 'balanced', 'learning_rate': 0.1626169393448913}. Best is trial 2 with value: 0.6868749792367987.\n",
      "[I 2024-12-31 13:18:20,594] Trial 23 finished with value: 0.6616784891732843 and parameters: {'numerical_strategy': 'most_frequent', 'with_centering': True, 'with_scaling': True, 'categorical_strategy': 'most_frequent', 'sigma': 1.8829403710233696, 'regularization': 4.052766653909164, 'randomized': True, 'boosting_type': 'gbdt', 'num_leaves': 63, 'max_depth': 17, 'n_estimators': 132, 'class_weight': 'balanced', 'learning_rate': 0.27340707193070624}. Best is trial 2 with value: 0.6868749792367987.\n",
      "[I 2024-12-31 13:18:24,334] Trial 24 finished with value: 0.6689228117101118 and parameters: {'numerical_strategy': 'constant', 'with_centering': True, 'with_scaling': False, 'categorical_strategy': 'most_frequent', 'sigma': 2.253270132415157, 'regularization': 0.6457970757574749, 'randomized': True, 'boosting_type': 'dart', 'num_leaves': 40, 'max_depth': 6, 'n_estimators': 48, 'class_weight': 'balanced', 'learning_rate': 0.7723183917356393}. Best is trial 2 with value: 0.6868749792367987.\n",
      "[I 2024-12-31 13:18:33,564] Trial 25 finished with value: 0.5135366264965304 and parameters: {'numerical_strategy': 'median', 'with_centering': True, 'with_scaling': True, 'categorical_strategy': 'most_frequent', 'sigma': 3.520694760728018, 'regularization': 1.0648208075445535, 'randomized': True, 'boosting_type': 'dart', 'num_leaves': 26, 'max_depth': 8, 'n_estimators': 139, 'class_weight': None, 'learning_rate': 0.7836530127411431}. Best is trial 2 with value: 0.6868749792367987.\n",
      "[I 2024-12-31 13:18:37,017] Trial 26 finished with value: 0.6810962745151947 and parameters: {'numerical_strategy': 'constant', 'with_centering': False, 'with_scaling': True, 'categorical_strategy': 'constant', 'sigma': 2.4635978518703547, 'regularization': 1.643758051437541, 'randomized': True, 'boosting_type': 'dart', 'num_leaves': 10, 'max_depth': 2, 'n_estimators': 51, 'class_weight': 'balanced', 'learning_rate': 0.3456672833238632}. Best is trial 2 with value: 0.6868749792367987.\n",
      "[I 2024-12-31 13:18:40,891] Trial 27 finished with value: 0.5074362492604463 and parameters: {'numerical_strategy': 'mean', 'with_centering': True, 'with_scaling': False, 'categorical_strategy': 'most_frequent', 'sigma': 0.6040587196319034, 'regularization': 2.303893840163629, 'randomized': False, 'boosting_type': 'dart', 'num_leaves': 4, 'max_depth': 16, 'n_estimators': 107, 'class_weight': None, 'learning_rate': 0.9208724005318132}. Best is trial 2 with value: 0.6868749792367987.\n",
      "[I 2024-12-31 13:18:45,719] Trial 28 finished with value: 0.5094716564776641 and parameters: {'numerical_strategy': 'most_frequent', 'with_centering': False, 'with_scaling': False, 'categorical_strategy': 'most_frequent', 'sigma': 2.3132110459496062, 'regularization': 3.7373546906687825, 'randomized': False, 'boosting_type': 'dart', 'num_leaves': 34, 'max_depth': 10, 'n_estimators': 47, 'class_weight': None, 'learning_rate': 0.24247050363472966}. Best is trial 2 with value: 0.6868749792367987.\n",
      "[I 2024-12-31 13:18:51,421] Trial 29 finished with value: 0.502039285451012 and parameters: {'numerical_strategy': 'median', 'with_centering': False, 'with_scaling': False, 'categorical_strategy': 'constant', 'sigma': 3.9460670217980836, 'regularization': 2.492210994645286, 'randomized': False, 'boosting_type': 'dart', 'num_leaves': 29, 'max_depth': 1, 'n_estimators': 67, 'class_weight': None, 'learning_rate': 0.5707783046689119}. Best is trial 2 with value: 0.6868749792367987.\n",
      "[I 2024-12-31 13:18:52,151] A new study created in memory with name: lgbm_rf\n",
      "\n",
      "[I 2024-12-31 13:18:58,220] Trial 0 finished with value: 0.6541839861979256 and parameters: {'numerical_strategy': 'median', 'with_centering': True, 'with_scaling': False, 'categorical_strategy': 'constant', 'sigma': 0.10390188698471643, 'regularization': 4.8495492608099715, 'randomized': True, 'num_leaves': 13, 'max_depth': 3, 'n_estimators': 70, 'class_weight': 'balanced', 'bagging_freq': 30, 'feature_fraction_bynode': 0.6118528947223795, 'extra_trees': False, 'min_data_in_leaf': 37, 'bagging_fraction': 0.46485598737362877}. Best is trial 0 with value: 0.6541839861979256.\n",
      "[I 2024-12-31 13:19:01,663] Trial 1 finished with value: 0.5 and parameters: {'numerical_strategy': 'mean', 'with_centering': False, 'with_scaling': True, 'categorical_strategy': 'constant', 'sigma': 4.042178343234189, 'regularization': 1.5230688458668533, 'randomized': False, 'num_leaves': 29, 'max_depth': 1, 'n_estimators': 92, 'class_weight': None, 'bagging_freq': 26, 'feature_fraction_bynode': 0.662522284353982, 'extra_trees': False, 'min_data_in_leaf': 55, 'bagging_fraction': 0.24788356442042164}. Best is trial 0 with value: 0.6541839861979256.\n",
      "[I 2024-12-31 13:19:04,985] Trial 2 finished with value: 0.6712418808986081 and parameters: {'numerical_strategy': 'mean', 'with_centering': False, 'with_scaling': False, 'categorical_strategy': 'constant', 'sigma': 1.9439977711577203, 'regularization': 1.3567451588694794, 'randomized': True, 'num_leaves': 19, 'max_depth': 10, 'n_estimators': 51, 'class_weight': 'balanced', 'bagging_freq': 99, 'feature_fraction_bynode': 0.7722447692966574, 'extra_trees': True, 'min_data_in_leaf': 82, 'bagging_fraction': 0.6654858750780936}. Best is trial 2 with value: 0.6712418808986081.\n",
      "[I 2024-12-31 13:19:11,307] Trial 3 finished with value: 0.6518801062689524 and parameters: {'numerical_strategy': 'median', 'with_centering': False, 'with_scaling': True, 'categorical_strategy': 'constant', 'sigma': 1.6265914268117083, 'regularization': 3.64803089169032, 'randomized': False, 'num_leaves': 31, 'max_depth': 1, 'n_estimators': 117, 'class_weight': 'balanced', 'bagging_freq': 78, 'feature_fraction_bynode': 0.49379559636439074, 'extra_trees': True, 'min_data_in_leaf': 3, 'bagging_fraction': 0.18631314159464357}. Best is trial 2 with value: 0.6712418808986081.\n",
      "[I 2024-12-31 13:19:19,236] Trial 4 finished with value: 0.508916454936805 and parameters: {'numerical_strategy': 'median', 'with_centering': True, 'with_scaling': False, 'categorical_strategy': 'most_frequent', 'sigma': 1.4494675131159263, 'regularization': 0.8061064362700221, 'randomized': True, 'num_leaves': 41, 'max_depth': 18, 'n_estimators': 128, 'class_weight': None, 'bagging_freq': 54, 'feature_fraction_bynode': 0.8074401551640625, 'extra_trees': True, 'min_data_in_leaf': 12, 'bagging_fraction': 0.28234813003355336}. Best is trial 2 with value: 0.6712418808986081.\n",
      "[I 2024-12-31 13:19:25,888] Trial 5 finished with value: 0.645359421267452 and parameters: {'numerical_strategy': 'most_frequent', 'with_centering': True, 'with_scaling': True, 'categorical_strategy': 'constant', 'sigma': 1.6166914571717552, 'regularization': 2.5939531087168306, 'randomized': True, 'num_leaves': 63, 'max_depth': 20, 'n_estimators': 64, 'class_weight': 'balanced', 'bagging_freq': 29, 'feature_fraction_bynode': 0.036886947354532795, 'extra_trees': True, 'min_data_in_leaf': 6, 'bagging_fraction': 0.32291717138928916}. Best is trial 2 with value: 0.6712418808986081.\n",
      "[I 2024-12-31 13:19:29,328] Trial 6 finished with value: 0.6467222962296519 and parameters: {'numerical_strategy': 'mean', 'with_centering': True, 'with_scaling': False, 'categorical_strategy': 'constant', 'sigma': 1.8395478804635466, 'regularization': 3.1615291529678973, 'randomized': True, 'num_leaves': 7, 'max_depth': 17, 'n_estimators': 72, 'class_weight': 'balanced', 'bagging_freq': 60, 'feature_fraction_bynode': 0.6775643618422824, 'extra_trees': False, 'min_data_in_leaf': 23, 'bagging_fraction': 0.6161382323275599}. Best is trial 2 with value: 0.6712418808986081.\n",
      "[I 2024-12-31 13:19:32,577] Trial 7 finished with value: 0.6400480773069722 and parameters: {'numerical_strategy': 'constant', 'with_centering': False, 'with_scaling': False, 'categorical_strategy': 'most_frequent', 'sigma': 3.3002602461248607, 'regularization': 4.0861110010060795, 'randomized': True, 'num_leaves': 17, 'max_depth': 1, 'n_estimators': 139, 'class_weight': 'balanced', 'bagging_freq': 34, 'feature_fraction_bynode': 0.3492095746126609, 'extra_trees': False, 'min_data_in_leaf': 89, 'bagging_fraction': 0.7239004366860992}. Best is trial 2 with value: 0.6712418808986081.\n",
      "[I 2024-12-31 13:19:35,950] Trial 8 finished with value: 0.6657041595800727 and parameters: {'numerical_strategy': 'constant', 'with_centering': True, 'with_scaling': False, 'categorical_strategy': 'constant', 'sigma': 2.744120213043564, 'regularization': 3.459475988463466, 'randomized': True, 'num_leaves': 46, 'max_depth': 4, 'n_estimators': 72, 'class_weight': 'balanced', 'bagging_freq': 85, 'feature_fraction_bynode': 0.6576128923003434, 'extra_trees': True, 'min_data_in_leaf': 37, 'bagging_fraction': 0.31216189414538037}. Best is trial 2 with value: 0.6712418808986081.\n",
      "[I 2024-12-31 13:19:45,934] Trial 9 finished with value: 0.6597621430598188 and parameters: {'numerical_strategy': 'median', 'with_centering': False, 'with_scaling': False, 'categorical_strategy': 'most_frequent', 'sigma': 3.6125381241922647, 'regularization': 1.403861812204279, 'randomized': False, 'num_leaves': 13, 'max_depth': 19, 'n_estimators': 145, 'class_weight': 'balanced', 'bagging_freq': 2, 'feature_fraction_bynode': 0.9283185625877254, 'extra_trees': False, 'min_data_in_leaf': 97, 'bagging_fraction': 0.782407564373888}. Best is trial 2 with value: 0.6712418808986081.\n",
      "[I 2024-12-31 13:19:53,436] Trial 10 finished with value: 0.671724355691126 and parameters: {'numerical_strategy': 'most_frequent', 'with_centering': False, 'with_scaling': True, 'categorical_strategy': 'most_frequent', 'sigma': 3.0754211262691493, 'regularization': 4.950269250521316, 'randomized': False, 'num_leaves': 57, 'max_depth': 15, 'n_estimators': 115, 'class_weight': 'balanced', 'bagging_freq': 30, 'feature_fraction_bynode': 0.8093611554785136, 'extra_trees': False, 'min_data_in_leaf': 92, 'bagging_fraction': 0.5090739190887502}. Best is trial 10 with value: 0.671724355691126.\n",
      "[I 2024-12-31 13:19:59,662] Trial 11 finished with value: 0.6715425257420389 and parameters: {'numerical_strategy': 'median', 'with_centering': False, 'with_scaling': False, 'categorical_strategy': 'constant', 'sigma': 0.18067542670991368, 'regularization': 2.3279900906623006, 'randomized': True, 'num_leaves': 39, 'max_depth': -1, 'n_estimators': 39, 'class_weight': 'balanced', 'bagging_freq': 13, 'feature_fraction_bynode': 0.5222432600548044, 'extra_trees': True, 'min_data_in_leaf': 63, 'bagging_fraction': 0.1682779719950144}. Best is trial 10 with value: 0.671724355691126.\n",
      "[I 2024-12-31 13:20:05,480] Trial 12 finished with value: 0.6733240050363625 and parameters: {'numerical_strategy': 'constant', 'with_centering': False, 'with_scaling': True, 'categorical_strategy': 'most_frequent', 'sigma': 2.195418132107475, 'regularization': 0.3922819067113298, 'randomized': False, 'num_leaves': 54, 'max_depth': 14, 'n_estimators': 82, 'class_weight': 'balanced', 'bagging_freq': 26, 'feature_fraction_bynode': 0.5492266647061205, 'extra_trees': True, 'min_data_in_leaf': 28, 'bagging_fraction': 0.8638922245305553}. Best is trial 12 with value: 0.6733240050363625.\n",
      "[I 2024-12-31 13:20:09,326] Trial 13 finished with value: 0.5 and parameters: {'numerical_strategy': 'mean', 'with_centering': False, 'with_scaling': True, 'categorical_strategy': 'most_frequent', 'sigma': 0.2046032827925317, 'regularization': 4.277302920055036, 'randomized': True, 'num_leaves': 8, 'max_depth': 9, 'n_estimators': 89, 'class_weight': None, 'bagging_freq': 40, 'feature_fraction_bynode': 0.6158500980522165, 'extra_trees': True, 'min_data_in_leaf': 38, 'bagging_fraction': 0.6006879325713891}. Best is trial 12 with value: 0.6733240050363625.\n",
      "[I 2024-12-31 13:20:18,352] Trial 14 finished with value: 0.6683918071048468 and parameters: {'numerical_strategy': 'median', 'with_centering': False, 'with_scaling': False, 'categorical_strategy': 'most_frequent', 'sigma': 1.9414614611064027, 'regularization': 3.216441092211766, 'randomized': False, 'num_leaves': 61, 'max_depth': 7, 'n_estimators': 146, 'class_weight': 'balanced', 'bagging_freq': 7, 'feature_fraction_bynode': 0.10077800137742665, 'extra_trees': False, 'min_data_in_leaf': 69, 'bagging_fraction': 0.1569509187681832}. Best is trial 12 with value: 0.6733240050363625.\n",
      "[I 2024-12-31 13:20:26,753] Trial 15 finished with value: 0.5114116266240049 and parameters: {'numerical_strategy': 'median', 'with_centering': True, 'with_scaling': True, 'categorical_strategy': 'most_frequent', 'sigma': 4.017601170993858, 'regularization': 1.4101728628565324, 'randomized': False, 'num_leaves': 52, 'max_depth': 20, 'n_estimators': 82, 'class_weight': None, 'bagging_freq': 35, 'feature_fraction_bynode': 0.9307573256035647, 'extra_trees': True, 'min_data_in_leaf': 76, 'bagging_fraction': 0.7036342992677459}. Best is trial 12 with value: 0.6733240050363625.\n",
      "[I 2024-12-31 13:20:33,597] Trial 16 finished with value: 0.5072604047378695 and parameters: {'numerical_strategy': 'median', 'with_centering': False, 'with_scaling': True, 'categorical_strategy': 'most_frequent', 'sigma': 1.5972488743144837, 'regularization': 4.750309835254025, 'randomized': True, 'num_leaves': 41, 'max_depth': 8, 'n_estimators': 69, 'class_weight': None, 'bagging_freq': 76, 'feature_fraction_bynode': 0.7915790437258485, 'extra_trees': True, 'min_data_in_leaf': 50, 'bagging_fraction': 0.14604700801331544}. Best is trial 12 with value: 0.6733240050363625.\n",
      "[I 2024-12-31 13:20:38,826] Trial 17 finished with value: 0.6613265287522591 and parameters: {'numerical_strategy': 'most_frequent', 'with_centering': False, 'with_scaling': True, 'categorical_strategy': 'most_frequent', 'sigma': 3.5051446881641404, 'regularization': 0.36381503182096764, 'randomized': True, 'num_leaves': 7, 'max_depth': 0, 'n_estimators': 149, 'class_weight': 'balanced', 'bagging_freq': 82, 'feature_fraction_bynode': 0.9472485773838587, 'extra_trees': True, 'min_data_in_leaf': 38, 'bagging_fraction': 0.166800573358935}. Best is trial 12 with value: 0.6733240050363625.\n",
      "[I 2024-12-31 13:20:41,950] Trial 18 finished with value: 0.6239208321536677 and parameters: {'numerical_strategy': 'constant', 'with_centering': False, 'with_scaling': False, 'categorical_strategy': 'constant', 'sigma': 0.5885137076387472, 'regularization': 3.246051510580318, 'randomized': True, 'num_leaves': 62, 'max_depth': 7, 'n_estimators': 68, 'class_weight': 'balanced', 'bagging_freq': 97, 'feature_fraction_bynode': 0.012154474689816341, 'extra_trees': True, 'min_data_in_leaf': 90, 'bagging_fraction': 0.5221608872690399}. Best is trial 12 with value: 0.6733240050363625.\n",
      "[I 2024-12-31 13:20:48,276] Trial 19 finished with value: 0.6730097151246569 and parameters: {'numerical_strategy': 'mean', 'with_centering': False, 'with_scaling': True, 'categorical_strategy': 'most_frequent', 'sigma': 4.505888894444454, 'regularization': 0.22723190170728935, 'randomized': False, 'num_leaves': 58, 'max_depth': 9, 'n_estimators': 106, 'class_weight': 'balanced', 'bagging_freq': 47, 'feature_fraction_bynode': 0.3533522280260528, 'extra_trees': True, 'min_data_in_leaf': 98, 'bagging_fraction': 0.8889685955836824}. Best is trial 12 with value: 0.6733240050363625.\n",
      "[I 2024-12-31 13:20:52,142] Trial 20 finished with value: 0.5 and parameters: {'numerical_strategy': 'constant', 'with_centering': True, 'with_scaling': True, 'categorical_strategy': 'most_frequent', 'sigma': 3.067462564483013, 'regularization': 2.0912151814530944, 'randomized': True, 'num_leaves': 4, 'max_depth': -1, 'n_estimators': 78, 'class_weight': None, 'bagging_freq': 16, 'feature_fraction_bynode': 0.5941307153521351, 'extra_trees': False, 'min_data_in_leaf': 85, 'bagging_fraction': 0.7706629637689103}. Best is trial 12 with value: 0.6733240050363625.\n",
      "[I 2024-12-31 13:20:56,488] Trial 21 finished with value: 0.5107015209124484 and parameters: {'numerical_strategy': 'mean', 'with_centering': True, 'with_scaling': True, 'categorical_strategy': 'constant', 'sigma': 4.723883883682258, 'regularization': 4.248236953387058, 'randomized': False, 'num_leaves': 10, 'max_depth': 19, 'n_estimators': 105, 'class_weight': None, 'bagging_freq': 62, 'feature_fraction_bynode': 0.3581627180328405, 'extra_trees': False, 'min_data_in_leaf': 53, 'bagging_fraction': 0.7178547133885115}. Best is trial 12 with value: 0.6733240050363625.\n",
      "[I 2024-12-31 13:21:03,945] Trial 22 finished with value: 0.500833196663098 and parameters: {'numerical_strategy': 'median', 'with_centering': True, 'with_scaling': True, 'categorical_strategy': 'most_frequent', 'sigma': 3.520694760728018, 'regularization': 1.0648208075445535, 'randomized': True, 'num_leaves': 24, 'max_depth': 11, 'n_estimators': 80, 'class_weight': None, 'bagging_freq': 35, 'feature_fraction_bynode': 0.5139894891598108, 'extra_trees': True, 'min_data_in_leaf': 63, 'bagging_fraction': 0.7898909669973961}. Best is trial 12 with value: 0.6733240050363625.\n",
      "[I 2024-12-31 13:21:07,398] Trial 23 finished with value: 0.5 and parameters: {'numerical_strategy': 'mean', 'with_centering': False, 'with_scaling': True, 'categorical_strategy': 'constant', 'sigma': 1.201487948272187, 'regularization': 0.3793166405433196, 'randomized': True, 'num_leaves': 11, 'max_depth': 2, 'n_estimators': 109, 'class_weight': None, 'bagging_freq': 90, 'feature_fraction_bynode': 0.47396164026287235, 'extra_trees': True, 'min_data_in_leaf': 20, 'bagging_fraction': 0.1326948930131831}. Best is trial 12 with value: 0.6733240050363625.\n",
      "[I 2024-12-31 13:21:13,828] Trial 24 finished with value: 0.5182309744965443 and parameters: {'numerical_strategy': 'median', 'with_centering': False, 'with_scaling': False, 'categorical_strategy': 'constant', 'sigma': 0.19752138706565356, 'regularization': 3.997051994545213, 'randomized': True, 'num_leaves': 57, 'max_depth': 19, 'n_estimators': 42, 'class_weight': None, 'bagging_freq': 75, 'feature_fraction_bynode': 0.18452101935637732, 'extra_trees': False, 'min_data_in_leaf': 49, 'bagging_fraction': 0.5946038172242368}. Best is trial 12 with value: 0.6733240050363625.\n",
      "[I 2024-12-31 13:21:19,361] Trial 25 finished with value: 0.5376850833956331 and parameters: {'numerical_strategy': 'most_frequent', 'with_centering': False, 'with_scaling': True, 'categorical_strategy': 'most_frequent', 'sigma': 2.2376144217504494, 'regularization': 2.6630863322751157, 'randomized': False, 'num_leaves': 25, 'max_depth': -1, 'n_estimators': 72, 'class_weight': None, 'bagging_freq': 12, 'feature_fraction_bynode': 0.890527280739895, 'extra_trees': False, 'min_data_in_leaf': 79, 'bagging_fraction': 0.4987537591432458}. Best is trial 12 with value: 0.6733240050363625.\n",
      "[I 2024-12-31 13:21:22,472] Trial 26 finished with value: 0.5 and parameters: {'numerical_strategy': 'constant', 'with_centering': True, 'with_scaling': False, 'categorical_strategy': 'most_frequent', 'sigma': 1.7811275327633331, 'regularization': 4.932576243964898, 'randomized': True, 'num_leaves': 8, 'max_depth': 2, 'n_estimators': 63, 'class_weight': None, 'bagging_freq': 29, 'feature_fraction_bynode': 0.17337359529475482, 'extra_trees': True, 'min_data_in_leaf': 53, 'bagging_fraction': 0.42831746159172923}. Best is trial 12 with value: 0.6733240050363625.\n",
      "[I 2024-12-31 13:21:26,915] Trial 27 finished with value: 0.661521643673526 and parameters: {'numerical_strategy': 'mean', 'with_centering': True, 'with_scaling': True, 'categorical_strategy': 'constant', 'sigma': 2.784257702176635, 'regularization': 2.8580634473494992, 'randomized': False, 'num_leaves': 13, 'max_depth': 6, 'n_estimators': 84, 'class_weight': 'balanced', 'bagging_freq': 12, 'feature_fraction_bynode': 0.6106200424416326, 'extra_trees': False, 'min_data_in_leaf': 16, 'bagging_fraction': 0.484912081483854}. Best is trial 12 with value: 0.6733240050363625.\n",
      "[I 2024-12-31 13:21:31,598] Trial 28 finished with value: 0.6710758331560117 and parameters: {'numerical_strategy': 'mean', 'with_centering': False, 'with_scaling': False, 'categorical_strategy': 'constant', 'sigma': 3.8013790715885425, 'regularization': 2.9781937030392216, 'randomized': True, 'num_leaves': 23, 'max_depth': 19, 'n_estimators': 131, 'class_weight': 'balanced', 'bagging_freq': 74, 'feature_fraction_bynode': 0.9383404568210378, 'extra_trees': True, 'min_data_in_leaf': 75, 'bagging_fraction': 0.5595784905439295}. Best is trial 12 with value: 0.6733240050363625.\n",
      "[I 2024-12-31 13:21:35,871] Trial 29 finished with value: 0.6653866403231392 and parameters: {'numerical_strategy': 'mean', 'with_centering': False, 'with_scaling': True, 'categorical_strategy': 'most_frequent', 'sigma': 4.386125503524728, 'regularization': 1.962225537113177, 'randomized': True, 'num_leaves': 25, 'max_depth': 9, 'n_estimators': 69, 'class_weight': 'balanced', 'bagging_freq': 24, 'feature_fraction_bynode': 0.8995745732745685, 'extra_trees': False, 'min_data_in_leaf': 91, 'bagging_fraction': 0.5993903967311937}. Best is trial 12 with value: 0.6733240050363625.\n",
      "[I 2024-12-31 13:21:36,776] A new study created in memory with name: xgboost\n",
      "\n",
      "[I 2024-12-31 13:21:43,398] Trial 0 finished with value: 0.5 and parameters: {'numerical_strategy': 'median', 'with_centering': True, 'with_scaling': False, 'categorical_strategy': 'constant', 'sigma': 0.10390188698471643, 'regularization': 4.8495492608099715, 'randomized': True, 'objective': 'binary:logistic', 'booster': 'dart', 'max_leaves': 1, 'max_depth': 7, 'grow_policy': 'depthwise', 'n_estimators': 81, 'learning_rate': 0.14809892204552141}. Best is trial 0 with value: 0.5.\n",
      "[I 2024-12-31 13:21:45,958] Trial 1 finished with value: 0.5 and parameters: {'numerical_strategy': 'constant', 'with_centering': False, 'with_scaling': True, 'categorical_strategy': 'most_frequent', 'sigma': 0.32619291333341227, 'regularization': 4.7444276862666666, 'randomized': True, 'objective': 'binary:hinge', 'booster': 'gbtree', 'max_leaves': 1, 'max_depth': 7, 'grow_policy': 'depthwise', 'n_estimators': 51, 'learning_rate': 0.9102271980579942}. Best is trial 0 with value: 0.5.\n",
      "[I 2024-12-31 13:21:56,504] Trial 2 finished with value: 0.5028382048602202 and parameters: {'numerical_strategy': 'median', 'with_centering': True, 'with_scaling': True, 'categorical_strategy': 'most_frequent', 'sigma': 2.9899019940766145, 'regularization': 4.609371175115584, 'randomized': False, 'objective': 'binary:logistic', 'booster': 'gblinear', 'max_leaves': 1, 'max_depth': 7, 'grow_policy': 'depthwise', 'n_estimators': 64, 'learning_rate': 0.547269122326666}. Best is trial 2 with value: 0.5028382048602202.\n",
      "[I 2024-12-31 13:21:59,214] Trial 3 finished with value: 0.5 and parameters: {'numerical_strategy': 'constant', 'with_centering': True, 'with_scaling': False, 'categorical_strategy': 'constant', 'sigma': 3.8565804630830423, 'regularization': 0.3702232586704518, 'randomized': True, 'objective': 'binary:hinge', 'booster': 'gbtree', 'max_leaves': 1, 'max_depth': 7, 'grow_policy': 'depthwise', 'n_estimators': 87, 'learning_rate': 0.641181896641661}. Best is trial 2 with value: 0.5028382048602202.\n",
      "[I 2024-12-31 13:22:02,324] Trial 4 finished with value: 0.5 and parameters: {'numerical_strategy': 'mean', 'with_centering': True, 'with_scaling': True, 'categorical_strategy': 'most_frequent', 'sigma': 0.12807021459373183, 'regularization': 0.5394571349665223, 'randomized': False, 'objective': 'binary:logistic', 'booster': 'gbtree', 'max_leaves': 1, 'max_depth': 15, 'grow_policy': 'depthwise', 'n_estimators': 61, 'learning_rate': 0.08621011073050505}. Best is trial 2 with value: 0.5028382048602202.\n",
      "[I 2024-12-31 13:22:07,292] Trial 5 finished with value: 0.5 and parameters: {'numerical_strategy': 'most_frequent', 'with_centering': False, 'with_scaling': True, 'categorical_strategy': 'most_frequent', 'sigma': 4.037393335665149, 'regularization': 4.480456499617466, 'randomized': True, 'objective': 'binary:logistic', 'booster': 'dart', 'max_leaves': 1, 'max_depth': 11, 'grow_policy': 'depthwise', 'n_estimators': 71, 'learning_rate': 0.22988673236602294}. Best is trial 2 with value: 0.5028382048602202.\n",
      "[I 2024-12-31 13:22:51,027] Trial 6 finished with value: 0.5060718636271789 and parameters: {'numerical_strategy': 'most_frequent', 'with_centering': False, 'with_scaling': False, 'categorical_strategy': 'most_frequent', 'sigma': 2.4867452809560344, 'regularization': 1.5043915490838482, 'randomized': True, 'objective': 'binary:hinge', 'booster': 'gblinear', 'max_leaves': 1, 'max_depth': 3, 'grow_policy': 'depthwise', 'n_estimators': 57, 'learning_rate': 0.4945582326747874}. Best is trial 6 with value: 0.5060718636271789.\n",
      "[I 2024-12-31 13:22:53,568] Trial 7 finished with value: 0.5 and parameters: {'numerical_strategy': 'mean', 'with_centering': False, 'with_scaling': False, 'categorical_strategy': 'most_frequent', 'sigma': 0.4523585605019871, 'regularization': 4.17651247794619, 'randomized': True, 'objective': 'binary:logistic', 'booster': 'gbtree', 'max_leaves': 1, 'max_depth': 3, 'grow_policy': 'depthwise', 'n_estimators': 82, 'learning_rate': 0.18262276471494154}. Best is trial 6 with value: 0.5060718636271789.\n",
      "[I 2024-12-31 13:22:58,092] Trial 8 finished with value: 0.5 and parameters: {'numerical_strategy': 'most_frequent', 'with_centering': True, 'with_scaling': True, 'categorical_strategy': 'constant', 'sigma': 4.086293778805878, 'regularization': 2.7760040579973118, 'randomized': True, 'objective': 'binary:logistic', 'booster': 'gbtree', 'max_leaves': 1, 'max_depth': 7, 'grow_policy': 'depthwise', 'n_estimators': 87, 'learning_rate': 0.8981391573530513}. Best is trial 6 with value: 0.5060718636271789.\n",
      "[I 2024-12-31 13:23:01,015] Trial 9 finished with value: 0.5 and parameters: {'numerical_strategy': 'mean', 'with_centering': False, 'with_scaling': True, 'categorical_strategy': 'constant', 'sigma': 0.026302857647247213, 'regularization': 0.8040402570874933, 'randomized': False, 'objective': 'binary:hinge', 'booster': 'gbtree', 'max_leaves': 1, 'max_depth': 11, 'grow_policy': 'depthwise', 'n_estimators': 83, 'learning_rate': 0.8507311763892361}. Best is trial 6 with value: 0.5060718636271789.\n",
      "[I 2024-12-31 13:23:09,874] Trial 10 finished with value: 0.5 and parameters: {'numerical_strategy': 'mean', 'with_centering': True, 'with_scaling': True, 'categorical_strategy': 'most_frequent', 'sigma': 3.9742617064047, 'regularization': 2.5131854655259604, 'randomized': True, 'objective': 'binary:logistic', 'booster': 'gblinear', 'max_leaves': 1, 'max_depth': 3, 'grow_policy': 'depthwise', 'n_estimators': 97, 'learning_rate': 0.9543892912325616}. Best is trial 6 with value: 0.5060718636271789.\n",
      "[I 2024-12-31 13:23:33,702] Trial 11 finished with value: 0.4954128860114169 and parameters: {'numerical_strategy': 'constant', 'with_centering': False, 'with_scaling': True, 'categorical_strategy': 'constant', 'sigma': 4.255832220912768, 'regularization': 1.5846100257813882, 'randomized': False, 'objective': 'binary:hinge', 'booster': 'gblinear', 'max_leaves': 1, 'max_depth': 15, 'grow_policy': 'depthwise', 'n_estimators': 57, 'learning_rate': 0.5231463558400994}. Best is trial 6 with value: 0.5060718636271789.\n",
      "[I 2024-12-31 13:23:36,525] Trial 12 finished with value: 0.5 and parameters: {'numerical_strategy': 'mean', 'with_centering': True, 'with_scaling': False, 'categorical_strategy': 'constant', 'sigma': 2.557200651905828, 'regularization': 2.507581473435998, 'randomized': True, 'objective': 'binary:logistic', 'booster': 'gbtree', 'max_leaves': 1, 'max_depth': 3, 'grow_policy': 'depthwise', 'n_estimators': 79, 'learning_rate': 0.045582851058774666}. Best is trial 6 with value: 0.5060718636271789.\n",
      "[I 2024-12-31 13:23:43,371] Trial 13 finished with value: 0.5 and parameters: {'numerical_strategy': 'constant', 'with_centering': False, 'with_scaling': True, 'categorical_strategy': 'constant', 'sigma': 3.850197771939955, 'regularization': 1.0791051374842158, 'randomized': True, 'objective': 'binary:logistic', 'booster': 'gblinear', 'max_leaves': 1, 'max_depth': 15, 'grow_policy': 'depthwise', 'n_estimators': 76, 'learning_rate': 0.32972690821183354}. Best is trial 6 with value: 0.5060718636271789.\n",
      "[I 2024-12-31 13:23:46,406] Trial 14 finished with value: 0.5 and parameters: {'numerical_strategy': 'mean', 'with_centering': False, 'with_scaling': True, 'categorical_strategy': 'most_frequent', 'sigma': 0.7830287763127591, 'regularization': 1.2512144908229765, 'randomized': False, 'objective': 'binary:hinge', 'booster': 'gbtree', 'max_leaves': 1, 'max_depth': 11, 'grow_policy': 'depthwise', 'n_estimators': 71, 'learning_rate': 0.25525367960614587}. Best is trial 6 with value: 0.5060718636271789.\n",
      "[I 2024-12-31 13:23:52,455] Trial 15 finished with value: 0.5 and parameters: {'numerical_strategy': 'median', 'with_centering': True, 'with_scaling': True, 'categorical_strategy': 'most_frequent', 'sigma': 2.4585877597090446, 'regularization': 2.3673588539028283, 'randomized': False, 'objective': 'binary:logistic', 'booster': 'gbtree', 'max_leaves': 1, 'max_depth': 11, 'grow_policy': 'depthwise', 'n_estimators': 75, 'learning_rate': 0.857924942776439}. Best is trial 6 with value: 0.5060718636271789.\n",
      "[I 2024-12-31 13:23:55,130] Trial 16 finished with value: 0.5 and parameters: {'numerical_strategy': 'mean', 'with_centering': False, 'with_scaling': True, 'categorical_strategy': 'constant', 'sigma': 2.2918061995670915, 'regularization': 2.728083946579675, 'randomized': True, 'objective': 'binary:hinge', 'booster': 'gbtree', 'max_leaves': 1, 'max_depth': 3, 'grow_policy': 'depthwise', 'n_estimators': 54, 'learning_rate': 0.6861767056821932}. Best is trial 6 with value: 0.5060718636271789.\n",
      "[I 2024-12-31 13:23:59,062] Trial 17 finished with value: 0.5 and parameters: {'numerical_strategy': 'most_frequent', 'with_centering': True, 'with_scaling': False, 'categorical_strategy': 'constant', 'sigma': 3.6756201479756245, 'regularization': 4.017404651924243, 'randomized': True, 'objective': 'binary:logistic', 'booster': 'gbtree', 'max_leaves': 1, 'max_depth': 15, 'grow_policy': 'depthwise', 'n_estimators': 67, 'learning_rate': 0.931449752347529}. Best is trial 6 with value: 0.5060718636271789.\n",
      "[I 2024-12-31 13:24:01,405] Trial 18 finished with value: 0.5 and parameters: {'numerical_strategy': 'mean', 'with_centering': False, 'with_scaling': False, 'categorical_strategy': 'constant', 'sigma': 1.9466191919920812, 'regularization': 0.0541882574014918, 'randomized': True, 'objective': 'binary:logistic', 'booster': 'gbtree', 'max_leaves': 1, 'max_depth': 7, 'grow_policy': 'depthwise', 'n_estimators': 64, 'learning_rate': 0.3353778999162168}. Best is trial 6 with value: 0.5060718636271789.\n",
      "[I 2024-12-31 13:24:06,418] Trial 19 finished with value: 0.5 and parameters: {'numerical_strategy': 'most_frequent', 'with_centering': False, 'with_scaling': False, 'categorical_strategy': 'constant', 'sigma': 1.7552241477478412, 'regularization': 0.5853350821380293, 'randomized': False, 'objective': 'binary:hinge', 'booster': 'dart', 'max_leaves': 1, 'max_depth': 15, 'grow_policy': 'depthwise', 'n_estimators': 86, 'learning_rate': 0.09053529283548076}. Best is trial 6 with value: 0.5060718636271789.\n",
      "[I 2024-12-31 13:24:12,427] Trial 20 finished with value: 0.5 and parameters: {'numerical_strategy': 'median', 'with_centering': False, 'with_scaling': True, 'categorical_strategy': 'most_frequent', 'sigma': 3.885957432721256, 'regularization': 2.792021248679025, 'randomized': False, 'objective': 'binary:logistic', 'booster': 'dart', 'max_leaves': 1, 'max_depth': 3, 'grow_policy': 'depthwise', 'n_estimators': 55, 'learning_rate': 0.6527181990949029}. Best is trial 6 with value: 0.5060718636271789.\n",
      "[I 2024-12-31 13:24:16,108] Trial 21 finished with value: 0.5 and parameters: {'numerical_strategy': 'most_frequent', 'with_centering': False, 'with_scaling': False, 'categorical_strategy': 'constant', 'sigma': 0.21675639984092998, 'regularization': 4.455715568490356, 'randomized': False, 'objective': 'binary:logistic', 'booster': 'gbtree', 'max_leaves': 1, 'max_depth': 11, 'grow_policy': 'depthwise', 'n_estimators': 73, 'learning_rate': 0.6312824992832228}. Best is trial 6 with value: 0.5060718636271789.\n",
      "[I 2024-12-31 13:24:21,497] Trial 22 finished with value: 0.5 and parameters: {'numerical_strategy': 'median', 'with_centering': True, 'with_scaling': False, 'categorical_strategy': 'most_frequent', 'sigma': 2.3190283262949705, 'regularization': 1.766761140130264, 'randomized': True, 'objective': 'binary:logistic', 'booster': 'gbtree', 'max_leaves': 1, 'max_depth': 15, 'grow_policy': 'depthwise', 'n_estimators': 84, 'learning_rate': 0.17099076995144238}. Best is trial 6 with value: 0.5060718636271789.\n",
      "[I 2024-12-31 13:24:25,780] Trial 23 finished with value: 0.5 and parameters: {'numerical_strategy': 'most_frequent', 'with_centering': True, 'with_scaling': True, 'categorical_strategy': 'most_frequent', 'sigma': 1.8829403710233696, 'regularization': 4.052766653909164, 'randomized': True, 'objective': 'binary:hinge', 'booster': 'gbtree', 'max_leaves': 1, 'max_depth': 7, 'grow_policy': 'depthwise', 'n_estimators': 71, 'learning_rate': 0.28067300121139915}. Best is trial 6 with value: 0.5060718636271789.\n",
      "[I 2024-12-31 13:24:28,325] Trial 24 finished with value: 0.5 and parameters: {'numerical_strategy': 'constant', 'with_centering': True, 'with_scaling': False, 'categorical_strategy': 'most_frequent', 'sigma': 2.253270132415157, 'regularization': 0.6457970757574749, 'randomized': True, 'objective': 'binary:logistic', 'booster': 'gbtree', 'max_leaves': 1, 'max_depth': 11, 'grow_policy': 'depthwise', 'n_estimators': 76, 'learning_rate': 0.774595207818283}. Best is trial 6 with value: 0.5060718636271789.\n",
      "[I 2024-12-31 13:24:40,295] Trial 25 finished with value: 0.5 and parameters: {'numerical_strategy': 'median', 'with_centering': True, 'with_scaling': True, 'categorical_strategy': 'most_frequent', 'sigma': 3.520694760728018, 'regularization': 1.0648208075445535, 'randomized': True, 'objective': 'binary:logistic', 'booster': 'gblinear', 'max_leaves': 1, 'max_depth': 7, 'grow_policy': 'depthwise', 'n_estimators': 76, 'learning_rate': 0.7858164826137316}. Best is trial 6 with value: 0.5060718636271789.\n",
      "[I 2024-12-31 13:24:43,744] Trial 26 finished with value: 0.5 and parameters: {'numerical_strategy': 'constant', 'with_centering': False, 'with_scaling': True, 'categorical_strategy': 'constant', 'sigma': 2.4635978518703547, 'regularization': 1.643758051437541, 'randomized': True, 'objective': 'binary:logistic', 'booster': 'dart', 'max_leaves': 1, 'max_depth': 11, 'grow_policy': 'depthwise', 'n_estimators': 59, 'learning_rate': 0.3522106104906246}. Best is trial 6 with value: 0.5060718636271789.\n",
      "[I 2024-12-31 13:24:48,087] Trial 27 finished with value: 0.5 and parameters: {'numerical_strategy': 'mean', 'with_centering': True, 'with_scaling': False, 'categorical_strategy': 'most_frequent', 'sigma': 0.6040587196319034, 'regularization': 2.303893840163629, 'randomized': False, 'objective': 'binary:logistic', 'booster': 'dart', 'max_leaves': 1, 'max_depth': 3, 'grow_policy': 'depthwise', 'n_estimators': 94, 'learning_rate': 0.9216636765264951}. Best is trial 6 with value: 0.5060718636271789.\n",
      "[I 2024-12-31 13:24:52,779] Trial 28 finished with value: 0.5 and parameters: {'numerical_strategy': 'most_frequent', 'with_centering': False, 'with_scaling': False, 'categorical_strategy': 'most_frequent', 'sigma': 2.3132110459496062, 'regularization': 3.7373546906687825, 'randomized': False, 'objective': 'binary:logistic', 'booster': 'dart', 'max_leaves': 1, 'max_depth': 7, 'grow_policy': 'depthwise', 'n_estimators': 77, 'learning_rate': 0.2500457985983824}. Best is trial 6 with value: 0.5060718636271789.\n",
      "[I 2024-12-31 13:24:57,940] Trial 29 finished with value: 0.5 and parameters: {'numerical_strategy': 'median', 'with_centering': False, 'with_scaling': False, 'categorical_strategy': 'constant', 'sigma': 3.9460670217980836, 'regularization': 2.492210994645286, 'randomized': False, 'objective': 'binary:logistic', 'booster': 'gbtree', 'max_leaves': 1, 'max_depth': 7, 'grow_policy': 'depthwise', 'n_estimators': 82, 'learning_rate': 0.5750705216222227}. Best is trial 6 with value: 0.5060718636271789.\n"
     ]
    },
    {
     "data": {
      "text/html": [
       "<div>\n",
       "<style scoped>\n",
       "    .dataframe tbody tr th:only-of-type {\n",
       "        vertical-align: middle;\n",
       "    }\n",
       "\n",
       "    .dataframe tbody tr th {\n",
       "        vertical-align: top;\n",
       "    }\n",
       "\n",
       "    .dataframe thead th {\n",
       "        text-align: right;\n",
       "    }\n",
       "</style>\n",
       "<table border=\"1\" class=\"dataframe\">\n",
       "  <thead>\n",
       "    <tr style=\"text-align: right;\">\n",
       "      <th></th>\n",
       "      <th>lgbm</th>\n",
       "      <th>lgbm_rf</th>\n",
       "      <th>xgboost</th>\n",
       "      <th>SMOTE_lgbm</th>\n",
       "      <th>SMOTE_lgbm_rf</th>\n",
       "      <th>SMOTE_xgboost</th>\n",
       "    </tr>\n",
       "  </thead>\n",
       "  <tbody>\n",
       "    <tr>\n",
       "      <th>roc_auc</th>\n",
       "      <td>0.692193</td>\n",
       "      <td>0.676650</td>\n",
       "      <td>0.517876</td>\n",
       "      <td>0.690392</td>\n",
       "      <td>0.694142</td>\n",
       "      <td>0.625584</td>\n",
       "    </tr>\n",
       "    <tr>\n",
       "      <th>matthews_correlation</th>\n",
       "      <td>0.225119</td>\n",
       "      <td>0.200341</td>\n",
       "      <td>0.044757</td>\n",
       "      <td>0.362798</td>\n",
       "      <td>0.370168</td>\n",
       "      <td>0.305534</td>\n",
       "    </tr>\n",
       "    <tr>\n",
       "      <th>f_beta</th>\n",
       "      <td>0.518485</td>\n",
       "      <td>0.509180</td>\n",
       "      <td>0.085997</td>\n",
       "      <td>0.662951</td>\n",
       "      <td>0.666235</td>\n",
       "      <td>0.367973</td>\n",
       "    </tr>\n",
       "    <tr>\n",
       "      <th>precision</th>\n",
       "      <td>0.170832</td>\n",
       "      <td>0.153276</td>\n",
       "      <td>0.133971</td>\n",
       "      <td>0.531085</td>\n",
       "      <td>0.535940</td>\n",
       "      <td>0.636597</td>\n",
       "    </tr>\n",
       "    <tr>\n",
       "      <th>recall</th>\n",
       "      <td>0.669979</td>\n",
       "      <td>0.686224</td>\n",
       "      <td>0.082707</td>\n",
       "      <td>0.681760</td>\n",
       "      <td>0.684732</td>\n",
       "      <td>0.351493</td>\n",
       "    </tr>\n",
       "    <tr>\n",
       "      <th>balanced_accuracy</th>\n",
       "      <td>0.692193</td>\n",
       "      <td>0.676650</td>\n",
       "      <td>0.517876</td>\n",
       "      <td>0.690392</td>\n",
       "      <td>0.694142</td>\n",
       "      <td>0.625584</td>\n",
       "    </tr>\n",
       "  </tbody>\n",
       "</table>\n",
       "</div>"
      ],
      "text/plain": [
       "                          lgbm   lgbm_rf   xgboost  SMOTE_lgbm  SMOTE_lgbm_rf  \\\n",
       "roc_auc               0.692193  0.676650  0.517876    0.690392       0.694142   \n",
       "matthews_correlation  0.225119  0.200341  0.044757    0.362798       0.370168   \n",
       "f_beta                0.518485  0.509180  0.085997    0.662951       0.666235   \n",
       "precision             0.170832  0.153276  0.133971    0.531085       0.535940   \n",
       "recall                0.669979  0.686224  0.082707    0.681760       0.684732   \n",
       "balanced_accuracy     0.692193  0.676650  0.517876    0.690392       0.694142   \n",
       "\n",
       "                      SMOTE_xgboost  \n",
       "roc_auc                    0.625584  \n",
       "matthews_correlation       0.305534  \n",
       "f_beta                     0.367973  \n",
       "precision                  0.636597  \n",
       "recall                     0.351493  \n",
       "balanced_accuracy          0.625584  "
      ]
     },
     "execution_count": 14,
     "metadata": {},
     "output_type": "execute_result"
    }
   ],
   "source": [
    "for idx, classifier in enumerate(['lgbm','lgbm_rf','xgboost']):\n",
    "    study: Study = create_study(\n",
    "        direction=\"maximize\",\n",
    "        study_name=(classifier+'\\n'),\n",
    "        pruner=SuccessiveHalvingPruner(reduction_factor=2),\n",
    "        sampler=RandomSampler(seed=42),\n",
    "    )\n",
    "    study.optimize(lambda trial: objective(classifier, trial, x, y), n_trials=num_trials)\n",
    "\n",
    "\n",
    "    model_specifications[\"smote_model\"] = study.best_params\n",
    "\n",
    "    if idx<=1:\n",
    "        smote_model = LGBMClassifier(**study.best_params,device='gpu')\n",
    "    else: \n",
    "        smote_model = XGBClassifier(**study.best_params, tree_method='gpu_hist',predictor='gpu_predictor', device='gpu'\n",
    "                                    )\n",
    "    smote_model.fit(x_train, y_train)\n",
    "    predictions: NDArray = smote_model.predict(x_test)\n",
    "\n",
    "    designator =\"SMOTE_\"+classifier\n",
    "\n",
    "    model_performance[designator] = calculate_model_statistics(y_test, predictions)\n",
    "model_performance"
   ]
  }
 ],
 "metadata": {
  "accelerator": "GPU",
  "colab": {
   "gpuType": "A100",
   "provenance": []
  },
  "kernelspec": {
   "display_name": ".venv",
   "language": "python",
   "name": "python3"
  },
  "language_info": {
   "codemirror_mode": {
    "name": "ipython",
    "version": 3
   },
   "file_extension": ".py",
   "mimetype": "text/x-python",
   "name": "python",
   "nbconvert_exporter": "python",
   "pygments_lexer": "ipython3",
   "version": "3.11.0rc1"
  }
 },
 "nbformat": 4,
 "nbformat_minor": 0
}
