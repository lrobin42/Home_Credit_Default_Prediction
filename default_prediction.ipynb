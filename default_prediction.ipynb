{
 "cells": [
  {
   "cell_type": "markdown",
   "metadata": {
    "id": "4dN6adyMwl2S"
   },
   "source": [
    "## Imports\n"
   ]
  },
  {
   "cell_type": "code",
   "execution_count": 1,
   "metadata": {
    "colab": {
     "base_uri": "https://localhost:8080/"
    },
    "id": "EtyTRglturFs",
    "outputId": "9157fd9e-e2e2-4da2-c402-15e8b11de480"
   },
   "outputs": [],
   "source": [
    "import warnings\n",
    "import numpy as np\n",
    "import pandas as pd\n",
    "import plotly.express as px\n",
    "import plotly.io as pio\n",
    "import polars as pl\n",
    "import optuna\n",
    "import polars.selectors as cs\n",
    "from imblearn.over_sampling import SMOTE\n",
    "from imblearn.pipeline import Pipeline as ImbPipeline\n",
    "from imblearn.under_sampling import RandomUnderSampler\n",
    "from lightgbm import LGBMClassifier\n",
    "from optuna import Study, create_study\n",
    "from optuna.pruners import SuccessiveHalvingPruner\n",
    "from optuna.samplers import RandomSampler\n",
    "from optuna.trial._frozen import FrozenTrial\n",
    "from pandas import DataFrame, Series\n",
    "from polars import DataFrame\n",
    "from sklearn.decomposition import PCA\n",
    "from sklearn.model_selection import train_test_split\n",
    "from polars.dataframe.frame import DataFrame\n",
    "from sklearn.pipeline import Pipeline\n",
    "\n",
    "from xgboost import XGBClassifier\n",
    "from polars.series.series import Series\n",
    "import scipy.stats as stats\n",
    "from numpy.typing import NDArray\n",
    "from optuna.study.study import Study\n",
    "\n",
    "\n",
    "warnings.filterwarnings(\"ignore\")\n",
    "optuna.logging.set_verbosity(optuna.logging.WARNING)\n",
    "pio.templates.default = \"plotly_dark\"\n",
    "\n",
    "\n",
    "#set trials globally to optimize run time\n",
    "num_trials = 15"
   ]
  },
  {
   "cell_type": "markdown",
   "metadata": {},
   "source": [
    "### Loan_functions.py"
   ]
  },
  {
   "cell_type": "code",
   "execution_count": 2,
   "metadata": {
    "id": "HDD8WUY6urFs"
   },
   "outputs": [],
   "source": [
    "from loan_functions import (\n",
    "    create_formatted_df,\n",
    "    lower_column_names,\n",
    "    lower_column_values,\n",
    "    plot_histogram,\n",
    "    null_count_comparison,\n",
    "    objective,calculate_model_statistics, instantiate_model, \n",
    "    create_encoder_mapping, \n",
    "    encode_feature,\n",
    "    replicate_classifier_tuning\n",
    ")"
   ]
  },
  {
   "cell_type": "markdown",
   "metadata": {
    "id": "MCapjrYUurFs"
   },
   "source": [
    "Let's begin by exploring the the training set. "
   ]
  },
  {
   "cell_type": "markdown",
   "metadata": {},
   "source": [
    "### Data Exploration\n"
   ]
  },
  {
   "cell_type": "markdown",
   "metadata": {},
   "source": [
    "Let's start by reading in the training set and looking at balance. I'll keep the EDA of this notebook focused on the training set to have a more focused analysis and discussion of modeling and model performance, but a more detailed exploration of the supporting datasets can be found in the [notebook] found in this repository."
   ]
  },
  {
   "cell_type": "code",
   "execution_count": 3,
   "metadata": {},
   "outputs": [
    {
     "name": "stdout",
     "output_type": "stream",
     "text": [
      "Training set has 307511 rows and 122 columns.\n"
     ]
    },
    {
     "data": {
      "text/html": [
       "<div><style>\n",
       ".dataframe > thead > tr,\n",
       ".dataframe > tbody > tr {\n",
       "  text-align: right;\n",
       "  white-space: pre-wrap;\n",
       "}\n",
       "</style>\n",
       "<small>shape: (5, 122)</small><table border=\"1\" class=\"dataframe\"><thead><tr><th>sk_id_curr</th><th>target</th><th>name_contract_type</th><th>code_gender</th><th>flag_own_car</th><th>flag_own_realty</th><th>cnt_children</th><th>amt_income_total</th><th>amt_credit</th><th>amt_annuity</th><th>amt_goods_price</th><th>name_type_suite</th><th>name_income_type</th><th>name_education_type</th><th>name_family_status</th><th>name_housing_type</th><th>region_population_relative</th><th>days_birth</th><th>days_employed</th><th>days_registration</th><th>days_id_publish</th><th>own_car_age</th><th>flag_mobil</th><th>flag_emp_phone</th><th>flag_work_phone</th><th>flag_cont_mobile</th><th>flag_phone</th><th>flag_email</th><th>occupation_type</th><th>cnt_fam_members</th><th>region_rating_client</th><th>region_rating_client_w_city</th><th>weekday_appr_process_start</th><th>hour_appr_process_start</th><th>reg_region_not_live_region</th><th>reg_region_not_work_region</th><th>live_region_not_work_region</th><th>&hellip;</th><th>nonlivingarea_medi</th><th>fondkapremont_mode</th><th>housetype_mode</th><th>totalarea_mode</th><th>wallsmaterial_mode</th><th>emergencystate_mode</th><th>obs_30_cnt_social_circle</th><th>def_30_cnt_social_circle</th><th>obs_60_cnt_social_circle</th><th>def_60_cnt_social_circle</th><th>days_last_phone_change</th><th>flag_document_2</th><th>flag_document_3</th><th>flag_document_4</th><th>flag_document_5</th><th>flag_document_6</th><th>flag_document_7</th><th>flag_document_8</th><th>flag_document_9</th><th>flag_document_10</th><th>flag_document_11</th><th>flag_document_12</th><th>flag_document_13</th><th>flag_document_14</th><th>flag_document_15</th><th>flag_document_16</th><th>flag_document_17</th><th>flag_document_18</th><th>flag_document_19</th><th>flag_document_20</th><th>flag_document_21</th><th>amt_req_credit_bureau_hour</th><th>amt_req_credit_bureau_day</th><th>amt_req_credit_bureau_week</th><th>amt_req_credit_bureau_mon</th><th>amt_req_credit_bureau_qrt</th><th>amt_req_credit_bureau_year</th></tr><tr><td>i64</td><td>i64</td><td>str</td><td>str</td><td>str</td><td>str</td><td>i64</td><td>f64</td><td>f64</td><td>f64</td><td>f64</td><td>str</td><td>str</td><td>str</td><td>str</td><td>str</td><td>f64</td><td>i64</td><td>i64</td><td>f64</td><td>i64</td><td>f64</td><td>i64</td><td>i64</td><td>i64</td><td>i64</td><td>i64</td><td>i64</td><td>str</td><td>f64</td><td>i64</td><td>i64</td><td>str</td><td>i64</td><td>i64</td><td>i64</td><td>i64</td><td>&hellip;</td><td>f64</td><td>str</td><td>str</td><td>f64</td><td>str</td><td>str</td><td>f64</td><td>f64</td><td>f64</td><td>f64</td><td>f64</td><td>i64</td><td>i64</td><td>i64</td><td>i64</td><td>i64</td><td>i64</td><td>i64</td><td>i64</td><td>i64</td><td>i64</td><td>i64</td><td>i64</td><td>i64</td><td>i64</td><td>i64</td><td>i64</td><td>i64</td><td>i64</td><td>i64</td><td>i64</td><td>f64</td><td>f64</td><td>f64</td><td>f64</td><td>f64</td><td>f64</td></tr></thead><tbody><tr><td>359971</td><td>0</td><td>&quot;cash&nbsp;loans&quot;</td><td>&quot;f&quot;</td><td>&quot;n&quot;</td><td>&quot;y&quot;</td><td>0</td><td>112500.0</td><td>650758.5</td><td>39942.0</td><td>603000.0</td><td>&quot;family&quot;</td><td>&quot;commercial&nbsp;associate&quot;</td><td>&quot;secondary&nbsp;/&nbsp;secondary&nbsp;special&quot;</td><td>&quot;married&quot;</td><td>&quot;office&nbsp;apartment&quot;</td><td>0.003069</td><td>-18130</td><td>-1782</td><td>-5386.0</td><td>-1562</td><td>null</td><td>1</td><td>1</td><td>0</td><td>1</td><td>0</td><td>0</td><td>null</td><td>2.0</td><td>3</td><td>3</td><td>&quot;friday&quot;</td><td>16</td><td>0</td><td>0</td><td>0</td><td>&hellip;</td><td>null</td><td>null</td><td>null</td><td>null</td><td>null</td><td>null</td><td>4.0</td><td>1.0</td><td>4.0</td><td>1.0</td><td>-362.0</td><td>0</td><td>1</td><td>0</td><td>0</td><td>0</td><td>0</td><td>0</td><td>0</td><td>0</td><td>0</td><td>0</td><td>0</td><td>0</td><td>0</td><td>0</td><td>0</td><td>0</td><td>0</td><td>0</td><td>0</td><td>0.0</td><td>0.0</td><td>0.0</td><td>1.0</td><td>0.0</td><td>0.0</td></tr><tr><td>138404</td><td>0</td><td>&quot;cash&nbsp;loans&quot;</td><td>&quot;f&quot;</td><td>&quot;n&quot;</td><td>&quot;y&quot;</td><td>2</td><td>157500.0</td><td>679500.0</td><td>19867.5</td><td>679500.0</td><td>&quot;unaccompanied&quot;</td><td>&quot;working&quot;</td><td>&quot;secondary&nbsp;/&nbsp;secondary&nbsp;special&quot;</td><td>&quot;civil&nbsp;marriage&quot;</td><td>&quot;house&nbsp;/&nbsp;apartment&quot;</td><td>0.022625</td><td>-13791</td><td>-4439</td><td>-7822.0</td><td>-4625</td><td>null</td><td>1</td><td>1</td><td>0</td><td>1</td><td>1</td><td>0</td><td>&quot;core&nbsp;staff&quot;</td><td>4.0</td><td>2</td><td>2</td><td>&quot;monday&quot;</td><td>8</td><td>0</td><td>0</td><td>0</td><td>&hellip;</td><td>0.0</td><td>&quot;not&nbsp;specified&quot;</td><td>&quot;block&nbsp;of&nbsp;flats&quot;</td><td>0.3981</td><td>&quot;panel&quot;</td><td>&quot;no&quot;</td><td>0.0</td><td>0.0</td><td>0.0</td><td>0.0</td><td>-1330.0</td><td>0</td><td>1</td><td>0</td><td>0</td><td>0</td><td>0</td><td>0</td><td>0</td><td>0</td><td>0</td><td>0</td><td>0</td><td>0</td><td>0</td><td>0</td><td>0</td><td>0</td><td>0</td><td>0</td><td>0</td><td>0.0</td><td>0.0</td><td>0.0</td><td>1.0</td><td>0.0</td><td>1.0</td></tr><tr><td>134381</td><td>0</td><td>&quot;cash&nbsp;loans&quot;</td><td>&quot;f&quot;</td><td>&quot;y&quot;</td><td>&quot;n&quot;</td><td>0</td><td>90000.0</td><td>239850.0</td><td>24336.0</td><td>225000.0</td><td>null</td><td>&quot;commercial&nbsp;associate&quot;</td><td>&quot;secondary&nbsp;/&nbsp;secondary&nbsp;special&quot;</td><td>&quot;married&quot;</td><td>&quot;house&nbsp;/&nbsp;apartment&quot;</td><td>0.019689</td><td>-11014</td><td>-3663</td><td>-1253.0</td><td>-2540</td><td>9.0</td><td>1</td><td>1</td><td>0</td><td>1</td><td>0</td><td>0</td><td>&quot;laborers&quot;</td><td>2.0</td><td>2</td><td>2</td><td>&quot;wednesday&quot;</td><td>15</td><td>0</td><td>0</td><td>0</td><td>&hellip;</td><td>null</td><td>null</td><td>null</td><td>null</td><td>null</td><td>null</td><td>1.0</td><td>1.0</td><td>1.0</td><td>1.0</td><td>-1.0</td><td>0</td><td>1</td><td>0</td><td>0</td><td>0</td><td>0</td><td>0</td><td>0</td><td>0</td><td>0</td><td>0</td><td>0</td><td>0</td><td>0</td><td>0</td><td>0</td><td>0</td><td>0</td><td>0</td><td>0</td><td>0.0</td><td>0.0</td><td>0.0</td><td>0.0</td><td>0.0</td><td>0.0</td></tr><tr><td>400539</td><td>0</td><td>&quot;revolving&nbsp;loans&quot;</td><td>&quot;f&quot;</td><td>&quot;y&quot;</td><td>&quot;y&quot;</td><td>0</td><td>112500.0</td><td>270000.0</td><td>13500.0</td><td>270000.0</td><td>&quot;unaccompanied&quot;</td><td>&quot;working&quot;</td><td>&quot;higher&nbsp;education&quot;</td><td>&quot;married&quot;</td><td>&quot;co-op&nbsp;apartment&quot;</td><td>0.018634</td><td>-13374</td><td>-1357</td><td>-1308.0</td><td>-1616</td><td>64.0</td><td>1</td><td>1</td><td>0</td><td>1</td><td>0</td><td>0</td><td>&quot;cooking&nbsp;staff&quot;</td><td>2.0</td><td>2</td><td>2</td><td>&quot;monday&quot;</td><td>11</td><td>0</td><td>0</td><td>0</td><td>&hellip;</td><td>null</td><td>null</td><td>null</td><td>null</td><td>null</td><td>null</td><td>1.0</td><td>0.0</td><td>1.0</td><td>0.0</td><td>0.0</td><td>0</td><td>0</td><td>0</td><td>0</td><td>0</td><td>0</td><td>0</td><td>0</td><td>0</td><td>0</td><td>0</td><td>0</td><td>0</td><td>0</td><td>0</td><td>0</td><td>0</td><td>0</td><td>0</td><td>0</td><td>0.0</td><td>0.0</td><td>0.0</td><td>0.0</td><td>0.0</td><td>0.0</td></tr><tr><td>160713</td><td>0</td><td>&quot;cash&nbsp;loans&quot;</td><td>&quot;f&quot;</td><td>&quot;n&quot;</td><td>&quot;n&quot;</td><td>0</td><td>54000.0</td><td>508495.5</td><td>18841.5</td><td>454500.0</td><td>&quot;unaccompanied&quot;</td><td>&quot;pensioner&quot;</td><td>&quot;secondary&nbsp;/&nbsp;secondary&nbsp;special&quot;</td><td>&quot;married&quot;</td><td>&quot;house&nbsp;/&nbsp;apartment&quot;</td><td>0.031329</td><td>-21100</td><td>365243</td><td>-6448.0</td><td>-4643</td><td>null</td><td>1</td><td>0</td><td>0</td><td>1</td><td>0</td><td>0</td><td>null</td><td>2.0</td><td>2</td><td>2</td><td>&quot;thursday&quot;</td><td>8</td><td>0</td><td>0</td><td>0</td><td>&hellip;</td><td>0.0306</td><td>&quot;reg&nbsp;oper&nbsp;account&quot;</td><td>&quot;block&nbsp;of&nbsp;flats&quot;</td><td>0.0772</td><td>&quot;block&quot;</td><td>&quot;no&quot;</td><td>7.0</td><td>0.0</td><td>7.0</td><td>0.0</td><td>-8.0</td><td>0</td><td>0</td><td>0</td><td>0</td><td>1</td><td>0</td><td>0</td><td>0</td><td>0</td><td>0</td><td>0</td><td>0</td><td>0</td><td>0</td><td>0</td><td>0</td><td>0</td><td>0</td><td>0</td><td>0</td><td>0.0</td><td>0.0</td><td>0.0</td><td>0.0</td><td>0.0</td><td>0.0</td></tr></tbody></table></div>"
      ],
      "text/plain": [
       "shape: (5, 122)\n",
       "┌────────────┬────────┬────────────┬───────────┬───┬───────────┬───────────┬───────────┬───────────┐\n",
       "│ sk_id_curr ┆ target ┆ name_contr ┆ code_gend ┆ … ┆ amt_req_c ┆ amt_req_c ┆ amt_req_c ┆ amt_req_c │\n",
       "│ ---        ┆ ---    ┆ act_type   ┆ er        ┆   ┆ redit_bur ┆ redit_bur ┆ redit_bur ┆ redit_bur │\n",
       "│ i64        ┆ i64    ┆ ---        ┆ ---       ┆   ┆ eau_week  ┆ eau_mon   ┆ eau_qrt   ┆ eau_year  │\n",
       "│            ┆        ┆ str        ┆ str       ┆   ┆ ---       ┆ ---       ┆ ---       ┆ ---       │\n",
       "│            ┆        ┆            ┆           ┆   ┆ f64       ┆ f64       ┆ f64       ┆ f64       │\n",
       "╞════════════╪════════╪════════════╪═══════════╪═══╪═══════════╪═══════════╪═══════════╪═══════════╡\n",
       "│ 359971     ┆ 0      ┆ cash loans ┆ f         ┆ … ┆ 0.0       ┆ 1.0       ┆ 0.0       ┆ 0.0       │\n",
       "│ 138404     ┆ 0      ┆ cash loans ┆ f         ┆ … ┆ 0.0       ┆ 1.0       ┆ 0.0       ┆ 1.0       │\n",
       "│ 134381     ┆ 0      ┆ cash loans ┆ f         ┆ … ┆ 0.0       ┆ 0.0       ┆ 0.0       ┆ 0.0       │\n",
       "│ 400539     ┆ 0      ┆ revolving  ┆ f         ┆ … ┆ 0.0       ┆ 0.0       ┆ 0.0       ┆ 0.0       │\n",
       "│            ┆        ┆ loans      ┆           ┆   ┆           ┆           ┆           ┆           │\n",
       "│ 160713     ┆ 0      ┆ cash loans ┆ f         ┆ … ┆ 0.0       ┆ 0.0       ┆ 0.0       ┆ 0.0       │\n",
       "└────────────┴────────┴────────────┴───────────┴───┴───────────┴───────────┴───────────┴───────────┘"
      ]
     },
     "execution_count": 3,
     "metadata": {},
     "output_type": "execute_result"
    }
   ],
   "source": [
    "application_train = create_formatted_df(\"application_train.csv\")\n",
    "\n",
    "print(\n",
    "    f\"Training set has {application_train.shape[0]} rows and {application_train.shape[1]} columns.\"\n",
    ")\n",
    "\n",
    "application_train.sample(5)"
   ]
  },
  {
   "cell_type": "markdown",
   "metadata": {},
   "source": [
    "Let's now take a look at balance of the target variable since that is our modeling variable of interest. "
   ]
  },
  {
   "cell_type": "code",
   "execution_count": 4,
   "metadata": {},
   "outputs": [
    {
     "data": {
      "image/svg+xml": [
       "<svg class=\"main-svg\" xmlns=\"http://www.w3.org/2000/svg\" xmlns:xlink=\"http://www.w3.org/1999/xlink\" width=\"700\" height=\"500\" style=\"\" viewBox=\"0 0 700 500\"><rect x=\"0\" y=\"0\" width=\"700\" height=\"500\" style=\"fill: rgb(17, 17, 17); fill-opacity: 1;\"/><defs id=\"defs-5bb617\"><g class=\"clips\"><clipPath id=\"clip5bb617xyplot\" class=\"plotclip\"><rect width=\"530\" height=\"360\"/></clipPath><clipPath class=\"axesclip\" id=\"clip5bb617x\"><rect x=\"80\" y=\"0\" width=\"530\" height=\"500\"/></clipPath><clipPath class=\"axesclip\" id=\"clip5bb617y\"><rect x=\"0\" y=\"60\" width=\"700\" height=\"360\"/></clipPath><clipPath class=\"axesclip\" id=\"clip5bb617xy\"><rect x=\"80\" y=\"60\" width=\"530\" height=\"360\"/></clipPath></g><g class=\"gradients\"><linearGradient x1=\"0\" y1=\"1\" x2=\"0\" y2=\"0\" gradientUnits=\"objectBoundingBox\" id=\"g5bb617-cbcoloraxis\"><stop offset=\"0%\" stop-color=\"rgb(210, 251, 212)\" stop-opacity=\"1\"/><stop offset=\"16.666667%\" stop-color=\"rgb(165, 219, 194)\" stop-opacity=\"1\"/><stop offset=\"33.333333%\" stop-color=\"rgb(123, 188, 176)\" stop-opacity=\"1\"/><stop offset=\"50%\" stop-color=\"rgb(85, 156, 158)\" stop-opacity=\"1\"/><stop offset=\"66.666667%\" stop-color=\"rgb(58, 124, 137)\" stop-opacity=\"1\"/><stop offset=\"83.333333%\" stop-color=\"rgb(35, 93, 114)\" stop-opacity=\"1\"/><stop offset=\"100%\" stop-color=\"rgb(18, 63, 90)\" stop-opacity=\"1\"/></linearGradient></g><g class=\"patterns\"/></defs><g class=\"bglayer\"/><g class=\"layer-below\"><g class=\"imagelayer\"/><g class=\"shapelayer\"/></g><g class=\"cartesianlayer\"><g class=\"subplot xy\"><g class=\"layer-subplot\"><g class=\"shapelayer\"/><g class=\"imagelayer\"/></g><g class=\"minor-gridlayer\"><g class=\"x\"/><g class=\"y\"/></g><g class=\"gridlayer\"><g class=\"x\"/><g class=\"y\"><path class=\"ygrid crisp\" transform=\"translate(0,359.51)\" d=\"M80,0h530\" style=\"stroke: rgb(40, 52, 66); stroke-opacity: 1; stroke-width: 1px;\"/><path class=\"ygrid crisp\" transform=\"translate(0,299.02)\" d=\"M80,0h530\" style=\"stroke: rgb(40, 52, 66); stroke-opacity: 1; stroke-width: 1px;\"/><path class=\"ygrid crisp\" transform=\"translate(0,238.53)\" d=\"M80,0h530\" style=\"stroke: rgb(40, 52, 66); stroke-opacity: 1; stroke-width: 1px;\"/><path class=\"ygrid crisp\" transform=\"translate(0,178.04000000000002)\" d=\"M80,0h530\" style=\"stroke: rgb(40, 52, 66); stroke-opacity: 1; stroke-width: 1px;\"/><path class=\"ygrid crisp\" transform=\"translate(0,117.53999999999999)\" d=\"M80,0h530\" style=\"stroke: rgb(40, 52, 66); stroke-opacity: 1; stroke-width: 1px;\"/></g></g><g class=\"zerolinelayer\"><path class=\"yzl zl crisp\" transform=\"translate(0,420)\" d=\"M80,0h530\" style=\"stroke: rgb(40, 52, 66); stroke-opacity: 1; stroke-width: 2px;\"/></g><g class=\"layer-between\"><g class=\"shapelayer\"/><g class=\"imagelayer\"/></g><path class=\"xlines-below\"/><path class=\"ylines-below\"/><g class=\"overlines-below\"/><g class=\"xaxislayer-below\"/><g class=\"yaxislayer-below\"/><g class=\"overaxes-below\"/><g class=\"overplot\"><g class=\"xy\" transform=\"translate(80,60)\" clip-path=\"url(#clip5bb617xyplot)\"><g class=\"barlayer mlayer\"><g class=\"trace bars\" style=\"opacity: 1;\"><g class=\"points\"><g class=\"point\"><path d=\"M26.5,360V18H238.5V360Z\" style=\"vector-effect: none; opacity: 1; stroke-width: 0.5px; fill: rgb(210, 251, 212); fill-opacity: 1; stroke: rgb(17, 17, 17); stroke-opacity: 1;\"/><text class=\"bartext bartext-inside\" text-anchor=\"middle\" data-notex=\"1\" x=\"0\" y=\"0\" style=\"font-family: 'Open Sans', verdana, arial, sans-serif; font-size: 12px; fill: rgb(68, 68, 68); fill-opacity: 1; white-space: pre;\" transform=\"translate(132.3359375,32)\">91.9%</text></g><g class=\"point\"><path d=\"M291.5,360V329.97H503.5V360Z\" style=\"vector-effect: none; opacity: 1; stroke-width: 0.5px; fill: rgb(18, 63, 90); fill-opacity: 1; stroke: rgb(17, 17, 17); stroke-opacity: 1;\"/><text class=\"bartext bartext-inside\" text-anchor=\"middle\" data-notex=\"1\" x=\"0\" y=\"0\" style=\"font-family: 'Open Sans', verdana, arial, sans-serif; font-size: 12px; fill: rgb(255, 255, 255); fill-opacity: 1; white-space: pre;\" transform=\"translate(397.3359375,343.97)\">8.1%</text></g></g></g></g></g></g><path class=\"xlines-above crisp\" d=\"M0,0\" style=\"fill: none;\"/><path class=\"ylines-above crisp\" d=\"M0,0\" style=\"fill: none;\"/><g class=\"overlines-above\"/><g class=\"xaxislayer-above\"><g class=\"xtick\"><text text-anchor=\"middle\" x=\"0\" y=\"433\" transform=\"translate(80,0)\" style=\"font-family: 'Open Sans', verdana, arial, sans-serif; font-size: 12px; fill: rgb(242, 245, 250); fill-opacity: 1; white-space: pre; opacity: 1;\">−0.5</text></g><g class=\"xtick\"><text text-anchor=\"middle\" x=\"0\" y=\"433\" style=\"font-family: 'Open Sans', verdana, arial, sans-serif; font-size: 12px; fill: rgb(242, 245, 250); fill-opacity: 1; white-space: pre; opacity: 1;\" transform=\"translate(212.5,0)\">0</text></g><g class=\"xtick\"><text text-anchor=\"middle\" x=\"0\" y=\"433\" style=\"font-family: 'Open Sans', verdana, arial, sans-serif; font-size: 12px; fill: rgb(242, 245, 250); fill-opacity: 1; white-space: pre; opacity: 1;\" transform=\"translate(345,0)\">0.5</text></g><g class=\"xtick\"><text text-anchor=\"middle\" x=\"0\" y=\"433\" style=\"font-family: 'Open Sans', verdana, arial, sans-serif; font-size: 12px; fill: rgb(242, 245, 250); fill-opacity: 1; white-space: pre; opacity: 1;\" transform=\"translate(477.5,0)\">1</text></g><g class=\"xtick\"><text text-anchor=\"middle\" x=\"0\" y=\"433\" style=\"font-family: 'Open Sans', verdana, arial, sans-serif; font-size: 12px; fill: rgb(242, 245, 250); fill-opacity: 1; white-space: pre; opacity: 1;\" transform=\"translate(610,0)\">1.5</text></g></g><g class=\"yaxislayer-above\"><g class=\"ytick\"><text text-anchor=\"end\" x=\"79\" y=\"4.199999999999999\" transform=\"translate(0,420)\" style=\"font-family: 'Open Sans', verdana, arial, sans-serif; font-size: 12px; fill: rgb(242, 245, 250); fill-opacity: 1; white-space: pre; opacity: 1;\">0</text></g><g class=\"ytick\"><text text-anchor=\"end\" x=\"79\" y=\"4.199999999999999\" style=\"font-family: 'Open Sans', verdana, arial, sans-serif; font-size: 12px; fill: rgb(242, 245, 250); fill-opacity: 1; white-space: pre; opacity: 1;\" transform=\"translate(0,359.51)\">50k</text></g><g class=\"ytick\"><text text-anchor=\"end\" x=\"79\" y=\"4.199999999999999\" style=\"font-family: 'Open Sans', verdana, arial, sans-serif; font-size: 12px; fill: rgb(242, 245, 250); fill-opacity: 1; white-space: pre; opacity: 1;\" transform=\"translate(0,299.02)\">100k</text></g><g class=\"ytick\"><text text-anchor=\"end\" x=\"79\" y=\"4.199999999999999\" style=\"font-family: 'Open Sans', verdana, arial, sans-serif; font-size: 12px; fill: rgb(242, 245, 250); fill-opacity: 1; white-space: pre; opacity: 1;\" transform=\"translate(0,238.53)\">150k</text></g><g class=\"ytick\"><text text-anchor=\"end\" x=\"79\" y=\"4.199999999999999\" style=\"font-family: 'Open Sans', verdana, arial, sans-serif; font-size: 12px; fill: rgb(242, 245, 250); fill-opacity: 1; white-space: pre; opacity: 1;\" transform=\"translate(0,178.04000000000002)\">200k</text></g><g class=\"ytick\"><text text-anchor=\"end\" x=\"79\" y=\"4.199999999999999\" style=\"font-family: 'Open Sans', verdana, arial, sans-serif; font-size: 12px; fill: rgb(242, 245, 250); fill-opacity: 1; white-space: pre; opacity: 1;\" transform=\"translate(0,117.53999999999999)\">250k</text></g></g><g class=\"overaxes-above\"/></g></g><g class=\"polarlayer\"/><g class=\"smithlayer\"/><g class=\"ternarylayer\"/><g class=\"geolayer\"/><g class=\"funnelarealayer\"/><g class=\"pielayer\"/><g class=\"iciclelayer\"/><g class=\"treemaplayer\"/><g class=\"sunburstlayer\"/><g class=\"glimages\"/><defs id=\"topdefs-5bb617\"><g class=\"clips\"/></defs><g class=\"layer-above\"><g class=\"imagelayer\"/><g class=\"shapelayer\"/></g><g class=\"infolayer\"><g class=\"cbcoloraxis colorbar\" transform=\"translate(80,60)\"><rect class=\"cbbg\" x=\"541\" y=\"0\" width=\"67.03125\" height=\"360\" style=\"fill: rgb(0, 0, 0); fill-opacity: 0; stroke: rgb(68, 68, 68); stroke-opacity: 1; stroke-width: 0;\"/><g class=\"cbfills\" transform=\"translate(0,31)\"><rect class=\"cbfill gradient_filled\" style=\"fill: url('#g5bb617-cbcoloraxis');\" x=\"551\" y=\"0\" width=\"30\" height=\"319\"/></g><g class=\"cblines\" transform=\"translate(0,31)\"/><g class=\"cbaxis crisp\" transform=\"translate(0,-60)\"><g class=\"ycbcoloraxistick\"><text text-anchor=\"start\" x=\"583.9\" y=\"4.199999999999999\" transform=\"translate(0,410)\" style=\"font-family: 'Open Sans', verdana, arial, sans-serif; font-size: 12px; fill: rgb(242, 245, 250); fill-opacity: 1; white-space: pre; opacity: 1;\">0</text></g><g class=\"ycbcoloraxistick\"><text text-anchor=\"start\" x=\"583.9\" y=\"4.199999999999999\" style=\"font-family: 'Open Sans', verdana, arial, sans-serif; font-size: 12px; fill: rgb(242, 245, 250); fill-opacity: 1; white-space: pre; opacity: 1;\" transform=\"translate(0,346.2)\">0.2</text></g><g class=\"ycbcoloraxistick\"><text text-anchor=\"start\" x=\"583.9\" y=\"4.199999999999999\" style=\"font-family: 'Open Sans', verdana, arial, sans-serif; font-size: 12px; fill: rgb(242, 245, 250); fill-opacity: 1; white-space: pre; opacity: 1;\" transform=\"translate(0,282.40000000000003)\">0.4</text></g><g class=\"ycbcoloraxistick\"><text text-anchor=\"start\" x=\"583.9\" y=\"4.199999999999999\" style=\"font-family: 'Open Sans', verdana, arial, sans-serif; font-size: 12px; fill: rgb(242, 245, 250); fill-opacity: 1; white-space: pre; opacity: 1;\" transform=\"translate(0,218.60000000000002)\">0.6</text></g><g class=\"ycbcoloraxistick\"><text text-anchor=\"start\" x=\"583.9\" y=\"4.199999999999999\" style=\"font-family: 'Open Sans', verdana, arial, sans-serif; font-size: 12px; fill: rgb(242, 245, 250); fill-opacity: 1; white-space: pre; opacity: 1;\" transform=\"translate(0,154.8)\">0.8</text></g><g class=\"ycbcoloraxistick\"><text text-anchor=\"start\" x=\"583.9\" y=\"4.199999999999999\" style=\"font-family: 'Open Sans', verdana, arial, sans-serif; font-size: 12px; fill: rgb(242, 245, 250); fill-opacity: 1; white-space: pre; opacity: 1;\" transform=\"translate(0,91.00000000000001)\">1</text></g></g><g class=\"cbtitleunshift\" transform=\"translate(-80,-60)\"><g class=\"cbtitle\" transform=\"\"><text class=\"ycbcoloraxistitle\" x=\"630.6\" y=\"83.5\" text-anchor=\"start\" style=\"opacity: 1; font-family: 'Open Sans', verdana, arial, sans-serif; font-size: 14px; fill: rgb(242, 245, 250); fill-opacity: 1; white-space: pre;\">target</text></g></g><rect class=\"cboutline\" x=\"551\" y=\"31\" width=\"30\" height=\"319\" style=\"stroke: rgb(68, 68, 68); stroke-opacity: 1; fill: none; stroke-width: 0;\"/></g><g class=\"g-gtitle\"><text class=\"gtitle\" x=\"35\" y=\"30\" text-anchor=\"start\" dy=\"0em\" style=\"opacity: 1; font-family: 'Open Sans', verdana, arial, sans-serif; font-size: 17px; fill: rgb(242, 245, 250); fill-opacity: 1; white-space: pre;\">Target Variable Distribution</text></g><g class=\"g-xtitle\"><text class=\"xtitle\" x=\"345\" y=\"460.3\" text-anchor=\"middle\" style=\"opacity: 1; font-family: 'Open Sans', verdana, arial, sans-serif; font-size: 14px; fill: rgb(242, 245, 250); fill-opacity: 1; white-space: pre;\">target</text></g><g class=\"g-ytitle\"><text class=\"ytitle\" transform=\"rotate(-90,33.56875,240)\" x=\"33.56875\" y=\"240\" text-anchor=\"middle\" style=\"opacity: 1; font-family: 'Open Sans', verdana, arial, sans-serif; font-size: 14px; fill: rgb(242, 245, 250); fill-opacity: 1; white-space: pre;\">count</text></g></g></svg>"
      ]
     },
     "metadata": {},
     "output_type": "display_data"
    }
   ],
   "source": [
    "plot_histogram(application_train, \"target\", title=\"Target Variable Distribution\",format='svg')"
   ]
  },
  {
   "cell_type": "code",
   "execution_count": 5,
   "metadata": {},
   "outputs": [
    {
     "data": {
      "text/html": [
       "<div><style>\n",
       ".dataframe > thead > tr,\n",
       ".dataframe > tbody > tr {\n",
       "  text-align: right;\n",
       "  white-space: pre-wrap;\n",
       "}\n",
       "</style>\n",
       "<small>shape: (3, 3)</small><table border=\"1\" class=\"dataframe\"><thead><tr><th>table</th><th>feature</th><th>null_count</th></tr><tr><td>str</td><td>str</td><td>i64</td></tr></thead><tbody><tr><td>&quot;application_{train|test}.csv&quot;</td><td>&quot;amt_annuity&quot;</td><td>12</td></tr><tr><td>&quot;bureau.csv&quot;</td><td>&quot;amt_annuity&quot;</td><td>42</td></tr><tr><td>&quot;previous_application.csv&quot;</td><td>&quot;amt_annuity&quot;</td><td>93</td></tr></tbody></table></div>"
      ],
      "text/plain": [
       "shape: (3, 3)\n",
       "┌──────────────────────────────┬─────────────┬────────────┐\n",
       "│ table                        ┆ feature     ┆ null_count │\n",
       "│ ---                          ┆ ---         ┆ ---        │\n",
       "│ str                          ┆ str         ┆ i64        │\n",
       "╞══════════════════════════════╪═════════════╪════════════╡\n",
       "│ application_{train|test}.csv ┆ amt_annuity ┆ 12         │\n",
       "│ bureau.csv                   ┆ amt_annuity ┆ 42         │\n",
       "│ previous_application.csv     ┆ amt_annuity ┆ 93         │\n",
       "└──────────────────────────────┴─────────────┴────────────┘"
      ]
     },
     "execution_count": 5,
     "metadata": {},
     "output_type": "execute_result"
    }
   ],
   "source": [
    "description: DataFrame = pl.read_csv(\"HomeCredit_columns_description.csv\", encoding=\"latin1\")\n",
    "description = lower_column_names(description)\n",
    "description = lower_column_values(description)\n",
    "\n",
    "# Delete training spaces for some entries in the row column\n",
    "description = description.with_columns(\n",
    "    pl.col(\"row\").map_elements(lambda x: x.split(\" \")[0], return_dtype=pl.String)\n",
    ")\n",
    "\n",
    "null_df = null_count_comparison(application_train, description, \"amt_annuity\")\n",
    "null_df"
   ]
  },
  {
   "cell_type": "markdown",
   "metadata": {},
   "source": [
    "### Null values "
   ]
  },
  {
   "cell_type": "code",
   "execution_count": 6,
   "metadata": {},
   "outputs": [
    {
     "data": {
      "image/svg+xml": [
       "<svg class=\"main-svg\" xmlns=\"http://www.w3.org/2000/svg\" xmlns:xlink=\"http://www.w3.org/1999/xlink\" width=\"700\" height=\"500\" style=\"\" viewBox=\"0 0 700 500\"><rect x=\"0\" y=\"0\" width=\"700\" height=\"500\" style=\"fill: rgb(17, 17, 17); fill-opacity: 1;\"/><defs id=\"defs-ff6517\"><g class=\"clips\"><clipPath id=\"clipff6517xyplot\" class=\"plotclip\"><rect width=\"540\" height=\"320\"/></clipPath><clipPath class=\"axesclip\" id=\"clipff6517x\"><rect x=\"80\" y=\"0\" width=\"540\" height=\"500\"/></clipPath><clipPath class=\"axesclip\" id=\"clipff6517y\"><rect x=\"0\" y=\"100\" width=\"700\" height=\"320\"/></clipPath><clipPath class=\"axesclip\" id=\"clipff6517xy\"><rect x=\"80\" y=\"100\" width=\"540\" height=\"320\"/></clipPath></g><g class=\"gradients\"/><g class=\"patterns\"/></defs><g class=\"bglayer\"/><g class=\"layer-below\"><g class=\"imagelayer\"/><g class=\"shapelayer\"/></g><g class=\"cartesianlayer\"><g class=\"subplot xy\"><g class=\"layer-subplot\"><g class=\"shapelayer\"/><g class=\"imagelayer\"/></g><g class=\"minor-gridlayer\"><g class=\"x\"/><g class=\"y\"/></g><g class=\"gridlayer\"><g class=\"x\"/><g class=\"y\"><path class=\"ygrid crisp\" transform=\"translate(0,373.23)\" d=\"M80,0h540\" style=\"stroke: rgb(40, 52, 66); stroke-opacity: 1; stroke-width: 1px;\"/><path class=\"ygrid crisp\" transform=\"translate(0,326.46000000000004)\" d=\"M80,0h540\" style=\"stroke: rgb(40, 52, 66); stroke-opacity: 1; stroke-width: 1px;\"/><path class=\"ygrid crisp\" transform=\"translate(0,279.69)\" d=\"M80,0h540\" style=\"stroke: rgb(40, 52, 66); stroke-opacity: 1; stroke-width: 1px;\"/><path class=\"ygrid crisp\" transform=\"translate(0,232.92)\" d=\"M80,0h540\" style=\"stroke: rgb(40, 52, 66); stroke-opacity: 1; stroke-width: 1px;\"/><path class=\"ygrid crisp\" transform=\"translate(0,186.15)\" d=\"M80,0h540\" style=\"stroke: rgb(40, 52, 66); stroke-opacity: 1; stroke-width: 1px;\"/><path class=\"ygrid crisp\" transform=\"translate(0,139.38)\" d=\"M80,0h540\" style=\"stroke: rgb(40, 52, 66); stroke-opacity: 1; stroke-width: 1px;\"/></g></g><g class=\"zerolinelayer\"><path class=\"yzl zl crisp\" transform=\"translate(0,420)\" d=\"M80,0h540\" style=\"stroke: rgb(40, 52, 66); stroke-opacity: 1; stroke-width: 2px;\"/></g><g class=\"layer-between\"><g class=\"shapelayer\"/><g class=\"imagelayer\"/></g><path class=\"xlines-below\"/><path class=\"ylines-below\"/><g class=\"overlines-below\"/><g class=\"xaxislayer-below\"/><g class=\"yaxislayer-below\"/><g class=\"overaxes-below\"/><g class=\"overplot\"><g class=\"xy\" transform=\"translate(80,100)\" clip-path=\"url(#clipff6517xyplot)\"><g class=\"barlayer mlayer\"><g class=\"trace bars\" style=\"opacity: 1;\"><g class=\"points\"><g class=\"point\"><path d=\"M6.75,320V16H60.75V320Z\" style=\"vector-effect: none; opacity: 1; stroke-width: 0px; fill: rgb(99, 110, 250); fill-opacity: 1;\"/><text class=\"bartext bartext-inside\" text-anchor=\"middle\" data-notex=\"1\" x=\"0\" y=\"0\" style=\"font-family: 'Open Sans', verdana, arial, sans-serif; font-size: 12px; fill: rgb(255, 255, 255); fill-opacity: 1; white-space: pre;\" transform=\"translate(33.59375,30)\">65</text></g><g class=\"point\"><path d=\"M74.25,320V291.94H128.25V320Z\" style=\"vector-effect: none; opacity: 1; stroke-width: 0px; fill: rgb(99, 110, 250); fill-opacity: 1;\"/><text class=\"bartext bartext-inside\" text-anchor=\"middle\" data-notex=\"1\" x=\"0\" y=\"0\" style=\"font-family: 'Open Sans', verdana, arial, sans-serif; font-size: 12px; fill: rgb(255, 255, 255); fill-opacity: 1; white-space: pre;\" transform=\"translate(101.0859375,305.94)\">6</text></g><g class=\"point\"><path d=\"M141.75,320V315.32H195.75V320Z\" style=\"vector-effect: none; opacity: 1; stroke-width: 0px; fill: rgb(99, 110, 250); fill-opacity: 1;\"/><text class=\"bartext bartext-outside\" text-anchor=\"middle\" data-notex=\"1\" x=\"0\" y=\"0\" style=\"font-family: 'Open Sans', verdana, arial, sans-serif; font-size: 12px; fill: rgb(242, 245, 250); fill-opacity: 1; white-space: pre;\" transform=\"translate(168.5859375,309.32)\">1</text></g><g class=\"point\"><path d=\"M209.25,320V315.32H263.25V320Z\" style=\"vector-effect: none; opacity: 1; stroke-width: 0px; fill: rgb(99, 110, 250); fill-opacity: 1;\"/><text class=\"bartext bartext-outside\" text-anchor=\"middle\" data-notex=\"1\" x=\"0\" y=\"0\" style=\"font-family: 'Open Sans', verdana, arial, sans-serif; font-size: 12px; fill: rgb(242, 245, 250); fill-opacity: 1; white-space: pre;\" transform=\"translate(236.0859375,309.32)\">1</text></g><g class=\"point\"><path d=\"M0,0Z\" style=\"vector-effect: none; opacity: 1; stroke-width: 0px; fill: rgb(99, 110, 250); fill-opacity: 1;\"/></g><g class=\"point\"><path d=\"M344.25,320V217.11H398.25V320Z\" style=\"vector-effect: none; opacity: 1; stroke-width: 0px; fill: rgb(99, 110, 250); fill-opacity: 1;\"/><text class=\"bartext bartext-inside\" text-anchor=\"middle\" data-notex=\"1\" x=\"0\" y=\"0\" style=\"font-family: 'Open Sans', verdana, arial, sans-serif; font-size: 12px; fill: rgb(255, 255, 255); fill-opacity: 1; white-space: pre;\" transform=\"translate(371.09375,231.11)\">22</text></g><g class=\"point\"><path d=\"M411.75,320V273.23H465.75V320Z\" style=\"vector-effect: none; opacity: 1; stroke-width: 0px; fill: rgb(99, 110, 250); fill-opacity: 1;\"/><text class=\"bartext bartext-inside\" text-anchor=\"middle\" data-notex=\"1\" x=\"0\" y=\"0\" style=\"font-family: 'Open Sans', verdana, arial, sans-serif; font-size: 12px; fill: rgb(255, 255, 255); fill-opacity: 1; white-space: pre;\" transform=\"translate(438.59375,287.23)\">10</text></g><g class=\"point\"><path d=\"M479.25,320V240.49H533.25V320Z\" style=\"vector-effect: none; opacity: 1; stroke-width: 0px; fill: rgb(99, 110, 250); fill-opacity: 1;\"/><text class=\"bartext bartext-inside\" text-anchor=\"middle\" data-notex=\"1\" x=\"0\" y=\"0\" style=\"font-family: 'Open Sans', verdana, arial, sans-serif; font-size: 12px; fill: rgb(255, 255, 255); fill-opacity: 1; white-space: pre;\" transform=\"translate(506.09375,254.49)\">17</text></g></g></g></g></g></g><path class=\"xlines-above crisp\" d=\"M0,0\" style=\"fill: none;\"/><path class=\"ylines-above crisp\" d=\"M0,0\" style=\"fill: none;\"/><g class=\"overlines-above\"/><g class=\"xaxislayer-above\"><g class=\"xtick\"><text text-anchor=\"middle\" x=\"0\" y=\"433\" transform=\"translate(113.75,0)\" style=\"font-family: 'Open Sans', verdana, arial, sans-serif; font-size: 12px; fill: rgb(242, 245, 250); fill-opacity: 1; white-space: pre; opacity: 1;\">0</text></g><g class=\"xtick\"><text text-anchor=\"middle\" x=\"0\" y=\"433\" style=\"font-family: 'Open Sans', verdana, arial, sans-serif; font-size: 12px; fill: rgb(242, 245, 250); fill-opacity: 1; white-space: pre; opacity: 1;\" transform=\"translate(248.75,0)\">0.2</text></g><g class=\"xtick\"><text text-anchor=\"middle\" x=\"0\" y=\"433\" style=\"font-family: 'Open Sans', verdana, arial, sans-serif; font-size: 12px; fill: rgb(242, 245, 250); fill-opacity: 1; white-space: pre; opacity: 1;\" transform=\"translate(383.75,0)\">0.4</text></g><g class=\"xtick\"><text text-anchor=\"middle\" x=\"0\" y=\"433\" style=\"font-family: 'Open Sans', verdana, arial, sans-serif; font-size: 12px; fill: rgb(242, 245, 250); fill-opacity: 1; white-space: pre; opacity: 1;\" transform=\"translate(518.75,0)\">0.6</text></g></g><g class=\"yaxislayer-above\"><g class=\"ytick\"><text text-anchor=\"end\" x=\"79\" y=\"4.199999999999999\" transform=\"translate(0,420)\" style=\"font-family: 'Open Sans', verdana, arial, sans-serif; font-size: 12px; fill: rgb(242, 245, 250); fill-opacity: 1; white-space: pre; opacity: 1;\">0</text></g><g class=\"ytick\"><text text-anchor=\"end\" x=\"79\" y=\"4.199999999999999\" style=\"font-family: 'Open Sans', verdana, arial, sans-serif; font-size: 12px; fill: rgb(242, 245, 250); fill-opacity: 1; white-space: pre; opacity: 1;\" transform=\"translate(0,373.23)\">10</text></g><g class=\"ytick\"><text text-anchor=\"end\" x=\"79\" y=\"4.199999999999999\" style=\"font-family: 'Open Sans', verdana, arial, sans-serif; font-size: 12px; fill: rgb(242, 245, 250); fill-opacity: 1; white-space: pre; opacity: 1;\" transform=\"translate(0,326.46000000000004)\">20</text></g><g class=\"ytick\"><text text-anchor=\"end\" x=\"79\" y=\"4.199999999999999\" style=\"font-family: 'Open Sans', verdana, arial, sans-serif; font-size: 12px; fill: rgb(242, 245, 250); fill-opacity: 1; white-space: pre; opacity: 1;\" transform=\"translate(0,279.69)\">30</text></g><g class=\"ytick\"><text text-anchor=\"end\" x=\"79\" y=\"4.199999999999999\" style=\"font-family: 'Open Sans', verdana, arial, sans-serif; font-size: 12px; fill: rgb(242, 245, 250); fill-opacity: 1; white-space: pre; opacity: 1;\" transform=\"translate(0,232.92)\">40</text></g><g class=\"ytick\"><text text-anchor=\"end\" x=\"79\" y=\"4.199999999999999\" style=\"font-family: 'Open Sans', verdana, arial, sans-serif; font-size: 12px; fill: rgb(242, 245, 250); fill-opacity: 1; white-space: pre; opacity: 1;\" transform=\"translate(0,186.15)\">50</text></g><g class=\"ytick\"><text text-anchor=\"end\" x=\"79\" y=\"4.199999999999999\" style=\"font-family: 'Open Sans', verdana, arial, sans-serif; font-size: 12px; fill: rgb(242, 245, 250); fill-opacity: 1; white-space: pre; opacity: 1;\" transform=\"translate(0,139.38)\">60</text></g></g><g class=\"overaxes-above\"/></g></g><g class=\"polarlayer\"/><g class=\"smithlayer\"/><g class=\"ternarylayer\"/><g class=\"geolayer\"/><g class=\"funnelarealayer\"/><g class=\"pielayer\"/><g class=\"iciclelayer\"/><g class=\"treemaplayer\"/><g class=\"sunburstlayer\"/><g class=\"glimages\"/><defs id=\"topdefs-ff6517\"><g class=\"clips\"/></defs><g class=\"layer-above\"><g class=\"imagelayer\"/><g class=\"shapelayer\"/></g><g class=\"infolayer\"><g class=\"g-gtitle\"><text class=\"gtitle\" x=\"35\" y=\"50\" text-anchor=\"start\" dy=\"0em\" style=\"opacity: 1; font-family: 'Open Sans', verdana, arial, sans-serif; font-size: 17px; fill: rgb(242, 245, 250); fill-opacity: 1; white-space: pre;\">Null value percentages across dataset</text></g><g class=\"g-xtitle\"><text class=\"xtitle\" x=\"350\" y=\"460.3\" text-anchor=\"middle\" style=\"opacity: 1; font-family: 'Open Sans', verdana, arial, sans-serif; font-size: 14px; fill: rgb(242, 245, 250); fill-opacity: 1; white-space: pre;\">percentage</text></g><g class=\"g-ytitle\"><text class=\"ytitle\" transform=\"rotate(-90,46.240625,260)\" x=\"46.240625\" y=\"260\" text-anchor=\"middle\" style=\"opacity: 1; font-family: 'Open Sans', verdana, arial, sans-serif; font-size: 14px; fill: rgb(242, 245, 250); fill-opacity: 1; white-space: pre;\">count</text></g></g></svg>"
      ]
     },
     "metadata": {},
     "output_type": "display_data"
    }
   ],
   "source": [
    "null_df = (\n",
    "    application_train.null_count()\n",
    "    .transpose(include_header=True)\n",
    "    .rename(mapping={\"column\": \"feature\", \"column_0\": \"null_count\"})\n",
    "    .sort(by=\"null_count\", descending=True)\n",
    "    .with_columns(\n",
    "        pl.col(\"null_count\")\n",
    "        .map_elements(lambda x: x / len(application_train), return_dtype=pl.Float32)\n",
    "        .alias(\"percentage\")\n",
    "    )\n",
    ")\n",
    "\n",
    "px.histogram(\n",
    "    null_df,\n",
    "    x=\"percentage\",\n",
    "    text_auto=True,\n",
    "    title=\"Null value percentages across dataset\",\n",
    ").update_layout(bargap=0.2).show('svg')"
   ]
  },
  {
   "cell_type": "markdown",
   "metadata": {},
   "source": [
    "The graph above shows that we have a pretty wide spread of null value prevalence within this dataset. Thankfully none of these null values are in the target variable, but we will have to make a choice in our analysis of how to treat null values within this dataset since some classifiers are more tolerant of null values than others. LightGBM and XGBoost can handle null values when fitting, but commonly used sklearn classifiers do not."
   ]
  },
  {
   "cell_type": "markdown",
   "metadata": {},
   "source": [
    "#### Look for categorical anomalies "
   ]
  },
  {
   "cell_type": "markdown",
   "metadata": {},
   "source": [
    "## Correlations \n"
   ]
  },
  {
   "cell_type": "code",
   "execution_count": 7,
   "metadata": {},
   "outputs": [
    {
     "data": {
      "image/svg+xml": [
       "<svg class=\"main-svg\" xmlns=\"http://www.w3.org/2000/svg\" xmlns:xlink=\"http://www.w3.org/1999/xlink\" width=\"700\" height=\"500\" style=\"\" viewBox=\"0 0 700 500\"><rect x=\"0\" y=\"0\" width=\"700\" height=\"500\" style=\"fill: rgb(17, 17, 17); fill-opacity: 1;\"/><defs id=\"defs-64957b\"><g class=\"clips\"><clipPath id=\"clip64957bxyplot\" class=\"plotclip\"><rect width=\"540\" height=\"320\"/></clipPath><clipPath class=\"axesclip\" id=\"clip64957bx\"><rect x=\"80\" y=\"0\" width=\"540\" height=\"500\"/></clipPath><clipPath class=\"axesclip\" id=\"clip64957by\"><rect x=\"0\" y=\"100\" width=\"700\" height=\"320\"/></clipPath><clipPath class=\"axesclip\" id=\"clip64957bxy\"><rect x=\"80\" y=\"100\" width=\"540\" height=\"320\"/></clipPath></g><g class=\"gradients\"/><g class=\"patterns\"/></defs><g class=\"bglayer\"/><g class=\"layer-below\"><g class=\"imagelayer\"/><g class=\"shapelayer\"/></g><g class=\"cartesianlayer\"><g class=\"subplot xy\"><g class=\"layer-subplot\"><g class=\"shapelayer\"/><g class=\"imagelayer\"/></g><g class=\"minor-gridlayer\"><g class=\"x\"/><g class=\"y\"/></g><g class=\"gridlayer\"><g class=\"x\"/><g class=\"y\"><path class=\"ygrid crisp\" transform=\"translate(0,373.23)\" d=\"M80,0h540\" style=\"stroke: rgb(40, 52, 66); stroke-opacity: 1; stroke-width: 1px;\"/><path class=\"ygrid crisp\" transform=\"translate(0,326.46000000000004)\" d=\"M80,0h540\" style=\"stroke: rgb(40, 52, 66); stroke-opacity: 1; stroke-width: 1px;\"/><path class=\"ygrid crisp\" transform=\"translate(0,279.69)\" d=\"M80,0h540\" style=\"stroke: rgb(40, 52, 66); stroke-opacity: 1; stroke-width: 1px;\"/><path class=\"ygrid crisp\" transform=\"translate(0,232.92)\" d=\"M80,0h540\" style=\"stroke: rgb(40, 52, 66); stroke-opacity: 1; stroke-width: 1px;\"/><path class=\"ygrid crisp\" transform=\"translate(0,186.15)\" d=\"M80,0h540\" style=\"stroke: rgb(40, 52, 66); stroke-opacity: 1; stroke-width: 1px;\"/><path class=\"ygrid crisp\" transform=\"translate(0,139.38)\" d=\"M80,0h540\" style=\"stroke: rgb(40, 52, 66); stroke-opacity: 1; stroke-width: 1px;\"/></g></g><g class=\"zerolinelayer\"><path class=\"yzl zl crisp\" transform=\"translate(0,420)\" d=\"M80,0h540\" style=\"stroke: rgb(40, 52, 66); stroke-opacity: 1; stroke-width: 2px;\"/></g><g class=\"layer-between\"><g class=\"shapelayer\"/><g class=\"imagelayer\"/></g><path class=\"xlines-below\"/><path class=\"ylines-below\"/><g class=\"overlines-below\"/><g class=\"xaxislayer-below\"/><g class=\"yaxislayer-below\"/><g class=\"overaxes-below\"/><g class=\"overplot\"><g class=\"xy\" transform=\"translate(80,100)\" clip-path=\"url(#clip64957bxyplot)\"><g class=\"barlayer mlayer\"><g class=\"trace bars\" style=\"opacity: 1;\"><g class=\"points\"><g class=\"point\"><path d=\"M2.16,320V315.32H19.44V320Z\" style=\"vector-effect: none; opacity: 1; stroke-width: 0px; fill: rgb(99, 110, 250); fill-opacity: 1;\"/></g><g class=\"point\"><path d=\"M23.76,320V310.65H41.04V320Z\" style=\"vector-effect: none; opacity: 1; stroke-width: 0px; fill: rgb(99, 110, 250); fill-opacity: 1;\"/></g><g class=\"point\"><path d=\"M0,0Z\" style=\"vector-effect: none; opacity: 1; stroke-width: 0px; fill: rgb(99, 110, 250); fill-opacity: 1;\"/></g><g class=\"point\"><path d=\"M66.96,320V217.11H84.24V320Z\" style=\"vector-effect: none; opacity: 1; stroke-width: 0px; fill: rgb(99, 110, 250); fill-opacity: 1;\"/></g><g class=\"point\"><path d=\"M88.56,320V16H105.84V320Z\" style=\"vector-effect: none; opacity: 1; stroke-width: 0px; fill: rgb(99, 110, 250); fill-opacity: 1;\"/></g><g class=\"point\"><path d=\"M110.16,320V254.52H127.44V320Z\" style=\"vector-effect: none; opacity: 1; stroke-width: 0px; fill: rgb(99, 110, 250); fill-opacity: 1;\"/></g><g class=\"point\"><path d=\"M131.76,320V315.32H149.04V320Z\" style=\"vector-effect: none; opacity: 1; stroke-width: 0px; fill: rgb(99, 110, 250); fill-opacity: 1;\"/></g><g class=\"point\"><path d=\"M0,0Z\" style=\"vector-effect: none; opacity: 1; stroke-width: 0px; fill: rgb(99, 110, 250); fill-opacity: 1;\"/></g><g class=\"point\"><path d=\"M0,0Z\" style=\"vector-effect: none; opacity: 1; stroke-width: 0px; fill: rgb(99, 110, 250); fill-opacity: 1;\"/></g><g class=\"point\"><path d=\"M0,0Z\" style=\"vector-effect: none; opacity: 1; stroke-width: 0px; fill: rgb(99, 110, 250); fill-opacity: 1;\"/></g><g class=\"point\"><path d=\"M0,0Z\" style=\"vector-effect: none; opacity: 1; stroke-width: 0px; fill: rgb(99, 110, 250); fill-opacity: 1;\"/></g><g class=\"point\"><path d=\"M0,0Z\" style=\"vector-effect: none; opacity: 1; stroke-width: 0px; fill: rgb(99, 110, 250); fill-opacity: 1;\"/></g><g class=\"point\"><path d=\"M0,0Z\" style=\"vector-effect: none; opacity: 1; stroke-width: 0px; fill: rgb(99, 110, 250); fill-opacity: 1;\"/></g><g class=\"point\"><path d=\"M0,0Z\" style=\"vector-effect: none; opacity: 1; stroke-width: 0px; fill: rgb(99, 110, 250); fill-opacity: 1;\"/></g><g class=\"point\"><path d=\"M0,0Z\" style=\"vector-effect: none; opacity: 1; stroke-width: 0px; fill: rgb(99, 110, 250); fill-opacity: 1;\"/></g><g class=\"point\"><path d=\"M0,0Z\" style=\"vector-effect: none; opacity: 1; stroke-width: 0px; fill: rgb(99, 110, 250); fill-opacity: 1;\"/></g><g class=\"point\"><path d=\"M0,0Z\" style=\"vector-effect: none; opacity: 1; stroke-width: 0px; fill: rgb(99, 110, 250); fill-opacity: 1;\"/></g><g class=\"point\"><path d=\"M0,0Z\" style=\"vector-effect: none; opacity: 1; stroke-width: 0px; fill: rgb(99, 110, 250); fill-opacity: 1;\"/></g><g class=\"point\"><path d=\"M0,0Z\" style=\"vector-effect: none; opacity: 1; stroke-width: 0px; fill: rgb(99, 110, 250); fill-opacity: 1;\"/></g><g class=\"point\"><path d=\"M0,0Z\" style=\"vector-effect: none; opacity: 1; stroke-width: 0px; fill: rgb(99, 110, 250); fill-opacity: 1;\"/></g><g class=\"point\"><path d=\"M0,0Z\" style=\"vector-effect: none; opacity: 1; stroke-width: 0px; fill: rgb(99, 110, 250); fill-opacity: 1;\"/></g><g class=\"point\"><path d=\"M0,0Z\" style=\"vector-effect: none; opacity: 1; stroke-width: 0px; fill: rgb(99, 110, 250); fill-opacity: 1;\"/></g><g class=\"point\"><path d=\"M0,0Z\" style=\"vector-effect: none; opacity: 1; stroke-width: 0px; fill: rgb(99, 110, 250); fill-opacity: 1;\"/></g><g class=\"point\"><path d=\"M0,0Z\" style=\"vector-effect: none; opacity: 1; stroke-width: 0px; fill: rgb(99, 110, 250); fill-opacity: 1;\"/></g><g class=\"point\"><path d=\"M520.56,320V315.32H537.84V320Z\" style=\"vector-effect: none; opacity: 1; stroke-width: 0px; fill: rgb(99, 110, 250); fill-opacity: 1;\"/></g></g></g></g></g></g><path class=\"xlines-above crisp\" d=\"M0,0\" style=\"fill: none;\"/><path class=\"ylines-above crisp\" d=\"M0,0\" style=\"fill: none;\"/><g class=\"overlines-above\"/><g class=\"xaxislayer-above\"><g class=\"xtick\"><text text-anchor=\"middle\" x=\"0\" y=\"433\" transform=\"translate(90.8,0)\" style=\"font-family: 'Open Sans', verdana, arial, sans-serif; font-size: 12px; fill: rgb(242, 245, 250); fill-opacity: 1; white-space: pre; opacity: 1;\">−0.2</text></g><g class=\"xtick\"><text text-anchor=\"middle\" x=\"0\" y=\"433\" style=\"font-family: 'Open Sans', verdana, arial, sans-serif; font-size: 12px; fill: rgb(242, 245, 250); fill-opacity: 1; white-space: pre; opacity: 1;\" transform=\"translate(177.2,0)\">0</text></g><g class=\"xtick\"><text text-anchor=\"middle\" x=\"0\" y=\"433\" style=\"font-family: 'Open Sans', verdana, arial, sans-serif; font-size: 12px; fill: rgb(242, 245, 250); fill-opacity: 1; white-space: pre; opacity: 1;\" transform=\"translate(263.6,0)\">0.2</text></g><g class=\"xtick\"><text text-anchor=\"middle\" x=\"0\" y=\"433\" style=\"font-family: 'Open Sans', verdana, arial, sans-serif; font-size: 12px; fill: rgb(242, 245, 250); fill-opacity: 1; white-space: pre; opacity: 1;\" transform=\"translate(350,0)\">0.4</text></g><g class=\"xtick\"><text text-anchor=\"middle\" x=\"0\" y=\"433\" style=\"font-family: 'Open Sans', verdana, arial, sans-serif; font-size: 12px; fill: rgb(242, 245, 250); fill-opacity: 1; white-space: pre; opacity: 1;\" transform=\"translate(436.4,0)\">0.6</text></g><g class=\"xtick\"><text text-anchor=\"middle\" x=\"0\" y=\"433\" style=\"font-family: 'Open Sans', verdana, arial, sans-serif; font-size: 12px; fill: rgb(242, 245, 250); fill-opacity: 1; white-space: pre; opacity: 1;\" transform=\"translate(522.8,0)\">0.8</text></g><g class=\"xtick\"><text text-anchor=\"middle\" x=\"0\" y=\"433\" style=\"font-family: 'Open Sans', verdana, arial, sans-serif; font-size: 12px; fill: rgb(242, 245, 250); fill-opacity: 1; white-space: pre; opacity: 1;\" transform=\"translate(609.2,0)\">1</text></g></g><g class=\"yaxislayer-above\"><g class=\"ytick\"><text text-anchor=\"end\" x=\"79\" y=\"4.199999999999999\" transform=\"translate(0,420)\" style=\"font-family: 'Open Sans', verdana, arial, sans-serif; font-size: 12px; fill: rgb(242, 245, 250); fill-opacity: 1; white-space: pre; opacity: 1;\">0</text></g><g class=\"ytick\"><text text-anchor=\"end\" x=\"79\" y=\"4.199999999999999\" style=\"font-family: 'Open Sans', verdana, arial, sans-serif; font-size: 12px; fill: rgb(242, 245, 250); fill-opacity: 1; white-space: pre; opacity: 1;\" transform=\"translate(0,373.23)\">10</text></g><g class=\"ytick\"><text text-anchor=\"end\" x=\"79\" y=\"4.199999999999999\" style=\"font-family: 'Open Sans', verdana, arial, sans-serif; font-size: 12px; fill: rgb(242, 245, 250); fill-opacity: 1; white-space: pre; opacity: 1;\" transform=\"translate(0,326.46000000000004)\">20</text></g><g class=\"ytick\"><text text-anchor=\"end\" x=\"79\" y=\"4.199999999999999\" style=\"font-family: 'Open Sans', verdana, arial, sans-serif; font-size: 12px; fill: rgb(242, 245, 250); fill-opacity: 1; white-space: pre; opacity: 1;\" transform=\"translate(0,279.69)\">30</text></g><g class=\"ytick\"><text text-anchor=\"end\" x=\"79\" y=\"4.199999999999999\" style=\"font-family: 'Open Sans', verdana, arial, sans-serif; font-size: 12px; fill: rgb(242, 245, 250); fill-opacity: 1; white-space: pre; opacity: 1;\" transform=\"translate(0,232.92)\">40</text></g><g class=\"ytick\"><text text-anchor=\"end\" x=\"79\" y=\"4.199999999999999\" style=\"font-family: 'Open Sans', verdana, arial, sans-serif; font-size: 12px; fill: rgb(242, 245, 250); fill-opacity: 1; white-space: pre; opacity: 1;\" transform=\"translate(0,186.15)\">50</text></g><g class=\"ytick\"><text text-anchor=\"end\" x=\"79\" y=\"4.199999999999999\" style=\"font-family: 'Open Sans', verdana, arial, sans-serif; font-size: 12px; fill: rgb(242, 245, 250); fill-opacity: 1; white-space: pre; opacity: 1;\" transform=\"translate(0,139.38)\">60</text></g></g><g class=\"overaxes-above\"/></g></g><g class=\"polarlayer\"/><g class=\"smithlayer\"/><g class=\"ternarylayer\"/><g class=\"geolayer\"/><g class=\"funnelarealayer\"/><g class=\"pielayer\"/><g class=\"iciclelayer\"/><g class=\"treemaplayer\"/><g class=\"sunburstlayer\"/><g class=\"glimages\"/><defs id=\"topdefs-64957b\"><g class=\"clips\"/></defs><g class=\"layer-above\"><g class=\"imagelayer\"/><g class=\"shapelayer\"/></g><g class=\"infolayer\"><g class=\"g-gtitle\"><text class=\"gtitle\" x=\"35\" y=\"50\" text-anchor=\"start\" dy=\"0em\" style=\"opacity: 1; font-family: 'Open Sans', verdana, arial, sans-serif; font-size: 17px; fill: rgb(242, 245, 250); fill-opacity: 1; white-space: pre;\">Correlations with Target Variable</text></g><g class=\"g-xtitle\"><text class=\"xtitle\" x=\"350\" y=\"460.3\" text-anchor=\"middle\" style=\"opacity: 1; font-family: 'Open Sans', verdana, arial, sans-serif; font-size: 14px; fill: rgb(242, 245, 250); fill-opacity: 1; white-space: pre;\">target</text></g><g class=\"g-ytitle\"><text class=\"ytitle\" transform=\"rotate(-90,46.240625,260)\" x=\"46.240625\" y=\"260\" text-anchor=\"middle\" style=\"opacity: 1; font-family: 'Open Sans', verdana, arial, sans-serif; font-size: 14px; fill: rgb(242, 245, 250); fill-opacity: 1; white-space: pre;\">count</text></g></g></svg>"
      ]
     },
     "metadata": {},
     "output_type": "display_data"
    }
   ],
   "source": [
    "corr: DataFrame = (\n",
    "    application_train.select(cs.by_dtype(pl.NUMERIC_DTYPES)).to_pandas().corr()\n",
    ")\n",
    "corr = pd.DataFrame(corr[\"target\"])\n",
    "\n",
    "px.histogram(\n",
    "    corr, \"target\", title=\"Correlations with Target Variable\"\n",
    ").update_layout(bargap=0.2).show('svg')"
   ]
  },
  {
   "cell_type": "markdown",
   "metadata": {},
   "source": [
    "The graph above shows the distribution of correlations as a graphical distribution rather than in tabular form because we have so many variables that we're working with. None of our variables are correlated with target, save for target itself."
   ]
  },
  {
   "cell_type": "markdown",
   "metadata": {},
   "source": [
    "## Hypothesis testing"
   ]
  },
  {
   "cell_type": "markdown",
   "metadata": {},
   "source": [
    "### Is there difference in proportions of clients that default when broken down by their region of residence? \n",
    "$H_0$: $p_1$ = $p_2$ = $p_3$<br>\n",
    "$H_1$: $p_1$ $\\neq$ $p_2$ $\\neq$ $p_3$\n"
   ]
  },
  {
   "cell_type": "code",
   "execution_count": 8,
   "metadata": {},
   "outputs": [
    {
     "name": "stdout",
     "output_type": "stream",
     "text": [
      "z = -82.387. Reject null hypothesis. The proportion of credit defaults across values of region_rating_client is not equal.\n"
     ]
    }
   ],
   "source": [
    "region_default: DataFrame = pd.crosstab(\n",
    "    application_train[\"region_rating_client\"].to_pandas(),\n",
    "    application_train[\"target\"].to_pandas(),\n",
    "    rownames=[\"region_rating_client\"],\n",
    "    colnames=[\"target\"],\n",
    ")\n",
    "region_default[\"default_proportion\"] = region_default.iloc[:, 1] / region_default.sum(\n",
    "    axis=1\n",
    ")\n",
    "region_default[\"total\"] = region_default.iloc[:, :-1].sum(axis=1)\n",
    "\n",
    "# pooled sample proportion\n",
    "p1_default_prop:float = region_default.default_proportion.iloc[0]\n",
    "p2_default_prop:float = region_default.default_proportion.iloc[1]\n",
    "p3_default_prop:float = region_default.default_proportion.iloc[2]\n",
    "\n",
    "p1_population:float = region_default.total.iloc[0]\n",
    "p2_population:float = region_default.total.iloc[1]\n",
    "p3_population:float = region_default.total.iloc[2]\n",
    "\n",
    "p:float = (\n",
    "    p1_default_prop * p1_population\n",
    "    + p2_default_prop * p2_population\n",
    "    + p3_default_prop * p3_population\n",
    ") / (p1_population + p2_population + p3_population)\n",
    "\n",
    "# standard error\n",
    "se:float = np.sqrt(\n",
    "    (p * (1 - p)) * ((1 / p1_population) + (1 / p2_population) + (1 / p2_population))\n",
    ")\n",
    "\n",
    "# test statistic\n",
    "z:float = (p1_default_prop - p2_default_prop - p3_default_prop) / se\n",
    "\n",
    "if np.abs(z) < 1.64485:\n",
    "    print(\n",
    "        f\"Fail to reject the null hypothesis. We can assume the default percentage to be the same across {'region_rating_client'}.\"\n",
    "    )\n",
    "else:\n",
    "    print(\n",
    "        f\"z = {z:.3f}. Reject null hypothesis. The proportion of credit defaults across values of {'region_rating_client'} is not equal.\"\n",
    "    )"
   ]
  },
  {
   "cell_type": "markdown",
   "metadata": {},
   "source": [
    "Because both gender and region are not equal across their values when compared to our target variable, we they are more likely to have a significant relationship with default risk. We should include these variables in our predictor pool. This raises the question of what variables we should use to predict our models, given that we feasibly cannot include all of them. Let's move on to feature selection so we can restrict our feature set to one that is both significant and predictive of the target variable without being so onerous to run calculations on. \n"
   ]
  },
  {
   "cell_type": "markdown",
   "metadata": {},
   "source": [
    "### Are younger homeowners are more likely to default on credit payments? "
   ]
  },
  {
   "cell_type": "markdown",
   "metadata": {},
   "source": [
    "$H_0$: $\\mu_d$ =  $\\mu_n$<br>\n",
    "$H_1$:  $\\mu_d$ $\\neq$ $\\mu_n$\n",
    "\n",
    "s.t. <br>\n",
    "$\\mu_d$: the average age of clients who default<br>\n",
    "$\\mu_n$: the average age of clients who do not default"
   ]
  },
  {
   "cell_type": "code",
   "execution_count": 9,
   "metadata": {},
   "outputs": [
    {
     "name": "stdout",
     "output_type": "stream",
     "text": [
      "Two-sample t-test results:\n",
      "\n",
      "t-statistic: 43.517\n",
      "p-value: 0.000\n",
      "\n",
      "Reject the null hypothesis: there is a significant difference in the average ages \n",
      "of clients who default vs. those who don't.\n",
      "\n"
     ]
    }
   ],
   "source": [
    "age_df: DataFrame = application_train[[\"target\", \"days_birth\"]]\n",
    "age_df = age_df.with_columns((pl.col(\"days_birth\") // -365)).rename(\n",
    "    {\"days_birth\": \"age\"}\n",
    ")\n",
    "\n",
    "age_default: Series = age_df.filter(pl.col(\"target\") == 1)[\"age\"]\n",
    "age_no_default: Series = age_df.filter(pl.col(\"target\") == 0)[\"age\"]\n",
    "\n",
    "t_stat, p_value = stats.ttest_ind(age_no_default, age_default)\n",
    "\n",
    "print(\"Two-sample t-test results:\\n\")\n",
    "print(f\"t-statistic: {t_stat:.3f}\")\n",
    "print(f\"p-value: {p_value:.3f}\\n\")\n",
    "\n",
    "if p_value < 0.05:\n",
    "    print(\n",
    "        \"Reject the null hypothesis: there is a significant difference in the average ages \\nof clients who default vs. those who don't.\\n\"\n",
    "    )\n",
    "else:\n",
    "    print(\n",
    "        \"Fail to reject the null hypothesis: there is no significant difference in the average ages of clients who \\ndefault vs. those who don't.\\n\"\n",
    "    )"
   ]
  },
  {
   "cell_type": "markdown",
   "metadata": {},
   "source": [
    "## Preparing data for modeling\n"
   ]
  },
  {
   "cell_type": "markdown",
   "metadata": {},
   "source": [
    "Before we start creating models, it's important to lay out what our north star assessment criteria are for model assessment, and secondarily how we will choose what a high-performing model is. \n",
    "\n",
    "Given that our business problem is designing predictive classifiers of credit clients that are likely to default on payments, and that our training data is highly imbalanced such that our positive class is the minority class at a ratio of 10:1, we will need to be very precise in our metric selection. \n",
    "\n",
    "Therefore each model that we create will be judged on its ROC-AUC score, F1 score, Matthews Correlation Coefficient, Balanced Accuracy, Precision, and Recall. This sounds like a long list of metrics, so our primary determinants will be the ROC-AUC and MCC since ROC-AUC can be less powerful for highly imbalanced datasets, and MCC gives a pretty comprehensive view of a model's performance across all 4 quadrants of the confusion matrix."
   ]
  },
  {
   "cell_type": "markdown",
   "metadata": {
    "id": "Svdmqv55uwMC"
   },
   "source": [
    "## Modeling"
   ]
  },
  {
   "cell_type": "markdown",
   "metadata": {},
   "source": [
    "Now that we've defined our metrics set and evaluation method, our workflow for the next section is as follows: \n",
    "1. Create pipelines to impute missing values, scale data, and fit to our classifier of choice\n",
    "2. Calculate model statistics for each classifier\n",
    "\n"
   ]
  },
  {
   "cell_type": "code",
   "execution_count": 10,
   "metadata": {},
   "outputs": [],
   "source": [
    "application_train: DataFrame = create_formatted_df(\"application_train.csv\")\n",
    "\n",
    "x: DataFrame = application_train.drop([\"sk_id_curr\", \"target\"]).to_pandas()\n",
    "y: DataFrame = pl.DataFrame(application_train[\"target\"]).to_pandas()\n",
    "\n",
    "x_columns: list = x.columns\n",
    "\n",
    "x_train, x_test, y_train, y_test = train_test_split(\n",
    "    x, y, test_size=0.3, random_state=0, stratify=y\n",
    ")\n",
    "\n",
    "y_train: NDArray = np.array(y_train).ravel()\n",
    "\n",
    "numerical_columns: list[str] = [\n",
    "    *x.select_dtypes(exclude=[\"object\", \"category\"]).columns\n",
    "]\n",
    "\n",
    "categorical_columns: list[str] = [\n",
    "    *x.select_dtypes(include=[\"object\", \"category\"]).columns\n",
    "]"
   ]
  },
  {
   "cell_type": "markdown",
   "metadata": {},
   "source": [
    "Now that we've defined the data that we'll be using for our modeling, we'll begin by taking a look at logistic regression."
   ]
  },
  {
   "cell_type": "code",
   "execution_count": 11,
   "metadata": {},
   "outputs": [
    {
     "data": {
      "text/html": [
       "<div>\n",
       "<style scoped>\n",
       "    .dataframe tbody tr th:only-of-type {\n",
       "        vertical-align: middle;\n",
       "    }\n",
       "\n",
       "    .dataframe tbody tr th {\n",
       "        vertical-align: top;\n",
       "    }\n",
       "\n",
       "    .dataframe thead th {\n",
       "        text-align: right;\n",
       "    }\n",
       "</style>\n",
       "<table border=\"1\" class=\"dataframe\">\n",
       "  <thead>\n",
       "    <tr style=\"text-align: right;\">\n",
       "      <th></th>\n",
       "      <th>lgbm</th>\n",
       "      <th>lgbm_rf</th>\n",
       "      <th>xgboost</th>\n",
       "    </tr>\n",
       "  </thead>\n",
       "  <tbody>\n",
       "    <tr>\n",
       "      <th>roc_auc</th>\n",
       "      <td>0.692193</td>\n",
       "      <td>0.672454</td>\n",
       "      <td>0.502681</td>\n",
       "    </tr>\n",
       "    <tr>\n",
       "      <th>matthews_correlation</th>\n",
       "      <td>0.225119</td>\n",
       "      <td>0.194694</td>\n",
       "      <td>0.017334</td>\n",
       "    </tr>\n",
       "    <tr>\n",
       "      <th>f_beta</th>\n",
       "      <td>0.518485</td>\n",
       "      <td>0.505633</td>\n",
       "      <td>0.013296</td>\n",
       "    </tr>\n",
       "    <tr>\n",
       "      <th>precision</th>\n",
       "      <td>0.170832</td>\n",
       "      <td>0.150048</td>\n",
       "      <td>0.136364</td>\n",
       "    </tr>\n",
       "    <tr>\n",
       "      <th>recall</th>\n",
       "      <td>0.669979</td>\n",
       "      <td>0.686359</td>\n",
       "      <td>0.012084</td>\n",
       "    </tr>\n",
       "    <tr>\n",
       "      <th>balanced_accuracy</th>\n",
       "      <td>0.692193</td>\n",
       "      <td>0.672454</td>\n",
       "      <td>0.502681</td>\n",
       "    </tr>\n",
       "  </tbody>\n",
       "</table>\n",
       "</div>"
      ],
      "text/plain": [
       "                          lgbm   lgbm_rf   xgboost\n",
       "roc_auc               0.692193  0.672454  0.502681\n",
       "matthews_correlation  0.225119  0.194694  0.017334\n",
       "f_beta                0.518485  0.505633  0.013296\n",
       "precision             0.170832  0.150048  0.136364\n",
       "recall                0.669979  0.686359  0.012084\n",
       "balanced_accuracy     0.692193  0.672454  0.502681"
      ]
     },
     "execution_count": 11,
     "metadata": {},
     "output_type": "execute_result"
    }
   ],
   "source": [
    "model_performance = pd.DataFrame()\n",
    "model_specifications = dict()\n",
    "\n",
    "\n",
    "classifiers: list[str] = [\"lgbm\", \"lgbm_rf\", \"xgboost\"]\n",
    "\n",
    "for classifier in classifiers:\n",
    "\n",
    "    study = create_study(\n",
    "        direction=\"maximize\",\n",
    "        study_name=(classifier + \"\\n\"),\n",
    "        pruner=SuccessiveHalvingPruner(reduction_factor=2),\n",
    "        sampler=RandomSampler(seed=42),\n",
    "    )\n",
    "\n",
    "    study.optimize(\n",
    "        lambda trial: objective(classifier, trial, x_train, np.array(y_train).ravel()),\n",
    "        n_trials=num_trials,  # 4,\n",
    "    )  # n_trials=100 is the original value\n",
    "\n",
    "    model_specifications[classifier] = study.best_params\n",
    "\n",
    "    best_trial: FrozenTrial = study.best_trial\n",
    "    model: Pipeline = instantiate_model(\n",
    "        classifier,\n",
    "        trial=best_trial,\n",
    "        numerical_columns=numerical_columns,\n",
    "        categorical_columns=categorical_columns,\n",
    "    )\n",
    "    model.fit(x_train, y_train)\n",
    "    predictions: NDArray = model.predict(x_test)\n",
    "    model_performance[classifier] = calculate_model_statistics(y_test, predictions)\n",
    "model_performance"
   ]
  },
  {
   "cell_type": "markdown",
   "metadata": {},
   "source": [
    "We're still not getting anywhere with these either, which means that our data could use a little more polishing before we feed them to models. One way to strengthen the models is with SMOTE oversampling, so we'll start there. "
   ]
  },
  {
   "cell_type": "markdown",
   "metadata": {},
   "source": [
    "## SMOTE Oversampling \n",
    "We'll use the combination of undersampling and oversampling originally put forth in the SMOTE paper to see how much that improves our model performance. We'll start by numerically encoding the categorical variables across application train before applying PCA and the conducting our under- and oversampling. "
   ]
  },
  {
   "cell_type": "code",
   "execution_count": 12,
   "metadata": {},
   "outputs": [],
   "source": [
    "numerical_train: DataFrame = application_train.clone()\n",
    "\n",
    "# numerically encode features\n",
    "encoder_mapping_key = dict()\n",
    "for col in numerical_train.columns:\n",
    "    try:\n",
    "        key: dict[str, int] = create_encoder_mapping(numerical_train, col)\n",
    "        numerical_train = encode_feature(numerical_train, col, key)\n",
    "        encoder_mapping_key[col] = key\n",
    "    except:\n",
    "        pass\n",
    "\n",
    "\n",
    "# fill missing values\n",
    "for col in numerical_train.columns:\n",
    "    median: float = numerical_train[col].median()\n",
    "    numerical_train = numerical_train.with_columns(pl.col(col).fill_null(value=median))\n",
    "\n",
    "\n",
    "x: DataFrame = numerical_train.drop(\"target\").to_pandas()\n",
    "y: Series = numerical_train[\"target\"].to_pandas()"
   ]
  },
  {
   "cell_type": "code",
   "execution_count": 16,
   "metadata": {},
   "outputs": [],
   "source": [
    "oversampling = SMOTE(sampling_strategy=0.1)\n",
    "undersampling = RandomUnderSampler(sampling_strategy=0.5)\n",
    "\n",
    "steps: list = [(\"oversample\", oversampling), (\"undersample\", undersampling)]\n",
    "pipeline = ImbPipeline(steps=steps)\n",
    "smote_x, smote_y = pipeline.fit_resample(x, y)\n",
    "\n",
    "pca = PCA(n_components=smote_x.shape[1])\n",
    "smote_x: NDArray = pca.fit_transform(smote_x)\n",
    "\n",
    "smote_x_train, smote_x_test, smote_y_train, smote_y_test = train_test_split(\n",
    "    smote_x, smote_y, stratify=smote_y, random_state=15\n",
    ")\n",
    "\n",
    "smote_x_train = pd.DataFrame(smote_x_train,columns=x.columns)\n",
    "\n",
    "smote_x_test=pd.DataFrame(smote_x_test,columns=x.columns)\n"
   ]
  },
  {
   "cell_type": "markdown",
   "metadata": {},
   "source": [
    "Now that we've created our smote dataset, we can fit the models. However our previous model specifications aren't as helpful since the dataset is new, and models may perform better on different hyperparameters. Let's create another study and run it again! "
   ]
  },
  {
   "cell_type": "code",
   "execution_count": 17,
   "metadata": {},
   "outputs": [
    {
     "data": {
      "text/html": [
       "<div>\n",
       "<style scoped>\n",
       "    .dataframe tbody tr th:only-of-type {\n",
       "        vertical-align: middle;\n",
       "    }\n",
       "\n",
       "    .dataframe tbody tr th {\n",
       "        vertical-align: top;\n",
       "    }\n",
       "\n",
       "    .dataframe thead th {\n",
       "        text-align: right;\n",
       "    }\n",
       "</style>\n",
       "<table border=\"1\" class=\"dataframe\">\n",
       "  <thead>\n",
       "    <tr style=\"text-align: right;\">\n",
       "      <th></th>\n",
       "      <th>lgbm</th>\n",
       "      <th>lgbm_rf</th>\n",
       "      <th>xgboost</th>\n",
       "      <th>SMOTE_lgbm</th>\n",
       "      <th>SMOTE_lgbm_rf</th>\n",
       "      <th>SMOTE_xgboost</th>\n",
       "    </tr>\n",
       "  </thead>\n",
       "  <tbody>\n",
       "    <tr>\n",
       "      <th>roc_auc</th>\n",
       "      <td>0.692193</td>\n",
       "      <td>0.672454</td>\n",
       "      <td>0.502681</td>\n",
       "      <td>0.690710</td>\n",
       "      <td>0.683600</td>\n",
       "      <td>0.640229</td>\n",
       "    </tr>\n",
       "    <tr>\n",
       "      <th>matthews_correlation</th>\n",
       "      <td>0.225119</td>\n",
       "      <td>0.194694</td>\n",
       "      <td>0.017334</td>\n",
       "      <td>0.364336</td>\n",
       "      <td>0.349841</td>\n",
       "      <td>0.322882</td>\n",
       "    </tr>\n",
       "    <tr>\n",
       "      <th>f_beta</th>\n",
       "      <td>0.518485</td>\n",
       "      <td>0.505633</td>\n",
       "      <td>0.013296</td>\n",
       "      <td>0.656956</td>\n",
       "      <td>0.654256</td>\n",
       "      <td>0.415003</td>\n",
       "    </tr>\n",
       "    <tr>\n",
       "      <th>precision</th>\n",
       "      <td>0.170832</td>\n",
       "      <td>0.150048</td>\n",
       "      <td>0.136364</td>\n",
       "      <td>0.535289</td>\n",
       "      <td>0.523967</td>\n",
       "      <td>0.625858</td>\n",
       "    </tr>\n",
       "    <tr>\n",
       "      <th>recall</th>\n",
       "      <td>0.669979</td>\n",
       "      <td>0.686359</td>\n",
       "      <td>0.012084</td>\n",
       "      <td>0.673978</td>\n",
       "      <td>0.672846</td>\n",
       "      <td>0.400028</td>\n",
       "    </tr>\n",
       "    <tr>\n",
       "      <th>balanced_accuracy</th>\n",
       "      <td>0.692193</td>\n",
       "      <td>0.672454</td>\n",
       "      <td>0.502681</td>\n",
       "      <td>0.690710</td>\n",
       "      <td>0.683600</td>\n",
       "      <td>0.640229</td>\n",
       "    </tr>\n",
       "  </tbody>\n",
       "</table>\n",
       "</div>"
      ],
      "text/plain": [
       "                          lgbm   lgbm_rf   xgboost  SMOTE_lgbm  SMOTE_lgbm_rf  \\\n",
       "roc_auc               0.692193  0.672454  0.502681    0.690710       0.683600   \n",
       "matthews_correlation  0.225119  0.194694  0.017334    0.364336       0.349841   \n",
       "f_beta                0.518485  0.505633  0.013296    0.656956       0.654256   \n",
       "precision             0.170832  0.150048  0.136364    0.535289       0.523967   \n",
       "recall                0.669979  0.686359  0.012084    0.673978       0.672846   \n",
       "balanced_accuracy     0.692193  0.672454  0.502681    0.690710       0.683600   \n",
       "\n",
       "                      SMOTE_xgboost  \n",
       "roc_auc                    0.640229  \n",
       "matthews_correlation       0.322882  \n",
       "f_beta                     0.415003  \n",
       "precision                  0.625858  \n",
       "recall                     0.400028  \n",
       "balanced_accuracy          0.640229  "
      ]
     },
     "execution_count": 17,
     "metadata": {},
     "output_type": "execute_result"
    }
   ],
   "source": [
    "for idx, classifier in enumerate([\"lgbm\", \"lgbm_rf\", \"xgboost\"]):\n",
    "\n",
    "    designator = \"SMOTE_\" + classifier\n",
    "\n",
    "    study: Study = create_study(\n",
    "        direction=\"maximize\",\n",
    "        study_name=(classifier + \"\\n\"),\n",
    "        pruner=SuccessiveHalvingPruner(reduction_factor=2),\n",
    "        sampler=RandomSampler(seed=42),\n",
    "    )\n",
    "    study.optimize(\n",
    "        lambda trial: objective(classifier, trial, smote_x_train, smote_y_train), n_trials=num_trials\n",
    "    )\n",
    "\n",
    "    model_specifications[designator] = study.best_params\n",
    "\n",
    "    if idx <= 1:\n",
    "        smote_model = LGBMClassifier(**study.best_params, device=\"gpu\")\n",
    "    else:\n",
    "        smote_model = XGBClassifier(\n",
    "            **study.best_params,\n",
    "            tree_method=\"gpu_hist\",\n",
    "            predictor=\"gpu_predictor\",\n",
    "            device=\"gpu\"\n",
    "        )\n",
    "    smote_model.fit(smote_x_train, smote_y_train)\n",
    "    predictions: NDArray = smote_model.predict(smote_x_test)\n",
    "\n",
    "    model_performance[designator] = calculate_model_statistics(smote_y_test, predictions)\n",
    "model_performance"
   ]
  },
  {
   "cell_type": "markdown",
   "metadata": {},
   "source": [
    "Based on trial runs that we have so far, we know that the lightgbm random forest models are the most performant of the ones that we've tried so far. The non-SMOTE models benefit from running through a higher number of trials, but there does seem to be an upper limit of about 0.69 in the roc_auc metric. Let's take a closer look at the false positive and false negative observations within the SMOTE random forest model to see if there are any patterns we could identify to boost model performance even further. "
   ]
  },
  {
   "cell_type": "code",
   "execution_count": 18,
   "metadata": {},
   "outputs": [
    {
     "data": {
      "text/html": [
       "<div>\n",
       "<style scoped>\n",
       "    .dataframe tbody tr th:only-of-type {\n",
       "        vertical-align: middle;\n",
       "    }\n",
       "\n",
       "    .dataframe tbody tr th {\n",
       "        vertical-align: top;\n",
       "    }\n",
       "\n",
       "    .dataframe thead th {\n",
       "        text-align: right;\n",
       "    }\n",
       "</style>\n",
       "<table border=\"1\" class=\"dataframe\">\n",
       "  <thead>\n",
       "    <tr style=\"text-align: right;\">\n",
       "      <th></th>\n",
       "      <th>statistics</th>\n",
       "    </tr>\n",
       "  </thead>\n",
       "  <tbody>\n",
       "    <tr>\n",
       "      <th>roc_auc</th>\n",
       "      <td>0.683105</td>\n",
       "    </tr>\n",
       "    <tr>\n",
       "      <th>matthews_correlation</th>\n",
       "      <td>0.347705</td>\n",
       "    </tr>\n",
       "    <tr>\n",
       "      <th>f_beta</th>\n",
       "      <td>0.663605</td>\n",
       "    </tr>\n",
       "    <tr>\n",
       "      <th>precision</th>\n",
       "      <td>0.517920</td>\n",
       "    </tr>\n",
       "    <tr>\n",
       "      <th>recall</th>\n",
       "      <td>0.685015</td>\n",
       "    </tr>\n",
       "    <tr>\n",
       "      <th>balanced_accuracy</th>\n",
       "      <td>0.683105</td>\n",
       "    </tr>\n",
       "  </tbody>\n",
       "</table>\n",
       "</div>"
      ],
      "text/plain": [
       "                      statistics\n",
       "roc_auc                 0.683105\n",
       "matthews_correlation    0.347705\n",
       "f_beta                  0.663605\n",
       "precision               0.517920\n",
       "recall                  0.685015\n",
       "balanced_accuracy       0.683105"
      ]
     },
     "execution_count": 18,
     "metadata": {},
     "output_type": "execute_result"
    }
   ],
   "source": [
    "params: dict = replicate_classifier_tuning(\n",
    "    \"lgbm_rf\", x, y, study_name=\"lgbm_rf_v2\", n_trials=1\n",
    ")\n",
    "\n",
    "lgbm_rf_v2_clf = LGBMClassifier(**params)\n",
    "lgbm_rf_v2_clf.fit(smote_x_train, smote_y_train)\n",
    "predictions: NDArray = lgbm_rf_v2_clf.predict(smote_x_test)\n",
    "\n",
    "\n",
    "calculate_model_statistics(smote_y_test, predictions)"
   ]
  },
  {
   "cell_type": "markdown",
   "metadata": {},
   "source": [
    "### False Positive and False Negative analysis\n"
   ]
  },
  {
   "cell_type": "markdown",
   "metadata": {},
   "source": [
    "Let's first start by first merging smote test set, along with the actual and predicted labels "
   ]
  },
  {
   "cell_type": "code",
   "execution_count": 19,
   "metadata": {},
   "outputs": [
    {
     "data": {
      "text/html": [
       "<div>\n",
       "<style scoped>\n",
       "    .dataframe tbody tr th:only-of-type {\n",
       "        vertical-align: middle;\n",
       "    }\n",
       "\n",
       "    .dataframe tbody tr th {\n",
       "        vertical-align: top;\n",
       "    }\n",
       "\n",
       "    .dataframe thead th {\n",
       "        text-align: right;\n",
       "    }\n",
       "</style>\n",
       "<table border=\"1\" class=\"dataframe\">\n",
       "  <thead>\n",
       "    <tr style=\"text-align: right;\">\n",
       "      <th></th>\n",
       "      <th>sk_id_curr</th>\n",
       "      <th>name_contract_type</th>\n",
       "      <th>code_gender</th>\n",
       "      <th>flag_own_car</th>\n",
       "      <th>flag_own_realty</th>\n",
       "      <th>cnt_children</th>\n",
       "      <th>amt_income_total</th>\n",
       "      <th>amt_credit</th>\n",
       "      <th>amt_annuity</th>\n",
       "      <th>amt_goods_price</th>\n",
       "      <th>...</th>\n",
       "      <th>flag_document_20</th>\n",
       "      <th>flag_document_21</th>\n",
       "      <th>amt_req_credit_bureau_hour</th>\n",
       "      <th>amt_req_credit_bureau_day</th>\n",
       "      <th>amt_req_credit_bureau_week</th>\n",
       "      <th>amt_req_credit_bureau_mon</th>\n",
       "      <th>amt_req_credit_bureau_qrt</th>\n",
       "      <th>amt_req_credit_bureau_year</th>\n",
       "      <th>y_actual</th>\n",
       "      <th>y_predicted</th>\n",
       "    </tr>\n",
       "  </thead>\n",
       "  <tbody>\n",
       "    <tr>\n",
       "      <th>0</th>\n",
       "      <td>2.894764e+05</td>\n",
       "      <td>-141376.861481</td>\n",
       "      <td>-62444.017744</td>\n",
       "      <td>157019.977922</td>\n",
       "      <td>-39277.510526</td>\n",
       "      <td>-3307.635703</td>\n",
       "      <td>-3732.908785</td>\n",
       "      <td>-2462.925845</td>\n",
       "      <td>-1108.391211</td>\n",
       "      <td>66.637764</td>\n",
       "      <td>...</td>\n",
       "      <td>-0.000231</td>\n",
       "      <td>-0.000282</td>\n",
       "      <td>0.000660</td>\n",
       "      <td>0.000007</td>\n",
       "      <td>0.000112</td>\n",
       "      <td>0.000269</td>\n",
       "      <td>0.000319</td>\n",
       "      <td>2.726979e-09</td>\n",
       "      <td>NaN</td>\n",
       "      <td>1.0</td>\n",
       "    </tr>\n",
       "    <tr>\n",
       "      <th>1</th>\n",
       "      <td>-3.911138e+03</td>\n",
       "      <td>37073.448289</td>\n",
       "      <td>-70059.472623</td>\n",
       "      <td>147340.165786</td>\n",
       "      <td>-82944.429963</td>\n",
       "      <td>-5821.901524</td>\n",
       "      <td>-1865.433139</td>\n",
       "      <td>3342.815988</td>\n",
       "      <td>1083.711234</td>\n",
       "      <td>900.948357</td>\n",
       "      <td>...</td>\n",
       "      <td>0.000030</td>\n",
       "      <td>-0.000229</td>\n",
       "      <td>-0.000292</td>\n",
       "      <td>-0.000133</td>\n",
       "      <td>0.000176</td>\n",
       "      <td>0.000547</td>\n",
       "      <td>-0.000583</td>\n",
       "      <td>3.004662e-09</td>\n",
       "      <td>NaN</td>\n",
       "      <td>0.0</td>\n",
       "    </tr>\n",
       "    <tr>\n",
       "      <th>2</th>\n",
       "      <td>1.518380e+05</td>\n",
       "      <td>33081.738297</td>\n",
       "      <td>-59941.998852</td>\n",
       "      <td>91638.739618</td>\n",
       "      <td>-46900.969734</td>\n",
       "      <td>1983.965037</td>\n",
       "      <td>-6842.345091</td>\n",
       "      <td>280.876405</td>\n",
       "      <td>65.847209</td>\n",
       "      <td>135.158973</td>\n",
       "      <td>...</td>\n",
       "      <td>-0.000049</td>\n",
       "      <td>0.000242</td>\n",
       "      <td>-0.000252</td>\n",
       "      <td>-0.000174</td>\n",
       "      <td>-0.000019</td>\n",
       "      <td>-0.000331</td>\n",
       "      <td>0.000039</td>\n",
       "      <td>-2.003690e-09</td>\n",
       "      <td>NaN</td>\n",
       "      <td>1.0</td>\n",
       "    </tr>\n",
       "    <tr>\n",
       "      <th>3</th>\n",
       "      <td>1.683446e+05</td>\n",
       "      <td>-15323.922806</td>\n",
       "      <td>-60705.914017</td>\n",
       "      <td>70945.803192</td>\n",
       "      <td>52655.184922</td>\n",
       "      <td>1446.044528</td>\n",
       "      <td>1092.001898</td>\n",
       "      <td>-536.136308</td>\n",
       "      <td>-2383.113170</td>\n",
       "      <td>-1313.140646</td>\n",
       "      <td>...</td>\n",
       "      <td>-0.000135</td>\n",
       "      <td>-0.000159</td>\n",
       "      <td>0.000577</td>\n",
       "      <td>-0.000095</td>\n",
       "      <td>0.000146</td>\n",
       "      <td>0.000214</td>\n",
       "      <td>0.000358</td>\n",
       "      <td>2.389563e-09</td>\n",
       "      <td>NaN</td>\n",
       "      <td>1.0</td>\n",
       "    </tr>\n",
       "    <tr>\n",
       "      <th>4</th>\n",
       "      <td>5.414450e+05</td>\n",
       "      <td>-33877.823105</td>\n",
       "      <td>-58373.638847</td>\n",
       "      <td>22747.508648</td>\n",
       "      <td>19203.715047</td>\n",
       "      <td>13052.450879</td>\n",
       "      <td>-8056.258288</td>\n",
       "      <td>1882.897602</td>\n",
       "      <td>-941.199375</td>\n",
       "      <td>1323.514253</td>\n",
       "      <td>...</td>\n",
       "      <td>-0.000522</td>\n",
       "      <td>-0.000326</td>\n",
       "      <td>0.000049</td>\n",
       "      <td>-0.000263</td>\n",
       "      <td>0.000200</td>\n",
       "      <td>0.001250</td>\n",
       "      <td>-0.000261</td>\n",
       "      <td>6.393023e-09</td>\n",
       "      <td>NaN</td>\n",
       "      <td>0.0</td>\n",
       "    </tr>\n",
       "    <tr>\n",
       "      <th>...</th>\n",
       "      <td>...</td>\n",
       "      <td>...</td>\n",
       "      <td>...</td>\n",
       "      <td>...</td>\n",
       "      <td>...</td>\n",
       "      <td>...</td>\n",
       "      <td>...</td>\n",
       "      <td>...</td>\n",
       "      <td>...</td>\n",
       "      <td>...</td>\n",
       "      <td>...</td>\n",
       "      <td>...</td>\n",
       "      <td>...</td>\n",
       "      <td>...</td>\n",
       "      <td>...</td>\n",
       "      <td>...</td>\n",
       "      <td>...</td>\n",
       "      <td>...</td>\n",
       "      <td>...</td>\n",
       "      <td>...</td>\n",
       "      <td>...</td>\n",
       "    </tr>\n",
       "    <tr>\n",
       "      <th>21196</th>\n",
       "      <td>-6.232617e+05</td>\n",
       "      <td>4640.060142</td>\n",
       "      <td>-67901.429144</td>\n",
       "      <td>25332.257056</td>\n",
       "      <td>-6354.959584</td>\n",
       "      <td>-6892.277961</td>\n",
       "      <td>412.589252</td>\n",
       "      <td>-199.040254</td>\n",
       "      <td>-1786.677830</td>\n",
       "      <td>601.551674</td>\n",
       "      <td>...</td>\n",
       "      <td>0.000436</td>\n",
       "      <td>0.000204</td>\n",
       "      <td>0.000090</td>\n",
       "      <td>0.000083</td>\n",
       "      <td>-0.000369</td>\n",
       "      <td>-0.001091</td>\n",
       "      <td>0.000271</td>\n",
       "      <td>-5.453359e-09</td>\n",
       "      <td>NaN</td>\n",
       "      <td>1.0</td>\n",
       "    </tr>\n",
       "    <tr>\n",
       "      <th>21197</th>\n",
       "      <td>1.248390e+06</td>\n",
       "      <td>-215223.428162</td>\n",
       "      <td>-45236.058549</td>\n",
       "      <td>48985.722969</td>\n",
       "      <td>-36037.179949</td>\n",
       "      <td>-7819.944255</td>\n",
       "      <td>-2657.611069</td>\n",
       "      <td>2254.805495</td>\n",
       "      <td>310.862691</td>\n",
       "      <td>-1170.195955</td>\n",
       "      <td>...</td>\n",
       "      <td>0.000578</td>\n",
       "      <td>-0.000064</td>\n",
       "      <td>0.000072</td>\n",
       "      <td>-0.000033</td>\n",
       "      <td>-0.000407</td>\n",
       "      <td>-0.000924</td>\n",
       "      <td>0.000104</td>\n",
       "      <td>-4.399092e-09</td>\n",
       "      <td>NaN</td>\n",
       "      <td>1.0</td>\n",
       "    </tr>\n",
       "    <tr>\n",
       "      <th>21198</th>\n",
       "      <td>8.041100e+04</td>\n",
       "      <td>22763.416908</td>\n",
       "      <td>-57150.739212</td>\n",
       "      <td>-69993.448181</td>\n",
       "      <td>-14671.958906</td>\n",
       "      <td>6793.313021</td>\n",
       "      <td>1154.768406</td>\n",
       "      <td>4832.331132</td>\n",
       "      <td>2247.703191</td>\n",
       "      <td>29.029104</td>\n",
       "      <td>...</td>\n",
       "      <td>0.000071</td>\n",
       "      <td>0.000243</td>\n",
       "      <td>-0.000773</td>\n",
       "      <td>-0.000019</td>\n",
       "      <td>0.000133</td>\n",
       "      <td>0.000070</td>\n",
       "      <td>-0.000317</td>\n",
       "      <td>-5.077293e-10</td>\n",
       "      <td>NaN</td>\n",
       "      <td>1.0</td>\n",
       "    </tr>\n",
       "    <tr>\n",
       "      <th>21199</th>\n",
       "      <td>-4.620274e+05</td>\n",
       "      <td>70823.824558</td>\n",
       "      <td>-75588.642613</td>\n",
       "      <td>-141678.033064</td>\n",
       "      <td>23651.414287</td>\n",
       "      <td>-2307.828912</td>\n",
       "      <td>-4450.720794</td>\n",
       "      <td>10051.687810</td>\n",
       "      <td>-599.403775</td>\n",
       "      <td>1167.661281</td>\n",
       "      <td>...</td>\n",
       "      <td>-0.000885</td>\n",
       "      <td>-0.001132</td>\n",
       "      <td>0.001501</td>\n",
       "      <td>-0.000529</td>\n",
       "      <td>0.000431</td>\n",
       "      <td>0.002192</td>\n",
       "      <td>0.000560</td>\n",
       "      <td>1.455120e-08</td>\n",
       "      <td>0.0</td>\n",
       "      <td>0.0</td>\n",
       "    </tr>\n",
       "    <tr>\n",
       "      <th>21200</th>\n",
       "      <td>3.004283e+05</td>\n",
       "      <td>53453.419341</td>\n",
       "      <td>-55369.860384</td>\n",
       "      <td>-163772.949913</td>\n",
       "      <td>-55479.911439</td>\n",
       "      <td>7568.615891</td>\n",
       "      <td>1644.400171</td>\n",
       "      <td>100.732663</td>\n",
       "      <td>-1745.678357</td>\n",
       "      <td>1017.038083</td>\n",
       "      <td>...</td>\n",
       "      <td>-0.000045</td>\n",
       "      <td>-0.000111</td>\n",
       "      <td>0.000620</td>\n",
       "      <td>0.000029</td>\n",
       "      <td>-0.000025</td>\n",
       "      <td>-0.000023</td>\n",
       "      <td>0.000399</td>\n",
       "      <td>7.567105e-10</td>\n",
       "      <td>NaN</td>\n",
       "      <td>1.0</td>\n",
       "    </tr>\n",
       "  </tbody>\n",
       "</table>\n",
       "<p>21201 rows × 123 columns</p>\n",
       "</div>"
      ],
      "text/plain": [
       "         sk_id_curr  name_contract_type   code_gender   flag_own_car  \\\n",
       "0      2.894764e+05      -141376.861481 -62444.017744  157019.977922   \n",
       "1     -3.911138e+03        37073.448289 -70059.472623  147340.165786   \n",
       "2      1.518380e+05        33081.738297 -59941.998852   91638.739618   \n",
       "3      1.683446e+05       -15323.922806 -60705.914017   70945.803192   \n",
       "4      5.414450e+05       -33877.823105 -58373.638847   22747.508648   \n",
       "...             ...                 ...           ...            ...   \n",
       "21196 -6.232617e+05         4640.060142 -67901.429144   25332.257056   \n",
       "21197  1.248390e+06      -215223.428162 -45236.058549   48985.722969   \n",
       "21198  8.041100e+04        22763.416908 -57150.739212  -69993.448181   \n",
       "21199 -4.620274e+05        70823.824558 -75588.642613 -141678.033064   \n",
       "21200  3.004283e+05        53453.419341 -55369.860384 -163772.949913   \n",
       "\n",
       "       flag_own_realty  cnt_children  amt_income_total    amt_credit  \\\n",
       "0        -39277.510526  -3307.635703      -3732.908785  -2462.925845   \n",
       "1        -82944.429963  -5821.901524      -1865.433139   3342.815988   \n",
       "2        -46900.969734   1983.965037      -6842.345091    280.876405   \n",
       "3         52655.184922   1446.044528       1092.001898   -536.136308   \n",
       "4         19203.715047  13052.450879      -8056.258288   1882.897602   \n",
       "...                ...           ...               ...           ...   \n",
       "21196     -6354.959584  -6892.277961        412.589252   -199.040254   \n",
       "21197    -36037.179949  -7819.944255      -2657.611069   2254.805495   \n",
       "21198    -14671.958906   6793.313021       1154.768406   4832.331132   \n",
       "21199     23651.414287  -2307.828912      -4450.720794  10051.687810   \n",
       "21200    -55479.911439   7568.615891       1644.400171    100.732663   \n",
       "\n",
       "       amt_annuity  amt_goods_price  ...  flag_document_20  flag_document_21  \\\n",
       "0     -1108.391211        66.637764  ...         -0.000231         -0.000282   \n",
       "1      1083.711234       900.948357  ...          0.000030         -0.000229   \n",
       "2        65.847209       135.158973  ...         -0.000049          0.000242   \n",
       "3     -2383.113170     -1313.140646  ...         -0.000135         -0.000159   \n",
       "4      -941.199375      1323.514253  ...         -0.000522         -0.000326   \n",
       "...            ...              ...  ...               ...               ...   \n",
       "21196 -1786.677830       601.551674  ...          0.000436          0.000204   \n",
       "21197   310.862691     -1170.195955  ...          0.000578         -0.000064   \n",
       "21198  2247.703191        29.029104  ...          0.000071          0.000243   \n",
       "21199  -599.403775      1167.661281  ...         -0.000885         -0.001132   \n",
       "21200 -1745.678357      1017.038083  ...         -0.000045         -0.000111   \n",
       "\n",
       "       amt_req_credit_bureau_hour  amt_req_credit_bureau_day  \\\n",
       "0                        0.000660                   0.000007   \n",
       "1                       -0.000292                  -0.000133   \n",
       "2                       -0.000252                  -0.000174   \n",
       "3                        0.000577                  -0.000095   \n",
       "4                        0.000049                  -0.000263   \n",
       "...                           ...                        ...   \n",
       "21196                    0.000090                   0.000083   \n",
       "21197                    0.000072                  -0.000033   \n",
       "21198                   -0.000773                  -0.000019   \n",
       "21199                    0.001501                  -0.000529   \n",
       "21200                    0.000620                   0.000029   \n",
       "\n",
       "       amt_req_credit_bureau_week  amt_req_credit_bureau_mon  \\\n",
       "0                        0.000112                   0.000269   \n",
       "1                        0.000176                   0.000547   \n",
       "2                       -0.000019                  -0.000331   \n",
       "3                        0.000146                   0.000214   \n",
       "4                        0.000200                   0.001250   \n",
       "...                           ...                        ...   \n",
       "21196                   -0.000369                  -0.001091   \n",
       "21197                   -0.000407                  -0.000924   \n",
       "21198                    0.000133                   0.000070   \n",
       "21199                    0.000431                   0.002192   \n",
       "21200                   -0.000025                  -0.000023   \n",
       "\n",
       "       amt_req_credit_bureau_qrt  amt_req_credit_bureau_year  y_actual  \\\n",
       "0                       0.000319                2.726979e-09       NaN   \n",
       "1                      -0.000583                3.004662e-09       NaN   \n",
       "2                       0.000039               -2.003690e-09       NaN   \n",
       "3                       0.000358                2.389563e-09       NaN   \n",
       "4                      -0.000261                6.393023e-09       NaN   \n",
       "...                          ...                         ...       ...   \n",
       "21196                   0.000271               -5.453359e-09       NaN   \n",
       "21197                   0.000104               -4.399092e-09       NaN   \n",
       "21198                  -0.000317               -5.077293e-10       NaN   \n",
       "21199                   0.000560                1.455120e-08       0.0   \n",
       "21200                   0.000399                7.567105e-10       NaN   \n",
       "\n",
       "       y_predicted  \n",
       "0              1.0  \n",
       "1              0.0  \n",
       "2              1.0  \n",
       "3              1.0  \n",
       "4              0.0  \n",
       "...            ...  \n",
       "21196          1.0  \n",
       "21197          1.0  \n",
       "21198          1.0  \n",
       "21199          0.0  \n",
       "21200          1.0  \n",
       "\n",
       "[21201 rows x 123 columns]"
      ]
     },
     "execution_count": 19,
     "metadata": {},
     "output_type": "execute_result"
    }
   ],
   "source": [
    "prediction_df = pd.DataFrame(smote_x_test, columns=x.columns)\n",
    "prediction_df[\"y_actual\"] = smote_y_test\n",
    "prediction_df[\"y_predicted\"] = predictions\n",
    "prediction_df"
   ]
  },
  {
   "cell_type": "markdown",
   "metadata": {},
   "source": [
    "Now that we have this dataframe assembled, let's mark the observations within it based on the quadrant of the confusion matrix that they correspond to. "
   ]
  },
  {
   "cell_type": "code",
   "execution_count": 20,
   "metadata": {},
   "outputs": [],
   "source": [
    "# More code coming soon! "
   ]
  }
 ],
 "metadata": {
  "accelerator": "GPU",
  "colab": {
   "gpuType": "A100",
   "provenance": []
  },
  "kernelspec": {
   "display_name": ".venv",
   "language": "python",
   "name": "python3"
  },
  "language_info": {
   "codemirror_mode": {
    "name": "ipython",
    "version": 3
   },
   "file_extension": ".py",
   "mimetype": "text/x-python",
   "name": "python",
   "nbconvert_exporter": "python",
   "pygments_lexer": "ipython3",
   "version": "3.11.0rc1"
  }
 },
 "nbformat": 4,
 "nbformat_minor": 0
}
